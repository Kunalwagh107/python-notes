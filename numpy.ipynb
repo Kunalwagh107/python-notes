{
  "nbformat": 4,
  "nbformat_minor": 0,
  "metadata": {
    "colab": {
      "provenance": [],
      "toc_visible": true,
      "collapsed_sections": [
        "N6fNoyaUdwtf",
        "SsQYGwQJw-Hk",
        "7N9CnvR-o1ou",
        "vCRCOZEAxQKk",
        "9iJMxOn2d6Y_",
        "_TBbEOtifqH8"
      ],
      "authorship_tag": "ABX9TyM72VZcSfC7uIcxkOuJBFu1",
      "include_colab_link": true
    },
    "kernelspec": {
      "name": "python3",
      "display_name": "Python 3"
    },
    "language_info": {
      "name": "python"
    }
  },
  "cells": [
    {
      "cell_type": "markdown",
      "metadata": {
        "id": "view-in-github",
        "colab_type": "text"
      },
      "source": [
        "<a href=\"https://colab.research.google.com/github/Kunalwagh107/python-notes/blob/main/numpy.ipynb\" target=\"_parent\"><img src=\"https://colab.research.google.com/assets/colab-badge.svg\" alt=\"Open In Colab\"/></a>"
      ]
    },
    {
      "cell_type": "markdown",
      "source": [
        "# *numpy*"
      ],
      "metadata": {
        "id": "Icof6yHOEoUE"
      }
    },
    {
      "cell_type": "code",
      "execution_count": null,
      "metadata": {
        "id": "CjNvFeeyEYFO"
      },
      "outputs": [],
      "source": [
        "import numpy as np\n",
        "# --> used for scientific computing\n",
        "# --> provides n dimentional arrays --> derived objects"
      ]
    },
    {
      "cell_type": "code",
      "source": [
        "# --> ndarray object -> homogeneous data types\n",
        "# --> py had slow data types --> improvised --> np.array\n",
        "\n",
        "# array vs sequence (python)\n",
        "\n",
        "#1.---> np array is of fixed size --> changing the size will del. old -> create new\n",
        "#2.---> elements of nparray are of required to be same data type\n",
        "#3.---> most lib. uses numpy array"
      ],
      "metadata": {
        "id": "RHJ00wCoE6lT"
      },
      "execution_count": null,
      "outputs": []
    },
    {
      "cell_type": "code",
      "source": [
        "# creating np arrays\n",
        "\n",
        "# 1D array ->\n",
        "\n",
        "a = np.array([1,2,3,4,5]) # <--- vector\n",
        "print(a)\n",
        "print(type(a))\n",
        "print('-'*50)\n",
        "#----------------------------------------\n",
        "# 2D arrary -->\n",
        "b = np.array([[1,2,3],[2,3,4],[5,6,7]]) # <--- matrix\n",
        "print(b)\n",
        "print(type(b))\n",
        "print('-'*50)\n",
        "#----------------------------------------\n",
        "# 3D array\n",
        "c = np.array([[[1,2],[3,4]],[[5,6],[7,8]]]) # <--- tensor\n",
        "print(c)\n",
        "print(type(c))"
      ],
      "metadata": {
        "colab": {
          "base_uri": "https://localhost:8080/"
        },
        "id": "hlhoK5ITIC4W",
        "outputId": "4283653f-d004-4a17-a862-555464a9054f"
      },
      "execution_count": null,
      "outputs": [
        {
          "output_type": "stream",
          "name": "stdout",
          "text": [
            "[1 2 3 4 5]\n",
            "<class 'numpy.ndarray'>\n",
            "--------------------------------------------------\n",
            "[[1 2 3]\n",
            " [2 3 4]\n",
            " [5 6 7]]\n",
            "<class 'numpy.ndarray'>\n",
            "--------------------------------------------------\n",
            "[[[1 2]\n",
            "  [3 4]]\n",
            "\n",
            " [[5 6]\n",
            "  [7 8]]]\n",
            "<class 'numpy.ndarray'>\n"
          ]
        }
      ]
    },
    {
      "cell_type": "code",
      "source": [
        "# ,dtype =  (change the data type)\n",
        "b = np.array([[1,2,3],[2,3,4],[5,6,7]],dtype=float)\n",
        "print(b)\n",
        "print('-'*50)\n",
        "\n",
        "b = np.array([[1,2,3],[2,3,4],[5,6,7]],dtype=str)\n",
        "print(b)\n",
        "print('-'*50)\n",
        "\n",
        "b = np.array([[1,2,3],[2,3,4],[5,6,7]],dtype=complex)\n",
        "print(b)\n",
        "print('-'*50)\n",
        "\n",
        "b = np.array([[1,2,0],[2,3,0],[5,6,7]],dtype=bool) # <--- non zero as true\n",
        "print(b)\n",
        "\n",
        "# there are also np.int32 / np.int64 and same for float np.float32 np.float64"
      ],
      "metadata": {
        "colab": {
          "base_uri": "https://localhost:8080/"
        },
        "id": "Z4Z9ESj8J9-L",
        "outputId": "a2c264cb-03ed-4b71-aeb7-8896ddd9bd17"
      },
      "execution_count": null,
      "outputs": [
        {
          "output_type": "stream",
          "name": "stdout",
          "text": [
            "[[1. 2. 3.]\n",
            " [2. 3. 4.]\n",
            " [5. 6. 7.]]\n",
            "--------------------------------------------------\n",
            "[['1' '2' '3']\n",
            " ['2' '3' '4']\n",
            " ['5' '6' '7']]\n",
            "--------------------------------------------------\n",
            "[[1.+0.j 2.+0.j 3.+0.j]\n",
            " [2.+0.j 3.+0.j 4.+0.j]\n",
            " [5.+0.j 6.+0.j 7.+0.j]]\n",
            "--------------------------------------------------\n",
            "[[ True  True False]\n",
            " [ True  True False]\n",
            " [ True  True  True]]\n"
          ]
        }
      ]
    },
    {
      "cell_type": "markdown",
      "source": [
        "## *generate arrays* *--> arange/ones/zeros/random/linespace/identity*"
      ],
      "metadata": {
        "id": "7XpqoweERCmZ"
      }
    },
    {
      "cell_type": "code",
      "source": [
        "# np.arange --> like the range function --> on the go array formation\n",
        "\n",
        "a = np.arange(1,11,2) # (start,end(excluded),jump)\n",
        "print(a) # <-- 1D\n",
        "#------------------------------------------------------------------------------\n",
        "\n",
        "# a.range(a,b,c).reshape(x,y) ---> can change the array to any shape\n",
        "b = np.arange(1,11).reshape(2,5)\n",
        "print(b)\n",
        "print('-'*50)\n",
        "\n",
        "b = np.arange(1,10).reshape(3,3) #<-- product should be equal to array items\n",
        "print(b)\n",
        "print('-'*50)"
      ],
      "metadata": {
        "colab": {
          "base_uri": "https://localhost:8080/"
        },
        "collapsed": true,
        "id": "EYYlppOvKqRy",
        "outputId": "685a8d3c-4cca-400c-e06f-61a9d7175a16"
      },
      "execution_count": null,
      "outputs": [
        {
          "output_type": "stream",
          "name": "stdout",
          "text": [
            "[1 3 5 7 9]\n",
            "[[ 1  2  3  4  5]\n",
            " [ 6  7  8  9 10]]\n",
            "--------------------------------------------------\n",
            "[[1 2 3]\n",
            " [4 5 6]\n",
            " [7 8 9]]\n",
            "--------------------------------------------------\n"
          ]
        }
      ]
    },
    {
      "cell_type": "code",
      "source": [
        "# np.ones()/np.zeros()/np.random.random()/np.random.randint()\n",
        "\n",
        "\n",
        "# np.ones((a,b)) -> a,b..c depends on dimensions\n",
        "# initialize array of ones --> initial values to weights in nural nets --> deep learning\n",
        "a = np.ones((2,3,5)) # <--- provide tuple as shape\n",
        "print(a)\n",
        "#------------------------------------------------------------------------------\n",
        "# np.zeros((a,b)) --> a,b..c depends on dimensions\n",
        "\n",
        "b = np.zeros((3,3))\n",
        "print(b)\n",
        "#------------------------------------------------------------------------------\n",
        "# np.random.random((a,b)) --> random numbers between 0 and 1\n",
        "\n",
        "c = np.random.random((2,3)) # <-- random class method random\n",
        "print(c)\n",
        "#------------------------------------------------------------------------------\n",
        "# np.random.randint(min,max,size =(a,b,))\n",
        "\n",
        "c = np.random.randint(2,10,size=(5,5))\n",
        "print(c)"
      ],
      "metadata": {
        "colab": {
          "base_uri": "https://localhost:8080/"
        },
        "collapsed": true,
        "id": "v8HVIdlKL7Fh",
        "outputId": "94bf8cf9-bed2-429e-fff0-b317d2263efa"
      },
      "execution_count": null,
      "outputs": [
        {
          "output_type": "stream",
          "name": "stdout",
          "text": [
            "[[[1. 1. 1. 1. 1.]\n",
            "  [1. 1. 1. 1. 1.]\n",
            "  [1. 1. 1. 1. 1.]]\n",
            "\n",
            " [[1. 1. 1. 1. 1.]\n",
            "  [1. 1. 1. 1. 1.]\n",
            "  [1. 1. 1. 1. 1.]]]\n",
            "[[0. 0. 0.]\n",
            " [0. 0. 0.]\n",
            " [0. 0. 0.]]\n",
            "[[0.33094981 0.62218376 0.44297334]\n",
            " [0.96759303 0.09227262 0.20973682]]\n",
            "[[6 8 2 5 7]\n",
            " [3 8 6 4 3]\n",
            " [8 7 8 6 6]\n",
            " [3 4 7 7 4]\n",
            " [4 4 4 5 5]]\n"
          ]
        }
      ]
    },
    {
      "cell_type": "code",
      "source": [
        "# np.linspace(lower,high,total_points) --> linearly spaced points\n",
        "a = np.linspace(-10,10,20) # --> distance between two points is equal\n",
        "print(a)\n",
        "\n",
        "#------------------------------------------------------------------------------\n",
        "# np.identity(a) # <--- creates identity matrix\n",
        "c = np.identity(3)\n",
        "print(c) # <-- identity matrix of 3"
      ],
      "metadata": {
        "colab": {
          "base_uri": "https://localhost:8080/"
        },
        "collapsed": true,
        "id": "kORPcRhcWqoL",
        "outputId": "aae96711-be03-4ba0-9387-a7ba2438f86b"
      },
      "execution_count": null,
      "outputs": [
        {
          "output_type": "stream",
          "name": "stdout",
          "text": [
            "[-10.          -8.94736842  -7.89473684  -6.84210526  -5.78947368\n",
            "  -4.73684211  -3.68421053  -2.63157895  -1.57894737  -0.52631579\n",
            "   0.52631579   1.57894737   2.63157895   3.68421053   4.73684211\n",
            "   5.78947368   6.84210526   7.89473684   8.94736842  10.        ]\n",
            "[[1. 0. 0.]\n",
            " [0. 1. 0.]\n",
            " [0. 0. 1.]]\n"
          ]
        }
      ]
    },
    {
      "cell_type": "markdown",
      "source": [
        "## *Attributes --> can access by array.attribute_name*"
      ],
      "metadata": {
        "id": "cXlQEPdaYf9-"
      }
    },
    {
      "cell_type": "code",
      "source": [
        "# like in OOP, these are the attributes we can access by putting . after array\n",
        "\n",
        "a1 = np.arange(10,dtype= np.int32) # --> gives range from 0 to 9\n",
        "a2 = np.arange(10,dtype=float).reshape(5,2)\n",
        "a3 = np.arange(8).reshape(2,2,2)\n",
        "\n",
        "# print(a1)\n",
        "# print(a2)\n",
        "# print(a3)"
      ],
      "metadata": {
        "collapsed": true,
        "id": "BI5fLyP4YjNG"
      },
      "execution_count": null,
      "outputs": []
    },
    {
      "cell_type": "code",
      "source": [
        "# .ndim/.shape/.size/.itemsize/dtype -->\n",
        "\n",
        "# .ndim --> provides dimension of vector\n",
        "print(a1.ndim)\n",
        "print(a2.ndim)\n",
        "print(a3.ndim)\n",
        "print('-'*50)\n",
        "#----------------------------------------------------------------------------\n",
        "# shape --> gives the shape of array\n",
        "print(a1.shape)\n",
        "print(a2.shape)\n",
        "print(a3.shape)\n",
        "print('-'*50)\n",
        "#----------------------------------------------------------------------------\n",
        "# size ---> total number of items in array\n",
        "print(a1.size)\n",
        "print(a2.size)\n",
        "print(a3.size)\n",
        "print('-'*50)\n",
        "#----------------------------------------------------------------------------\n",
        "# itemsize --> give itemsize of array -> how much occupies in memory\n",
        "print(a1.itemsize) # ---> 32 bits --> 4 bytes (8 bits -> 1 bytes)\n",
        "print(a2.itemsize) # --->64 bits-> 8 bytes (int flot in colab occupies same size)\n",
        "print(a3.itemsize)\n",
        "print('-'*50)\n",
        "#----------------------------------------------------------------------------\n",
        "# dtype --> tells data type of item\n",
        "print(a1.dtype)\n",
        "print(a2.dtype)\n",
        "print(a3.dtype)"
      ],
      "metadata": {
        "colab": {
          "base_uri": "https://localhost:8080/"
        },
        "collapsed": true,
        "id": "tMc5wBiRZZ01",
        "outputId": "30599288-d184-4bb4-8217-c050e59ea30c"
      },
      "execution_count": null,
      "outputs": [
        {
          "output_type": "stream",
          "name": "stdout",
          "text": [
            "1\n",
            "2\n",
            "3\n",
            "--------------------------------------------------\n",
            "(10,)\n",
            "(5, 2)\n",
            "(2, 2, 2)\n",
            "--------------------------------------------------\n",
            "10\n",
            "10\n",
            "8\n",
            "--------------------------------------------------\n",
            "4\n",
            "8\n",
            "8\n",
            "--------------------------------------------------\n",
            "int32\n",
            "float64\n",
            "int64\n"
          ]
        }
      ]
    },
    {
      "cell_type": "markdown",
      "source": [
        "## *changing datatype --> .astype(dtype)*"
      ],
      "metadata": {
        "id": "Yb64agdAkoWE"
      }
    },
    {
      "cell_type": "code",
      "source": [
        "# sometimes we don;t need that much space in memory therefore we change it -->\n",
        "a3.dtype # ---> int64\n",
        "\n",
        "b =  a3.astype(np.int32) #---> it doesnot modify the array but creates new array\n",
        "\n",
        "print(a3.dtype) # --> original\n",
        "print(b.dtype)  # --> newly created\n",
        "\n",
        "# correct way\n",
        "a3 = a3.astype(np.int32) # ---> to change the original array\n",
        "print(a3.dtype)\n",
        "\n",
        "# minimum and maximum values in int32 and int64\n",
        "print(np.iinfo(np.int8))\n",
        "print(np.iinfo(np.int32))\n",
        "print(np.iinfo(np.int64))\n",
        "\n",
        "# print(np.finfo(np.float32))\n",
        "# print(np.finfo(np.float64))"
      ],
      "metadata": {
        "colab": {
          "base_uri": "https://localhost:8080/"
        },
        "collapsed": true,
        "id": "B5lqbChLkn82",
        "outputId": "74ede7af-2913-4d63-b68c-ffba731287ec"
      },
      "execution_count": null,
      "outputs": [
        {
          "output_type": "stream",
          "name": "stdout",
          "text": [
            "int32\n",
            "int32\n",
            "int32\n",
            "Machine parameters for int8\n",
            "---------------------------------------------------------------\n",
            "min = -128\n",
            "max = 127\n",
            "---------------------------------------------------------------\n",
            "\n",
            "Machine parameters for int32\n",
            "---------------------------------------------------------------\n",
            "min = -2147483648\n",
            "max = 2147483647\n",
            "---------------------------------------------------------------\n",
            "\n",
            "Machine parameters for int64\n",
            "---------------------------------------------------------------\n",
            "min = -9223372036854775808\n",
            "max = 9223372036854775807\n",
            "---------------------------------------------------------------\n",
            "\n"
          ]
        }
      ]
    },
    {
      "cell_type": "markdown",
      "source": [
        "## *array operations --> scaler/vector/trigo/log/exp/dot*"
      ],
      "metadata": {
        "id": "9nmGO3dnms87"
      }
    },
    {
      "cell_type": "code",
      "source": [
        "# these are the operations generally accessed by np.operation(array)"
      ],
      "metadata": {
        "id": "hdhjzlYzWUeR"
      },
      "execution_count": null,
      "outputs": []
    },
    {
      "cell_type": "markdown",
      "source": [
        "### *scalar*"
      ],
      "metadata": {
        "id": "12saTDZLUCoV"
      }
    },
    {
      "cell_type": "code",
      "source": [
        "a1 = np.arange(1,13).reshape(3,4)\n",
        "a2 = np.arange(12,24).reshape(3,4)\n",
        "print(a1)\n",
        "print('-'*50)\n",
        "print(a2)"
      ],
      "metadata": {
        "colab": {
          "base_uri": "https://localhost:8080/"
        },
        "id": "OchKHOMUmu2C",
        "outputId": "f9d13ce8-3893-401b-fc61-97b57625969e"
      },
      "execution_count": null,
      "outputs": [
        {
          "output_type": "stream",
          "name": "stdout",
          "text": [
            "[[ 1  2  3  4]\n",
            " [ 5  6  7  8]\n",
            " [ 9 10 11 12]]\n",
            "--------------------------------------------------\n",
            "[[12 13 14 15]\n",
            " [16 17 18 19]\n",
            " [20 21 22 23]]\n"
          ]
        }
      ]
    },
    {
      "cell_type": "code",
      "source": [
        "# scalar operation --> oprate with single number\n",
        "\n",
        "print(a1 + 2) #---> addition\n",
        "print('-'*50)\n",
        "#----------------------------------------\n",
        "print(a1 - 2) #---> substraction\n",
        "print('-'*50)\n",
        "#----------------------------------------\n",
        "print(a1 * 2) # ---> multiplication\n",
        "print('-'*50)\n",
        "#----------------------------------------\n",
        "print(a1 / 2) # ---> division\n",
        "print('-'*50)\n",
        "#----------------------------------------\n",
        "print(a1 // 2) # --> integer division\n",
        "print('-'*50)\n",
        "#----------------------------------------\n",
        "print(a1 % 2) # ---> remainder\n",
        "print('-'*50)\n",
        "\n",
        "# relational operations --> compare itemwise --> gives True and False as output\n",
        "print(a2>12) # --> will return true for all the values\n",
        "# --> works for all other conditions as well"
      ],
      "metadata": {
        "colab": {
          "base_uri": "https://localhost:8080/"
        },
        "collapsed": true,
        "id": "7N7zTC_jg5mP",
        "outputId": "f5b91ad1-5055-4955-b54a-76badf5fba1e"
      },
      "execution_count": null,
      "outputs": [
        {
          "output_type": "stream",
          "name": "stdout",
          "text": [
            "[[ 2  3  4  5]\n",
            " [ 6  7  8  9]\n",
            " [10 11 12 13]]\n",
            "--------------------------------------------------\n",
            "[[-2 -1  0  1]\n",
            " [ 2  3  4  5]\n",
            " [ 6  7  8  9]]\n",
            "--------------------------------------------------\n",
            "[[ 0  2  4  6]\n",
            " [ 8 10 12 14]\n",
            " [16 18 20 22]]\n",
            "--------------------------------------------------\n",
            "[[0.  0.5 1.  1.5]\n",
            " [2.  2.5 3.  3.5]\n",
            " [4.  4.5 5.  5.5]]\n",
            "--------------------------------------------------\n",
            "[[0 0 1 1]\n",
            " [2 2 3 3]\n",
            " [4 4 5 5]]\n",
            "--------------------------------------------------\n",
            "[[0 1 0 1]\n",
            " [0 1 0 1]\n",
            " [0 1 0 1]]\n",
            "--------------------------------------------------\n",
            "[[False  True  True  True]\n",
            " [ True  True  True  True]\n",
            " [ True  True  True  True]]\n"
          ]
        }
      ]
    },
    {
      "cell_type": "markdown",
      "source": [
        "### *vector*"
      ],
      "metadata": {
        "id": "cvGje7OhUKa8"
      }
    },
    {
      "cell_type": "code",
      "source": [
        "# vector operation --> shape should be same --> item to item\n",
        "\n",
        "# Arithematic operations\n",
        "print(a1 + a2)\n",
        "print(a1-a2)\n",
        "print(a1 * a2) # -- this is item to item multiplication"
      ],
      "metadata": {
        "colab": {
          "base_uri": "https://localhost:8080/"
        },
        "id": "hAzbiGbNiok-",
        "outputId": "1e4af205-8459-4d0d-8de6-8e4baa50786e"
      },
      "execution_count": null,
      "outputs": [
        {
          "output_type": "stream",
          "name": "stdout",
          "text": [
            "[[12 14 16 18]\n",
            " [20 22 24 26]\n",
            " [28 30 32 34]]\n",
            "[[-12 -12 -12 -12]\n",
            " [-12 -12 -12 -12]\n",
            " [-12 -12 -12 -12]]\n",
            "[[  0  13  28  45]\n",
            " [ 64  85 108 133]\n",
            " [160 189 220 253]]\n"
          ]
        }
      ]
    },
    {
      "cell_type": "code",
      "source": [
        "a1 = np.random.randint(1,10,size=(3,3))\n",
        "print(a1)\n",
        "print('-'*50)\n",
        "\n",
        "# max --->\n",
        "print(np.max(a1)) #---> returns the max of a1\n",
        "print(np.max(a1,axis=1)) # ---> returns max of each row  axis = 1\n",
        "print(np.max(a1,axis=0)) # ---> returns max of each column axis = 0\n",
        "print('-'*50)\n",
        "\n",
        "# min\n",
        "print(np.min(a1))\n",
        "print(np.min(a1,axis = 1))\n",
        "print(np.min(a1,axis = 0))\n",
        "print('-'*50)\\\n",
        "\n",
        "# sum --> returns sum\n",
        "print(np.sum(a1))\n",
        "print(np.sum(a1,axis = 1))\n",
        "print(np.sum(a1,axis = 0))\n",
        "print('-'*50)\n",
        "\n",
        "# prod --> returns multiplication\n",
        "print(np.prod(a1))\n",
        "print(np.prod(a1,axis = 1))\n",
        "print(np.prod(a1,axis = 0))"
      ],
      "metadata": {
        "colab": {
          "base_uri": "https://localhost:8080/"
        },
        "collapsed": true,
        "id": "T9CMB4L0jYHW",
        "outputId": "80db6892-114c-416f-91ab-8ed36132894d"
      },
      "execution_count": null,
      "outputs": [
        {
          "output_type": "stream",
          "name": "stdout",
          "text": [
            "[[6 3 2]\n",
            " [2 4 7]\n",
            " [5 9 7]]\n",
            "--------------------------------------------------\n",
            "9\n",
            "[6 7 9]\n",
            "[6 9 7]\n",
            "--------------------------------------------------\n",
            "2\n",
            "[2 2 5]\n",
            "[2 3 2]\n",
            "--------------------------------------------------\n",
            "45\n",
            "[11 13 21]\n",
            "[13 16 16]\n",
            "--------------------------------------------------\n",
            "635040\n",
            "[ 36  56 315]\n",
            "[ 60 108  98]\n"
          ]
        }
      ]
    },
    {
      "cell_type": "markdown",
      "source": [
        "### *statistical*"
      ],
      "metadata": {
        "id": "WpVQDuqzUQ9k"
      }
    },
    {
      "cell_type": "code",
      "source": [
        "a1 = np.random.randint(1,10,size=(3,3))\n",
        "print(a1)\n",
        "print('-'*50)\n",
        "\n",
        "# mean --> gives mean of array\n",
        "print(np.mean(a1))\n",
        "print(np.mean(a1,axis = 1))\n",
        "print(np.mean(a1, axis = 0))\n",
        "print('-'*50)\n",
        "\n",
        "# median --> sort it and middle term\n",
        "print(np.median(a1))\n",
        "print(np.median(a1,axis = 1))\n",
        "print(np.median(a1, axis = 0))\n",
        "print('-'*50)\n",
        "\n",
        "# mode --> most frequent --> computetionally intensive and less memory efficient\n",
        "# print(np.mode(a1)) #-----------> doesnot exist in numpy / use scipy.mode()\n",
        "# print(np.mode(a1,axis = 1))\n",
        "# print(np.mode(a1, axis = 0))\n",
        "# print('-'*50)\n",
        "\n",
        "# std --> canculates standard deviation\n",
        "print(np.std(a1))\n",
        "print(np.std(a1,axis = 1))\n",
        "print(np.std(a1, axis = 0))\n",
        "print('-'*50)\n",
        "\n",
        "# var --> calculates variance\n",
        "print(np.var(a1))\n",
        "print(np.var(a1,axis = 1))\n",
        "print(np.var(a1, axis = 0))\n",
        "print('-'*50)"
      ],
      "metadata": {
        "colab": {
          "base_uri": "https://localhost:8080/"
        },
        "id": "AKYrOuikouNG",
        "outputId": "3e2ffbb2-198f-4e42-d696-29c618879592"
      },
      "execution_count": null,
      "outputs": [
        {
          "output_type": "stream",
          "name": "stdout",
          "text": [
            "[[3 8 1]\n",
            " [1 8 3]\n",
            " [3 2 3]]\n",
            "--------------------------------------------------\n",
            "3.5555555555555554\n",
            "[4.         4.         2.66666667]\n",
            "[2.33333333 6.         2.33333333]\n",
            "--------------------------------------------------\n",
            "3.0\n",
            "[3. 3. 3.]\n",
            "[3. 8. 3.]\n",
            "--------------------------------------------------\n",
            "2.499382639822665\n",
            "[2.94392029 2.94392029 0.47140452]\n",
            "[0.94280904 2.82842712 0.94280904]\n",
            "--------------------------------------------------\n",
            "6.246913580246914\n",
            "[8.66666667 8.66666667 0.22222222]\n",
            "[0.88888889 8.         0.88888889]\n",
            "--------------------------------------------------\n"
          ]
        }
      ]
    },
    {
      "cell_type": "code",
      "source": [
        "# np.cumsum() --> gives cumulative sum of an array\n",
        "\n",
        "a = np.random.randint(1,50,15)\n",
        "print(a)\n",
        "\n",
        "cum_sum = np.cumsum(a)\n",
        "print(cum_sum)\n",
        "\n",
        "\n",
        "# for 2D -->\n",
        "\n",
        "a = np.random.randint(1,50,size = (4,4))\n",
        "print(a)\n",
        "\n",
        "print(np.cumsum(a)) # if we don't provide axis it will convert 2D to 1D and sum\n",
        "\n",
        "print(np.cumsum(a,axis=1)) # sum along rows\n",
        "\n",
        "print(np.cumsum(a,axis=0)) # sum along columns"
      ],
      "metadata": {
        "colab": {
          "base_uri": "https://localhost:8080/"
        },
        "id": "QzTtKyQZsmvB",
        "outputId": "d678841d-a69e-41e3-f790-5e3bb5454057"
      },
      "execution_count": null,
      "outputs": [
        {
          "output_type": "stream",
          "name": "stdout",
          "text": [
            "[ 9  3 46  7 17 39 37 34 17 28 26 38 11  3 43]\n",
            "[  9  12  58  65  82 121 158 192 209 237 263 301 312 315 358]\n",
            "[[30  7 26 21]\n",
            " [42 22 10 12]\n",
            " [22 15 49 47]\n",
            " [36  5 29 14]]\n",
            "[ 30  37  63  84 126 148 158 170 192 207 256 303 339 344 373 387]\n",
            "[[ 30  37  63  84]\n",
            " [ 42  64  74  86]\n",
            " [ 22  37  86 133]\n",
            " [ 36  41  70  84]]\n",
            "[[ 30   7  26  21]\n",
            " [ 72  29  36  33]\n",
            " [ 94  44  85  80]\n",
            " [130  49 114  94]]\n"
          ]
        }
      ]
    },
    {
      "cell_type": "code",
      "source": [
        "# np.cumprod() --> gives cumulative product of an array\n",
        "\n",
        "a = np.random.randint(1,50,15)\n",
        "print(a)\n",
        "\n",
        "cum_prod = np.cumprod(a)\n",
        "print(cum_prod)\n",
        "\n",
        "\n",
        "# for 2D -->\n",
        "\n",
        "a = np.random.randint(1,50,size = (4,4))\n",
        "print(a)\n",
        "\n",
        "print(np.cumprod(a)) # if we don't provide axis it will convert 2D to 1D and sum\n",
        "\n",
        "print(np.cumprod(a,axis=1)) # product along rows\n",
        "\n",
        "print(np.cumprod(a,axis=0)) # product along columns"
      ],
      "metadata": {
        "colab": {
          "base_uri": "https://localhost:8080/"
        },
        "collapsed": true,
        "id": "DPg7E3ypuBUO",
        "outputId": "a3f88e4c-cf1f-4e03-810d-bc5434dc7bcf"
      },
      "execution_count": null,
      "outputs": [
        {
          "output_type": "stream",
          "name": "stdout",
          "text": [
            "[36 23 44 25 10 11 21 34 10 19 18 19 47 39 40]\n",
            "[                 36                 828               36432\n",
            "              910800             9108000           100188000\n",
            "          2103948000         71534232000        715342320000\n",
            "      13591504080000     244647073440000    4648294395360000\n",
            "  218469836581920000 8520323626694880000 8771551741023270912]\n",
            "[[46 35 29  3]\n",
            " [ 1 18 20 38]\n",
            " [48  1 24 22]\n",
            " [ 1  7 23  1]]\n",
            "[              46             1610            46690           140070\n",
            "           140070          2521260         50425200       1916157600\n",
            "      91975564800      91975564800    2207413555200   48563098214400\n",
            "   48563098214400  339941687500800 7818658812518400 7818658812518400]\n",
            "[[    46   1610  46690 140070]\n",
            " [     1     18    360  13680]\n",
            " [    48     48   1152  25344]\n",
            " [     1      7    161    161]]\n",
            "[[    46     35     29      3]\n",
            " [    46    630    580    114]\n",
            " [  2208    630  13920   2508]\n",
            " [  2208   4410 320160   2508]]\n"
          ]
        }
      ]
    },
    {
      "cell_type": "code",
      "source": [
        "# np.percentile() - compute nth percentile\n",
        "\n",
        "a = np.random.randint(1,100,10)\n",
        "print(a)\n",
        "print(np.percentile(a,100))\n",
        "print(np.percentile(a,50)) # --> median"
      ],
      "metadata": {
        "colab": {
          "base_uri": "https://localhost:8080/"
        },
        "id": "VuQ5j0SsuajP",
        "outputId": "349d7c69-8317-4853-e5b9-2cfe0ea86214"
      },
      "execution_count": null,
      "outputs": [
        {
          "output_type": "stream",
          "name": "stdout",
          "text": [
            "[25 80  7 32 80 57 23 59 28 71]\n",
            "80.0\n",
            "44.5\n"
          ]
        }
      ]
    },
    {
      "cell_type": "code",
      "source": [
        "# np.histogram() --> shows histogram of frequency\n",
        "\n",
        "a = np.random.randint(1,50,30)\n",
        "print(a)\n",
        "\n",
        "print(np.histogram(a,bins = [0,10,30,40,50])) # returns frequency count"
      ],
      "metadata": {
        "colab": {
          "base_uri": "https://localhost:8080/"
        },
        "id": "El8xFaeexOFK",
        "outputId": "2149101d-0172-4ca4-9012-c24bdd804fc6"
      },
      "execution_count": null,
      "outputs": [
        {
          "output_type": "stream",
          "name": "stdout",
          "text": [
            "[24 43 16  4  7 32 47  2 32  7 33 24 15 35 36 32 32  7 19 19  1  9 39 30\n",
            " 34  6 25  3 11 49]\n",
            "(array([ 9,  8, 10,  3]), array([ 0, 10, 30, 40, 50]))\n"
          ]
        }
      ]
    },
    {
      "cell_type": "code",
      "source": [
        "# np.corrcoef --> calculates correlation coefficient\n",
        "\n",
        "a = np.random.randint(1,100,40)\n",
        "print(a)\n",
        "print('')\n",
        "b = np.random.randint(1,100,40)\n",
        "print(b)\n",
        "print('')\n",
        "print(np.corrcoef(a,b)) # for 3 we will get 3X3 matrix\n",
        "\n",
        "# raa rab  # this is how we will get output\n",
        "# rba rbb"
      ],
      "metadata": {
        "colab": {
          "base_uri": "https://localhost:8080/"
        },
        "id": "PWZKlHIgx5OB",
        "outputId": "2e818ed8-8d91-457a-f3be-14ee93d19c7c"
      },
      "execution_count": null,
      "outputs": [
        {
          "output_type": "stream",
          "name": "stdout",
          "text": [
            "[44  5 51 32 72 63 55 27 61 61  8 11 85  5 92 23 55 30  2 71 79 62 41  4\n",
            " 31  5 88 36 77 63 37 11 93 67 11 46 82 90 86 11]\n",
            "\n",
            "[64 34 54  2 55 18 48 51 55 79 83 20 87 95 41 95 24 78 25 18 97 88 49 74\n",
            " 48 19 56 39 14 15 19 90 35 31 64 51 26 73 90  8]\n",
            "\n",
            "[[1.         0.01660428]\n",
            " [0.01660428 1.        ]]\n"
          ]
        }
      ]
    },
    {
      "cell_type": "markdown",
      "source": [
        "### *trigonometric*"
      ],
      "metadata": {
        "id": "Q90bxigRUXNl"
      }
    },
    {
      "cell_type": "code",
      "source": [
        "a1 = np.random.randint(1,10,size=(3,3))\n",
        "print(a1)\n",
        "print('-'*50)\n",
        "\n",
        "# trignomrtric function\n",
        "print(np.sin(a1))"
      ],
      "metadata": {
        "colab": {
          "base_uri": "https://localhost:8080/"
        },
        "id": "fv8_cqjvowKg",
        "outputId": "680862a1-77af-4897-b20b-f7c2da9ace81"
      },
      "execution_count": null,
      "outputs": [
        {
          "output_type": "stream",
          "name": "stdout",
          "text": [
            "[[6 6 4]\n",
            " [5 2 5]\n",
            " [7 7 9]]\n",
            "--------------------------------------------------\n",
            "[[-0.2794155  -0.2794155  -0.7568025 ]\n",
            " [-0.95892427  0.90929743 -0.95892427]\n",
            " [ 0.6569866   0.6569866   0.41211849]]\n"
          ]
        }
      ]
    },
    {
      "cell_type": "code",
      "source": [
        "# dot product of shape  a.b and m.n  => to procees -> b == m\n",
        "\n",
        "a1 = np.random.randint(1,10,size=(3,3))\n",
        "a2 = np.random.randint(1,10,size=(3,4))\n",
        "\n",
        "print(a1)\n",
        "print('')\n",
        "print(a2)\n",
        "\n",
        "np.dot(a1,a2) #---> result will be (a x n)"
      ],
      "metadata": {
        "colab": {
          "base_uri": "https://localhost:8080/"
        },
        "id": "THBBrVK7q45P",
        "outputId": "6b91d866-8540-4983-8478-46de9c7a3e10"
      },
      "execution_count": null,
      "outputs": [
        {
          "output_type": "stream",
          "name": "stdout",
          "text": [
            "[[6 5 3]\n",
            " [8 7 9]\n",
            " [6 4 6]]\n",
            "\n",
            "[[1 3 4 9]\n",
            " [6 6 2 4]\n",
            " [6 4 4 7]]\n"
          ]
        },
        {
          "output_type": "execute_result",
          "data": {
            "text/plain": [
              "array([[ 54,  60,  46,  95],\n",
              "       [104, 102,  82, 163],\n",
              "       [ 66,  66,  56, 112]])"
            ]
          },
          "metadata": {},
          "execution_count": 17
        }
      ]
    },
    {
      "cell_type": "markdown",
      "source": [
        "### *log and exponents*"
      ],
      "metadata": {
        "id": "kyxIGpBqUenf"
      }
    },
    {
      "cell_type": "markdown",
      "source": [
        "### *Set*"
      ],
      "metadata": {
        "id": "CrRBS8UcxG8q"
      }
    },
    {
      "cell_type": "code",
      "source": [
        "# set functions -> result in numpy array only\n",
        "\n",
        "a = np.array([1,2,3,4,5])\n",
        "b = np.array([4,5,6,7])\n",
        "\n",
        "np.union1d(a,b)"
      ],
      "metadata": {
        "colab": {
          "base_uri": "https://localhost:8080/"
        },
        "id": "0s8wCgrVFthU",
        "outputId": "2c2eb4c1-d836-45a6-fde1-7bda98c59e40"
      },
      "execution_count": null,
      "outputs": [
        {
          "output_type": "execute_result",
          "data": {
            "text/plain": [
              "array([1, 2, 3, 4, 5, 6, 7])"
            ]
          },
          "metadata": {},
          "execution_count": 119
        }
      ]
    },
    {
      "cell_type": "code",
      "source": [
        "a = np.array([1,2,3,4,5])\n",
        "b = np.array([4,5,6,7])\n",
        "\n",
        "np.intersect1d(a,b)"
      ],
      "metadata": {
        "colab": {
          "base_uri": "https://localhost:8080/"
        },
        "id": "csU-u-Z-GLe0",
        "outputId": "ecd88eda-90e8-46a2-f52a-e8af9c4d3082"
      },
      "execution_count": null,
      "outputs": [
        {
          "output_type": "execute_result",
          "data": {
            "text/plain": [
              "array([4, 5])"
            ]
          },
          "metadata": {},
          "execution_count": 121
        }
      ]
    },
    {
      "cell_type": "code",
      "source": [
        "a = np.array([1,2,3,4,5])\n",
        "b = np.array([4,5,6,7])\n",
        "\n",
        "np.setdiff1d(a,b)  # a-b"
      ],
      "metadata": {
        "colab": {
          "base_uri": "https://localhost:8080/"
        },
        "id": "Ga0izr9RGSnT",
        "outputId": "d8dae46c-ad2d-402e-a832-dc6f9d09e0de"
      },
      "execution_count": null,
      "outputs": [
        {
          "output_type": "execute_result",
          "data": {
            "text/plain": [
              "array([1, 2, 3])"
            ]
          },
          "metadata": {},
          "execution_count": 122
        }
      ]
    },
    {
      "cell_type": "code",
      "source": [
        "a = np.array([1,2,3,4,5])\n",
        "b = np.array([4,5,6,7])\n",
        "\n",
        "np.setdiff1d(b,a)  # b-a"
      ],
      "metadata": {
        "colab": {
          "base_uri": "https://localhost:8080/"
        },
        "id": "touMdG1EGXdf",
        "outputId": "bc0d8423-475a-4d66-98e8-c23f615fbbe5"
      },
      "execution_count": null,
      "outputs": [
        {
          "output_type": "execute_result",
          "data": {
            "text/plain": [
              "array([6, 7])"
            ]
          },
          "metadata": {},
          "execution_count": 123
        }
      ]
    },
    {
      "cell_type": "code",
      "source": [
        "# xor -> removes common\n",
        "np.setxor1d(a,b)\n"
      ],
      "metadata": {
        "colab": {
          "base_uri": "https://localhost:8080/"
        },
        "id": "e1VegW8lGcH7",
        "outputId": "9bdb3965-0b50-46e2-96ae-e79a83ed37bf"
      },
      "execution_count": null,
      "outputs": [
        {
          "output_type": "execute_result",
          "data": {
            "text/plain": [
              "array([1, 2, 3, 6, 7])"
            ]
          },
          "metadata": {},
          "execution_count": 124
        }
      ]
    },
    {
      "cell_type": "code",
      "source": [
        "np.in1d(a,2) # <--- can put in book indexing"
      ],
      "metadata": {
        "colab": {
          "base_uri": "https://localhost:8080/"
        },
        "id": "PFBfn0zKGnBL",
        "outputId": "b3041649-8870-4066-8b9c-2505a5965924"
      },
      "execution_count": null,
      "outputs": [
        {
          "output_type": "stream",
          "name": "stderr",
          "text": [
            "/tmp/ipython-input-1646599517.py:1: DeprecationWarning: `in1d` is deprecated. Use `np.isin` instead.\n",
            "  np.in1d(a,2)\n"
          ]
        },
        {
          "output_type": "execute_result",
          "data": {
            "text/plain": [
              "array([False,  True, False, False, False])"
            ]
          },
          "metadata": {},
          "execution_count": 126
        }
      ]
    },
    {
      "cell_type": "code",
      "source": [
        "# np.log and np.exp --> calculates log(ln -> natural log) and exponents\n",
        "\n",
        "print(a1)\n",
        "print(np.log(a1))\n",
        "print(np.log10(a1))\n",
        "exponent = np.exp(a1)\n",
        "print(np.round(exponent,2))\n",
        "\n",
        "# Suppress scientific notation\n",
        "np.set_printoptions(suppress=True) # <--- large by default put in scientific format"
      ],
      "metadata": {
        "colab": {
          "base_uri": "https://localhost:8080/"
        },
        "id": "9qP0rMlEsTcl",
        "outputId": "526b0fcf-27fa-4ee8-91f2-3b112e1c8c1b"
      },
      "execution_count": null,
      "outputs": [
        {
          "output_type": "stream",
          "name": "stdout",
          "text": [
            "[[ 1  2  3  4]\n",
            " [ 5  6  7  8]\n",
            " [ 9 10 11 12]]\n",
            "[[0.         0.69314718 1.09861229 1.38629436]\n",
            " [1.60943791 1.79175947 1.94591015 2.07944154]\n",
            " [2.19722458 2.30258509 2.39789527 2.48490665]]\n",
            "[[0.         0.30103    0.47712125 0.60205999]\n",
            " [0.69897    0.77815125 0.84509804 0.90308999]\n",
            " [0.95424251 1.         1.04139269 1.07918125]]\n",
            "[[     2.72      7.39     20.09     54.6 ]\n",
            " [   148.41    403.43   1096.63   2980.96]\n",
            " [  8103.08  22026.47  59874.14 162754.79]]\n"
          ]
        }
      ]
    },
    {
      "cell_type": "markdown",
      "source": [
        "# *indexing and slicing*"
      ],
      "metadata": {
        "id": "hPlxM8afWgnp"
      }
    },
    {
      "cell_type": "code",
      "source": [
        "# indexing and slicing\n",
        "\n",
        "a = np.arange(12)\n",
        "b = np.arange(12).reshape(3,4)\n",
        "c = np.arange(12).reshape(3,2,2)\n",
        "print(a)\n",
        "print('')\n",
        "print(b)\n",
        "print('')\n",
        "print(c)\n",
        " # normal"
      ],
      "metadata": {
        "colab": {
          "base_uri": "https://localhost:8080/"
        },
        "id": "nk--h7qPx21G",
        "outputId": "00932249-9cc3-4be9-a3df-1366c8b610b0"
      },
      "execution_count": null,
      "outputs": [
        {
          "output_type": "stream",
          "name": "stdout",
          "text": [
            "[ 0  1  2  3  4  5  6  7  8  9 10 11]\n",
            "\n",
            "[[ 0  1  2  3]\n",
            " [ 4  5  6  7]\n",
            " [ 8  9 10 11]]\n",
            "\n",
            "[[[ 0  1]\n",
            "  [ 2  3]]\n",
            "\n",
            " [[ 4  5]\n",
            "  [ 6  7]]\n",
            "\n",
            " [[ 8  9]\n",
            "  [10 11]]]\n"
          ]
        }
      ]
    },
    {
      "cell_type": "code",
      "source": [
        "# indexing and slicing for 1D\n",
        "a = np.arange(12)\n",
        "print(a)\n",
        "# indexing\n",
        "print(a[3])\n",
        "# slicing\n",
        "print(a[1::2]) # <--same to what we do in list or tup [start:end:jump]-> + -"
      ],
      "metadata": {
        "colab": {
          "base_uri": "https://localhost:8080/"
        },
        "collapsed": true,
        "id": "3-fMpMdCEbo5",
        "outputId": "84c394b3-b1e8-466f-aba2-c20d2a206bf2"
      },
      "execution_count": null,
      "outputs": [
        {
          "output_type": "stream",
          "name": "stdout",
          "text": [
            "[ 0  1  2  3  4  5  6  7  8  9 10 11]\n",
            "3\n",
            "[ 1  3  5  7  9 11]\n"
          ]
        }
      ]
    },
    {
      "cell_type": "code",
      "source": [
        "# indexing and slicing for 2D\n",
        "\n",
        "b = np.arange(12).reshape(3,4)\n",
        "print(b)\n",
        "print('')\n",
        "\n",
        "print(b[1,3]) # we give command as [row , column]\n",
        "print(b[0,1]) # row = 0 column = 1 -> b12--> 1\n",
        "\n",
        "# slicing --> array[s_row:e_row:jump,s_column:e_column:jump]\n",
        "\n",
        "print(b[0,:]) # --> this will give first row\n",
        "print('')\n",
        "print(b[:,2]) # --> this will give third column\n",
        "print('')\n",
        "print(b[1:3,1:3]) # gives chunk as [[5,6],[9,10]]\n",
        "print('')\n",
        "print(b[0::2,::3]) # gives [[0,4],[8,11]]\n",
        "print('')\n",
        "print(b[0::2,1::2])\n",
        "print('')\n",
        "print(b[1,0::3])\n",
        "print('')\n",
        "#-----------------------------------------------------------------------------\n",
        "# slicing with more index --> no index error\n",
        "print(b[1:3]) # here numpy doesnot throw error even if we went out of index\n",
        "# same happens when we do in list\n",
        "# print(b[1]) <-- this will throw error as asking for single row\n",
        "l = [1,2,3]\n",
        "print(l[1:4000])"
      ],
      "metadata": {
        "colab": {
          "base_uri": "https://localhost:8080/"
        },
        "collapsed": true,
        "id": "gcj__ATGE39g",
        "outputId": "451450bf-c9a2-40fd-fb97-e09bb12717d5"
      },
      "execution_count": null,
      "outputs": [
        {
          "output_type": "stream",
          "name": "stdout",
          "text": [
            "[[ 0  1  2  3]\n",
            " [ 4  5  6  7]\n",
            " [ 8  9 10 11]]\n",
            "\n",
            "7\n",
            "1\n",
            "[0 1 2 3]\n",
            "\n",
            "[ 2  6 10]\n",
            "\n",
            "[[ 5  6]\n",
            " [ 9 10]]\n",
            "\n",
            "[[ 0  3]\n",
            " [ 8 11]]\n",
            "\n",
            "[[ 1  3]\n",
            " [ 9 11]]\n",
            "\n",
            "[4 7]\n",
            "\n",
            "[[ 4  5  6  7]\n",
            " [ 8  9 10 11]]\n",
            "[2, 3]\n"
          ]
        }
      ]
    },
    {
      "cell_type": "code",
      "source": [
        "# indexing and slicing in 3D\n",
        "\n",
        "c = np.arange(27).reshape(3,3,3) # (number , row , column )\n",
        "print(c)\n",
        "\n",
        "print(c[0,1,0]) # ---> out to in approch -> this will give 3\n",
        "print(c[1,:,0]) # --> : -> if we keep any field blank --> returns everything of field\n",
        "# and similar we will do it for 4D and +++ dimensions\n",
        "\n",
        "\n",
        "# slicing -->\n",
        "\n",
        "# --->array[start:stop:step , start:stop:step , start:stop:step]\n",
        "\n",
        "print(c[1]) # <--- this will give center 2D array\n",
        "print('')\n",
        "print(c[0::2]) # <---- first and last 2D\n",
        "print(c[0,1,:]) # <--- first array second row and all column\n",
        "print(c[1,:,1])\n",
        "print(c[2,1:,1:])\n",
        "print(c[0::2,0,0::2])"
      ],
      "metadata": {
        "colab": {
          "base_uri": "https://localhost:8080/"
        },
        "collapsed": true,
        "id": "gq5DvoYwFolc",
        "outputId": "0ebd4e01-743d-402d-9300-1f261926fb1a"
      },
      "execution_count": null,
      "outputs": [
        {
          "output_type": "stream",
          "name": "stdout",
          "text": [
            "[[[ 0  1  2]\n",
            "  [ 3  4  5]\n",
            "  [ 6  7  8]]\n",
            "\n",
            " [[ 9 10 11]\n",
            "  [12 13 14]\n",
            "  [15 16 17]]\n",
            "\n",
            " [[18 19 20]\n",
            "  [21 22 23]\n",
            "  [24 25 26]]]\n",
            "3\n",
            "[ 9 12 15]\n",
            "[[ 9 10 11]\n",
            " [12 13 14]\n",
            " [15 16 17]]\n",
            "\n",
            "[[[ 0  1  2]\n",
            "  [ 3  4  5]\n",
            "  [ 6  7  8]]\n",
            "\n",
            " [[18 19 20]\n",
            "  [21 22 23]\n",
            "  [24 25 26]]]\n",
            "[3 4 5]\n",
            "[10 13 16]\n",
            "[[22 23]\n",
            " [25 26]]\n",
            "[[ 0  2]\n",
            " [18 20]]\n"
          ]
        }
      ]
    },
    {
      "cell_type": "markdown",
      "source": [
        "## *advance indexing* *- fancy and bool*"
      ],
      "metadata": {
        "id": "N6fNoyaUdwtf"
      }
    },
    {
      "cell_type": "code",
      "source": [
        "# Advance indexing --\n",
        "\n",
        "# fancy indexing -->\n",
        "\n",
        "a = np.arange(24).reshape(6,4)\n",
        "print(a)\n",
        "print('')\n",
        "\n",
        "# get 1,3,4 row -> basically we provide list\n",
        "\n",
        "print(a[[0,2,3,5],:]) # custom row extract\n",
        "print('')\n",
        "print(a[:,[0,2,3]]) # custom column extract"
      ],
      "metadata": {
        "colab": {
          "base_uri": "https://localhost:8080/"
        },
        "id": "HVu9LVgKppqa",
        "outputId": "2ecd7b28-33a9-472a-9476-d751c9756fe7"
      },
      "execution_count": null,
      "outputs": [
        {
          "output_type": "stream",
          "name": "stdout",
          "text": [
            "[[ 0  1  2  3]\n",
            " [ 4  5  6  7]\n",
            " [ 8  9 10 11]\n",
            " [12 13 14 15]\n",
            " [16 17 18 19]\n",
            " [20 21 22 23]]\n",
            "\n",
            "[[ 0  1  2  3]\n",
            " [ 8  9 10 11]\n",
            " [12 13 14 15]\n",
            " [20 21 22 23]]\n",
            "\n",
            "[[ 0  2  3]\n",
            " [ 4  6  7]\n",
            " [ 8 10 11]\n",
            " [12 14 15]\n",
            " [16 18 19]\n",
            " [20 22 23]]\n"
          ]
        }
      ]
    },
    {
      "cell_type": "code",
      "source": [
        "# boolean indexing --> condition based indexing --> doesnot change original array\n",
        "\n",
        "a = np.random.randint(1,100,size=(6,6))\n",
        "print(a)\n",
        "\n",
        "# numbers greater than\n",
        "\n",
        "a > 15 # <--- returns boolean arrey --> and you can index it in a to get cond'n\n",
        "\n",
        "print('')\n",
        "print(a[a>50])\n",
        "print('')\n",
        "# even numbers\n",
        "print(a[a%2==0])\n",
        "# greater than 50 and even\n",
        "print(a[(a>50) & (a%2 == 0)]) # <-- for arrays always use & | when work with bool\n",
        "# --> for single values we can use 'and' 'or'"
      ],
      "metadata": {
        "colab": {
          "base_uri": "https://localhost:8080/"
        },
        "id": "RbH567zWqzZx",
        "outputId": "3da39bcb-7617-4e5d-8f8e-7f5b61d52092"
      },
      "execution_count": null,
      "outputs": [
        {
          "output_type": "stream",
          "name": "stdout",
          "text": [
            "[[62  4 30 88 45 19]\n",
            " [99  2 36 89 61 29]\n",
            " [52 71 39 88  4 39]\n",
            " [53 78 39 12 17 81]\n",
            " [85 16 50 13 15 63]\n",
            " [55 55 16 26 74 81]]\n",
            "\n",
            "[62 88 99 89 61 52 71 88 53 78 81 85 63 55 55 74 81]\n",
            "\n",
            "[62  4 30 88  2 36 52 88  4 78 12 16 50 16 26 74]\n",
            "[62 88 52 88 78 74]\n"
          ]
        }
      ]
    },
    {
      "cell_type": "markdown",
      "source": [
        "## *np.where(condition,True,False)*"
      ],
      "metadata": {
        "id": "Sa7JhpjeooXX"
      }
    },
    {
      "cell_type": "code",
      "source": [
        "# np.where ---> indices of input array where condn is satisfied\n",
        "# https://numpy.org/devdocs//reference/generated/numpy.where.html\n",
        "\n",
        "a = np.random.randint(10,30,15)\n",
        "print(a)\n",
        "\n",
        "wh = np.where(a>25) # syntax -> np.where(condition,true,false)\n",
        "print(wh)\n",
        "\n",
        "# replace all values > 25 with zero\n",
        "wh = np.where(a>25,0,a)\n",
        "print(wh)\n",
        "\n",
        "# replace all values > 25 with zero\n",
        "wh = np.where(a%2==0,0,a)\n",
        "print(wh)"
      ],
      "metadata": {
        "colab": {
          "base_uri": "https://localhost:8080/"
        },
        "id": "te_VDxEElf-a",
        "outputId": "2b67aa2f-5de1-4789-d8ed-65dbf4d132f9"
      },
      "execution_count": null,
      "outputs": [
        {
          "output_type": "stream",
          "name": "stdout",
          "text": [
            "[16 20 23 27 11 19 11 28 24 20 13 12 29 24 19]\n",
            "(array([ 3,  7, 12]),)\n",
            "[16 20 23  0 11 19 11  0 24 20 13 12  0 24 19]\n",
            "[ 0  0 23 27 11 19 11  0  0  0 13  0 29  0 19]\n"
          ]
        }
      ]
    },
    {
      "cell_type": "markdown",
      "source": [
        "# *modifying np.array*"
      ],
      "metadata": {
        "id": "rLHNNu9NXRtQ"
      }
    },
    {
      "cell_type": "markdown",
      "source": [
        "## *np.sort*"
      ],
      "metadata": {
        "id": "WOCbz09OkDkg"
      }
    },
    {
      "cell_type": "code",
      "source": [
        "import numpy as np\n",
        "\n",
        "# np.sort -->  why not sorted --> returns list but this returns np.array\n",
        "# https://numpy.org/devdocs//reference/generated/numpy.sort.html\n",
        "\n",
        "a = np.random.randint(1,100,15)\n",
        "print(a)\n",
        "\n",
        "print(np.sort(a)) # ---> this returns np array\n",
        "print(np.sort(a,kind= 'mergesort')) # --> can use different sort algo\n",
        "\n",
        "# there is no reverse = True parameter therefore we need to write\n",
        "print(np.sort(a)[::-1]) # <-- we have to use this syntax"
      ],
      "metadata": {
        "colab": {
          "base_uri": "https://localhost:8080/"
        },
        "id": "M8tXc8vgAcLg",
        "outputId": "bd3537e7-46ea-40bf-8df2-272d2fe3da15"
      },
      "execution_count": null,
      "outputs": [
        {
          "output_type": "stream",
          "name": "stdout",
          "text": [
            "[48 30  4 53 79 50 40 20 32 78 66 24 44 22 47]\n",
            "[ 4 20 22 24 30 32 40 44 47 48 50 53 66 78 79]\n",
            "[ 4 20 22 24 30 32 40 44 47 48 50 53 66 78 79]\n",
            "[79 78 66 53 50 48 47 44 40 32 30 24 22 20  4]\n"
          ]
        }
      ]
    },
    {
      "cell_type": "markdown",
      "source": [
        "## *np.put(array,index,item)*"
      ],
      "metadata": {
        "id": "qSoc8TK8wq8E"
      }
    },
    {
      "cell_type": "code",
      "source": [
        "# np.put --> replaces specific elements of array by index with new array\n",
        "\n",
        "a = np.arange(1,20)\n",
        "print(a)\n",
        "\n",
        "np.put(a,[1,2],[111,222]) # <---- permenant change\n",
        "print(a)\n",
        "\n",
        "a[1] = 1\n",
        "a[2] = 2\n",
        "\n",
        "print(a)\n",
        "\n",
        "# index-value lists, and especially when broadcasting is desirable."
      ],
      "metadata": {
        "colab": {
          "base_uri": "https://localhost:8080/"
        },
        "id": "O7xNAMJkEDWP",
        "outputId": "8ecd8266-fb5c-4dfb-a160-88a4366c0c42"
      },
      "execution_count": null,
      "outputs": [
        {
          "output_type": "stream",
          "name": "stdout",
          "text": [
            "[ 1  2  3  4  5  6  7  8  9 10 11 12 13 14 15 16 17 18 19]\n",
            "[  1 111 222   4   5   6   7   8   9  10  11  12  13  14  15  16  17  18\n",
            "  19]\n",
            "[ 1  1  2  4  5  6  7  8  9 10 11 12 13 14 15 16 17 18 19]\n"
          ]
        }
      ]
    },
    {
      "cell_type": "markdown",
      "source": [
        "## *np.expand_dims(array,axis)*"
      ],
      "metadata": {
        "id": "9zOJLtwWoM7f"
      }
    },
    {
      "cell_type": "code",
      "source": [
        "# np.expand_dims - expand the dimensions of array\n",
        "\n",
        "#https://numpy.org/devdocs//reference/generated/numpy.expand_dims.html\n",
        "\n",
        "a = np.random.randint(1,5,15)\n",
        "\n",
        "expand = np.expand_dims(a,axis=0)\n",
        "print(expand)\n",
        "\n",
        "expand = np.expand_dims(a,axis=1)\n",
        "print(expand)"
      ],
      "metadata": {
        "colab": {
          "base_uri": "https://localhost:8080/"
        },
        "collapsed": true,
        "id": "xij3Vc3Ekkcd",
        "outputId": "f1754f92-274a-4f4b-9551-76dc330e28a7"
      },
      "execution_count": null,
      "outputs": [
        {
          "output_type": "stream",
          "name": "stdout",
          "text": [
            "[[3 1 2 1 1 3 1 3 1 3 4 2 3 4 4]]\n",
            "[[3]\n",
            " [1]\n",
            " [2]\n",
            " [1]\n",
            " [1]\n",
            " [3]\n",
            " [1]\n",
            " [3]\n",
            " [1]\n",
            " [3]\n",
            " [4]\n",
            " [2]\n",
            " [3]\n",
            " [4]\n",
            " [4]]\n"
          ]
        }
      ]
    },
    {
      "cell_type": "code",
      "source": [
        "a = np.random.randint(1,10,size = (4,4))\n",
        "print(a)\n",
        "\n",
        "b = np.sort(a)  # default operation --> row sorting\n",
        "print(b)\n",
        "\n",
        "b = np.sort(a,axis= 1) # <--- row wise sorting\n",
        "print(b)\n",
        "\n",
        "b = np.sort(a,axis= 0) # <--- column wise sorting\n",
        "print(b)"
      ],
      "metadata": {
        "colab": {
          "base_uri": "https://localhost:8080/"
        },
        "id": "X-NakZMFB66t",
        "outputId": "c05e5f3b-2fe5-4136-d1db-02f229a06387"
      },
      "execution_count": null,
      "outputs": [
        {
          "output_type": "stream",
          "name": "stdout",
          "text": [
            "[[7 9 8 4]\n",
            " [8 4 4 2]\n",
            " [1 4 7 4]\n",
            " [5 2 7 3]]\n",
            "[[4 7 8 9]\n",
            " [2 4 4 8]\n",
            " [1 4 4 7]\n",
            " [2 3 5 7]]\n",
            "[[4 7 8 9]\n",
            " [2 4 4 8]\n",
            " [1 4 4 7]\n",
            " [2 3 5 7]]\n",
            "[[1 2 4 2]\n",
            " [5 4 7 3]\n",
            " [7 4 7 4]\n",
            " [8 9 8 4]]\n"
          ]
        }
      ]
    },
    {
      "cell_type": "markdown",
      "source": [
        "## iterating"
      ],
      "metadata": {
        "id": "J2Ipx-sZZgzm"
      }
    },
    {
      "cell_type": "code",
      "source": [
        "# iterating -->\n",
        "\n",
        "print(a)\n",
        "print('')\n",
        "print(b)\n",
        "print('')\n",
        "print(c)\n",
        "\n",
        "for i in a: # <--- prints single element\n",
        "  print(i)\n",
        "\n",
        "for i in b: # <---- prints rows (1D)\n",
        "  print(i)\n",
        "\n",
        "for i in c: # <--- prints 2D array\n",
        "  print(i)\n",
        "\n",
        "for i in np.nditer(c): # <--- this will print each element --> ravel and iter\n",
        "  print(i)"
      ],
      "metadata": {
        "colab": {
          "base_uri": "https://localhost:8080/"
        },
        "collapsed": true,
        "id": "ZWW_cofPIDze",
        "outputId": "497601bf-9a04-45fb-eaba-b96585b1b531"
      },
      "execution_count": null,
      "outputs": [
        {
          "output_type": "stream",
          "name": "stdout",
          "text": [
            "[ 0  1  2  3  4  5  6  7  8  9 10 11]\n",
            "\n",
            "[[ 0  1  2  3]\n",
            " [ 4  5  6  7]\n",
            " [ 8  9 10 11]]\n",
            "\n",
            "[[[ 0  1]\n",
            "  [ 2  3]]\n",
            "\n",
            " [[ 4  5]\n",
            "  [ 6  7]]\n",
            "\n",
            " [[ 8  9]\n",
            "  [10 11]]]\n",
            "0\n",
            "1\n",
            "2\n",
            "3\n",
            "4\n",
            "5\n",
            "6\n",
            "7\n",
            "8\n",
            "9\n",
            "10\n",
            "11\n",
            "[0 1 2 3]\n",
            "[4 5 6 7]\n",
            "[ 8  9 10 11]\n",
            "[[0 1]\n",
            " [2 3]]\n",
            "[[4 5]\n",
            " [6 7]]\n",
            "[[ 8  9]\n",
            " [10 11]]\n",
            "0\n",
            "1\n",
            "2\n",
            "3\n",
            "4\n",
            "5\n",
            "6\n",
            "7\n",
            "8\n",
            "9\n",
            "10\n",
            "11\n"
          ]
        }
      ]
    },
    {
      "cell_type": "markdown",
      "source": [
        "## *reshaping*"
      ],
      "metadata": {
        "id": "J1tvHZLRcrmo"
      }
    },
    {
      "cell_type": "code",
      "source": [
        "# reshape(a,b)/transpose(array)/ravel()\n",
        "\n",
        "# reshape\n",
        "\n",
        "# transpose\n",
        "print(b)\n",
        "print(np.transpose(b))\n",
        "print(b.T) # <--- immediate way to transpose\n",
        "\n",
        "\n",
        "# ravel --> convert any array in 1D\n",
        "b.ravel()\n",
        "\n",
        "\n",
        "# np.flip --> reverses order by preserving snape\n",
        "\n",
        "a = np.arange(1,20)\n",
        "print(a)\n",
        "print(np.flip(a))\n",
        "\n",
        "# 2D\n",
        "\n",
        "a = np.arange(0,20).reshape(5,4)\n",
        "print(np.flip(a)) # <-- will do row and column both flipping\n",
        "print('')\n",
        "print(np.flip(a,axis=1)) # <--- row flipping\n",
        "print('')\n",
        "print(np.flip(a,axis=0)) # <---- column flipping"
      ],
      "metadata": {
        "colab": {
          "base_uri": "https://localhost:8080/"
        },
        "id": "aZMYDF-Pfl5e",
        "outputId": "2a551c79-bc15-4142-b54d-f14d60bc79ff"
      },
      "execution_count": null,
      "outputs": [
        {
          "output_type": "stream",
          "name": "stdout",
          "text": [
            "[[3 4]]\n",
            "[[3]\n",
            " [4]]\n",
            "[[3]\n",
            " [4]]\n",
            "[ 1  2  3  4  5  6  7  8  9 10 11 12 13 14 15 16 17 18 19]\n",
            "[19 18 17 16 15 14 13 12 11 10  9  8  7  6  5  4  3  2  1]\n",
            "[[19 18 17 16]\n",
            " [15 14 13 12]\n",
            " [11 10  9  8]\n",
            " [ 7  6  5  4]\n",
            " [ 3  2  1  0]]\n",
            "\n",
            "[[ 3  2  1  0]\n",
            " [ 7  6  5  4]\n",
            " [11 10  9  8]\n",
            " [15 14 13 12]\n",
            " [19 18 17 16]]\n",
            "\n",
            "[[16 17 18 19]\n",
            " [12 13 14 15]\n",
            " [ 8  9 10 11]\n",
            " [ 4  5  6  7]\n",
            " [ 0  1  2  3]]\n"
          ]
        }
      ]
    },
    {
      "cell_type": "markdown",
      "source": [
        "## *stacking and splitting*"
      ],
      "metadata": {
        "id": "CsVBoSFedIhv"
      }
    },
    {
      "cell_type": "code",
      "source": [
        "a = np.array([[1, 2]])\n",
        "b = np.array([[3, 4]])\n",
        "\n",
        "# Concatenate along axis=0\n",
        "print(np.concatenate((a, b), axis=0))\n",
        "# Output shape: (2, 2)\n",
        "\n",
        "# Stack along axis=0\n",
        "print(np.stack((a, b), axis=0))\n",
        "# Output shape: (2, 1, 2)\n",
        "\n",
        "#np.stack() adds a new dimension, while np.concatenate() simply extends the array along existing axes.\n",
        "''' np.concatenate joins arrays along an existing axis\n",
        "(like adding more rows or columns).\n",
        "\n",
        "np.stack stacks arrays along a new axis, creating a new dimension\n",
        "(like stacking layers). '''"
      ],
      "metadata": {
        "colab": {
          "base_uri": "https://localhost:8080/"
        },
        "id": "mAED3V-TjLnO",
        "outputId": "1c81e3b3-5a08-405d-adb0-bd626e1e5741"
      },
      "execution_count": null,
      "outputs": [
        {
          "output_type": "stream",
          "name": "stdout",
          "text": [
            "[[1 2]\n",
            " [3 4]]\n",
            "[[[1 2]]\n",
            "\n",
            " [[3 4]]]\n"
          ]
        }
      ]
    },
    {
      "cell_type": "markdown",
      "source": [
        "## *np.append(a,b)* *and np.concatenate(a,b)*"
      ],
      "metadata": {
        "id": "kGBccjHZk8UU"
      }
    },
    {
      "cell_type": "code",
      "source": [
        "# np.append(a,b) - -similar like list append\n",
        "\n",
        "# https://numpy.org/devdocs//reference/generated/numpy.append.html\n",
        "\n",
        "\n",
        "a = np.random.randint(1,20,12)\n",
        "b = np.arange(12)\n",
        "print(a)\n",
        "print(np.append(a,b))\n"
      ],
      "metadata": {
        "colab": {
          "base_uri": "https://localhost:8080/"
        },
        "id": "bp9nVdI9E5-p",
        "outputId": "7dea548d-e621-44ba-f047-7e1228d95a10"
      },
      "execution_count": null,
      "outputs": [
        {
          "output_type": "stream",
          "name": "stdout",
          "text": [
            "[19 18 18 12 17 14  9  3 11  4  4 12]\n",
            "[19 18 18 12 17 14  9  3 11  4  4 12  0  1  2  3  4  5  6  7  8  9 10 11]\n"
          ]
        }
      ]
    },
    {
      "cell_type": "code",
      "source": [
        "# with 2D array\n",
        "\n",
        "b = np.random.randint(1,20,size = (3,3))\n",
        "print(b)\n",
        "\n",
        "app = np.append(b,[1,2,3])\n",
        "print(app) # by default it flattens everything and then adds it\n",
        "# --> to add along rows and columns --> axis = 0 or 1\n",
        "\n",
        "# app = np.append(b,[1,2,3],axis=0) # <-- this will thow error as array us 1D\n",
        "app = np.append(b,[[1,2,3]],axis=0)\n",
        "print(app)\n",
        "\n",
        "app = np.append(b,[[1],[2],[3]],axis=1)\n",
        "print(app)"
      ],
      "metadata": {
        "colab": {
          "base_uri": "https://localhost:8080/"
        },
        "id": "TvlEiQsLhW8A",
        "outputId": "96dcb3df-5351-4f40-c7cc-570567027bbd"
      },
      "execution_count": null,
      "outputs": [
        {
          "output_type": "stream",
          "name": "stdout",
          "text": [
            "[[ 5 14 15]\n",
            " [17  7  9]\n",
            " [11  7 18]]\n",
            "[ 5 14 15 17  7  9 11  7 18  1  2  3]\n",
            "[[ 5 14 15]\n",
            " [17  7  9]\n",
            " [11  7 18]\n",
            " [ 1  2  3]]\n",
            "[[ 5 14 15  1]\n",
            " [17  7  9  2]\n",
            " [11  7 18  3]]\n"
          ]
        }
      ]
    },
    {
      "cell_type": "code",
      "source": [
        "b = np.random.randint(1,20,size = (3,3))\n",
        "app = np.append(b, np.ones((b.shape[0], 1)), axis=1)\n",
        "\n",
        "print(app)"
      ],
      "metadata": {
        "colab": {
          "base_uri": "https://localhost:8080/"
        },
        "id": "EOy5bPDeha5g",
        "outputId": "9f01b1d4-25f7-4ae3-e3c4-b5ce3ec1f010"
      },
      "execution_count": null,
      "outputs": [
        {
          "output_type": "stream",
          "name": "stdout",
          "text": [
            "[[18. 19. 17.  1.]\n",
            " [10. 17.  2.  1.]\n",
            " [ 8.  6. 19.  1.]]\n"
          ]
        }
      ]
    },
    {
      "cell_type": "code",
      "source": [
        "# np.concatenate() --> generally with 2 D array\n",
        "\n",
        "# https://numpy.org/devdocs//reference/generated/numpy.concatenate.html\n",
        "a = np.random.randint(1,20,size = (3,3))\n",
        "print(a)\n",
        "b = np.random.randint(1,20,size = (3,3))\n",
        "print(b)\n",
        "\n",
        "concat = np.concatenate((a,b),axis=1) # --> replacement of vstack and hstack\n",
        "print(concat)\n",
        "\n",
        "concat = np.concatenate((a,b),axis=0)\n",
        "print(concat)"
      ],
      "metadata": {
        "colab": {
          "base_uri": "https://localhost:8080/"
        },
        "id": "cTp18Unsi0XW",
        "outputId": "79b9e636-b5d4-4c7a-f9e5-8e193302416a"
      },
      "execution_count": null,
      "outputs": [
        {
          "output_type": "stream",
          "name": "stdout",
          "text": [
            "[[ 2  8 11]\n",
            " [19 10  3]\n",
            " [ 4 14 13]]\n",
            "[[14 13 11]\n",
            " [ 6 13 17]\n",
            " [ 9 14 12]]\n",
            "[[ 2  8 11 14 13 11]\n",
            " [19 10  3  6 13 17]\n",
            " [ 4 14 13  9 14 12]]\n",
            "[[ 2  8 11]\n",
            " [19 10  3]\n",
            " [ 4 14 13]\n",
            " [14 13 11]\n",
            " [ 6 13 17]\n",
            " [ 9 14 12]]\n"
          ]
        }
      ]
    },
    {
      "cell_type": "markdown",
      "source": [
        "## delete(array,index)"
      ],
      "metadata": {
        "id": "SsQYGwQJw-Hk"
      }
    },
    {
      "cell_type": "code",
      "source": [
        "# delete\n",
        "\n",
        "a = np.arange(1,20)\n",
        "print(a)\n",
        "\n",
        "np.delete(a,[0,1,2]) # <--- delete item of that index -> temp\n",
        "\n",
        "print(a)"
      ],
      "metadata": {
        "colab": {
          "base_uri": "https://localhost:8080/"
        },
        "id": "xghDlVoNFcS_",
        "outputId": "89af93b3-8f24-4c00-a99e-5b9519556eee"
      },
      "execution_count": null,
      "outputs": [
        {
          "output_type": "stream",
          "name": "stdout",
          "text": [
            "[ 1  2  3  4  5  6  7  8  9 10 11 12 13 14 15 16 17 18 19]\n",
            "[ 1  2  3  4  5  6  7  8  9 10 11 12 13 14 15 16 17 18 19]\n"
          ]
        }
      ]
    },
    {
      "cell_type": "markdown",
      "source": [
        "# *Other utility functions*"
      ],
      "metadata": {
        "id": "ZgVF7h1mwfdV"
      }
    },
    {
      "cell_type": "markdown",
      "source": [
        "### *round/floor/ceil*"
      ],
      "metadata": {
        "id": "FGsuqZksWN7p"
      }
    },
    {
      "cell_type": "code",
      "source": [
        "import numpy as np\n",
        "a = np.random.random((3,4))*100\n",
        "print(a)\n",
        "print('')\n",
        "# round -\n",
        "\n",
        "print(np.round(a,2)) # --> 2 decimals --> nearest integer roundoff\n",
        "print('')\n",
        "print(np.floor(a)) # ---> round to the floor integer\n",
        "print('')\n",
        "print(np.ceil(a)) # ---> round to the max integer\n",
        "print('')"
      ],
      "metadata": {
        "colab": {
          "base_uri": "https://localhost:8080/"
        },
        "id": "5-cMGbUdtiKu",
        "outputId": "509b82b8-ff06-4e01-bb28-78f2ddc9ce69"
      },
      "execution_count": null,
      "outputs": [
        {
          "output_type": "stream",
          "name": "stdout",
          "text": [
            "[[19.51980891 90.98400368 60.09213299 24.77270005]\n",
            " [57.57189611 28.47993398 83.53160589 27.60641776]\n",
            " [35.14341621 63.52137347  0.34152684 78.56081466]]\n",
            "\n",
            "[[19.52 90.98 60.09 24.77]\n",
            " [57.57 28.48 83.53 27.61]\n",
            " [35.14 63.52  0.34 78.56]]\n",
            "\n",
            "[[19. 90. 60. 24.]\n",
            " [57. 28. 83. 27.]\n",
            " [35. 63.  0. 78.]]\n",
            "\n",
            "[[20. 91. 61. 25.]\n",
            " [58. 29. 84. 28.]\n",
            " [36. 64.  1. 79.]]\n",
            "\n"
          ]
        }
      ]
    },
    {
      "cell_type": "markdown",
      "source": [
        "## *np.argmax(array,axis)/argmin()*"
      ],
      "metadata": {
        "id": "7N9CnvR-o1ou"
      }
    },
    {
      "cell_type": "code",
      "source": [
        "# np.argmax() --> returns indices of maximum element of array in perticular axis\n",
        "\n",
        "# same --> np.argmin()\n",
        "# --> generally used in 1D\n",
        "a = np.random.randint(10,30,15)\n",
        "print(a)\n",
        "b = np.argmax(a)\n",
        "print(b)\n",
        "\n",
        "a = np.random.randint(10,30,size = (4,4))\n",
        "print(a)\n",
        "\n",
        "b = np.argmax(a,axis=1) # for same returns first index\n",
        "print(b)\n",
        "\n",
        "b = np.argmax(a,axis=0) # ---> rows\n",
        "print(b)"
      ],
      "metadata": {
        "colab": {
          "base_uri": "https://localhost:8080/"
        },
        "id": "MsIIEEQxmoBA",
        "outputId": "bbf52939-4075-45f5-b9f1-f206e2000619"
      },
      "execution_count": null,
      "outputs": [
        {
          "output_type": "stream",
          "name": "stdout",
          "text": [
            "[29 27 20 19 27 22 26 18 10 12 16 12 19 20 12]\n",
            "0\n",
            "[[28 26 29 28]\n",
            " [11 26 10 18]\n",
            " [10 21 11 21]\n",
            " [28 29 28 10]]\n",
            "[2 1 1 1]\n",
            "[0 3 0 0]\n"
          ]
        }
      ]
    },
    {
      "cell_type": "markdown",
      "source": [
        "## *np.isin(array,elements)*"
      ],
      "metadata": {
        "id": "kXb5f8L_u4km"
      }
    },
    {
      "cell_type": "code",
      "source": [
        "# np.isin() ---> searches multiple items in an array\n",
        "\n",
        "a = np.arange(1,20)\n",
        "print(a)\n",
        "\n",
        "items = np.array([1,2,3,4,43])\n",
        "\n",
        "condn = np.isin(a,items)\n",
        "print(condn)\n",
        "\n",
        "a[condn] # <-- this will return what is present"
      ],
      "metadata": {
        "colab": {
          "base_uri": "https://localhost:8080/"
        },
        "id": "MCsoll4byvMI",
        "outputId": "4530ea96-9471-4263-ebf0-550788ff957d"
      },
      "execution_count": null,
      "outputs": [
        {
          "output_type": "stream",
          "name": "stdout",
          "text": [
            "[ 1  2  3  4  5  6  7  8  9 10 11 12 13 14 15 16 17 18 19]\n",
            "[ True  True  True  True False False False False False False False False\n",
            " False False False False False False False]\n"
          ]
        },
        {
          "output_type": "execute_result",
          "data": {
            "text/plain": [
              "array([1, 2, 3, 4])"
            ]
          },
          "metadata": {},
          "execution_count": 54
        }
      ]
    },
    {
      "cell_type": "markdown",
      "source": [
        "## *unique(array)*"
      ],
      "metadata": {
        "id": "tDVwhxP4oFro"
      }
    },
    {
      "cell_type": "code",
      "source": [
        "# np.unique --> unique values from array\n",
        "# https://numpy.org/devdocs//reference/generated/numpy.unique.html\n",
        "\n",
        "a = np.random.randint(1,5,15)\n",
        "print(a)\n",
        "\n",
        "unique = np.unique(a)\n",
        "print(unique)"
      ],
      "metadata": {
        "colab": {
          "base_uri": "https://localhost:8080/"
        },
        "id": "pTo5dfMuyNO6",
        "outputId": "53576ed0-7e20-4651-cc45-c811cbef5f64"
      },
      "execution_count": null,
      "outputs": [
        {
          "output_type": "stream",
          "name": "stdout",
          "text": [
            "[2 3 2 3 3 3 1 4 4 3 1 4 3 3 3]\n",
            "[1 2 3 4]\n"
          ]
        }
      ]
    },
    {
      "cell_type": "markdown",
      "source": [
        "## *clipping(array,array_min,array_max)*"
      ],
      "metadata": {
        "id": "vCRCOZEAxQKk"
      }
    },
    {
      "cell_type": "code",
      "source": [
        "# np.clip -> keeps value in range (lower value -> low value) vice verca\n",
        "\n",
        "a = np.random.randint(0,100,20)\n",
        "print(a)\n",
        "\n",
        "print(np.clip(a,a_min = 20,a_max= 50))\n",
        "# min will become 20 and max will become 50 clipped in range"
      ],
      "metadata": {
        "colab": {
          "base_uri": "https://localhost:8080/"
        },
        "id": "I_XfPnSGGy0j",
        "outputId": "a8740df5-f544-48c7-f2ed-8c04e07a8ad8"
      },
      "execution_count": null,
      "outputs": [
        {
          "output_type": "stream",
          "name": "stdout",
          "text": [
            "[75 20 57 41 18 53 99 26 78 52 34 94 76  6 56 40 51 93  6 47]\n",
            "[50 20 50 41 20 50 50 26 50 50 34 50 50 20 50 40 50 50 20 47]\n"
          ]
        }
      ]
    },
    {
      "cell_type": "markdown",
      "source": [
        "# *np.array vs list*"
      ],
      "metadata": {
        "id": "ID7Tk1ybdXhH"
      }
    },
    {
      "cell_type": "code",
      "source": [
        "import numpy as np"
      ],
      "metadata": {
        "id": "Z4RyfQc5lFgc"
      },
      "execution_count": null,
      "outputs": []
    },
    {
      "cell_type": "code",
      "source": [
        "# numpy vs python list\n",
        "\n",
        "# speed -->\n",
        "\n",
        "# list -> dynamic and referential\n",
        "\n",
        "a = [i for i in range(10000000)]\n",
        "b = [i for i in range(10000000,20000000)]\n",
        "\n",
        "import time\n",
        "\n",
        "s = time.time()\n",
        "c = []\n",
        "for i in range(len(a)):\n",
        "  c.append(a[i]+b[i])\n",
        "totl = time.time()-s\n",
        "print(totl)\n",
        "\n",
        "# numpy array --> static and non referencial\n",
        "\n",
        "a = np.arange(10000000)\n",
        "b = np.arange(10000000,20000000)\n",
        "\n",
        "s = time.time()\n",
        "c = a + b\n",
        "totla = time.time()-s\n",
        "print(totla)\n",
        "print(totl/totla)"
      ],
      "metadata": {
        "colab": {
          "base_uri": "https://localhost:8080/"
        },
        "id": "4SLb7mzIlTRU",
        "outputId": "f9d21dcb-67a7-4cae-c982-a640ee408bdf"
      },
      "execution_count": null,
      "outputs": [
        {
          "output_type": "stream",
          "name": "stdout",
          "text": [
            "2.3945977687835693\n",
            "0.192277193069458\n",
            "12.453883534271002\n"
          ]
        }
      ]
    },
    {
      "cell_type": "code",
      "source": [
        "# memory\n",
        "\n",
        "a = [i for i in range(10000000)]\n",
        "import sys\n",
        "\n",
        "print(sys.getsizeof(a))\n",
        "\n",
        "# choose datatype wisely\n",
        "a = np.arange(10000000,dtype=np.int8)\n",
        "# Range: –128 to +127\n",
        "# value_stored = (original_value % 256) - 128 (if >127)\n",
        "# wraps values modulo 256\n",
        "\n",
        "a = np.arange(10000000,dtype=np.int32)\n",
        "\n",
        "print(sys.getsizeof(a))"
      ],
      "metadata": {
        "colab": {
          "base_uri": "https://localhost:8080/"
        },
        "id": "54-wyKU1n4zz",
        "outputId": "0e106c98-2c6a-456d-ca02-c5e439c8de8c"
      },
      "execution_count": null,
      "outputs": [
        {
          "output_type": "stream",
          "name": "stdout",
          "text": [
            "89095160\n",
            "40000112\n"
          ]
        }
      ]
    },
    {
      "cell_type": "code",
      "source": [
        "# convienence --> better in writing"
      ],
      "metadata": {
        "id": "ro6wf9axoboT"
      },
      "execution_count": null,
      "outputs": []
    },
    {
      "cell_type": "markdown",
      "source": [
        "# *broadcasting*"
      ],
      "metadata": {
        "id": "9iJMxOn2d6Y_"
      }
    },
    {
      "cell_type": "code",
      "source": [
        "''' When performing element-wise operations (like addition, multiplication) on\n",
        "arrays of different shapes, NumPy automatically \"broadcasts\" the smaller array\n",
        "across the larger one to match shapes. '''"
      ],
      "metadata": {
        "id": "3unJB5YYeacO"
      },
      "execution_count": null,
      "outputs": []
    },
    {
      "cell_type": "code",
      "source": [
        "# broadcasting -->  vectorization\n",
        "\n",
        "a = np.arange(12).reshape(3,4)\n",
        "b = np.arange(12,24).reshape(3,4)\n",
        "print(a)\n",
        "print(b)\n",
        "\n",
        "# same shape addition\n",
        "print(a+b)"
      ],
      "metadata": {
        "colab": {
          "base_uri": "https://localhost:8080/"
        },
        "id": "MFs_EemGt9rt",
        "outputId": "0d1dd381-cc2d-4bd2-849c-d991e0a95f08"
      },
      "execution_count": null,
      "outputs": [
        {
          "output_type": "stream",
          "name": "stdout",
          "text": [
            "[[ 0  1  2  3]\n",
            " [ 4  5  6  7]\n",
            " [ 8  9 10 11]]\n",
            "[[12 13 14 15]\n",
            " [16 17 18 19]\n",
            " [20 21 22 23]]\n",
            "[[12 14 16 18]\n",
            " [20 22 24 26]\n",
            " [28 30 32 34]]\n"
          ]
        }
      ]
    },
    {
      "cell_type": "code",
      "source": [
        "# different shape ->\n",
        "\n",
        "a = np.arange(6).reshape(3,2)\n",
        "b = np.arange(3).reshape(3,1)\n",
        "print(a)\n",
        "print(b)\n",
        "\n",
        "print(a+b) # but how ?"
      ],
      "metadata": {
        "colab": {
          "base_uri": "https://localhost:8080/"
        },
        "id": "u10JAmuk0OZW",
        "outputId": "99203234-7754-4af2-b333-2b791d7c8d54"
      },
      "execution_count": null,
      "outputs": [
        {
          "output_type": "stream",
          "name": "stdout",
          "text": [
            "[[0 1]\n",
            " [2 3]\n",
            " [4 5]]\n",
            "[[0]\n",
            " [1]\n",
            " [2]]\n",
            "[[0 1]\n",
            " [3 4]\n",
            " [6 7]]\n"
          ]
        }
      ]
    },
    {
      "cell_type": "code",
      "source": [
        "# broadcasting --> how np treates arrays with different shape in arithm. opp\n",
        "# --> smaller is bodcasted over bigger array\n",
        "# rules ->\n",
        "\n",
        "#1. Make the 2 arrays have same dimensions -->\n",
        "#---> add new dimentions with size 1 to the head of array with the smaller dimen.\n",
        "#----> example\n",
        "    # -> (3,3) & (3) <- add 1 to head --> (3,3) & (1,3) added\n",
        "\n",
        "#2. Make the each dimension to same size ---> # (3,3) & (1,3) -> make same (3,3)\n",
        "\n",
        "#3. if dim is not 1 then it cannot be bodcastes"
      ],
      "metadata": {
        "id": "46ONjmCc0z5m"
      },
      "execution_count": null,
      "outputs": []
    },
    {
      "cell_type": "code",
      "source": [
        "a = np.arange(12).reshape(4,3) # (4,3)\n",
        "b = np.arange(3) # (3) --> (1,3) --> (4,3) --> possible\n",
        "print(a)\n",
        "print(b)\n",
        "\n",
        "print(a+b)\n"
      ],
      "metadata": {
        "colab": {
          "base_uri": "https://localhost:8080/"
        },
        "id": "HfoSirlS5MXo",
        "outputId": "5ee81f39-8b0e-4afc-ef5c-1717e1465d8c"
      },
      "execution_count": null,
      "outputs": [
        {
          "output_type": "stream",
          "name": "stdout",
          "text": [
            "[[ 0  1  2]\n",
            " [ 3  4  5]\n",
            " [ 6  7  8]\n",
            " [ 9 10 11]]\n",
            "[0 1 2]\n",
            "[[ 0  2  4]\n",
            " [ 3  5  7]\n",
            " [ 6  8 10]\n",
            " [ 9 11 13]]\n"
          ]
        }
      ]
    },
    {
      "cell_type": "code",
      "source": [
        "a = np.arange(12).reshape(3,4) # (3,4)\n",
        "b = np.arange(3) # (3) --> (1,3) --> (3,3) --> not possible\n",
        "\n",
        "print(a)\n",
        "print(b)\n",
        "\n",
        "# print(a+b)"
      ],
      "metadata": {
        "colab": {
          "base_uri": "https://localhost:8080/"
        },
        "id": "KsA8QEbC58EY",
        "outputId": "508ef881-924a-4350-c16d-b44b1151e477"
      },
      "execution_count": null,
      "outputs": [
        {
          "output_type": "stream",
          "name": "stdout",
          "text": [
            "[[ 0  1  2  3]\n",
            " [ 4  5  6  7]\n",
            " [ 8  9 10 11]]\n",
            "[0 1 2]\n"
          ]
        }
      ]
    },
    {
      "cell_type": "code",
      "source": [
        "a = np.arange(3).reshape(1,3) #(1,3) --> (3,3) -->  possible\n",
        "b = np.arange(3).reshape(3,1) # (3,1) --> (3,3) --> possible\n",
        "\n",
        "print(a)\n",
        "print(b)\n",
        "\n",
        "print(a+b)"
      ],
      "metadata": {
        "colab": {
          "base_uri": "https://localhost:8080/"
        },
        "id": "uyI8ts7f6Njf",
        "outputId": "dd4f014e-ec54-4bea-aec4-fb757ea61f53"
      },
      "execution_count": null,
      "outputs": [
        {
          "output_type": "stream",
          "name": "stdout",
          "text": [
            "[[0 1 2]]\n",
            "[[0]\n",
            " [1]\n",
            " [2]]\n",
            "[[0 1 2]\n",
            " [1 2 3]\n",
            " [2 3 4]]\n"
          ]
        }
      ]
    },
    {
      "cell_type": "code",
      "source": [
        "a = np.arange(3).reshape(1,3)\n",
        "b = np.arange(4).reshape(4,1)\n",
        "\n",
        "print(a)\n",
        "print(b)\n",
        "\n",
        "print(a+b)"
      ],
      "metadata": {
        "colab": {
          "base_uri": "https://localhost:8080/"
        },
        "id": "oFsYGXkq7CMW",
        "outputId": "23cd6959-f669-4f6c-84ed-26325ec96615"
      },
      "execution_count": null,
      "outputs": [
        {
          "output_type": "stream",
          "name": "stdout",
          "text": [
            "[[0 1 2]]\n",
            "[[0]\n",
            " [1]\n",
            " [2]\n",
            " [3]]\n",
            "[[0 1 2]\n",
            " [1 2 3]\n",
            " [2 3 4]\n",
            " [3 4 5]]\n"
          ]
        }
      ]
    },
    {
      "cell_type": "code",
      "source": [
        "a = np.arange(12).reshape(4,3)\n",
        "b = np.arange(12).reshape(3,4)\n",
        "print(a)\n",
        "print(b)\n",
        "\n",
        "# print(a+b)"
      ],
      "metadata": {
        "colab": {
          "base_uri": "https://localhost:8080/"
        },
        "id": "irfS_qem7mce",
        "outputId": "7817fc91-8564-4dc2-ae94-5296a389a8c7"
      },
      "execution_count": null,
      "outputs": [
        {
          "output_type": "stream",
          "name": "stdout",
          "text": [
            "[[ 0  1  2]\n",
            " [ 3  4  5]\n",
            " [ 6  7  8]\n",
            " [ 9 10 11]]\n",
            "[[ 0  1  2  3]\n",
            " [ 4  5  6  7]\n",
            " [ 8  9 10 11]]\n"
          ]
        }
      ]
    },
    {
      "cell_type": "markdown",
      "source": [
        "# *custom functions on np.array*"
      ],
      "metadata": {
        "id": "BZsoibeqfCKF"
      }
    },
    {
      "cell_type": "code",
      "source": [
        "''' we can create any function and give value as x = np.array and it will\n",
        "iterate over each value of the numpy array  '''"
      ],
      "metadata": {
        "id": "Q9qnZ1difH91"
      },
      "execution_count": null,
      "outputs": []
    },
    {
      "cell_type": "code",
      "source": [
        "import numpy as np\n",
        "# working with mathematical formula --> easy way\n",
        "\n",
        "\n",
        "a = np.arange(20)\n",
        "print(a)\n",
        "\n",
        "# sigmoid --> studied in logistic regression\n",
        "\n",
        "def sigmoid(array):\n",
        "  return 1/(1 + np.exp(-array))\n",
        "\n",
        "print(sigmoid(a))"
      ],
      "metadata": {
        "colab": {
          "base_uri": "https://localhost:8080/"
        },
        "id": "4eNbAoJBnAPX",
        "outputId": "8d7c233f-5230-4c35-fbf6-9ab68361856a"
      },
      "execution_count": null,
      "outputs": [
        {
          "output_type": "stream",
          "name": "stdout",
          "text": [
            "[ 0  1  2  3  4  5  6  7  8  9 10 11 12 13 14 15 16 17 18 19]\n",
            "[0.5        0.73105858 0.88079708 0.95257413 0.98201379 0.99330715\n",
            " 0.99752738 0.99908895 0.99966465 0.99987661 0.9999546  0.9999833\n",
            " 0.99999386 0.99999774 0.99999917 0.99999969 0.99999989 0.99999996\n",
            " 0.99999998 0.99999999]\n"
          ]
        }
      ]
    },
    {
      "cell_type": "code",
      "source": [
        "# mean squared error --> (loss function -> in linear regression)\n",
        "\n",
        "actual = np.random.randint(1,50,25)\n",
        "predicted = np.random.randint(1,50,25)\n",
        "\n",
        "print(actual)\n",
        "print(predicted)\n",
        "\n",
        "def mse(actual,pred):\n",
        "  return np.mean((actual - predicted)**2)\n",
        "\n",
        "print(mse(actual,predicted))"
      ],
      "metadata": {
        "colab": {
          "base_uri": "https://localhost:8080/"
        },
        "id": "B4n2dqnvs3AU",
        "outputId": "35e63cf9-1491-431f-b742-51b15fcd1a46"
      },
      "execution_count": null,
      "outputs": [
        {
          "output_type": "stream",
          "name": "stdout",
          "text": [
            "[22 29 41 11  1 45  6 13 27 30 32 13 49 30 39  3 11 19 32  5 43  8 18 19\n",
            "  2]\n",
            "[16 37 15 31 38 16 45 20 41  5 37 32 47 18 34  8 12 47 10 19  2  1 33 28\n",
            " 26]\n",
            "417.52\n"
          ]
        }
      ]
    },
    {
      "cell_type": "code",
      "source": [
        "# binary cross entropy ----> logistic regression\n",
        "\n",
        "# Generate actual values (0 or 1)\n",
        "actual = np.random.randint(0, 2, 25)\n",
        "\n",
        "# Generate predicted probabilities between 0 and 1\n",
        "pred = np.random.rand(25)\n",
        "\n",
        "print(actual)\n",
        "print(pred)\n",
        "\n",
        "def blf(actual,predicted):\n",
        "  return -np.mean((actual*np.log(predicted)) + ((1 - actual) * np.log(1-predicted)))\n",
        "\n",
        "print(blf(actual,pred))"
      ],
      "metadata": {
        "colab": {
          "base_uri": "https://localhost:8080/"
        },
        "id": "HXzdDdlDvWe5",
        "outputId": "fa2f43ef-1d7a-421d-a4e0-8dcc924e5095"
      },
      "execution_count": null,
      "outputs": [
        {
          "output_type": "stream",
          "name": "stdout",
          "text": [
            "[0 0 0 0 1 0 1 1 0 1 1 1 0 0 0 0 1 0 1 0 1 1 0 1 1]\n",
            "[0.73386658 0.0176948  0.17964016 0.64609994 0.71417367 0.0684745\n",
            " 0.30550624 0.19353768 0.08382216 0.16823174 0.80280436 0.04117042\n",
            " 0.26284231 0.83140126 0.43282509 0.03252912 0.42523395 0.32533463\n",
            " 0.76436068 0.39706838 0.78511715 0.93058544 0.68995514 0.2020719\n",
            " 0.71744144]\n",
            "0.7687357268496819\n"
          ]
        }
      ]
    },
    {
      "cell_type": "markdown",
      "source": [
        "# *working with missing values*"
      ],
      "metadata": {
        "id": "_TBbEOtifqH8"
      }
    },
    {
      "cell_type": "code",
      "source": [
        "''' In NumPy, np.nan is a special float value used to represent missing numerical\n",
        "data, while Python’s None is a general-purpose null value used everywhere.\n",
        "When performing numerical operations, np.nan propagates without errors, but None\n",
        "causes a TypeError because it’s not numeric.\n",
        "Also, arrays with np.nan have dtype float, whereas arrays with None have dtype\n",
        "object. '''"
      ],
      "metadata": {
        "id": "-Y9-UiZxg8Pa"
      },
      "execution_count": null,
      "outputs": []
    },
    {
      "cell_type": "code",
      "source": [
        "# working with missing values --->\n",
        "\n",
        "a = np.array([1,2,3,4,4,5,np.nan,6])\n",
        "print(a)  # none and nan is different --> missing values -> nan\n",
        "\n",
        "# how to remove missing values\n",
        "\n",
        "np.isnan(a) # ---> bool array\n",
        "a = a[~(np.isnan(a))] #--> filtering non nan values\n",
        "\n",
        "print(a)"
      ],
      "metadata": {
        "colab": {
          "base_uri": "https://localhost:8080/"
        },
        "id": "JX98pp7wy5dz",
        "outputId": "969b96d6-7d82-465d-d9d0-65c5ae7defe6"
      },
      "execution_count": null,
      "outputs": [
        {
          "output_type": "stream",
          "name": "stdout",
          "text": [
            "[ 1.  2.  3.  4.  4.  5. nan  6.]\n",
            "[1. 2. 3. 4. 4. 5. 6.]\n"
          ]
        }
      ]
    },
    {
      "cell_type": "markdown",
      "source": [
        "# *working with graphs*"
      ],
      "metadata": {
        "id": "zn-LWSLahMfK"
      }
    },
    {
      "cell_type": "code",
      "source": [
        "# plotting graph\n",
        "\n",
        "# x = y\n",
        "\n",
        "x = np.linspace(-10,10,100)\n",
        "print(x)\n",
        "y = x\n",
        "\n",
        "import matplotlib.pyplot as plt\n",
        "\n",
        "plt.plot(x,y)"
      ],
      "metadata": {
        "colab": {
          "base_uri": "https://localhost:8080/",
          "height": 794
        },
        "id": "YyDXffYvz-dq",
        "outputId": "e3d4bdd6-3229-4a51-b3ac-ebd5fce58616"
      },
      "execution_count": null,
      "outputs": [
        {
          "output_type": "stream",
          "name": "stdout",
          "text": [
            "[-10.          -9.7979798   -9.5959596   -9.39393939  -9.19191919\n",
            "  -8.98989899  -8.78787879  -8.58585859  -8.38383838  -8.18181818\n",
            "  -7.97979798  -7.77777778  -7.57575758  -7.37373737  -7.17171717\n",
            "  -6.96969697  -6.76767677  -6.56565657  -6.36363636  -6.16161616\n",
            "  -5.95959596  -5.75757576  -5.55555556  -5.35353535  -5.15151515\n",
            "  -4.94949495  -4.74747475  -4.54545455  -4.34343434  -4.14141414\n",
            "  -3.93939394  -3.73737374  -3.53535354  -3.33333333  -3.13131313\n",
            "  -2.92929293  -2.72727273  -2.52525253  -2.32323232  -2.12121212\n",
            "  -1.91919192  -1.71717172  -1.51515152  -1.31313131  -1.11111111\n",
            "  -0.90909091  -0.70707071  -0.50505051  -0.3030303   -0.1010101\n",
            "   0.1010101    0.3030303    0.50505051   0.70707071   0.90909091\n",
            "   1.11111111   1.31313131   1.51515152   1.71717172   1.91919192\n",
            "   2.12121212   2.32323232   2.52525253   2.72727273   2.92929293\n",
            "   3.13131313   3.33333333   3.53535354   3.73737374   3.93939394\n",
            "   4.14141414   4.34343434   4.54545455   4.74747475   4.94949495\n",
            "   5.15151515   5.35353535   5.55555556   5.75757576   5.95959596\n",
            "   6.16161616   6.36363636   6.56565657   6.76767677   6.96969697\n",
            "   7.17171717   7.37373737   7.57575758   7.77777778   7.97979798\n",
            "   8.18181818   8.38383838   8.58585859   8.78787879   8.98989899\n",
            "   9.19191919   9.39393939   9.5959596    9.7979798   10.        ]\n"
          ]
        },
        {
          "output_type": "execute_result",
          "data": {
            "text/plain": [
              "[<matplotlib.lines.Line2D at 0x791d5e3e2f60>]"
            ]
          },
          "metadata": {},
          "execution_count": 46
        },
        {
          "output_type": "display_data",
          "data": {
            "text/plain": [
              "<Figure size 640x480 with 1 Axes>"
            ],
            "image/png": "[encoded data removed]"
          },
          "metadata": {}
        }
      ]
    },
    {
      "cell_type": "code",
      "source": [
        "y = x**2\n",
        "\n",
        "plt.plot(x,y)"
      ],
      "metadata": {
        "colab": {
          "base_uri": "https://localhost:8080/",
          "height": 447
        },
        "id": "gS4PZp7W1wAg",
        "outputId": "4b2d17fe-c37f-4676-8153-4c6341e11aae"
      },
      "execution_count": null,
      "outputs": [
        {
          "output_type": "execute_result",
          "data": {
            "text/plain": [
              "[<matplotlib.lines.Line2D at 0x791d2716d910>]"
            ]
          },
          "metadata": {},
          "execution_count": 47
        },
        {
          "output_type": "display_data",
          "data": {
            "text/plain": [
              "<Figure size 640x480 with 1 Axes>"
            ],
            "image/png": "[encoded data removed]"
          },
          "metadata": {}
        }
      ]
    },
    {
      "cell_type": "code",
      "source": [
        "y = np.sin(x)\n",
        "\n",
        "plt.plot(x,y)"
      ],
      "metadata": {
        "colab": {
          "base_uri": "https://localhost:8080/",
          "height": 447
        },
        "id": "Q_GH81AG18P_",
        "outputId": "be463a3f-aca5-458c-856e-ffde01a17bb4"
      },
      "execution_count": null,
      "outputs": [
        {
          "output_type": "execute_result",
          "data": {
            "text/plain": [
              "[<matplotlib.lines.Line2D at 0x791d0c468410>]"
            ]
          },
          "metadata": {},
          "execution_count": 48
        },
        {
          "output_type": "display_data",
          "data": {
            "text/plain": [
              "<Figure size 640x480 with 1 Axes>"
            ],
            "image/png": "[encoded data removed]"
          },
          "metadata": {}
        }
      ]
    },
    {
      "cell_type": "code",
      "source": [
        "y = x * np.log(x)\n",
        "\n",
        "plt.plot(x,y)"
      ],
      "metadata": {
        "colab": {
          "base_uri": "https://localhost:8080/",
          "height": 482
        },
        "id": "7ZEMv6_62Jfm",
        "outputId": "cebea5ee-cb36-4419-d5af-572373468562"
      },
      "execution_count": null,
      "outputs": [
        {
          "output_type": "stream",
          "name": "stderr",
          "text": [
            "/tmp/ipython-input-2203511107.py:1: RuntimeWarning: invalid value encountered in log\n",
            "  y = x * np.log(x)\n"
          ]
        },
        {
          "output_type": "execute_result",
          "data": {
            "text/plain": [
              "[<matplotlib.lines.Line2D at 0x791d0c4eb710>]"
            ]
          },
          "metadata": {},
          "execution_count": 49
        },
        {
          "output_type": "display_data",
          "data": {
            "text/plain": [
              "<Figure size 640x480 with 1 Axes>"
            ],
            "image/png": "[encoded data removed]"
          },
          "metadata": {}
        }
      ]
    },
    {
      "cell_type": "code",
      "source": [
        "y = 1/(1 + np.exp(-x))\n",
        "\n",
        "plt.plot(x,y)\n",
        "plt.xlabel('this is x')\n",
        "plt.title('This is the sigmoid')"
      ],
      "metadata": {
        "colab": {
          "base_uri": "https://localhost:8080/",
          "height": 489
        },
        "id": "-5IbfJHG2VfH",
        "outputId": "5a70a00a-fd95-4bdc-fc1c-e964c594fa34"
      },
      "execution_count": null,
      "outputs": [
        {
          "output_type": "execute_result",
          "data": {
            "text/plain": [
              "Text(0.5, 1.0, 'This is the sigmoid')"
            ]
          },
          "metadata": {},
          "execution_count": 53
        },
        {
          "output_type": "display_data",
          "data": {
            "text/plain": [
              "<Figure size 640x480 with 1 Axes>"
            ],
            "image/png": "[encoded data removed]"
          },
          "metadata": {}
        }
      ]
    },
    {
      "cell_type": "code",
      "source": [],
      "metadata": {
        "colab": {
          "base_uri": "https://localhost:8080/"
        },
        "id": "_vo-8UxhByVS",
        "outputId": "778e8e6c-8e3c-44f6-d10a-b6a5a1ad4308"
      },
      "execution_count": null,
      "outputs": [
        {
          "output_type": "stream",
          "name": "stdout",
          "text": [
            "[ 1  2  3  4  5  6  7  8  9 10 11 12 13 14 15 16 17 18 19]\n",
            "[ True  True  True  True False False False False False False False False\n",
            " False False False False False False False]\n"
          ]
        },
        {
          "output_type": "execute_result",
          "data": {
            "text/plain": [
              "array([1, 2, 3, 4])"
            ]
          },
          "metadata": {},
          "execution_count": 98
        }
      ]
    }
  ]
}