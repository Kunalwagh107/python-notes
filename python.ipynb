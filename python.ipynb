{
  "nbformat": 4,
  "nbformat_minor": 0,
  "metadata": {
    "colab": {
      "provenance": [],
      "collapsed_sections": [
        "O6754IE-GleR",
        "2PQnaoxehIA9",
        "DjzBzCaIjHrW",
        "jr6fbyszARF6",
        "e8smOpRvBKEo",
        "Ut4tMUnxIv_w",
        "0ej3C0xhD4DF",
        "kuZSIkhSFbtn",
        "IrirEb7vMTLC",
        "gFHcmrTQJ3xK",
        "ujXTL9wBNzk_",
        "JbYBLLk6CdP0",
        "FEW9SbsiTNOs",
        "qCmHXgOpViup",
        "pGAS9nJsXQ5X",
        "X4N7s3Bve38d",
        "VefPdhimi_zE",
        "yCOaNu9yzldQ",
        "JDsZ8thKLGNv",
        "39Qy_1R5Dxcw",
        "9ROFAOKfLRIO",
        "Y1iTfxX6lele",
        "6xGFqClG7e1D",
        "hqXeF7diJJD0",
        "3QcMVbTitqMo",
        "WFQh0oX8xPjV",
        "u105c7S3yRRi",
        "7BWei6c857Lp",
        "6ZSCKHxW6DrN",
        "QktsnWBt6hnR",
        "w1R7nnEb7Oz4",
        "o11EyV5o-2gz",
        "dE9jdxS__VuK",
        "2nkF_FUNSiy1",
        "bW_cBefUvn04",
        "b9yDujITbp9l",
        "6XeCXX1hWLnm"
      ],
      "toc_visible": true,
      "authorship_tag": "ABX9TyMliLzsif4/IIPxKJA6Ai2z",
      "include_colab_link": true
    },
    "kernelspec": {
      "name": "python3",
      "display_name": "Python 3"
    },
    "language_info": {
      "name": "python"
    }
  },
  "cells": [
    {
      "cell_type": "markdown",
      "metadata": {
        "id": "view-in-github",
        "colab_type": "text"
      },
      "source": [
        "<a href=\"https://colab.research.google.com/github/Kunalwagh107/python-notes/blob/main/python.ipynb\" target=\"_parent\"><img src=\"https://colab.research.google.com/assets/colab-badge.svg\" alt=\"Open In Colab\"/></a>"
      ]
    },
    {
      "cell_type": "markdown",
      "source": [
        "# *Python*"
      ],
      "metadata": {
        "id": "O6754IE-GleR"
      }
    },
    {
      "cell_type": "markdown",
      "source": [
        "## *- dynamically typed language*"
      ],
      "metadata": {
        "id": "2PQnaoxehIA9"
      }
    },
    {
      "cell_type": "code",
      "source": [
        "# Type of variable is decided at runtime\n",
        "a = 1 # ---> int\n",
        "s = 'Kunal' # -----> string\n",
        "\n",
        "\n",
        "# ---> variable can change type anytime\n",
        "a = 'string'  # ---> earlier a was int not as string\n",
        "\n",
        "#------------------------------------------------------------------------------\n",
        "\n",
        "# strongly (python) and weakly typed (javascript) language\n",
        "\n",
        "x = '5'\n",
        "y = 2\n",
        "\n",
        "# print(x+y) #-> this will throw error in python but in js it will not return 52\n"
      ],
      "metadata": {
        "id": "Ps_hc0J6g_rJ"
      },
      "execution_count": null,
      "outputs": []
    },
    {
      "cell_type": "markdown",
      "source": [
        "## *- interpreted Language*"
      ],
      "metadata": {
        "id": "DjzBzCaIjHrW"
      }
    },
    {
      "cell_type": "code",
      "source": [
        "# ---> code is executed line by line at runtime\n",
        "#----> slower but easier to debug\n",
        "\n",
        "# Compiled Language\n",
        "# --> take whole program as input --> binary\n",
        "\n",
        "# Compiled → RAM has machine code → CPU executes directly.\n",
        "# Interpreted → RAM has int. + bytecode → int. translates on the fly for CPU."
      ],
      "metadata": {
        "id": "sZrkAjMwjNvw"
      },
      "execution_count": null,
      "outputs": []
    },
    {
      "cell_type": "markdown",
      "source": [
        "## *- pep 8*"
      ],
      "metadata": {
        "id": "jr6fbyszARF6"
      }
    },
    {
      "cell_type": "code",
      "source": [
        "# https://realpython.com/python-pep8/#:~:text=PEP%208%2C%20sometimes%20spelled%20PEP8%2C%20and%20consistency%20of%20Python%20code\n",
        "\n",
        "# this file is to show what is the basic notation to write python program\n",
        "\n",
        "#==============================================================================\n",
        "# give clear names -->\n",
        "\n",
        "# ---> not recommended\n",
        "x = \"John Smith\"\n",
        "y, z = x.split()\n",
        "print(f\"{z}, {y}\")\n",
        "#------------------------------------------------\n",
        "def db(x):\n",
        "    return x * 2\n",
        "#------------------------------------------------\n",
        "# ---> recommended approch\n",
        "name = \"John Smith\"\n",
        "first_name, last_name = name.split()\n",
        "print(f\"{last_name}, {first_name}\")\n",
        "#-------------------------------------------------\n",
        "def multiply_by_two(x):\n",
        "    return x * 2\n",
        "#===============================================================================\n",
        "# two lines for class sepration and one line for method sepration within the class\n",
        "#==============================================================================\n",
        "# choose any one of those format and stick to it --->\n",
        "list_of_numbers = [\n",
        "    1, 2, 3,\n",
        "    4, 5, 6,\n",
        "    7, 8, 9\n",
        "    ]\n",
        "\n",
        "list_of_numbers = [\n",
        "    1, 2, 3,\n",
        "    4, 5, 6,\n",
        "    7, 8, 9\n",
        "]\n",
        "#==============================================================================\n",
        "# ✅ Recommended\n",
        "def function(default_parameter=5): # <--- gap between operators\n",
        "    pass\n",
        "\n",
        "# ❌ Not recommended\n",
        "def function(default_parameter = 5):\n",
        "    pass\n",
        "#--------------------------------------------------------------\n",
        "# ✅ Recommended\n",
        "y = x**2 + 5\n",
        "z = (x+y) * (x-y)\n",
        "\n",
        "# ❌ Not recommended\n",
        "y = x ** 2 + 5\n",
        "z = (x + y) * (x - y)\n",
        "#==============================================================================\n",
        "\n",
        "# ✅ Recommended\n",
        "numbers = [1, 2, 3]\n",
        "\n",
        "# ❌ Not recommended\n",
        "numbers = [ 1, 2, 3, ]   # <---- widespaces Immediately inside parentheses, brackets, or braces\n",
        "\n",
        "#==============================================================================\n",
        "x = 5\n",
        "y = 6\n",
        "\n",
        "# ✅ Recommended\n",
        "print(x, y)\n",
        "\n",
        "# ❌ Not recommended Before a comma, semicolon, or colon\n",
        "print(x , y)\n",
        "\n",
        "#==============================================================================\n",
        "\n",
        "def double(x):\n",
        "    return x * 2\n",
        "\n",
        "# ✅ Recommended\n",
        "double(3)\n",
        "\n",
        "# ❌ Not recommended --> Before the opening parenthesis that starts the argument list of a function call\n",
        "double (3)\n",
        "\n",
        "#=============================================================================="
      ],
      "metadata": {
        "id": "GH6G355-AT7y"
      },
      "execution_count": null,
      "outputs": []
    },
    {
      "cell_type": "markdown",
      "source": [
        "## *- zen of python*"
      ],
      "metadata": {
        "id": "e8smOpRvBKEo"
      }
    },
    {
      "cell_type": "code",
      "source": [
        "# https://inventwithpython.com/blog/zen-of-python-explained.html\n",
        "\n",
        "import this"
      ],
      "metadata": {
        "colab": {
          "base_uri": "https://localhost:8080/"
        },
        "id": "-sFc70gPBNgB",
        "outputId": "a6f0ebc9-5c30-47d3-e97c-55bcf42c944f"
      },
      "execution_count": null,
      "outputs": [
        {
          "output_type": "stream",
          "name": "stdout",
          "text": [
            "The Zen of Python, by Tim Peters\n",
            "\n",
            "Beautiful is better than ugly.\n",
            "Explicit is better than implicit.\n",
            "Simple is better than complex.\n",
            "Complex is better than complicated.\n",
            "Flat is better than nested.\n",
            "Sparse is better than dense.\n",
            "Readability counts.\n",
            "Special cases aren't special enough to break the rules.\n",
            "Although practicality beats purity.\n",
            "Errors should never pass silently.\n",
            "Unless explicitly silenced.\n",
            "In the face of ambiguity, refuse the temptation to guess.\n",
            "There should be one-- and preferably only one --obvious way to do it.\n",
            "Although that way may not be obvious at first unless you're Dutch.\n",
            "Now is better than never.\n",
            "Although never is often better than *right* now.\n",
            "If the implementation is hard to explain, it's a bad idea.\n",
            "If the implementation is easy to explain, it may be a good idea.\n",
            "Namespaces are one honking great idea -- let's do more of those!\n"
          ]
        }
      ]
    },
    {
      "cell_type": "markdown",
      "source": [
        "## *- operator precedence*"
      ],
      "metadata": {
        "id": "Ut4tMUnxIv_w"
      }
    },
    {
      "cell_type": "code",
      "source": [
        "# https://www.programiz.com/python-programming/precedence-associativity"
      ],
      "metadata": {
        "id": "fDRV3gjVIvdI"
      },
      "execution_count": null,
      "outputs": []
    },
    {
      "cell_type": "markdown",
      "source": [
        "## *- disadvantages of python*"
      ],
      "metadata": {
        "id": "spR6kPNPL7qR"
      }
    },
    {
      "cell_type": "code",
      "source": [
        "#https://www.geeksforgeeks.org/python/disadvantages-of-python/"
      ],
      "metadata": {
        "id": "HuyEfMYWL6_S"
      },
      "execution_count": null,
      "outputs": []
    },
    {
      "cell_type": "markdown",
      "source": [
        "## *- print*"
      ],
      "metadata": {
        "id": "-G-2p5XIJnxd"
      }
    },
    {
      "cell_type": "code",
      "execution_count": null,
      "metadata": {
        "id": "gpGdA629i9uZ",
        "colab": {
          "base_uri": "https://localhost:8080/"
        },
        "outputId": "fe8a1411-812b-4acf-ecc3-1e604149b553"
      },
      "outputs": [
        {
          "output_type": "stream",
          "name": "stdout",
          "text": [
            "Kunal\n",
            "7\n",
            "0.5\n",
            "True\n",
            "Hello 3 4.5 True\n"
          ]
        }
      ],
      "source": [
        "#Case sensitive language\n",
        "\n",
        "print('Kunal') # inverted comma for string\n",
        "\n",
        "print(7)  # can print anything\n",
        "print(0.5)\n",
        "print(True)\n",
        "\n",
        "print(\"Hello\",3,4.5,True) # seperated by space by default and /n as end"
      ]
    },
    {
      "cell_type": "code",
      "source": [
        "# if we want to change the seprate and end  -\n",
        "print(1,2,3,4,5,6,7,8,9,30,sep=\"+\",end=\" \")\n",
        "print('Kunal')"
      ],
      "metadata": {
        "colab": {
          "base_uri": "https://localhost:8080/"
        },
        "id": "X_dPdwayHX9T",
        "outputId": "916376a0-7554-4147-e88b-9320ba33e29a"
      },
      "execution_count": null,
      "outputs": [
        {
          "output_type": "stream",
          "name": "stdout",
          "text": [
            "1+2+3+4+5+6+7+8+9+30 Kunal\n"
          ]
        }
      ]
    },
    {
      "cell_type": "markdown",
      "source": [
        "## *- module vs Package vs Libarary* - Pending"
      ],
      "metadata": {
        "id": "nPbEU9hADWt-"
      }
    },
    {
      "cell_type": "code",
      "source": [],
      "metadata": {
        "id": "VtdcWfJaDeLR"
      },
      "execution_count": null,
      "outputs": []
    },
    {
      "cell_type": "markdown",
      "source": [
        "## *- why 0.3 - 0.2 is not equal to 0.1 in Python*"
      ],
      "metadata": {
        "id": "0ej3C0xhD4DF"
      }
    },
    {
      "cell_type": "code",
      "source": [
        "#---> due to the way floting point numbers are represented and handled in system\n",
        "#-->many decimal cannot be stored exactly as finite binary fraction->approximate\n",
        "\n",
        "print(0.3 - 0.2)  # yields 0.09999999999999998 instead of 0.1\n",
        "\n",
        "# fundamental limitation of floting point arithematic by IEEE 754\n",
        "\n",
        "# to handle round them --->\n",
        "round(0.3 - 0.2, 10) == 0.1  # True"
      ],
      "metadata": {
        "colab": {
          "base_uri": "https://localhost:8080/"
        },
        "id": "UBJl8lniD8dW",
        "outputId": "663eaa09-b7ee-429d-bed1-025c227989bb"
      },
      "execution_count": null,
      "outputs": [
        {
          "output_type": "stream",
          "name": "stdout",
          "text": [
            "0.09999999999999998\n"
          ]
        },
        {
          "output_type": "execute_result",
          "data": {
            "text/plain": [
              "True"
            ]
          },
          "metadata": {},
          "execution_count": 8
        }
      ]
    },
    {
      "cell_type": "markdown",
      "source": [
        "## *- aliasing* , *shallow copy* and *deep copy*"
      ],
      "metadata": {
        "id": "kuZSIkhSFbtn"
      }
    },
    {
      "cell_type": "code",
      "source": [
        "# aliasing\n",
        "\n",
        "'''\n",
        "aliasing means multiple variable names or references point to the exact same\n",
        "object in memory, and mutations via one alias affect all aliases\n",
        "\n",
        "'''\n",
        "a = 1\n",
        "b = a # aliasing\n",
        "c = b\n",
        "\n",
        "print(id(a)) # pointing at address 10757736\n",
        "print(id(b))\n",
        "print(id(c))\n",
        "print(id(1))\n",
        "\n",
        "del a #---> This basically deletes reference of a to the value 1 not the value 1\n",
        "print(b) # it will still print\n",
        "del b\n",
        "print(c)\n",
        "\n",
        "# mutation of 1 ailas affects others\n",
        "\n",
        "a = [1,2,3]\n",
        "b = a\n",
        "a.append(3)\n",
        "print(b) # b gets appended --> due to ailasing --> same memory location shared"
      ],
      "metadata": {
        "colab": {
          "base_uri": "https://localhost:8080/"
        },
        "id": "gKnr5rkkFfqC",
        "outputId": "1c8f3b1e-5af5-4e86-81af-eab1613b036b"
      },
      "execution_count": null,
      "outputs": [
        {
          "output_type": "stream",
          "name": "stdout",
          "text": [
            "10757736\n",
            "10757736\n",
            "10757736\n",
            "10757736\n",
            "1\n",
            "1\n",
            "[1, 2, 3, 3]\n"
          ]
        }
      ]
    },
    {
      "cell_type": "code",
      "source": [
        "# shallow copy by [:] (list) or by .copy()\n",
        "\n",
        "a = [1,2,3,4]\n",
        "b = a[:] # ---> syntax for shallow copy --> copy contents to new location\n",
        "c = a.copy()\n",
        "print('id of a',id(a))\n",
        "print('id of b',id(b)) # both of them are different\n",
        "print('id of c',id(c))\n",
        "\n",
        "# any changes in a will not change anything in b or c\n",
        "a.append('Kunal')\n",
        "print(a)\n",
        "print(b)\n",
        "print(c)\n",
        "\n",
        "print('-'*50)\n",
        "#-------------------------------------------------------------------------------\n",
        "# deep copy\n",
        "\n",
        "# problem with shallow copy ---> for nested objects refrences are passed same\n",
        "\n",
        "a = [1,3,[300,400]]\n",
        "b = a.copy()\n",
        "\n",
        "print(id(a),id(a[-1][0]))\n",
        "print(id(b),id(b[-1][0]))\n",
        "\n",
        "# if we change\n",
        "\n",
        "a[-1][0] = 999\n",
        "print(b) # nested element of b also gets changed\n",
        "\n",
        "# for that we need to make deep copy\n",
        "\n",
        "import copy\n",
        "\n",
        "b = copy.deepcopy(a)\n",
        "a[-1][0] = 786\n",
        "print(a) # a will get changed\n",
        "print(b) # b will not change due to deep copy\n"
      ],
      "metadata": {
        "colab": {
          "base_uri": "https://localhost:8080/"
        },
        "id": "OAGA5GI6G4mJ",
        "outputId": "6e53c882-8213-46fc-87e0-964b696cde0c"
      },
      "execution_count": null,
      "outputs": [
        {
          "output_type": "stream",
          "name": "stdout",
          "text": [
            "id of a 139030107309952\n",
            "id of b 139030107309504\n",
            "id of c 139030107322240\n",
            "[1, 2, 3, 4, 'Kunal']\n",
            "[1, 2, 3, 4]\n",
            "[1, 2, 3, 4]\n",
            "--------------------------------------------------\n",
            "139030107892800 139030107217968\n",
            "139030107324032 139030107217968\n",
            "[1, 3, [999, 400]]\n",
            "[1, 3, [786, 400]]\n",
            "[1, 3, [999, 400]]\n"
          ]
        }
      ]
    },
    {
      "cell_type": "markdown",
      "source": [
        "## *- garbage collection*"
      ],
      "metadata": {
        "id": "IrirEb7vMTLC"
      }
    },
    {
      "cell_type": "code",
      "source": [
        "# automatic memory managt.--> frees up space occupied by removing obj. no in use\n",
        "\n",
        "# 1. -----> refrence counting\n",
        "\n",
        "import sys\n",
        "x = [1, 2, 3]\n",
        "print(sys.getrefcount(x))  # Output: 2 (x itself + getrefcount parameter)\n",
        "\n",
        "y = x  # Reference count increases\n",
        "print(sys.getrefcount(x))  # Output: 3\n",
        "\n",
        "del y  # Reference count decreases\n",
        "print(sys.getrefcount(x))  # Output: 2\n",
        "\n",
        "# when reaches to zero --> immediately deallocated\n",
        "\n",
        "#-------------------------------------------------------------------------------\n",
        "#2.---> Generational Garbage collection--> cyclic-->where refrence counting fails\n",
        "\n",
        "# This creates a circular reference\n",
        "x = []\n",
        "x.append(x)  # x references itself\n",
        "del x  # Reference counting can't free this\n",
        "\n",
        "import gc\n",
        "\n",
        "# Check current object counts\n",
        "print(gc.get_count())  # (596, 2, 1)\n",
        "\n",
        "# Check thresholds\n",
        "print(gc.get_threshold())  # (700, 10, 10)\n",
        "\n",
        "# Manual garbage collection\n",
        "collected = gc.collect()\n",
        "print(f\"Collected {collected} objects\")\n",
        "\n"
      ],
      "metadata": {
        "colab": {
          "base_uri": "https://localhost:8080/"
        },
        "id": "ZL3SHrstMWtb",
        "outputId": "a8285d9b-dc1f-48f5-f6c2-d35102e0104c"
      },
      "execution_count": null,
      "outputs": [
        {
          "output_type": "stream",
          "name": "stdout",
          "text": [
            "2\n",
            "3\n",
            "2\n",
            "(411, 2, 0)\n",
            "(700, 10, 10)\n",
            "Collected 1 objects\n"
          ]
        }
      ]
    },
    {
      "cell_type": "markdown",
      "source": [
        "# *Data types*"
      ],
      "metadata": {
        "id": "gFHcmrTQJ3xK"
      }
    },
    {
      "cell_type": "code",
      "source": [
        "''' data type defines the kind of value a variable can hold and the operations\n",
        "that can be performed on it. Python is dynamically typed, meaning you don’t need\n",
        "to declare the data type explicitly — it’s determined automatically\n",
        "when you assign a value. '''"
      ],
      "metadata": {
        "id": "fKVKInD766jM"
      },
      "execution_count": null,
      "outputs": []
    },
    {
      "cell_type": "code",
      "source": [
        "# Numeric Types\n",
        "int_type = 10                     # int\n",
        "float_type = 3.14                 # float\n",
        "complex_type = 2 + 3j             # complex\n",
        "\n",
        "# Text Type\n",
        "str_type = \"Kunal\"                # str\n",
        "\n",
        "# Boolean Type\n",
        "bool_type = True                  # bool\n",
        "\n",
        "# Sequence Types\n",
        "list_type = [1, 2, 3]             # list (mutable, ordered)\n",
        "tuple_type = (1, 2, 3)            # tuple (immutable, ordered)\n",
        "range_type = range(5)             # range object (immutable sequence)\n",
        "\n",
        "# Set Types\n",
        "set_type = {1, 2, 3}              # set (unordered, no duplicates)\n",
        "frozenset_type = frozenset([1,2])# frozenset (immutable set)\n",
        "\n",
        "# Mapping Type\n",
        "dict_type = {\"name\": \"Kunal\", \"age\": 25}   # dict (key-value pairs)\n",
        "\n",
        "# Binary Types\n",
        "bytes_type = b\"hello\"            # bytes (immutable)\n",
        "bytearray_type = bytearray(5)    # bytearray (mutable)\n",
        "memoryview_type = memoryview(b\"hello\") # memoryview (view of byte data)\n",
        "\n",
        "# None Type\n",
        "none_type = None                 # NoneType (represents no value)\n"
      ],
      "metadata": {
        "id": "ehtTbzxxZuCd"
      },
      "execution_count": null,
      "outputs": []
    },
    {
      "cell_type": "markdown",
      "source": [
        "# *Variables*"
      ],
      "metadata": {
        "id": "ujXTL9wBNzk_"
      }
    },
    {
      "cell_type": "code",
      "source": [
        "''' variables are names that refer to values stored in memory.\n",
        "They act like labels or containers that hold data, which you can later use or\n",
        "modify in your program '''"
      ],
      "metadata": {
        "id": "L_h_5ioI6vjr"
      },
      "execution_count": null,
      "outputs": []
    },
    {
      "cell_type": "code",
      "source": [
        "name = 'Kunal'\n",
        "a = 5\n",
        "b = 6\n",
        "print(a+b)\n",
        "\n",
        "# dynamic typing\n",
        "k = 1\n",
        "print(type(k)) # automatically detects type of input - > will print int\n",
        "\n",
        "# dynamic binding -\n",
        "print(a)\n",
        "a = 'Kunal'\n",
        "print(a)\n",
        "\n",
        "\n",
        "a,b,c = 1,2,3 #tuple unfolding\n",
        "print(a,b,c) # stylist way to represent code\n"
      ],
      "metadata": {
        "colab": {
          "base_uri": "https://localhost:8080/"
        },
        "id": "BU6M_X0fN13z",
        "outputId": "324aed9a-bd54-49f8-97f6-378e55c94763"
      },
      "execution_count": null,
      "outputs": [
        {
          "output_type": "stream",
          "name": "stdout",
          "text": [
            "11\n",
            "<class 'int'>\n",
            "5\n",
            "Kunal\n",
            "1 2 3\n"
          ]
        }
      ]
    },
    {
      "cell_type": "markdown",
      "source": [
        "## *- throwaway variable => _*"
      ],
      "metadata": {
        "id": "JbYBLLk6CdP0"
      }
    },
    {
      "cell_type": "code",
      "source": [
        "# used as the variable which value you want to ignore\n",
        "\n",
        "#---> tuple unacking\n",
        "a,_,b = 'Kunal',2,'Wagh'\n",
        "print(a)\n",
        "print(b) # _ will get ignore\n",
        "\n",
        "# Loops\n",
        "for _ in range(10):\n",
        "  print(_) # or we can print anything\n"
      ],
      "metadata": {
        "colab": {
          "base_uri": "https://localhost:8080/"
        },
        "id": "eXatUecrCipm",
        "outputId": "f8789532-1f2e-4d86-df5e-188449c5bd7b"
      },
      "execution_count": null,
      "outputs": [
        {
          "output_type": "stream",
          "name": "stdout",
          "text": [
            "Kunal\n",
            "Wagh\n",
            "0\n",
            "1\n",
            "2\n",
            "3\n",
            "4\n",
            "5\n",
            "6\n",
            "7\n",
            "8\n",
            "9\n"
          ]
        }
      ]
    },
    {
      "cell_type": "markdown",
      "source": [
        "# *Keywords and Idenfiers*"
      ],
      "metadata": {
        "id": "FEW9SbsiTNOs"
      }
    },
    {
      "cell_type": "code",
      "source": [
        "# Keywords ->\n",
        "'''  Keywords are reserved words in Python that have a predefined meaning and\n",
        "cannot be used as variable names or identifiers '''\n",
        "import keyword\n",
        "print(keyword.kwlist)\n",
        "\n",
        "\n",
        "# Identifiers\n",
        "''' Identifiers are names you give to variables, functions, classes, or other\n",
        "objects in Python\n",
        "1. Start with a letter or underscore\n",
        "2. Use only letters, digits, and underscores\n",
        "3. Case-sensitive (data ≠ Data)\n",
        "4. Cannot use Python keywords\n",
        "\n",
        "- variables/functions: snake_case\n",
        "- classes: PascalCase\n",
        "- constants: UPPERCASE_SNAKE_CASE\n",
        "- modules/packages: lowercase, short '''"
      ],
      "metadata": {
        "colab": {
          "base_uri": "https://localhost:8080/",
          "height": 125
        },
        "id": "sG5lRpxgTSE7",
        "outputId": "758353a5-ca4b-4b39-c1ea-82aa4960d537",
        "collapsed": true
      },
      "execution_count": null,
      "outputs": [
        {
          "output_type": "stream",
          "name": "stdout",
          "text": [
            "['False', 'None', 'True', 'and', 'as', 'assert', 'async', 'await', 'break', 'class', 'continue', 'def', 'del', 'elif', 'else', 'except', 'finally', 'for', 'from', 'global', 'if', 'import', 'in', 'is', 'lambda', 'nonlocal', 'not', 'or', 'pass', 'raise', 'return', 'try', 'while', 'with', 'yield']\n"
          ]
        },
        {
          "output_type": "execute_result",
          "data": {
            "text/plain": [
              "' Identifiers are names you give to variables, functions, classes, or other \\nobjects in Python\\n1. Start with a letter or underscore\\n2. Use only letters, digits, and underscores\\n3. Case-sensitive (data ≠ Data)\\n4. Cannot use Python keywords\\n\\n- variables/functions: snake_case\\n- classes: PascalCase\\n- constants: UPPERCASE_SNAKE_CASE\\n- modules/packages: lowercase, short '"
            ],
            "application/vnd.google.colaboratory.intrinsic+json": {
              "type": "string"
            }
          },
          "metadata": {},
          "execution_count": 4
        }
      ]
    },
    {
      "cell_type": "markdown",
      "source": [
        "# *User input*"
      ],
      "metadata": {
        "id": "qCmHXgOpViup"
      }
    },
    {
      "cell_type": "code",
      "source": [
        "# user input --> always take input as string2\n",
        "\n",
        "a = int(input('Put first Number : '))\n",
        "b = int(input('Put second number : '))\n",
        "# add the variables\n",
        "a + b\n",
        "\n",
        "# print the code\n",
        "print(a+b)\n"
      ],
      "metadata": {
        "colab": {
          "base_uri": "https://localhost:8080/"
        },
        "id": "VvGoFUxNVkiJ",
        "outputId": "6329880c-8a77-4461-ec47-c70362505a23"
      },
      "execution_count": null,
      "outputs": [
        {
          "output_type": "stream",
          "name": "stdout",
          "text": [
            "Put first Number : 2\n",
            "Put second number : 2\n",
            "4\n"
          ]
        }
      ]
    },
    {
      "cell_type": "markdown",
      "source": [
        "#*Type Conversion*"
      ],
      "metadata": {
        "id": "pGAS9nJsXQ5X"
      }
    },
    {
      "cell_type": "code",
      "source": [
        "# Numeric Conversions\n",
        "print(int(3.9))           # 3\n",
        "print(float(5))           # 5.0\n",
        "print(complex(2))         # (2+0j)\n",
        "\n",
        "# String Conversions\n",
        "print(str(100))           # \"100\"\n",
        "print(str([1, 2, 3]))     # \"[1, 2, 3]\"\n",
        "\n",
        "# Boolean Conversions\n",
        "print(bool(0))            # False\n",
        "print(bool(1))            # True\n",
        "print(bool(\"\"))           # False\n",
        "print(bool(\"hello\"))      # True\n",
        "print(bool([]))           # False\n",
        "\n",
        "# List Conversion\n",
        "print(list(\"abc\"))              # ['a', 'b', 'c']\n",
        "print(list((1, 2, 3)))          # [1, 2, 3]\n",
        "print(list({10, 20}))           # [10, 20]\n",
        "print(list({\"a\": 1, \"b\": 2}))   # ['a', 'b']\n",
        "\n",
        "# Tuple Conversion\n",
        "print(tuple(\"xyz\"))            # ('x', 'y', 'z')\n",
        "print(tuple([1, 2]))           # (1, 2)\n",
        "\n",
        "# Set Conversion\n",
        "print(set([1, 2, 2, 3]))       # {1, 2, 3}\n",
        "print(set(\"hello\"))           # {'h', 'e', 'l', 'o'}\n",
        "\n",
        "# Dictionary Conversion\n",
        "print(dict([(\"a\", 1), (\"b\", 2)]))  # {'a': 1, 'b': 2}\n",
        "\n",
        "# Binary Conversions\n",
        "print(bytes(\"abc\", encoding=\"utf-8\"))     # b'abc'\n",
        "print(bytearray(\"abc\", encoding=\"utf-8\")) # bytearray(b'abc')\n",
        "print(memoryview(b\"abc\"))                 # <memory at ...>\n",
        "\n",
        "# None Type\n",
        "x = None\n",
        "print(x, type(x))                         # None <class 'NoneType'>\n"
      ],
      "metadata": {
        "id": "FOdPoX95XS0Y",
        "colab": {
          "base_uri": "https://localhost:8080/"
        },
        "outputId": "a8aa7cce-299b-445d-8c05-0fcdf8ee8884"
      },
      "execution_count": null,
      "outputs": [
        {
          "output_type": "stream",
          "name": "stdout",
          "text": [
            "3\n",
            "5.0\n",
            "(2+0j)\n",
            "100\n",
            "[1, 2, 3]\n",
            "False\n",
            "True\n",
            "False\n",
            "True\n",
            "False\n",
            "['a', 'b', 'c']\n",
            "[1, 2, 3]\n",
            "[10, 20]\n",
            "['a', 'b']\n",
            "('x', 'y', 'z')\n",
            "(1, 2)\n",
            "{1, 2, 3}\n",
            "{'l', 'h', 'o', 'e'}\n",
            "{'a': 1, 'b': 2}\n",
            "b'abc'\n",
            "bytearray(b'abc')\n",
            "<memory at 0x7cae0e62d840>\n",
            "None <class 'NoneType'>\n"
          ]
        }
      ]
    },
    {
      "cell_type": "markdown",
      "source": [
        "# *Literals*"
      ],
      "metadata": {
        "id": "X4N7s3Bve38d"
      }
    },
    {
      "cell_type": "code",
      "source": [
        "''' raw value stored in variable '''\n",
        "\n",
        "a = 2  # 2 is literal\n",
        "int_literal = 100\n",
        "float_literal = 3.14\n",
        "a = 0b1010 # binary literal 0b # hardware coding\n",
        "b = 100 # Decimal representation\n",
        "c = 0o310 # octal representation of 200\n",
        "d = 0x12c # hexadecimal representation\n",
        "print(d)\n",
        "\n",
        "# Float literal\n",
        "float_1 = 10.5\n",
        "float_2 = 1.5e2 # which is 1.5 * 10^2\n",
        "float_3 = 1.5e-2\n",
        "print(float_3)\n",
        "\n",
        "# Complex literal\n",
        "x = 5+6j\n",
        "print(x.real,x.imag)\n",
        "\n",
        "\n",
        "#sting literal\n",
        "str_single = 'Hello'\n",
        "str_double = \"World\"\n",
        "str_multiline = \"\"\"This is\n",
        "a multi-line string.\"\"\"\n",
        "raw_string = r'kunal\"\\n\"'\n",
        "\n",
        "print(raw_string)\n",
        "\n",
        "# in mathematical expression python treates bool as numbers T=1 F=2\n",
        "print(5+True)\n",
        "\n",
        "#none\n",
        "k = None # way to declair variable  - will not throw error\n",
        "\n",
        "list_literal = [1, 2, 3]\n",
        "tuple_literal = (1, 2, 3)\n",
        "dict_literal = {\"name\": \"Kunal\", \"age\": 25}\n",
        "set_literal = {1, 2, 3}\n",
        "frozenset_literal = frozenset([1, 2, 3])\n",
        "\n",
        "\n",
        "\n"
      ],
      "metadata": {
        "id": "OXIPq7Xle6A1"
      },
      "execution_count": null,
      "outputs": []
    },
    {
      "cell_type": "markdown",
      "source": [
        "# *Operaters in Python*\n",
        "\n",
        "- *arithematic*\n",
        "- *relational*\n",
        "- *logical*\n",
        "- *bitwise*\n",
        "- *assignment*\n",
        "- *membership*"
      ],
      "metadata": {
        "id": "VefPdhimi_zE"
      }
    },
    {
      "cell_type": "code",
      "source": [
        "# Arithematic\n",
        "\n",
        "print(1+2)\n",
        "print(1-4)\n",
        "print(10/3.5)\n",
        "print(10//3.5) #it just removes the decimal part - Interger division\n",
        "print(5%2) # gives remainder\n",
        "print(5**2) # Power of"
      ],
      "metadata": {
        "id": "68L3dMH-jKS8",
        "colab": {
          "base_uri": "https://localhost:8080/"
        },
        "collapsed": true,
        "outputId": "769c21b8-6bd2-40c2-9a6c-f77e545cf7af"
      },
      "execution_count": null,
      "outputs": [
        {
          "output_type": "stream",
          "name": "stdout",
          "text": [
            "3\n",
            "-3\n",
            "2.857142857142857\n",
            "2.0\n",
            "1\n",
            "25\n"
          ]
        }
      ]
    },
    {
      "cell_type": "code",
      "source": [
        "# relational Operators\n",
        "print(4>5)\n",
        "print(4<5)\n",
        "print(4<=5)\n",
        "print(4>=5)\n",
        "print(4==5)\n",
        "print(4!=5) # not equal to"
      ],
      "metadata": {
        "id": "9JDJN7DbkWfO"
      },
      "execution_count": null,
      "outputs": []
    },
    {
      "cell_type": "code",
      "source": [
        "# Logical Operator\n",
        "\n",
        "print(1 and 0) # 1 as True and 0 as False\n",
        "print(1 or 0)\n",
        "print(not 1)"
      ],
      "metadata": {
        "id": "6a5vggcTklxe",
        "colab": {
          "base_uri": "https://localhost:8080/"
        },
        "outputId": "1ab25811-7c44-447e-b360-1615a5d48f16"
      },
      "execution_count": null,
      "outputs": [
        {
          "output_type": "stream",
          "name": "stdout",
          "text": [
            "0\n",
            "1\n",
            "False\n"
          ]
        }
      ]
    },
    {
      "cell_type": "code",
      "source": [
        "# Bitwise operator  - Convert to binary and then apply the operation -\n",
        "\n",
        "print(2&3)\n",
        "# 2 = 10\n",
        "# 3 = 11\n",
        "# result = 10\n",
        "\n",
        "\n",
        "print(2 | 3)\n",
        "\n",
        "# bitwise xor - both same 0 both different 1\n",
        "print(2^3)  # 10 ^ 11 - > 01 -> 1\n",
        "\n",
        "# bitwise not ~  ~n = -(n + 1)\n",
        "print(~3)\n",
        "\n",
        "\n",
        "# bitwise left  a << n == a * (2 ** n)\n",
        "# shifts the bits of a number to the left, filling in with zeros on the right.\n",
        "print(3 << 2)\n",
        "\n",
        "\n",
        "# bitwise right\n",
        "# shifts the bits of a number to the right, discarding bits on the right and\n",
        "# filling in zeros on the left (for positive numbers).\n",
        "# a >> n == a // (2 ** n)\n",
        "print(8>>2)"
      ],
      "metadata": {
        "id": "hrdq6S-Fk2BV"
      },
      "execution_count": null,
      "outputs": []
    },
    {
      "cell_type": "code",
      "source": [
        "# Assignment operator  =\n",
        "a = 4\n",
        "a+=2 # a = a + 2\n",
        "print(a)"
      ],
      "metadata": {
        "id": "FfaXwji6nRIa",
        "colab": {
          "base_uri": "https://localhost:8080/"
        },
        "outputId": "c1e9e88b-5d86-4413-96e0-3ee188d01811"
      },
      "execution_count": null,
      "outputs": [
        {
          "output_type": "stream",
          "name": "stdout",
          "text": [
            "6\n"
          ]
        }
      ]
    },
    {
      "cell_type": "code",
      "source": [
        "# is operator  ---> checks identity --> whether 2 objects points to same memory\n",
        "\n",
        "a = 4\n",
        "b = a\n",
        "print(a is b)\n",
        "\n",
        "#-----------------------------------------------------------------------------\n",
        "\n",
        "a = [1, 2, 3]\n",
        "b = [1, 2, 3]\n",
        "print(a is b)   # False --> compares memory location\n",
        "print(a == b)   # True --> compares values\n",
        "\n",
        "print(id(a))\n",
        "print(id(b))\n",
        "\n",
        "#------> since lists are mutable, it gets stored in different memory location\n",
        "# -----> same logic for dict and sets\n",
        "\n",
        "#-----------------------------------------------------------------------------\n",
        "\n",
        "# caches small integers (usually from –5 to 256) for performance reasons.\n",
        "a = 256\n",
        "b = 256\n",
        "print(a is b)   # True\n"
      ],
      "metadata": {
        "colab": {
          "base_uri": "https://localhost:8080/"
        },
        "id": "nB45t_KvKDZF",
        "outputId": "a502d03b-46de-4720-bedf-acecfd4ac0d2"
      },
      "execution_count": null,
      "outputs": [
        {
          "output_type": "stream",
          "name": "stdout",
          "text": [
            "True\n",
            "False\n",
            "True\n",
            "137087005995968\n",
            "137087006143808\n",
            "True\n"
          ]
        }
      ]
    },
    {
      "cell_type": "code",
      "source": [
        "# membership operator  in , not in\n",
        "print(\"D\" in \"Delhi\")\n",
        "print(\"D\" not in \"delhi\")\n",
        "print(1 in [2,3,4,5,6]) # works on all data types"
      ],
      "metadata": {
        "id": "M4HGnSDlnrJD",
        "colab": {
          "base_uri": "https://localhost:8080/"
        },
        "outputId": "2ed0998e-8ec9-440f-aa03-a9bdf3c9d3d8"
      },
      "execution_count": null,
      "outputs": [
        {
          "output_type": "stream",
          "name": "stdout",
          "text": [
            "True\n",
            "True\n",
            "False\n"
          ]
        }
      ]
    },
    {
      "cell_type": "code",
      "source": [
        "# Program - Find the sum of 3 digit number entered by user\n",
        "\n",
        "\n",
        "a = int(input('Please provide valid 3 numbers'))\n",
        "\n",
        "b = a % 100 # last 2 digits 123 ---> 23\n",
        "c = a//100  # first digit 123 divided by 100 ---> 1.something ---> gives 1 1st.\n",
        "d = b//10 # second digit\n",
        "e = b%10 # third digit\n",
        "print(c+d+e)\n",
        "b = a//10 #"
      ],
      "metadata": {
        "id": "MjIFyFiYoa9Z",
        "colab": {
          "base_uri": "https://localhost:8080/"
        },
        "outputId": "b260339b-1c4c-4280-e860-90c4698aed7b"
      },
      "execution_count": null,
      "outputs": [
        {
          "output_type": "stream",
          "name": "stdout",
          "text": [
            "Please provide valid 3 numbers2\n",
            "2\n"
          ]
        }
      ]
    },
    {
      "cell_type": "markdown",
      "source": [
        "# *if-elif-else statement*"
      ],
      "metadata": {
        "id": "yCOaNu9yzldQ"
      }
    },
    {
      "cell_type": "code",
      "source": [
        "# login program\n",
        "\n",
        "# email - Kunal@gmail.com\n",
        "# pass - 123K\n",
        "# if email correct and password is wrong then re-enter password - > elif\n",
        "\n",
        "email = input('Enter the email :')\n",
        "password = input('Enter the password')\n",
        "\n",
        "if email == 'Kunal@gmail.com' and password == '123K':\n",
        "  print('Welcome')\n",
        "elif email == 'Kunal@gmail.com' and password != '123K':\n",
        "  print('Incorrect password')\n",
        "  password = input('Enter correct password')\n",
        "  if password == '123K':          # nested if-else\n",
        "    print('welcome')\n",
        "  else:\n",
        "    print('Stop spamming')\n",
        "else:\n",
        "  print('Enter correct Id and password')\n"
      ],
      "metadata": {
        "id": "TKhSa-SKzpFf"
      },
      "execution_count": null,
      "outputs": []
    },
    {
      "cell_type": "code",
      "source": [
        "# find the minimum of 3 numbers\n",
        "a = int(input('1 st num'))\n",
        "b = int(input('2 st num'))\n",
        "c = int(input('3 st num'))\n",
        "\n",
        "if a < c and a < b: # for same numbers it will be false as 5 < 5 false.\n",
        "  print('Smallest is a')\n",
        "elif b < c:\n",
        "  print('Smallest is b')\n",
        "else:\n",
        "  print('Smallest is c')"
      ],
      "metadata": {
        "id": "8IJ0VavcE5eq"
      },
      "execution_count": null,
      "outputs": []
    },
    {
      "cell_type": "markdown",
      "source": [
        "## *- ternary operator in python*"
      ],
      "metadata": {
        "id": "GI_x5hGSJGDd"
      }
    },
    {
      "cell_type": "code",
      "source": [
        "# --> one line shortcut for if-else statement\n",
        "\n",
        "x = 300\n",
        "\n",
        "result = \"even\" if x % 2 == 0 else 'odd'\n",
        "print(result)\n",
        "\n",
        "# -----------------------------------------------------------------------------\n",
        "x = 0\n",
        "result = \"Positive\" if x > 0 else \"Negative\" if x < 0 else \"Zero\" # <- nested after first else\n",
        "print(result)"
      ],
      "metadata": {
        "colab": {
          "base_uri": "https://localhost:8080/"
        },
        "id": "gSzqcuKZJH4D",
        "outputId": "688e6d8b-c99f-4c3f-896a-7ff8b6213d24"
      },
      "execution_count": null,
      "outputs": [
        {
          "output_type": "stream",
          "name": "stdout",
          "text": [
            "even\n",
            "Zero\n"
          ]
        }
      ]
    },
    {
      "cell_type": "markdown",
      "source": [
        "# *modules*"
      ],
      "metadata": {
        "id": "CR73ELEoGQGG"
      }
    },
    {
      "cell_type": "code",
      "source": [
        "''' module is a file containing Python code (functions, classes, variables,\n",
        "or runnable code) that can be imported and used in other Python programs. '''\n",
        "# math\n",
        "import math\n",
        "math.factorial(5)\n",
        "math.floor(6.778)\n",
        "math.pi"
      ],
      "metadata": {
        "id": "_qR-zCYgGS1D",
        "colab": {
          "base_uri": "https://localhost:8080/"
        },
        "outputId": "5fe79415-fd5f-444d-cd40-57f9ae9da0a1"
      },
      "execution_count": null,
      "outputs": [
        {
          "output_type": "execute_result",
          "data": {
            "text/plain": [
              "3.141592653589793"
            ]
          },
          "metadata": {},
          "execution_count": 12
        }
      ]
    },
    {
      "cell_type": "code",
      "source": [
        "#random\n",
        "\n",
        "import random\n",
        "\n",
        "random.randint(1,100)\n",
        "\n",
        "help('random')"
      ],
      "metadata": {
        "id": "lT7ImLw6Y2HX",
        "colab": {
          "base_uri": "https://localhost:8080/"
        },
        "outputId": "ac06ea23-66eb-48f7-bef8-ddcec48f4dd3",
        "collapsed": true
      },
      "execution_count": null,
      "outputs": [
        {
          "output_type": "stream",
          "name": "stdout",
          "text": [
            "Help on module random:\n",
            "\n",
            "NAME\n",
            "    random - Random variable generators.\n",
            "\n",
            "MODULE REFERENCE\n",
            "    https://docs.python.org/3.12/library/random.html\n",
            "\n",
            "    The following documentation is automatically generated from the Python\n",
            "    source files.  It may be incomplete, incorrect or include features that\n",
            "    are considered implementation detail and may vary between Python\n",
            "    implementations.  When in doubt, consult the module reference at the\n",
            "    location listed above.\n",
            "\n",
            "DESCRIPTION\n",
            "        bytes\n",
            "        -----\n",
            "               uniform bytes (values between 0 and 255)\n",
            "\n",
            "        integers\n",
            "        --------\n",
            "               uniform within range\n",
            "\n",
            "        sequences\n",
            "        ---------\n",
            "               pick random element\n",
            "               pick random sample\n",
            "               pick weighted random sample\n",
            "               generate random permutation\n",
            "\n",
            "        distributions on the real line:\n",
            "        ------------------------------\n",
            "               uniform\n",
            "               triangular\n",
            "               normal (Gaussian)\n",
            "               lognormal\n",
            "               negative exponential\n",
            "               gamma\n",
            "               beta\n",
            "               pareto\n",
            "               Weibull\n",
            "\n",
            "        distributions on the circle (angles 0 to 2pi)\n",
            "        ---------------------------------------------\n",
            "               circular uniform\n",
            "               von Mises\n",
            "\n",
            "        discrete distributions\n",
            "        ----------------------\n",
            "               binomial\n",
            "\n",
            "\n",
            "    General notes on the underlying Mersenne Twister core generator:\n",
            "\n",
            "    * The period is 2**19937-1.\n",
            "    * It is one of the most extensively tested generators in existence.\n",
            "    * The random() method is implemented in C, executes in a single Python step,\n",
            "      and is, therefore, threadsafe.\n",
            "\n",
            "CLASSES\n",
            "    _random.Random(builtins.object)\n",
            "        Random\n",
            "            SystemRandom\n",
            "\n",
            "    class Random(_random.Random)\n",
            "     |  Random(x=None)\n",
            "     |\n",
            "     |  Random number generator base class used by bound module functions.\n",
            "     |\n",
            "     |  Used to instantiate instances of Random to get generators that don't\n",
            "     |  share state.\n",
            "     |\n",
            "     |  Class Random can also be subclassed if you want to use a different basic\n",
            "     |  generator of your own devising: in that case, override the following\n",
            "     |  methods:  random(), seed(), getstate(), and setstate().\n",
            "     |  Optionally, implement a getrandbits() method so that randrange()\n",
            "     |  can cover arbitrarily large ranges.\n",
            "     |\n",
            "     |  Method resolution order:\n",
            "     |      Random\n",
            "     |      _random.Random\n",
            "     |      builtins.object\n",
            "     |\n",
            "     |  Methods defined here:\n",
            "     |\n",
            "     |  __getstate__(self)\n",
            "     |      Helper for pickle.\n",
            "     |\n",
            "     |  __init__(self, x=None)\n",
            "     |      Initialize an instance.\n",
            "     |\n",
            "     |      Optional argument x controls seeding, as for Random.seed().\n",
            "     |\n",
            "     |  __reduce__(self)\n",
            "     |      Helper for pickle.\n",
            "     |\n",
            "     |  __setstate__(self, state)\n",
            "     |\n",
            "     |  betavariate(self, alpha, beta)\n",
            "     |      Beta distribution.\n",
            "     |\n",
            "     |      Conditions on the parameters are alpha > 0 and beta > 0.\n",
            "     |      Returned values range between 0 and 1.\n",
            "     |\n",
            "     |      The mean (expected value) and variance of the random variable are:\n",
            "     |\n",
            "     |          E[X] = alpha / (alpha + beta)\n",
            "     |          Var[X] = alpha * beta / ((alpha + beta)**2 * (alpha + beta + 1))\n",
            "     |\n",
            "     |  binomialvariate(self, n=1, p=0.5)\n",
            "     |      Binomial random variable.\n",
            "     |\n",
            "     |      Gives the number of successes for *n* independent trials\n",
            "     |      with the probability of success in each trial being *p*:\n",
            "     |\n",
            "     |          sum(random() < p for i in range(n))\n",
            "     |\n",
            "     |      Returns an integer in the range:   0 <= X <= n\n",
            "     |\n",
            "     |      The mean (expected value) and variance of the random variable are:\n",
            "     |\n",
            "     |          E[X] = n * p\n",
            "     |          Var[x] = n * p * (1 - p)\n",
            "     |\n",
            "     |  choice(self, seq)\n",
            "     |      Choose a random element from a non-empty sequence.\n",
            "     |\n",
            "     |  choices(self, population, weights=None, *, cum_weights=None, k=1)\n",
            "     |      Return a k sized list of population elements chosen with replacement.\n",
            "     |\n",
            "     |      If the relative weights or cumulative weights are not specified,\n",
            "     |      the selections are made with equal probability.\n",
            "     |\n",
            "     |  expovariate(self, lambd=1.0)\n",
            "     |      Exponential distribution.\n",
            "     |\n",
            "     |      lambd is 1.0 divided by the desired mean.  It should be\n",
            "     |      nonzero.  (The parameter would be called \"lambda\", but that is\n",
            "     |      a reserved word in Python.)  Returned values range from 0 to\n",
            "     |      positive infinity if lambd is positive, and from negative\n",
            "     |      infinity to 0 if lambd is negative.\n",
            "     |\n",
            "     |      The mean (expected value) and variance of the random variable are:\n",
            "     |\n",
            "     |          E[X] = 1 / lambd\n",
            "     |          Var[X] = 1 / lambd ** 2\n",
            "     |\n",
            "     |  gammavariate(self, alpha, beta)\n",
            "     |      Gamma distribution.  Not the gamma function!\n",
            "     |\n",
            "     |      Conditions on the parameters are alpha > 0 and beta > 0.\n",
            "     |\n",
            "     |      The probability distribution function is:\n",
            "     |\n",
            "     |                  x ** (alpha - 1) * math.exp(-x / beta)\n",
            "     |        pdf(x) =  --------------------------------------\n",
            "     |                    math.gamma(alpha) * beta ** alpha\n",
            "     |\n",
            "     |      The mean (expected value) and variance of the random variable are:\n",
            "     |\n",
            "     |          E[X] = alpha * beta\n",
            "     |          Var[X] = alpha * beta ** 2\n",
            "     |\n",
            "     |  gauss(self, mu=0.0, sigma=1.0)\n",
            "     |      Gaussian distribution.\n",
            "     |\n",
            "     |      mu is the mean, and sigma is the standard deviation.  This is\n",
            "     |      slightly faster than the normalvariate() function.\n",
            "     |\n",
            "     |      Not thread-safe without a lock around calls.\n",
            "     |\n",
            "     |  getstate(self)\n",
            "     |      Return internal state; can be passed to setstate() later.\n",
            "     |\n",
            "     |  lognormvariate(self, mu, sigma)\n",
            "     |      Log normal distribution.\n",
            "     |\n",
            "     |      If you take the natural logarithm of this distribution, you'll get a\n",
            "     |      normal distribution with mean mu and standard deviation sigma.\n",
            "     |      mu can have any value, and sigma must be greater than zero.\n",
            "     |\n",
            "     |  normalvariate(self, mu=0.0, sigma=1.0)\n",
            "     |      Normal distribution.\n",
            "     |\n",
            "     |      mu is the mean, and sigma is the standard deviation.\n",
            "     |\n",
            "     |  paretovariate(self, alpha)\n",
            "     |      Pareto distribution.  alpha is the shape parameter.\n",
            "     |\n",
            "     |  randbytes(self, n)\n",
            "     |      Generate n random bytes.\n",
            "     |\n",
            "     |  randint(self, a, b)\n",
            "     |      Return random integer in range [a, b], including both end points.\n",
            "     |\n",
            "     |  randrange(self, start, stop=None, step=1)\n",
            "     |      Choose a random item from range(stop) or range(start, stop[, step]).\n",
            "     |\n",
            "     |      Roughly equivalent to ``choice(range(start, stop, step))`` but\n",
            "     |      supports arbitrarily large ranges and is optimized for common cases.\n",
            "     |\n",
            "     |  sample(self, population, k, *, counts=None)\n",
            "     |      Chooses k unique random elements from a population sequence.\n",
            "     |\n",
            "     |      Returns a new list containing elements from the population while\n",
            "     |      leaving the original population unchanged.  The resulting list is\n",
            "     |      in selection order so that all sub-slices will also be valid random\n",
            "     |      samples.  This allows raffle winners (the sample) to be partitioned\n",
            "     |      into grand prize and second place winners (the subslices).\n",
            "     |\n",
            "     |      Members of the population need not be hashable or unique.  If the\n",
            "     |      population contains repeats, then each occurrence is a possible\n",
            "     |      selection in the sample.\n",
            "     |\n",
            "     |      Repeated elements can be specified one at a time or with the optional\n",
            "     |      counts parameter.  For example:\n",
            "     |\n",
            "     |          sample(['red', 'blue'], counts=[4, 2], k=5)\n",
            "     |\n",
            "     |      is equivalent to:\n",
            "     |\n",
            "     |          sample(['red', 'red', 'red', 'red', 'blue', 'blue'], k=5)\n",
            "     |\n",
            "     |      To choose a sample from a range of integers, use range() for the\n",
            "     |      population argument.  This is especially fast and space efficient\n",
            "     |      for sampling from a large population:\n",
            "     |\n",
            "     |          sample(range(10000000), 60)\n",
            "     |\n",
            "     |  seed(self, a=None, version=2)\n",
            "     |      Initialize internal state from a seed.\n",
            "     |\n",
            "     |      The only supported seed types are None, int, float,\n",
            "     |      str, bytes, and bytearray.\n",
            "     |\n",
            "     |      None or no argument seeds from current time or from an operating\n",
            "     |      system specific randomness source if available.\n",
            "     |\n",
            "     |      If *a* is an int, all bits are used.\n",
            "     |\n",
            "     |      For version 2 (the default), all of the bits are used if *a* is a str,\n",
            "     |      bytes, or bytearray.  For version 1 (provided for reproducing random\n",
            "     |      sequences from older versions of Python), the algorithm for str and\n",
            "     |      bytes generates a narrower range of seeds.\n",
            "     |\n",
            "     |  setstate(self, state)\n",
            "     |      Restore internal state from object returned by getstate().\n",
            "     |\n",
            "     |  shuffle(self, x)\n",
            "     |      Shuffle list x in place, and return None.\n",
            "     |\n",
            "     |  triangular(self, low=0.0, high=1.0, mode=None)\n",
            "     |      Triangular distribution.\n",
            "     |\n",
            "     |      Continuous distribution bounded by given lower and upper limits,\n",
            "     |      and having a given mode value in-between.\n",
            "     |\n",
            "     |      http://en.wikipedia.org/wiki/Triangular_distribution\n",
            "     |\n",
            "     |      The mean (expected value) and variance of the random variable are:\n",
            "     |\n",
            "     |          E[X] = (low + high + mode) / 3\n",
            "     |          Var[X] = (low**2 + high**2 + mode**2 - low*high - low*mode - high*mode) / 18\n",
            "     |\n",
            "     |  uniform(self, a, b)\n",
            "     |      Get a random number in the range [a, b) or [a, b] depending on rounding.\n",
            "     |\n",
            "     |      The mean (expected value) and variance of the random variable are:\n",
            "     |\n",
            "     |          E[X] = (a + b) / 2\n",
            "     |          Var[X] = (b - a) ** 2 / 12\n",
            "     |\n",
            "     |  vonmisesvariate(self, mu, kappa)\n",
            "     |      Circular data distribution.\n",
            "     |\n",
            "     |      mu is the mean angle, expressed in radians between 0 and 2*pi, and\n",
            "     |      kappa is the concentration parameter, which must be greater than or\n",
            "     |      equal to zero.  If kappa is equal to zero, this distribution reduces\n",
            "     |      to a uniform random angle over the range 0 to 2*pi.\n",
            "     |\n",
            "     |  weibullvariate(self, alpha, beta)\n",
            "     |      Weibull distribution.\n",
            "     |\n",
            "     |      alpha is the scale parameter and beta is the shape parameter.\n",
            "     |\n",
            "     |  ----------------------------------------------------------------------\n",
            "     |  Class methods defined here:\n",
            "     |\n",
            "     |  __init_subclass__(**kwargs)\n",
            "     |      Control how subclasses generate random integers.\n",
            "     |\n",
            "     |      The algorithm a subclass can use depends on the random() and/or\n",
            "     |      getrandbits() implementation available to it and determines\n",
            "     |      whether it can generate random integers from arbitrarily large\n",
            "     |      ranges.\n",
            "     |\n",
            "     |  ----------------------------------------------------------------------\n",
            "     |  Data descriptors defined here:\n",
            "     |\n",
            "     |  __dict__\n",
            "     |      dictionary for instance variables\n",
            "     |\n",
            "     |  __weakref__\n",
            "     |      list of weak references to the object\n",
            "     |\n",
            "     |  ----------------------------------------------------------------------\n",
            "     |  Data and other attributes defined here:\n",
            "     |\n",
            "     |  VERSION = 3\n",
            "     |\n",
            "     |  ----------------------------------------------------------------------\n",
            "     |  Methods inherited from _random.Random:\n",
            "     |\n",
            "     |  getrandbits(self, k, /)\n",
            "     |      getrandbits(k) -> x.  Generates an int with k random bits.\n",
            "     |\n",
            "     |  random(self, /)\n",
            "     |      random() -> x in the interval [0, 1).\n",
            "     |\n",
            "     |  ----------------------------------------------------------------------\n",
            "     |  Static methods inherited from _random.Random:\n",
            "     |\n",
            "     |  __new__(*args, **kwargs) class method of _random.Random\n",
            "     |      Create and return a new object.  See help(type) for accurate signature.\n",
            "\n",
            "    class SystemRandom(Random)\n",
            "     |  SystemRandom(x=None)\n",
            "     |\n",
            "     |  Alternate random number generator using sources provided\n",
            "     |  by the operating system (such as /dev/urandom on Unix or\n",
            "     |  CryptGenRandom on Windows).\n",
            "     |\n",
            "     |   Not available on all systems (see os.urandom() for details).\n",
            "     |\n",
            "     |  Method resolution order:\n",
            "     |      SystemRandom\n",
            "     |      Random\n",
            "     |      _random.Random\n",
            "     |      builtins.object\n",
            "     |\n",
            "     |  Methods defined here:\n",
            "     |\n",
            "     |  getrandbits(self, k)\n",
            "     |      getrandbits(k) -> x.  Generates an int with k random bits.\n",
            "     |\n",
            "     |  getstate = _notimplemented(self, *args, **kwds)\n",
            "     |\n",
            "     |  randbytes(self, n)\n",
            "     |      Generate n random bytes.\n",
            "     |\n",
            "     |  random(self)\n",
            "     |      Get the next random number in the range 0.0 <= X < 1.0.\n",
            "     |\n",
            "     |  seed(self, *args, **kwds)\n",
            "     |      Stub method.  Not used for a system random number generator.\n",
            "     |\n",
            "     |  setstate = _notimplemented(self, *args, **kwds)\n",
            "     |\n",
            "     |  ----------------------------------------------------------------------\n",
            "     |  Methods inherited from Random:\n",
            "     |\n",
            "     |  __getstate__(self)\n",
            "     |      Helper for pickle.\n",
            "     |\n",
            "     |  __init__(self, x=None)\n",
            "     |      Initialize an instance.\n",
            "     |\n",
            "     |      Optional argument x controls seeding, as for Random.seed().\n",
            "     |\n",
            "     |  __reduce__(self)\n",
            "     |      Helper for pickle.\n",
            "     |\n",
            "     |  __setstate__(self, state)\n",
            "     |\n",
            "     |  betavariate(self, alpha, beta)\n",
            "     |      Beta distribution.\n",
            "     |\n",
            "     |      Conditions on the parameters are alpha > 0 and beta > 0.\n",
            "     |      Returned values range between 0 and 1.\n",
            "     |\n",
            "     |      The mean (expected value) and variance of the random variable are:\n",
            "     |\n",
            "     |          E[X] = alpha / (alpha + beta)\n",
            "     |          Var[X] = alpha * beta / ((alpha + beta)**2 * (alpha + beta + 1))\n",
            "     |\n",
            "     |  binomialvariate(self, n=1, p=0.5)\n",
            "     |      Binomial random variable.\n",
            "     |\n",
            "     |      Gives the number of successes for *n* independent trials\n",
            "     |      with the probability of success in each trial being *p*:\n",
            "     |\n",
            "     |          sum(random() < p for i in range(n))\n",
            "     |\n",
            "     |      Returns an integer in the range:   0 <= X <= n\n",
            "     |\n",
            "     |      The mean (expected value) and variance of the random variable are:\n",
            "     |\n",
            "     |          E[X] = n * p\n",
            "     |          Var[x] = n * p * (1 - p)\n",
            "     |\n",
            "     |  choice(self, seq)\n",
            "     |      Choose a random element from a non-empty sequence.\n",
            "     |\n",
            "     |  choices(self, population, weights=None, *, cum_weights=None, k=1)\n",
            "     |      Return a k sized list of population elements chosen with replacement.\n",
            "     |\n",
            "     |      If the relative weights or cumulative weights are not specified,\n",
            "     |      the selections are made with equal probability.\n",
            "     |\n",
            "     |  expovariate(self, lambd=1.0)\n",
            "     |      Exponential distribution.\n",
            "     |\n",
            "     |      lambd is 1.0 divided by the desired mean.  It should be\n",
            "     |      nonzero.  (The parameter would be called \"lambda\", but that is\n",
            "     |      a reserved word in Python.)  Returned values range from 0 to\n",
            "     |      positive infinity if lambd is positive, and from negative\n",
            "     |      infinity to 0 if lambd is negative.\n",
            "     |\n",
            "     |      The mean (expected value) and variance of the random variable are:\n",
            "     |\n",
            "     |          E[X] = 1 / lambd\n",
            "     |          Var[X] = 1 / lambd ** 2\n",
            "     |\n",
            "     |  gammavariate(self, alpha, beta)\n",
            "     |      Gamma distribution.  Not the gamma function!\n",
            "     |\n",
            "     |      Conditions on the parameters are alpha > 0 and beta > 0.\n",
            "     |\n",
            "     |      The probability distribution function is:\n",
            "     |\n",
            "     |                  x ** (alpha - 1) * math.exp(-x / beta)\n",
            "     |        pdf(x) =  --------------------------------------\n",
            "     |                    math.gamma(alpha) * beta ** alpha\n",
            "     |\n",
            "     |      The mean (expected value) and variance of the random variable are:\n",
            "     |\n",
            "     |          E[X] = alpha * beta\n",
            "     |          Var[X] = alpha * beta ** 2\n",
            "     |\n",
            "     |  gauss(self, mu=0.0, sigma=1.0)\n",
            "     |      Gaussian distribution.\n",
            "     |\n",
            "     |      mu is the mean, and sigma is the standard deviation.  This is\n",
            "     |      slightly faster than the normalvariate() function.\n",
            "     |\n",
            "     |      Not thread-safe without a lock around calls.\n",
            "     |\n",
            "     |  lognormvariate(self, mu, sigma)\n",
            "     |      Log normal distribution.\n",
            "     |\n",
            "     |      If you take the natural logarithm of this distribution, you'll get a\n",
            "     |      normal distribution with mean mu and standard deviation sigma.\n",
            "     |      mu can have any value, and sigma must be greater than zero.\n",
            "     |\n",
            "     |  normalvariate(self, mu=0.0, sigma=1.0)\n",
            "     |      Normal distribution.\n",
            "     |\n",
            "     |      mu is the mean, and sigma is the standard deviation.\n",
            "     |\n",
            "     |  paretovariate(self, alpha)\n",
            "     |      Pareto distribution.  alpha is the shape parameter.\n",
            "     |\n",
            "     |  randint(self, a, b)\n",
            "     |      Return random integer in range [a, b], including both end points.\n",
            "     |\n",
            "     |  randrange(self, start, stop=None, step=1)\n",
            "     |      Choose a random item from range(stop) or range(start, stop[, step]).\n",
            "     |\n",
            "     |      Roughly equivalent to ``choice(range(start, stop, step))`` but\n",
            "     |      supports arbitrarily large ranges and is optimized for common cases.\n",
            "     |\n",
            "     |  sample(self, population, k, *, counts=None)\n",
            "     |      Chooses k unique random elements from a population sequence.\n",
            "     |\n",
            "     |      Returns a new list containing elements from the population while\n",
            "     |      leaving the original population unchanged.  The resulting list is\n",
            "     |      in selection order so that all sub-slices will also be valid random\n",
            "     |      samples.  This allows raffle winners (the sample) to be partitioned\n",
            "     |      into grand prize and second place winners (the subslices).\n",
            "     |\n",
            "     |      Members of the population need not be hashable or unique.  If the\n",
            "     |      population contains repeats, then each occurrence is a possible\n",
            "     |      selection in the sample.\n",
            "     |\n",
            "     |      Repeated elements can be specified one at a time or with the optional\n",
            "     |      counts parameter.  For example:\n",
            "     |\n",
            "     |          sample(['red', 'blue'], counts=[4, 2], k=5)\n",
            "     |\n",
            "     |      is equivalent to:\n",
            "     |\n",
            "     |          sample(['red', 'red', 'red', 'red', 'blue', 'blue'], k=5)\n",
            "     |\n",
            "     |      To choose a sample from a range of integers, use range() for the\n",
            "     |      population argument.  This is especially fast and space efficient\n",
            "     |      for sampling from a large population:\n",
            "     |\n",
            "     |          sample(range(10000000), 60)\n",
            "     |\n",
            "     |  shuffle(self, x)\n",
            "     |      Shuffle list x in place, and return None.\n",
            "     |\n",
            "     |  triangular(self, low=0.0, high=1.0, mode=None)\n",
            "     |      Triangular distribution.\n",
            "     |\n",
            "     |      Continuous distribution bounded by given lower and upper limits,\n",
            "     |      and having a given mode value in-between.\n",
            "     |\n",
            "     |      http://en.wikipedia.org/wiki/Triangular_distribution\n",
            "     |\n",
            "     |      The mean (expected value) and variance of the random variable are:\n",
            "     |\n",
            "     |          E[X] = (low + high + mode) / 3\n",
            "     |          Var[X] = (low**2 + high**2 + mode**2 - low*high - low*mode - high*mode) / 18\n",
            "     |\n",
            "     |  uniform(self, a, b)\n",
            "     |      Get a random number in the range [a, b) or [a, b] depending on rounding.\n",
            "     |\n",
            "     |      The mean (expected value) and variance of the random variable are:\n",
            "     |\n",
            "     |          E[X] = (a + b) / 2\n",
            "     |          Var[X] = (b - a) ** 2 / 12\n",
            "     |\n",
            "     |  vonmisesvariate(self, mu, kappa)\n",
            "     |      Circular data distribution.\n",
            "     |\n",
            "     |      mu is the mean angle, expressed in radians between 0 and 2*pi, and\n",
            "     |      kappa is the concentration parameter, which must be greater than or\n",
            "     |      equal to zero.  If kappa is equal to zero, this distribution reduces\n",
            "     |      to a uniform random angle over the range 0 to 2*pi.\n",
            "     |\n",
            "     |  weibullvariate(self, alpha, beta)\n",
            "     |      Weibull distribution.\n",
            "     |\n",
            "     |      alpha is the scale parameter and beta is the shape parameter.\n",
            "     |\n",
            "     |  ----------------------------------------------------------------------\n",
            "     |  Class methods inherited from Random:\n",
            "     |\n",
            "     |  __init_subclass__(**kwargs)\n",
            "     |      Control how subclasses generate random integers.\n",
            "     |\n",
            "     |      The algorithm a subclass can use depends on the random() and/or\n",
            "     |      getrandbits() implementation available to it and determines\n",
            "     |      whether it can generate random integers from arbitrarily large\n",
            "     |      ranges.\n",
            "     |\n",
            "     |  ----------------------------------------------------------------------\n",
            "     |  Data descriptors inherited from Random:\n",
            "     |\n",
            "     |  __dict__\n",
            "     |      dictionary for instance variables\n",
            "     |\n",
            "     |  __weakref__\n",
            "     |      list of weak references to the object\n",
            "     |\n",
            "     |  ----------------------------------------------------------------------\n",
            "     |  Data and other attributes inherited from Random:\n",
            "     |\n",
            "     |  VERSION = 3\n",
            "     |\n",
            "     |  ----------------------------------------------------------------------\n",
            "     |  Static methods inherited from _random.Random:\n",
            "     |\n",
            "     |  __new__(*args, **kwargs) class method of _random.Random\n",
            "     |      Create and return a new object.  See help(type) for accurate signature.\n",
            "\n",
            "FUNCTIONS\n",
            "    betavariate(alpha, beta) method of Random instance\n",
            "        Beta distribution.\n",
            "\n",
            "        Conditions on the parameters are alpha > 0 and beta > 0.\n",
            "        Returned values range between 0 and 1.\n",
            "\n",
            "        The mean (expected value) and variance of the random variable are:\n",
            "\n",
            "            E[X] = alpha / (alpha + beta)\n",
            "            Var[X] = alpha * beta / ((alpha + beta)**2 * (alpha + beta + 1))\n",
            "\n",
            "    binomialvariate(n=1, p=0.5) method of Random instance\n",
            "        Binomial random variable.\n",
            "\n",
            "        Gives the number of successes for *n* independent trials\n",
            "        with the probability of success in each trial being *p*:\n",
            "\n",
            "            sum(random() < p for i in range(n))\n",
            "\n",
            "        Returns an integer in the range:   0 <= X <= n\n",
            "\n",
            "        The mean (expected value) and variance of the random variable are:\n",
            "\n",
            "            E[X] = n * p\n",
            "            Var[x] = n * p * (1 - p)\n",
            "\n",
            "    choice(seq) method of Random instance\n",
            "        Choose a random element from a non-empty sequence.\n",
            "\n",
            "    choices(population, weights=None, *, cum_weights=None, k=1) method of Random instance\n",
            "        Return a k sized list of population elements chosen with replacement.\n",
            "\n",
            "        If the relative weights or cumulative weights are not specified,\n",
            "        the selections are made with equal probability.\n",
            "\n",
            "    expovariate(lambd=1.0) method of Random instance\n",
            "        Exponential distribution.\n",
            "\n",
            "        lambd is 1.0 divided by the desired mean.  It should be\n",
            "        nonzero.  (The parameter would be called \"lambda\", but that is\n",
            "        a reserved word in Python.)  Returned values range from 0 to\n",
            "        positive infinity if lambd is positive, and from negative\n",
            "        infinity to 0 if lambd is negative.\n",
            "\n",
            "        The mean (expected value) and variance of the random variable are:\n",
            "\n",
            "            E[X] = 1 / lambd\n",
            "            Var[X] = 1 / lambd ** 2\n",
            "\n",
            "    gammavariate(alpha, beta) method of Random instance\n",
            "        Gamma distribution.  Not the gamma function!\n",
            "\n",
            "        Conditions on the parameters are alpha > 0 and beta > 0.\n",
            "\n",
            "        The probability distribution function is:\n",
            "\n",
            "                    x ** (alpha - 1) * math.exp(-x / beta)\n",
            "          pdf(x) =  --------------------------------------\n",
            "                      math.gamma(alpha) * beta ** alpha\n",
            "\n",
            "        The mean (expected value) and variance of the random variable are:\n",
            "\n",
            "            E[X] = alpha * beta\n",
            "            Var[X] = alpha * beta ** 2\n",
            "\n",
            "    gauss(mu=0.0, sigma=1.0) method of Random instance\n",
            "        Gaussian distribution.\n",
            "\n",
            "        mu is the mean, and sigma is the standard deviation.  This is\n",
            "        slightly faster than the normalvariate() function.\n",
            "\n",
            "        Not thread-safe without a lock around calls.\n",
            "\n",
            "    getrandbits(k, /) method of Random instance\n",
            "        getrandbits(k) -> x.  Generates an int with k random bits.\n",
            "\n",
            "    getstate() method of Random instance\n",
            "        Return internal state; can be passed to setstate() later.\n",
            "\n",
            "    lognormvariate(mu, sigma) method of Random instance\n",
            "        Log normal distribution.\n",
            "\n",
            "        If you take the natural logarithm of this distribution, you'll get a\n",
            "        normal distribution with mean mu and standard deviation sigma.\n",
            "        mu can have any value, and sigma must be greater than zero.\n",
            "\n",
            "    normalvariate(mu=0.0, sigma=1.0) method of Random instance\n",
            "        Normal distribution.\n",
            "\n",
            "        mu is the mean, and sigma is the standard deviation.\n",
            "\n",
            "    paretovariate(alpha) method of Random instance\n",
            "        Pareto distribution.  alpha is the shape parameter.\n",
            "\n",
            "    randbytes(n) method of Random instance\n",
            "        Generate n random bytes.\n",
            "\n",
            "    randint(a, b) method of Random instance\n",
            "        Return random integer in range [a, b], including both end points.\n",
            "\n",
            "    random() method of Random instance\n",
            "        random() -> x in the interval [0, 1).\n",
            "\n",
            "    randrange(start, stop=None, step=1) method of Random instance\n",
            "        Choose a random item from range(stop) or range(start, stop[, step]).\n",
            "\n",
            "        Roughly equivalent to ``choice(range(start, stop, step))`` but\n",
            "        supports arbitrarily large ranges and is optimized for common cases.\n",
            "\n",
            "    sample(population, k, *, counts=None) method of Random instance\n",
            "        Chooses k unique random elements from a population sequence.\n",
            "\n",
            "        Returns a new list containing elements from the population while\n",
            "        leaving the original population unchanged.  The resulting list is\n",
            "        in selection order so that all sub-slices will also be valid random\n",
            "        samples.  This allows raffle winners (the sample) to be partitioned\n",
            "        into grand prize and second place winners (the subslices).\n",
            "\n",
            "        Members of the population need not be hashable or unique.  If the\n",
            "        population contains repeats, then each occurrence is a possible\n",
            "        selection in the sample.\n",
            "\n",
            "        Repeated elements can be specified one at a time or with the optional\n",
            "        counts parameter.  For example:\n",
            "\n",
            "            sample(['red', 'blue'], counts=[4, 2], k=5)\n",
            "\n",
            "        is equivalent to:\n",
            "\n",
            "            sample(['red', 'red', 'red', 'red', 'blue', 'blue'], k=5)\n",
            "\n",
            "        To choose a sample from a range of integers, use range() for the\n",
            "        population argument.  This is especially fast and space efficient\n",
            "        for sampling from a large population:\n",
            "\n",
            "            sample(range(10000000), 60)\n",
            "\n",
            "    seed(a=None, version=2) method of Random instance\n",
            "        Initialize internal state from a seed.\n",
            "\n",
            "        The only supported seed types are None, int, float,\n",
            "        str, bytes, and bytearray.\n",
            "\n",
            "        None or no argument seeds from current time or from an operating\n",
            "        system specific randomness source if available.\n",
            "\n",
            "        If *a* is an int, all bits are used.\n",
            "\n",
            "        For version 2 (the default), all of the bits are used if *a* is a str,\n",
            "        bytes, or bytearray.  For version 1 (provided for reproducing random\n",
            "        sequences from older versions of Python), the algorithm for str and\n",
            "        bytes generates a narrower range of seeds.\n",
            "\n",
            "    setstate(state) method of Random instance\n",
            "        Restore internal state from object returned by getstate().\n",
            "\n",
            "    shuffle(x) method of Random instance\n",
            "        Shuffle list x in place, and return None.\n",
            "\n",
            "    triangular(low=0.0, high=1.0, mode=None) method of Random instance\n",
            "        Triangular distribution.\n",
            "\n",
            "        Continuous distribution bounded by given lower and upper limits,\n",
            "        and having a given mode value in-between.\n",
            "\n",
            "        http://en.wikipedia.org/wiki/Triangular_distribution\n",
            "\n",
            "        The mean (expected value) and variance of the random variable are:\n",
            "\n",
            "            E[X] = (low + high + mode) / 3\n",
            "            Var[X] = (low**2 + high**2 + mode**2 - low*high - low*mode - high*mode) / 18\n",
            "\n",
            "    uniform(a, b) method of Random instance\n",
            "        Get a random number in the range [a, b) or [a, b] depending on rounding.\n",
            "\n",
            "        The mean (expected value) and variance of the random variable are:\n",
            "\n",
            "            E[X] = (a + b) / 2\n",
            "            Var[X] = (b - a) ** 2 / 12\n",
            "\n",
            "    vonmisesvariate(mu, kappa) method of Random instance\n",
            "        Circular data distribution.\n",
            "\n",
            "        mu is the mean angle, expressed in radians between 0 and 2*pi, and\n",
            "        kappa is the concentration parameter, which must be greater than or\n",
            "        equal to zero.  If kappa is equal to zero, this distribution reduces\n",
            "        to a uniform random angle over the range 0 to 2*pi.\n",
            "\n",
            "    weibullvariate(alpha, beta) method of Random instance\n",
            "        Weibull distribution.\n",
            "\n",
            "        alpha is the scale parameter and beta is the shape parameter.\n",
            "\n",
            "DATA\n",
            "    __all__ = ['Random', 'SystemRandom', 'betavariate', 'binomialvariate',...\n",
            "\n",
            "FILE\n",
            "    /usr/lib/python3.12/random.py\n",
            "\n",
            "\n"
          ]
        }
      ]
    },
    {
      "cell_type": "markdown",
      "source": [
        "# *loops*\n",
        "\n",
        "- *while*\n",
        "- *for*\n",
        "- *nested*\n",
        "- *loop control*"
      ],
      "metadata": {
        "id": "XEHlsZWJZb2g"
      }
    },
    {
      "cell_type": "markdown",
      "source": [
        "## *- while loop*"
      ],
      "metadata": {
        "id": "FgE6o-yAIoiU"
      }
    },
    {
      "cell_type": "code",
      "source": [
        "''' repeatedly execute a block of code as long as a condition is true '''"
      ],
      "metadata": {
        "collapsed": true,
        "colab": {
          "base_uri": "https://localhost:8080/",
          "height": 35
        },
        "id": "IG7GQu3zHk2e",
        "outputId": "5394f19a-07ad-47c4-f931-212a8c30dc15"
      },
      "execution_count": null,
      "outputs": [
        {
          "output_type": "execute_result",
          "data": {
            "text/plain": [
              "' repeatedly execute a block of code as long as a condition is true '"
            ],
            "application/vnd.google.colaboratory.intrinsic+json": {
              "type": "string"
            }
          },
          "metadata": {},
          "execution_count": 14
        }
      ]
    },
    {
      "cell_type": "code",
      "source": [
        "# while loop --> works till given condition is satisfied\n",
        "# print a table\n",
        "\n",
        "number = int(input('Enter the number : '))\n",
        "i = 1\n",
        "while i < 11: # will take entries till 10 #work till this condition is satisfied\n",
        "  print(number,'*', i, '=',number *i)\n",
        "  i += 1"
      ],
      "metadata": {
        "id": "q0bUJWtMZiEw",
        "collapsed": true
      },
      "execution_count": null,
      "outputs": []
    },
    {
      "cell_type": "code",
      "source": [
        "# else with loops\n",
        "\n",
        "x = 1\n",
        "\n",
        "while x <5:\n",
        "  print(x)\n",
        "  x+=1\n",
        "else:\n",
        "  print('Loop finished')"
      ],
      "metadata": {
        "id": "Sv5fX5xXIn2l"
      },
      "execution_count": null,
      "outputs": []
    },
    {
      "cell_type": "code",
      "source": [
        "# guessing game\n",
        "\n",
        "import random\n",
        "\n",
        "jackpot = random.randint(1,100)\n",
        "\n",
        "a = int(input('Guess the number :'))\n",
        "attempts = 1\n",
        "\n",
        "while  a != jackpot: # looping condition\n",
        "  if a < jackpot:\n",
        "    print('increase the guess')\n",
        "    a = int(input('Guess the number :')) # we can declare it after loop as well\n",
        "  else:\n",
        "    print('decrease the guess')\n",
        "    a = int(input('Guess the number :'))\n",
        "  attempts +=1 # like above this text -> outside if else\n",
        "else:\n",
        "  print('Correct number', 'Total Attempts : ',attempts)\n",
        "\n"
      ],
      "metadata": {
        "collapsed": true,
        "id": "3GU8LbGPJFRd"
      },
      "execution_count": null,
      "outputs": []
    },
    {
      "cell_type": "markdown",
      "source": [
        "## *- for loop*"
      ],
      "metadata": {
        "id": "ckjjwEtUNIFZ"
      }
    },
    {
      "cell_type": "code",
      "source": [
        "''' used to iterate over a sequence (like a list, tuple, string, or range) and\n",
        "execute a block of code for each item '''"
      ],
      "metadata": {
        "id": "8aoHOd7lH4Cn"
      },
      "execution_count": null,
      "outputs": []
    },
    {
      "cell_type": "code",
      "source": [
        "# for loop  - can iterate over any data type\n",
        "for i in range(1,11,3): # iterate over each element of range = step 3\n",
        "  print(i)\n",
        "\n",
        "# reverse loop\n",
        "for i in range(10,0,-1):\n",
        "  print(i)"
      ],
      "metadata": {
        "collapsed": true,
        "id": "ghuXxrwTNJ-w"
      },
      "execution_count": null,
      "outputs": []
    },
    {
      "cell_type": "code",
      "source": [
        "# current population is 10000 and increase at 10% per year.\n",
        "# calculate population at the end of last 10 years\n",
        "\n",
        "# x + x10% = 10000  -----> 1.1x = 10000\n",
        "population = 10000\n",
        "for i in range(10 ,0,-1):\n",
        "  print('Population at the end of year',i,'=',round(population))\n",
        "  population = population/1.1"
      ],
      "metadata": {
        "id": "eosObReROEUa",
        "colab": {
          "base_uri": "https://localhost:8080/"
        },
        "collapsed": true,
        "outputId": "9d2186b5-eb9c-4941-f6ec-34aed514d93b"
      },
      "execution_count": null,
      "outputs": [
        {
          "output_type": "stream",
          "name": "stdout",
          "text": [
            "Population at the end of year 10 = 10000\n",
            "Population at the end of year 9 = 9091\n",
            "Population at the end of year 8 = 8264\n",
            "Population at the end of year 7 = 7513\n",
            "Population at the end of year 6 = 6830\n",
            "Population at the end of year 5 = 6209\n",
            "Population at the end of year 4 = 5645\n",
            "Population at the end of year 3 = 5132\n",
            "Population at the end of year 2 = 4665\n",
            "Population at the end of year 1 = 4241\n"
          ]
        }
      ]
    },
    {
      "cell_type": "code",
      "source": [
        "# sequence sum\n",
        "# 1/1! + 2/2!.............\n",
        "\n",
        "# without importing math\n",
        "n = int(input('Enter the value of nth Term : '))\n",
        "sum = 0\n",
        "fact = 1\n",
        "for i in range(1,n+1):\n",
        "  fact *= i\n",
        "  sum = sum + i/fact\n",
        "  print(sum,fact)\n",
        "print('The sum is : ', sum)\n",
        "\n",
        "\n",
        "# import math\n",
        "# n = int(input('Enter the value of nth Term : '))\n",
        "# sum = 0\n",
        "# for i in range(1,n+1):\n",
        "#   sum = sum + i/math.factorial(i)\n",
        "#   print(sum)\n",
        "# print('The sum is : ', sum)\n",
        "\n",
        "\n"
      ],
      "metadata": {
        "id": "1xrc5PvCSnOW"
      },
      "execution_count": null,
      "outputs": []
    },
    {
      "cell_type": "markdown",
      "source": [
        "## *- nested loops*"
      ],
      "metadata": {
        "id": "4q7J-at6hacV"
      }
    },
    {
      "cell_type": "code",
      "source": [
        "for i in range(1,5):\n",
        "  for j in range(1,5):\n",
        "    print(i,j)"
      ],
      "metadata": {
        "id": "fkKH4vFhhdue",
        "colab": {
          "base_uri": "https://localhost:8080/"
        },
        "outputId": "7177379d-4da3-4159-fcbc-a318db55e912",
        "collapsed": true
      },
      "execution_count": null,
      "outputs": [
        {
          "output_type": "stream",
          "name": "stdout",
          "text": [
            "1 1\n",
            "1 2\n",
            "1 3\n",
            "1 4\n",
            "2 1\n",
            "2 2\n",
            "2 3\n",
            "2 4\n",
            "3 1\n",
            "3 2\n",
            "3 3\n",
            "3 4\n",
            "4 1\n",
            "4 2\n",
            "4 3\n",
            "4 4\n"
          ]
        }
      ]
    },
    {
      "cell_type": "code",
      "source": [
        "# pattern printing\n",
        "\n",
        "# *\n",
        "# **\n",
        "# ***\n",
        "\n",
        "# User will give inputs for number of rows\n",
        "\n",
        "rows = int(input('Please enter the number of rows : '))\n",
        "\n",
        "\n",
        "for i in range(0,rows):  #loop to print rows #\n",
        "  for j in range(0,i+1): #loop to print rows total #\n",
        "    print('#',end=' ')\n",
        "  print()\n",
        "\n",
        "# print(range(1,1)) both are empty sets and no executable\n",
        "# print(range(0,0))"
      ],
      "metadata": {
        "id": "7Sdd05uJh6nx",
        "colab": {
          "base_uri": "https://localhost:8080/"
        },
        "outputId": "7c090673-5467-4dea-8a3b-b2e771d270e8"
      },
      "execution_count": null,
      "outputs": [
        {
          "output_type": "stream",
          "name": "stdout",
          "text": [
            "Please enter the number of rows : 5\n",
            "# \n",
            "# # \n",
            "# # # \n",
            "# # # # \n",
            "# # # # # \n"
          ]
        }
      ]
    },
    {
      "cell_type": "code",
      "source": [
        "#1\n",
        "#121\n",
        "#12321\n",
        "\n",
        "number = int(input('Please enter the number : '))\n",
        "for i in range(1,number+1):\n",
        "  for j in range(1,i,1):\n",
        "    print(j,end=' ')\n",
        "  for k in range(i,0,-1): # 1 for first iteration\n",
        "    print(k,end=' ')\n",
        "  print()\n"
      ],
      "metadata": {
        "id": "_OMCjT-Gi8Ze",
        "colab": {
          "base_uri": "https://localhost:8080/"
        },
        "outputId": "7f8be262-9e05-4d20-cbd3-8ea16dd225c3"
      },
      "execution_count": null,
      "outputs": [
        {
          "output_type": "stream",
          "name": "stdout",
          "text": [
            "Please enter the number : 6\n",
            "1 \n",
            "1 2 1 \n",
            "1 2 3 2 1 \n",
            "1 2 3 4 3 2 1 \n",
            "1 2 3 4 5 4 3 2 1 \n",
            "1 2 3 4 5 6 5 4 3 2 1 \n"
          ]
        }
      ]
    },
    {
      "cell_type": "markdown",
      "source": [
        "## *- loop control*\n",
        "\n",
        "- *break*\n",
        "- *continue*\n",
        "- *pass*"
      ],
      "metadata": {
        "id": "FBdKWH4QpUwW"
      }
    },
    {
      "cell_type": "code",
      "source": [
        "# break - if condition meet then we can break the loop\n",
        "# - database searching (Linear searching)\n",
        "for i in range(1,10):\n",
        "  if i == 5:\n",
        "    break\n",
        "  print(i)\n",
        "\n",
        "# user will give range and print all the prime numbers\n",
        "\n",
        "lower = int(input('Provide lower range : '))\n",
        "upper = int(input('Provide upper range :'))\n",
        "\n",
        "for i in range(lower,upper + 1):\n",
        "  if i > 1:\n",
        "    for j in range(2,i):  # this will give range till that number\n",
        "      if i%j == 0:  # prime number logic\n",
        "        break\n",
        "    else:\n",
        "      print(i)"
      ],
      "metadata": {
        "id": "-qTBr8RKpb-u"
      },
      "execution_count": null,
      "outputs": []
    },
    {
      "cell_type": "code",
      "source": [
        "# continue - skips current iteration  - out of stock exclude\n",
        "\n",
        "for i in [1,2,2,3,4,5,6,7,7,2,3,2]:\n",
        "  if i == 2: # skips iteration for each met condition\n",
        "    continue\n",
        "  else:\n",
        "    print(i)"
      ],
      "metadata": {
        "id": "Zx9s52qv8kX5"
      },
      "execution_count": null,
      "outputs": []
    },
    {
      "cell_type": "code",
      "source": [
        "# pass - to avoid error\n",
        "for i in range(1,10):\n",
        "  pass"
      ],
      "metadata": {
        "id": "aAZqyUwK9Lds"
      },
      "execution_count": null,
      "outputs": []
    },
    {
      "cell_type": "markdown",
      "source": [
        "# *time complexity O( )*"
      ],
      "metadata": {
        "id": "nF-Z6MzPCV1y"
      }
    },
    {
      "cell_type": "code",
      "source": [
        "# 1 --> measuring time\n",
        "import time\n",
        "\n",
        "start = time.time()\n",
        "for i in range(1,10000000):\n",
        "  pass\n",
        "end = time.time()\n",
        "\n",
        "print(end - start)\n",
        "\n",
        "# Good\n",
        "#--> different time for different algorithm\n",
        "\n",
        "# Bad\n",
        "#--> Time varies if implementation changes\n",
        "''' same code just algorithm changes --> while instead of for '''\n",
        "#--> Machine dependent\n",
        "#--> doesnot work for extremly small inputs\n",
        "#--> Time varies for different inputs but can't establish reletionship\n",
        "''' no math reletionship betweem input and output '''"
      ],
      "metadata": {
        "id": "fhwrcp-mCZ1U"
      },
      "execution_count": null,
      "outputs": []
    },
    {
      "cell_type": "code",
      "source": [
        "# 2 --> counting operations\n",
        "''' assume these steps take constant time\n",
        "1. math operations 2. Comparisions 3. assignments\n",
        "4. accessing objects in memory\n",
        "Then count number of operations executed as function of size of input'''\n",
        "\n",
        "def mysum(x):\n",
        "  total = 0  #------------> 1 operation\n",
        "  for i in range(x+1): #--> loop X times = also setting values of x\n",
        "    total += i  #---------> 2 operations --> in loop 3 operations\n",
        "  return total\n",
        "# total operations = 1 + 3X\n",
        "\n",
        "# Good\n",
        "#--> Different times for different algos (because operations are different)\n",
        "#--> Not machine dependent\n",
        "#--> Can define reletionship between input and output (1 + 3X)\n",
        "\n",
        "# Bad\n",
        "\n",
        "#--> Time varies for implementation changes\n",
        "#--> No clear defination for which operations to count"
      ],
      "metadata": {
        "id": "T-a7SA6JFUGk"
      },
      "execution_count": null,
      "outputs": []
    },
    {
      "cell_type": "code",
      "source": [
        "# evaluate algorithm\n",
        "# scalability\n",
        "# evaluate in terms of input size\n",
        "\n",
        "# best , average and worst case ----> we always think worst case"
      ],
      "metadata": {
        "id": "kH1KoyK5GByq"
      },
      "execution_count": null,
      "outputs": []
    },
    {
      "cell_type": "code",
      "source": [
        "# 3 ----> Orders of growth\n",
        "\n",
        "'''\n",
        "1. Programms efficiency when input is very big\n",
        "2. Growth of program's run time --> relation between input and output\n",
        "3. Upper bound on growth as tight as possible --> worst case scenerio\n",
        "4. we need order of not exact growth\n",
        "5. we will look at the largest factors in run time --> 4k and 10k focus -> 10k\n",
        " '''\n",
        "def fact_inter(n):\n",
        "  answer = 1   # ----------> 1 operation\n",
        "  while n > 1: #-------> comparision 1 opr in loop\n",
        "    answer *= n # ------> mult and assignment 2 ops in loop\n",
        "    n -= 1 #------------> substract and assignment 2 ops in loop\n",
        "  return answer #-------> 1 ops outside loop\n",
        "\n",
        "# total = 1 + 5X + 1 = 5X + 2\n",
        "# ignre additive constant and multiplicative constant => O(N) Linear\n",
        "\n",
        "# Example\n",
        "# n**2 + 2*n + 2 ------------> n**2 (n-square)\n",
        "# n**2 + 100000n + 3**1000 --->  n**2 (n-square)\n",
        "# log(n) + n + 4 ------------> log(n ->1000 = 3)----> n\n",
        "# 0.0001*n*log(n) + 300*n ----> nlog(n)\n",
        "# 2*n**30 + 3**n -------------> for bug number pol and exp => exp -> 3**n\n",
        "\n",
        "\n",
        "# Law of addition -\n",
        "'''  When two parts of your code run one after the other\n",
        "→ You add their time complexities. '''\n",
        "\n",
        "def example_addition(arr):\n",
        "    # O(n) part\n",
        "    for x in arr:\n",
        "        print(x)\n",
        "\n",
        "    # O(n²) part\n",
        "    for i in arr: #----------> multiplication of i and j = n2\n",
        "        for j in arr:\n",
        "            print(i, j)\n",
        "\n",
        "n = 5\n",
        "example_addition(list(range(n)))\n",
        "\n",
        "# Complexity O(n2 + n) --> o(n2) # dominant\n"
      ],
      "metadata": {
        "id": "6_37oygYfaKT"
      },
      "execution_count": null,
      "outputs": []
    },
    {
      "cell_type": "markdown",
      "source": [
        "# *strings*"
      ],
      "metadata": {
        "id": "JDsZ8thKLGNv"
      }
    },
    {
      "cell_type": "code",
      "source": [
        "# srings are immutable ---> any operations which modifies it creates new string\n",
        "# https://medium.com/better-programming/an-interviewers-favorite-question-how-are-python-strings-stored-in-internal-memory-ac0eaef9d9c2\n",
        "\n",
        "# how strings are stored in memory ?"
      ],
      "metadata": {
        "id": "pU0LBQZ4Mc5x"
      },
      "execution_count": null,
      "outputs": []
    },
    {
      "cell_type": "code",
      "source": [
        "# Creation of string\n",
        "\n",
        "s = 'Kunal'\n",
        "s = \"Kunal\"\n",
        "ms = '''Kunal''' #------> Multiline String\n",
        "ms = \"\"\"Kunal\"\"\"\n",
        "\n",
        "# we use single and double quotes based on the situation\n",
        "statement = \"Hello it's raining outside \" #------To avoid error caused by it's\n",
        "\n",
        "converted = str('12345678') # by using explicit typecasting"
      ],
      "metadata": {
        "id": "UOoiVu_OLIl6"
      },
      "execution_count": null,
      "outputs": []
    },
    {
      "cell_type": "code",
      "source": [
        "# indexing and slicing\n",
        "\n",
        "s = 'KunalBharatWagh'\n",
        "\n",
        "print(s[0]) # +ve indexing will start from 0 and print K\n",
        "print(s[-1]) # -ve indexing will start from -1 and pring h [len - index]\n",
        "print(s[1:4]) # will not take 4 and slice the string\n",
        "print(s[1:]) # will take all after 1 + rest index\n",
        "print(s[1:8:2]) # step size of 2\n",
        "print(s[1:8:-2]) # for -ve step start > stop. This will print nothing\n",
        "print(s[8:1:-2]) # Now this will print\n",
        "print(s[::-1]) # reverse string"
      ],
      "metadata": {
        "collapsed": true,
        "id": "GbxGIcFINl-D",
        "colab": {
          "base_uri": "https://localhost:8080/"
        },
        "outputId": "1c7935ea-f0eb-4fe2-eca1-b7fed30352d5"
      },
      "execution_count": null,
      "outputs": [
        {
          "output_type": "stream",
          "name": "stdout",
          "text": [
            "K\n",
            "h\n",
            "una\n",
            "unalBharatWagh\n",
            "uaBa\n",
            "\n",
            "rhln\n",
            "hgaWtarahBlanuK\n"
          ]
        }
      ]
    },
    {
      "cell_type": "code",
      "source": [
        "# edit and deleting\n",
        "\n",
        "s = 'Kunal Bharat Wagh'\n",
        "# s[0] = 'B'  ---------> string is immutable and we can't modify it\n",
        "\n",
        "del s  #---------> can delete entire string and partial delete not supported\n",
        "\n",
        "# print(s) # string is deleted and will not print ---->\n",
        "                   # memory level different thing happens\n"
      ],
      "metadata": {
        "id": "kHmDwu-FPXRu"
      },
      "execution_count": null,
      "outputs": []
    },
    {
      "cell_type": "code",
      "source": [
        "# Operations\n",
        "\n",
        "# arithematic Operations => + and *\n",
        "print('Delhi' + 'Mumbai') # concatination\n",
        "print('Pune'*10)  # multiplication\n",
        "print('-'* 50)\n",
        "\n",
        "# Relations operators => all works\n",
        "print('Pune' == 'Mumbai')\n",
        "print('Pune' > 'Mumbai') # comparing lexiography  P is greater and\n",
        "print('Pune' > 'pune')\n",
        "\n",
        "\n",
        "# Logical Operators\n",
        "print('Hello' and 'World') # returns 1st F value or last T if all T\n",
        "print('' and 'World')        # '' is falsy → returns ''\n",
        "print(0 and 'Python')        # 0 is falsy → returns 0\n",
        "print(1 and 2 and 3)         # all truthy → returns last value: 3\n",
        "print(1 and 0 and 3)         # stops at first falsy (0) → returns 0\n",
        "\n",
        "print('-'*40)\n",
        "\n",
        "print('Hello' or 'World')   # returns 1st T value or last val if all F\n",
        "print('' or 'World')         # '' is falsy → returns 'World'\n",
        "print(0 or 'Python')         # 0 is falsy → returns 'Python'\n",
        "print('' or 0 or [])         # all falsy → returns last value: []\n",
        "print(None or False or 5)    # 5 is first truthy → returns 5\n",
        "\n",
        "print(False, None, 0, 0.0, '', [], {}, set()) # falsy values\n",
        "\n",
        "\n",
        "# loops\n",
        "name = 'Kunal Wagh'\n",
        "for i in name:\n",
        "  print(i)\n",
        "\n",
        "\n",
        "# membership operators => in , not in\n",
        "'Kun' in \"Kunal\" # True\n",
        "'kun' not in 'Kunal' # False"
      ],
      "metadata": {
        "collapsed": true,
        "id": "fJ0tS4kgQLAH",
        "colab": {
          "base_uri": "https://localhost:8080/"
        },
        "outputId": "61554ea5-14e1-4dc3-c4c7-5c10928a0062"
      },
      "execution_count": null,
      "outputs": [
        {
          "output_type": "stream",
          "name": "stdout",
          "text": [
            "DelhiMumbai\n",
            "PunePunePunePunePunePunePunePunePunePune\n",
            "--------------------------------------------------\n",
            "False\n",
            "True\n",
            "False\n",
            "World\n",
            "\n",
            "0\n",
            "3\n",
            "0\n",
            "----------------------------------------\n",
            "Hello\n",
            "World\n",
            "Python\n",
            "[]\n",
            "5\n",
            "False None 0 0.0  [] {} set()\n",
            "K\n",
            "u\n",
            "n\n",
            "a\n",
            "l\n",
            " \n",
            "W\n",
            "a\n",
            "g\n",
            "h\n"
          ]
        },
        {
          "output_type": "execute_result",
          "data": {
            "text/plain": [
              "True"
            ]
          },
          "metadata": {},
          "execution_count": 20
        }
      ]
    },
    {
      "cell_type": "code",
      "source": [
        "# Common Functions\n",
        "\n",
        "name = 'Kunal Wagh'\n",
        "\n",
        "# len - length of string\n",
        "print(len(name)) #---> includes space\n",
        "# max - based on ascii\n",
        "print(max(name))\n",
        "#min\n",
        "print(min(name)) # -> ' '(space) is minimum\n",
        "# sorted  - will provide list based on ascending ordedr\n",
        "print(sorted(name))"
      ],
      "metadata": {
        "collapsed": true,
        "id": "rMHiV1aBUUG-",
        "colab": {
          "base_uri": "https://localhost:8080/"
        },
        "outputId": "70dccc63-1a36-46c7-f797-12ea39dceefa"
      },
      "execution_count": null,
      "outputs": [
        {
          "output_type": "stream",
          "name": "stdout",
          "text": [
            "10\n",
            "u\n",
            " \n",
            "[' ', 'K', 'W', 'a', 'a', 'g', 'h', 'l', 'n', 'u']\n"
          ]
        }
      ]
    },
    {
      "cell_type": "code",
      "source": [
        "# List specific functions\n",
        "\n",
        "# capitalize/title/upper/lower/swapcase\n",
        "\n",
        "s = 'kunal Bharat wagh'\n",
        "s.capitalize() #----> first character capatilize\n",
        "s.title() # ---> capatilize each 1st letter of word\n",
        "s.upper() # ----> all uppercase\n",
        "s.lower() # ----) all lowercase\n",
        "s.swapcase() # ------> upper will be lower and lower to upper\n",
        "#----------------------------------------\n",
        "# count/find/index\n",
        "s = 'Kunal Bharat Wagh is my name'\n",
        "s.count('a') #-----> find the count of given substring in string\n",
        "s.find('Wa') #-----> gives me index of substring. if absent return -1\n",
        "s.index('Wa')#-----> gives me index of substring. if absent return ERROR\n",
        "#----------------------------------------\n",
        "#endswith/startswith\n",
        "s = 'Hello my name is kunal'\n",
        "s.endswith('S')\n",
        "s.startswith('He')\n",
        "#----------------------------------------\n",
        "#format\n",
        "name = 'Kunal'\n",
        "gender = 'Male'\n",
        "'Hi my name is {1} and my gender is {0}'.format(name,gender) # <- can provide indexing\n",
        "#----------------------------------------\n",
        "#isalnum/isalpha/isdigit/isidentifier\n",
        "n = 'Kunal1234'\n",
        "n.isalnum() #------> alphabets and numbers are there\n",
        "n.isalpha() #-------> expect only alphabets\n",
        "n.isdigit() #-------> expect only digits\n",
        "n.isidentifier() #-----> base on rules of identifier\n",
        "#----------------------------------------\n",
        "#split/join\n",
        "k = 'Hi my name is kunal bharat wagh'\n",
        "#split - split the string into list (default on ' ')\n",
        "k.split() # -----> returns list\n",
        "k.split('a') # ------> based on a\n",
        "sorted(k) #-------> returns list of each elements of list\n",
        "# join -  reverse of split\n",
        "'-'.join(['Hi', 'my', 'name', 'is', 'kunal', 'bharat', 'wagh'])\n",
        "#----------------------------------------\n",
        "#replace - replace substring within string\n",
        "k = 'Hi Kunal Kunal How are you ? '\n",
        "k.replace('Kunal','Don') # if substring dosen't exist then will print original\n",
        "#----------------------------------------\n",
        "# strip - remove trailing spaces\n",
        "k = '  kun         al      '\n",
        "k.strip() # ----> removes of both sides but not what is in between\n",
        "k.replace(' ','')"
      ],
      "metadata": {
        "collapsed": true,
        "id": "TR46op1WVWIE",
        "colab": {
          "base_uri": "https://localhost:8080/",
          "height": 35
        },
        "outputId": "074ea42f-5890-402c-a98a-f982992d8888"
      },
      "execution_count": null,
      "outputs": [
        {
          "output_type": "execute_result",
          "data": {
            "text/plain": [
              "'kunal'"
            ],
            "application/vnd.google.colaboratory.intrinsic+json": {
              "type": "string"
            }
          },
          "metadata": {},
          "execution_count": 22
        }
      ]
    },
    {
      "cell_type": "code",
      "source": [
        "# Practise Problems\n",
        "# length without using len\n",
        "\n",
        "s = input('Enter the string : ')\n",
        "counter = 0\n",
        "for i in s:\n",
        "  counter +=1\n",
        "print('Length of string is : ',counter, len(s))"
      ],
      "metadata": {
        "id": "uv-IkLs8omSg",
        "colab": {
          "base_uri": "https://localhost:8080/"
        },
        "outputId": "f5074659-a7be-45f5-debd-50459745d0b9"
      },
      "execution_count": null,
      "outputs": [
        {
          "output_type": "stream",
          "name": "stdout",
          "text": [
            "Enter the string : 343434\n",
            "Length of string is :  6 6\n"
          ]
        }
      ]
    },
    {
      "cell_type": "code",
      "source": [
        "# input mail and remove the username from the email--> before @\n",
        "\n",
        "email = input('Enter the email : ')\n",
        "\n",
        "if '@' in email :\n",
        "  print('username is : ', email[0:email.index('@')])\n",
        "else:\n",
        "  print('Please enter valid email')\n"
      ],
      "metadata": {
        "collapsed": true,
        "id": "TXHiUPZ8q5gh",
        "colab": {
          "base_uri": "https://localhost:8080/"
        },
        "outputId": "a0ddace0-0b3f-4f70-afba-6ded6971ca4b"
      },
      "execution_count": null,
      "outputs": [
        {
          "output_type": "stream",
          "name": "stdout",
          "text": [
            "Enter the email : ghghg\n",
            "Please enter valid email\n"
          ]
        }
      ]
    },
    {
      "cell_type": "code",
      "source": [
        "# count the character in perticular string / can use for words is count ' '\n",
        "\n",
        "st = input('Enter the string : ')\n",
        "c = input('Character you want to count')\n",
        "\n",
        "freq = 0\n",
        "\n",
        "for i in st:\n",
        "  if i == c:\n",
        "    freq +=1\n",
        "\n",
        "print('count of character is ',freq, st.count(c))"
      ],
      "metadata": {
        "collapsed": true,
        "id": "d5x2aZuVsPCk",
        "colab": {
          "base_uri": "https://localhost:8080/"
        },
        "outputId": "ff7da008-bff7-4e52-efe4-63b49ba2a9c8"
      },
      "execution_count": null,
      "outputs": [
        {
          "output_type": "stream",
          "name": "stdout",
          "text": [
            "Enter the string : hjh\n",
            "Character you want to countjkj\n",
            "count of character is  0 0\n"
          ]
        }
      ]
    },
    {
      "cell_type": "code",
      "source": [
        "# remove perticular charater from string - > not posssible\n",
        "\n",
        "st = input('Enter the string : ')\n",
        "c = input('Character you want to remove ')\n",
        "result = ''\n",
        "for i in st:\n",
        "  if i != c:\n",
        "    result += i # ---------> concat\n",
        "\n",
        "print(result)\n"
      ],
      "metadata": {
        "collapsed": true,
        "id": "xXoLF7kCtHFa",
        "colab": {
          "base_uri": "https://localhost:8080/"
        },
        "outputId": "5a62bea4-11cc-4e89-fab0-7ee00435702c"
      },
      "execution_count": null,
      "outputs": [
        {
          "output_type": "stream",
          "name": "stdout",
          "text": [
            "Enter the string : jkhjk\n",
            "Character you want to remove jk\n",
            "jkhjk\n"
          ]
        }
      ]
    },
    {
      "cell_type": "code",
      "source": [
        "# given string is palindrome is not\n",
        "\n",
        "# abba\n",
        "# malyalym\n",
        "\n",
        "s = input('Give me the string : ')\n",
        "flag = True\n",
        "for i in range(0,len(s)//2):\n",
        "  if s[i] != s[len(s)-i-1]:  # indexing comparision\n",
        "    flag = False\n",
        "    break\n",
        "if flag == True:\n",
        "  print('It is palindrome')\n",
        "\n",
        "else :\n",
        "  print('It is not palindrome')"
      ],
      "metadata": {
        "collapsed": true,
        "id": "nFoZKtK4t9L0",
        "colab": {
          "base_uri": "https://localhost:8080/"
        },
        "outputId": "a72503cf-2812-4c86-b9ef-ea105d6b0349"
      },
      "execution_count": null,
      "outputs": [
        {
          "output_type": "stream",
          "name": "stdout",
          "text": [
            "Give me the string : hghg\n",
            "It is not palindrome\n"
          ]
        }
      ]
    },
    {
      "cell_type": "code",
      "source": [
        "# logic of split function from scratch\n",
        "\n",
        "s = input('Please provide the string')\n",
        "\n",
        "l = [ ]\n",
        "temp = ''\n",
        "\n",
        "\n",
        "for i in s :\n",
        "  if i != ' ':\n",
        "   temp = temp + i\n",
        "\n",
        "  else:\n",
        "    l.append(temp)\n",
        "    temp = ''\n",
        "\n",
        "print(l)"
      ],
      "metadata": {
        "id": "7P5aPC3RvzIS",
        "colab": {
          "base_uri": "https://localhost:8080/"
        },
        "outputId": "e901107f-0987-4b17-fd9f-b097d1dec334"
      },
      "execution_count": null,
      "outputs": [
        {
          "output_type": "stream",
          "name": "stdout",
          "text": [
            "Please provide the stringj\n",
            "[]\n"
          ]
        }
      ]
    },
    {
      "cell_type": "code",
      "source": [
        "# title function from scratch\n",
        "\n",
        "\n",
        "s = input('Please provide the string')\n",
        "\n",
        "\n",
        "for i in s.split():\n",
        "  print(i[0].upper() + i[1:].lower(),end=\" \")"
      ],
      "metadata": {
        "id": "CRoa9Gb2xLNH",
        "colab": {
          "base_uri": "https://localhost:8080/"
        },
        "outputId": "119d9d57-173f-4e58-8925-4abff29767e1"
      },
      "execution_count": null,
      "outputs": [
        {
          "output_type": "stream",
          "name": "stdout",
          "text": [
            "Please provide the stringk\n",
            "K "
          ]
        }
      ]
    },
    {
      "cell_type": "code",
      "source": [
        "# str () scratch\n",
        "\n",
        "number = int(input('Enter the digit'))\n",
        "\n",
        "digits = '0123456789'\n",
        "\n",
        "result = ''\n",
        "\n",
        "while number !=0:\n",
        "  result = digits[number%10] + result #digits is first for the concat result\n",
        "  number = number//10\n",
        "\n",
        "print(result)\n",
        "\n",
        "# time complexity log(n) -> input if increase by 10 operation will increase by 1"
      ],
      "metadata": {
        "id": "gk1ohGT0ygd4",
        "colab": {
          "base_uri": "https://localhost:8080/"
        },
        "outputId": "4c7cb880-1d53-4117-9b92-0d27ab9e17f3"
      },
      "execution_count": null,
      "outputs": [
        {
          "output_type": "stream",
          "name": "stdout",
          "text": [
            "Enter the digit123\n",
            "123\n"
          ]
        }
      ]
    },
    {
      "cell_type": "markdown",
      "source": [
        "# *lists [ ]*\n"
      ],
      "metadata": {
        "id": "jXH4y4QRIbF3"
      }
    },
    {
      "cell_type": "code",
      "source": [
        "# list ----> store multiple things\n",
        "l = [1,2,3,'k']\n",
        "\n",
        "# id()---------># print memory address\n",
        "\n",
        "print('list Id is = ',id(l))\n",
        "for i in range(0,4):\n",
        "  print('id of list element : ',l[i],'is',id(l[i]))\n",
        "\n",
        "for i in range(1,4):\n",
        "  print('id of',i,'is', id(i))\n",
        "\n",
        "print('id of k is',id('k'))\n",
        "# which means in the list we are storing address of the data type--> ref array\n",
        "# how dynamic array ? ->"
      ],
      "metadata": {
        "collapsed": true,
        "id": "aLH_9fGkIia_"
      },
      "execution_count": null,
      "outputs": []
    },
    {
      "cell_type": "code",
      "source": [
        "# lists are ordered\n",
        "l1 = [1,2,3]\n",
        "l2 = [1,3,2] #----> both are not same\n",
        "\n",
        "# Lists are mutable\n",
        "l1[1]= 500\n",
        "print(l1) #-----it will directly create changes in source\n",
        "\n",
        "# Lists items can contain duplicates\n",
        "l1 = [1,1,2,1,1]\n",
        "\n",
        "# Lists can be nested (list under list)\n",
        "l2 = [1,2,[3,4,5,6,6]]\n",
        "\n",
        "# can contain any kind of objects in list\n",
        "\n",
        "l = [1,3,4,print,type,input]"
      ],
      "metadata": {
        "collapsed": true,
        "id": "VDIZoTJMPaH5"
      },
      "execution_count": null,
      "outputs": []
    },
    {
      "cell_type": "code",
      "source": [
        "# Creating list\n",
        "\n",
        "# empty list\n",
        "l = [ ]\n",
        "\n",
        "# 1 D list\n",
        "l1 = [1,2,3,4,5,6]\n",
        "\n",
        "# 2D list\n",
        "l2 = [1,2,3,4,[1,2,3,4]]\n",
        "\n",
        "# 3D list\n",
        "l3 = [[[1,2],[3,4]],[[5,6],[7,8]]]\n",
        "print(l3)\n",
        "\n",
        "# using type conversion\n",
        "\n",
        "l4 = list('Hello') #---------> will split the string element by element\n",
        "print(l4)"
      ],
      "metadata": {
        "collapsed": true,
        "id": "7IjwrLifSOQe"
      },
      "execution_count": null,
      "outputs": []
    },
    {
      "cell_type": "code",
      "source": [
        "# Indexing and slicing\n",
        "\n",
        "l = [1,2,3,4,5,6]\n",
        "\n",
        "print(l[0])\n",
        "print(l[0:3])\n",
        "print(l[1:5:2])\n",
        "\n",
        "l2 = [1,2,[34,5,'Kunal']]\n",
        "print(l2[2][2]) #--------> we can put it side by side\n",
        "\n",
        "l3 = [[[1,2],[3,4]],[[5,6],[7,8]]]\n",
        "print(l3[0][0][1]) #-------> this is to get 2"
      ],
      "metadata": {
        "collapsed": true,
        "id": "vsYd6Xj2T1Mm"
      },
      "execution_count": null,
      "outputs": []
    },
    {
      "cell_type": "code",
      "source": [
        "# adding items to list -\n",
        "\n",
        "# append / extend / insert\n",
        "\n",
        "l = [1,2,3,4,5]\n",
        "\n",
        "# append ----> add to the end of list\n",
        "l.append('Kunal') # ---> it will always add single item, if provided [1,2,3]\n",
        "l.append([1,2,3,4]) # ---> it will add this list as single element\n",
        "print(l)\n",
        "\n",
        "# extend -----> add multiple items at one time\n",
        "k = list('Kunal')\n",
        "l.extend(k) # --> it will always add multiple itms, if provided 'delhi\n",
        "l.extend('Delhi') # reverse behaviour --> it will split delhi in list and add\n",
        "print(l)\n",
        "\n",
        "# insert -----> above two always add at end --> this will add at desired postion\n",
        "l = [1,2,3,4,5]\n",
        "l.insert(2,'Kunal') #---> ask for index and entry\n",
        "print(l)"
      ],
      "metadata": {
        "collapsed": true,
        "id": "ZluXB8WTVjoM"
      },
      "execution_count": null,
      "outputs": []
    },
    {
      "cell_type": "code",
      "source": [
        "# editing items in list\n",
        "\n",
        "l = [1,2,3,4,5]\n",
        "l[-1] = 5000 #---------> with indexing\n",
        "l[1:4]=[100,200,300] # ---------> with slicing\n",
        "print(l)"
      ],
      "metadata": {
        "collapsed": true,
        "id": "jLTWaNCdbP9_"
      },
      "execution_count": null,
      "outputs": []
    },
    {
      "cell_type": "code",
      "source": [
        "# deletion ----> mutable therefore it is possible\n",
        "\n",
        "# del / remove / pop / clear\n",
        "\n",
        "l = [1,2,3,4,5]\n",
        "# del l # -------> delete the string\n",
        "# print(l) # -----> will throw error\n",
        "del l[-1] #--------> will remove the last element --> can do through slicing too\n",
        "print(l)\n",
        "\n",
        "#remove - delete the item via value\n",
        "l.remove(4) # -> it will search the list and delete this value (not exist error)\n",
        "print(l)\n",
        "\n",
        "# pop --> delete item of perticular index - without index ---> last item delete\n",
        "l.pop(0) #---> will delete item on 0th index --> 1\n",
        "print(l.pop(0)) #--> we can also see which item is deleted --> 2 in this step\n",
        "print(l)\n",
        "\n",
        "# clear --> empties the list\n",
        "l.clear()\n",
        "print(l) #---> empty list\n"
      ],
      "metadata": {
        "collapsed": true,
        "id": "2tWrZVe2bsrN"
      },
      "execution_count": null,
      "outputs": []
    },
    {
      "cell_type": "code",
      "source": [
        "# operations on list\n",
        "\n",
        "# arithematic operations - + and *\n",
        "l1 = [1,2,3,4]\n",
        "l2 = ['Kunal','Bharat','Wagh']\n",
        "l3 = l1+l2 # -----> this will do concatination\n",
        "print(l3)\n",
        "l4 = l2*3 # -----> this will multiply and add it in the list\n",
        "print(l4)\n",
        "\n",
        "# membership in, not in\n",
        "\n",
        "l1 = [1,2,3]\n",
        "l2 = [1,2,3,[4,5]]\n",
        "\n",
        "print(3 in l1)\n",
        "print(5 in l2) # ---> logically 5 doesnot exist in the list\n",
        "print(5 in l2[3]) # ---> 5 exist in list within list\n",
        "\n",
        "\n",
        "# loops\n",
        "\n",
        "for i in range(len(l2)):\n",
        "  print(l2[i])"
      ],
      "metadata": {
        "collapsed": true,
        "id": "mFkGU19weDk0"
      },
      "execution_count": null,
      "outputs": []
    },
    {
      "cell_type": "code",
      "source": [
        "# list functions -----> common\n",
        "\n",
        "# len/min/max/sorted/sum\n",
        "\n",
        "l = [1,2,3,4,5,6]\n",
        "\n",
        "print(len(l)) #----> provided length of list\n",
        "print(min(l)) # ---> works only for homogeneous data and gives minimum value\n",
        "print(max(l))\n",
        "print(sorted(l)) # -> split element by element in list and -> not permenant\n",
        "print(sorted(l,reverse=True))# by default asc sort, for desc, reverse = True\n",
        "print(sum(l)) # prints sum --> works on numerical data types only"
      ],
      "metadata": {
        "collapsed": true,
        "id": "DIYH-enjgzLp"
      },
      "execution_count": null,
      "outputs": []
    },
    {
      "cell_type": "code",
      "source": [
        "# count / index /\n",
        "\n",
        "l = [1,2,3,4,4,5,2313,343]\n",
        "\n",
        "# count ---> provides frequency of element\n",
        "l.count(4) # ----> count of 4 = 6\n",
        "\n",
        "# index ---> provided index of given item\n",
        "l.index(4) # ---> gives index of first occurence\n",
        "\n",
        "\n",
        "\n",
        "# reverse --->  # it permenantly reverses the list.\n",
        "l.reverse()\n",
        "print(l)\n",
        "\n",
        "print('-'* 60)\n",
        "\n",
        "\n",
        "# sort ---> Permenant changes in the list\n",
        "print(l) # -----> initial list\n",
        "print(sorted(l)) # sorts the list but temporarly\n",
        "print(l) # -----> same  list\n",
        "l.sort() # permenant opration --> operation therefore not printable\n",
        "print(l) # permenantly changes in the list\n",
        "\n",
        "\n",
        "\n",
        "# copy ----> creates shallow copy of the given list\n",
        "\n",
        "l = [1,2,3,4,5]\n",
        "l2 = l.copy() #-----shallow copy - new address same list\n",
        "\n",
        "print(l, id(l))\n",
        "print(l2,id(l2))\n"
      ],
      "metadata": {
        "collapsed": true,
        "id": "hvCGyzasiHUI"
      },
      "execution_count": null,
      "outputs": []
    },
    {
      "cell_type": "code",
      "source": [
        "# list comprehension --> concise way of creating list\n",
        "\n",
        "# ---> more time efficient and space efficient\n",
        "# ---> requires fewer lines of code\n",
        "# ---> Transforms iterative statement into formula\n",
        "\n",
        "# syntax = ['expression' for 'item' in 'iterable' if 'condition == True' ]\n",
        "#-----------------------------------------------------------------------------\n",
        "# add 1 - 10 numbers in list\n",
        "l = []\n",
        "for i in range(1,11):\n",
        "  l.append(i)\n",
        "print(l)\n",
        "\n",
        "l2 = [i for i in range(1,11)]\n",
        "print(l2)  #--------> same code in list comprehension\n",
        "print(\"-\"*50)\n",
        "#-----------------------------------------------------------------------------\n",
        "# Scaler multiplication on a vector\n",
        "v = [1,2,3,4]\n",
        "s = -3 # --> as direct scaler multiplication is not possible with list\n",
        "l = []\n",
        "for i in v:\n",
        "  l.append(s*i)\n",
        "print(l)\n",
        "\n",
        "k = [i*s for i in v] # --> expression = i*s, item = i , iterable = v\n",
        "print(k)\n",
        "print(\"-\"*50)\n",
        "\n",
        "#-----------------------------------------------------------------------------\n",
        "# add squares\n",
        "n = [1,2,3,4,5,6]\n",
        "sq = [i*i for i in n ]\n",
        "print(sq)\n",
        "print(\"-\"*50)\n",
        "#-----------------------------------------------------------------------------\n",
        "\n",
        "# print all the numbers divisible by 5 in range of 1 to 50\n",
        "\n",
        "n = [i for i in range(1,51) if i%5 == 0]\n",
        "print(n)\n",
        "print(\"-\"*50)\n",
        "#-----------------------------------------------------------------------------\n",
        "# languages start with p\n",
        "l = ['java', 'python', 'php','c','javascript']\n",
        "ln = [i for i in l if i.startswith('p')]\n",
        "print(ln)\n",
        "print(\"-\"*50)\n",
        "#-----------------------------------------------------------------------------\n",
        "# nested if with list comprehension -\n",
        "\n",
        "basket = ['apple', 'guava', 'cherry', 'banana']\n",
        "my_fruits = ['apple', 'kiwi', 'grapes', 'banana']\n",
        "\n",
        "# create a new list from my_fruits which are there in basket and starts from a\n",
        "[fruit for fruit in my_fruits if fruit in basket if fruit.startswith('a') ]\n",
        "#-----------------------------------------------------------------------------\n",
        "\n",
        "# cartision products -> list comprehension of 2 list\n",
        "l1 = [1,2,3,4]\n",
        "l2 = [7,8,9,10]\n",
        "mult = [i*j for i in l1 for j in l2] # expression as list comprehension\n",
        "print(mult)"
      ],
      "metadata": {
        "collapsed": true,
        "id": "Vs5ZcU1-4ecj"
      },
      "execution_count": null,
      "outputs": []
    },
    {
      "cell_type": "code",
      "source": [
        "# 2 ways to transverse a list (itemwise and indexwise)\n",
        "\n",
        "l = [1,2,3,4,5,6,7]\n",
        "for i in l: #-------------> itemwise\n",
        "  print(i)\n",
        "\n",
        "for i in range(0,len(l)):\n",
        "  print(l[i]) # ----------> indexwise"
      ],
      "metadata": {
        "collapsed": true,
        "id": "nTin3CwlAEdi"
      },
      "execution_count": null,
      "outputs": []
    },
    {
      "cell_type": "markdown",
      "source": [
        "## *zip()*"
      ],
      "metadata": {
        "id": "nL6AHKZkBJrp"
      }
    },
    {
      "cell_type": "code",
      "source": [
        "# returns zip object\n",
        "\n",
        "l = [1,2,3,4,5,6,7]\n",
        "l2 = [1,2,3,4,5,6,7]\n",
        "\n",
        "zip_obj = zip(l,l2) # zip object\n",
        "print(list(zip_obj))\n",
        "\n",
        "added = [i+j for i,j in zip(l,l2)]\n",
        "print(added)"
      ],
      "metadata": {
        "id": "CxBN4az4BIA6",
        "colab": {
          "base_uri": "https://localhost:8080/"
        },
        "outputId": "bf3ca6d2-4caa-4b49-e952-0c17196743db"
      },
      "execution_count": null,
      "outputs": [
        {
          "output_type": "stream",
          "name": "stdout",
          "text": [
            "[(1, 1), (2, 2), (3, 3), (4, 4), (5, 5), (6, 6), (7, 7)]\n",
            "[2, 4, 6, 8, 10, 12, 14]\n"
          ]
        }
      ]
    },
    {
      "cell_type": "markdown",
      "source": [
        "# *tuple ()*"
      ],
      "metadata": {
        "id": "o86Z4V8prbWz"
      }
    },
    {
      "cell_type": "code",
      "source": [
        "# tuple is similar to list ---> but it is immutable\n",
        "# ---> ordered\n",
        "# ---> unchangable\n",
        "# ---> allows duplicate values"
      ],
      "metadata": {
        "id": "PYyV7tq4rloM"
      },
      "execution_count": null,
      "outputs": []
    },
    {
      "cell_type": "code",
      "source": [
        "# creating tuples\n",
        "\n",
        "# empty tuple -->\n",
        "t1 = ()\n",
        "\n",
        "# single item tuple -->\n",
        "t2 = ('Kunal') # ------> this is not single item tuple\n",
        "print(type(t2)) # ---> this will return string\n",
        "t3 = ('Kunal',) # we provide ,\n",
        "print(type(t3))\n",
        "\n",
        "# using type conversion\n",
        "t4 = tuple('kUNAL')\n",
        "t5 = tuple([1,2,3,4,5,6,7])  # ---> will convert list to tuple\n",
        "print(t4)\n",
        "print(t5)"
      ],
      "metadata": {
        "collapsed": true,
        "id": "0KKEHGvuxTA1"
      },
      "execution_count": null,
      "outputs": []
    },
    {
      "cell_type": "code",
      "source": [
        "# indexing and slicing\n",
        "\n",
        "t = (1,2,3,4,5,6,7,'Kunal')\n",
        "\n",
        "print(t[-1])\n",
        "print(t[1:5])\n",
        "print(t[1:7:2])\n",
        "print(t[8::-1]) # --> for reverse don't put in start, end coz -1 not work at end"
      ],
      "metadata": {
        "collapsed": true,
        "id": "iEVwo5WezB-T"
      },
      "execution_count": null,
      "outputs": []
    },
    {
      "cell_type": "code",
      "source": [
        "# edit items ---> edit is not possible in tuple\n",
        "t1 = (1,2,3,4,5,6)\n",
        "# t1[2] = 300 # ----> this will throw error\n",
        "\n",
        "\n",
        "# adding items ----> it is not possible (append/extend/insert) will not work\n",
        "\n",
        "# deletion ---> can delete all the tuple but can't delete portion\n",
        "\n",
        "# del t1[1] # ---> this will throw error\n",
        "del t1 # this will work\n"
      ],
      "metadata": {
        "id": "qkXdH8Eq0N46"
      },
      "execution_count": null,
      "outputs": []
    },
    {
      "cell_type": "code",
      "source": [
        "# operations\n",
        "\n",
        "# arithematic ----->  + and *\n",
        "\n",
        "t1 = (1,2,3)\n",
        "t2 = ('Kunal', 'Bharat', 'Wagh')\n",
        "print(t1+t2) # ----> This will do concat\n",
        "print(t1*4) # this will multiply and merge in single tuple\n",
        "\n",
        "# membership ---> in , not in\n",
        "print('Kunal' in t2)\n",
        "print('Kunal' not in t2)\n",
        "\n",
        "# loops\n",
        "for i in t1: # -------> we can iterate over tuple\n",
        "  print(i)"
      ],
      "metadata": {
        "collapsed": true,
        "id": "j6KUAU0P1kJJ"
      },
      "execution_count": null,
      "outputs": []
    },
    {
      "cell_type": "code",
      "source": [
        "# Common functions\n",
        "\n",
        "# len/min/max/sorted/sum  --> sum works on only numerical data type\n",
        "\n",
        "t = (1,2,3,4,54,56,6,7,7)\n",
        "\n",
        "print(len(t))\n",
        "print(min(t)) # ---> works for homo data type\n",
        "print(max(t))\n",
        "print(sorted(t)) # convert tuple to list and sort the element --> return list\n"
      ],
      "metadata": {
        "collapsed": true,
        "id": "xPdip38t2vZg"
      },
      "execution_count": null,
      "outputs": []
    },
    {
      "cell_type": "code",
      "source": [
        "# count / index\n",
        "\n",
        "t.count(5) # ---> gives count, if absent returns 0\n",
        "t.index(3) # ----> returns index, if absent throw error"
      ],
      "metadata": {
        "id": "Hi8i15sT9PXK"
      },
      "execution_count": null,
      "outputs": []
    },
    {
      "cell_type": "code",
      "source": [
        "a = (1,2,3,4)\n",
        "b = a\n",
        "\n",
        "a = a + (2,)\n",
        "\n",
        "print(a)\n",
        "print(b) # b will not change due to immutubality"
      ],
      "metadata": {
        "id": "2T0SzWDm-cHM"
      },
      "execution_count": null,
      "outputs": []
    },
    {
      "cell_type": "code",
      "source": [
        "# special syntex -\n",
        "\n",
        "# tuple unpacking\n",
        "a,b,c = (1,2,3)\n",
        "print(a,b,c)\n",
        "\n",
        "#------------------------------------------------------------------------------\n",
        "# swap values\n",
        "a = 1\n",
        "b = 2\n",
        "a,b = b,a\n",
        "print(a,b)\n",
        "#------------------------------------------------------------------------------\n",
        "# only want 2 values and rest should go to others\n",
        "\n",
        "a,b,*others = (1,2,3,4,54,5,6,76,7,78)\n",
        "print(a,b,others) # other becomes list\n"
      ],
      "metadata": {
        "collapsed": true,
        "id": "xgkl77zk_YPH"
      },
      "execution_count": null,
      "outputs": []
    },
    {
      "cell_type": "code",
      "source": [
        "# zipping tuples\n",
        "\n",
        "t1 = (1,2,3,4,5,6)\n",
        "t2 = ('Kunal','Bharat','Wagh') # for less element zip will extend till it only.\n",
        "\n",
        "print(list(zip(t1,t2))) # list of tuples\n",
        "print(tuple(zip(t1,t2))) # tuple of tuples"
      ],
      "metadata": {
        "id": "kchA2VLwAGH_"
      },
      "execution_count": null,
      "outputs": []
    },
    {
      "cell_type": "code",
      "source": [
        "# tuple comprehension is also possible\n",
        "\n",
        "t = tuple(i for i in range(1,11)) # ----> here we should put typecasting to gen.\n",
        "print(t)"
      ],
      "metadata": {
        "id": "djdukB1NAvr2"
      },
      "execution_count": null,
      "outputs": []
    },
    {
      "cell_type": "markdown",
      "source": [
        "# *sets { }*"
      ],
      "metadata": {
        "id": "2H79uB2xBZCV"
      }
    },
    {
      "cell_type": "code",
      "source": [
        "# unordered\n",
        "a = {1,2,3}\n",
        "b = {2,3,1}\n",
        "print(a == b)  # --- Return true\n",
        "\n",
        "# no duplicate items\n",
        "a = {1,2,2,2,2,3,3}\n",
        "print(a)\n",
        "\n",
        "# can only put immutable values (string,tuple)---> itslef is mutable\n",
        "# therefore can't put list or set within"
      ],
      "metadata": {
        "collapsed": true,
        "id": "W64DiOjVBdXQ"
      },
      "execution_count": null,
      "outputs": []
    },
    {
      "cell_type": "code",
      "source": [
        "# creating set\n",
        "\n",
        "# empty set\n",
        "s = {}\n",
        "print(type(s)) # -------> this will return dictionary\n",
        "s = set() # -----> this is how we create empty set\n",
        "print(type(s))\n",
        "\n",
        "#2D set\n",
        "# s2 = {1,2,3,{2,3}} # not possible as set is mutable -> unhashable\n",
        "\n",
        "# hetro\n",
        "s = {1,2,3,True,(2,3),3.4}\n",
        "print(s) # true will treated as 1 therefore removed -> if pleaced first then 1 r\n",
        "\n",
        "# typecaseting\n",
        "\n",
        "s = set([1,2,3,4,5,6,6,6,6,6,6,])\n",
        "print(s)\n"
      ],
      "metadata": {
        "collapsed": true,
        "id": "B7_UJeAjNFBb"
      },
      "execution_count": null,
      "outputs": []
    },
    {
      "cell_type": "code",
      "source": [],
      "metadata": {
        "colab": {
          "base_uri": "https://localhost:8080/"
        },
        "id": "AkSuHhQ2m7Y4",
        "outputId": "f1afe52e-491a-40f7-91fc-c44c779e65c6"
      },
      "execution_count": null,
      "outputs": [
        {
          "output_type": "stream",
          "name": "stdout",
          "text": [
            "{1, 33, 21, 23, 45}\n"
          ]
        }
      ]
    },
    {
      "cell_type": "code",
      "source": [
        "# Indexing and slicing ------> not possible as it is ordered\n",
        "\n",
        "# edit items ----> indexing not works ---> therfore editing will also not work\n",
        "#------------------------------------------------------------------------------\n",
        "# adding - more like append / extend\n",
        "# add --> adds one item at a time\n",
        "s = {1,2,3,4}\n",
        "s.add(5)\n",
        "\n",
        "# update ---> adds multiple items at a time\n",
        "s.update([2,3,4,4,5])\n",
        "print(s)\n",
        "\n",
        "#------------------------------------------------------------------------------\n",
        "# del/discard/remove/pop/clear\n",
        "s = {1,2,3,4,5}\n",
        "\n",
        "# del s #---------> can delete all set but can't delete perticular items\n",
        "\n",
        "# discard and remove -\n",
        "\n",
        "s.discard(5) # ----> remove perticular item from set. If not exist no error.\n",
        "s.remove(4) # ---> work same as discard but if not exist will throw error.\n",
        "print(s)\n",
        "\n",
        "# pop # ---> delete random item\n",
        "s.pop()\n",
        "\n",
        "# clear\n",
        "s.clear()\n",
        "print(s) # -----> will return blank set\n"
      ],
      "metadata": {
        "collapsed": true,
        "id": "KVDleXopPNTR"
      },
      "execution_count": null,
      "outputs": []
    },
    {
      "cell_type": "code",
      "source": [
        "# Operations in set\n",
        "\n",
        "s1 = {1,2,3,4,5}\n",
        "s2 = {4,5,6,7,8}\n",
        "\n",
        "# union (|)\n",
        "print(s1|s2)\n",
        "# intersection (&)\n",
        "print(s1&s2)\n",
        "# difference (-)\n",
        "print(s1-s2) # -----> only elements of s1 (without common)\n",
        "print(s2-s1)\n",
        "# symmectric difference (^)\n",
        "print(s1^s2) # -----> elements of s1 and s2 without common elements\n",
        "print(s2^s1)\n",
        "\n",
        "# membership in , not in\n",
        "\n",
        "print(10 in s1)\n",
        "print(20 not in s1)\n",
        "\n",
        "# loops\n",
        "\n",
        "for i in s1:\n",
        "  print(i,end=' ')\n"
      ],
      "metadata": {
        "collapsed": true,
        "id": "gjNyGEhlgLmw"
      },
      "execution_count": null,
      "outputs": []
    },
    {
      "cell_type": "code",
      "source": [
        "# common functions\n",
        "\n",
        "# len/sum/max/min/sorted\n",
        "\n",
        "s1 = {1,2,3,4,5}\n",
        "\n",
        "print(len(s1))\n",
        "print(sum(s1))\n",
        "print(max(s1))\n",
        "print(min(s1))\n",
        "print(sorted(s1)) # by default convert in list and sort it"
      ],
      "metadata": {
        "collapsed": true,
        "id": "ekvOswU4ukWf"
      },
      "execution_count": null,
      "outputs": []
    },
    {
      "cell_type": "code",
      "source": [
        "# set functionS\n",
        "\n",
        "# union/union_update\n",
        "s1 ={1,2,3,4,5}\n",
        "s2 = {4,5,6,7,8}\n",
        "print('union : ',s1.union(s2)) #--------> prints union of s1 and s2\n",
        "s1.update(s2) # --------> replace s1 with s1 union s2\n",
        "print(s1)\n",
        "print(s2)\n",
        "print('-'*50)\n",
        "\n",
        "#------------------------------------------------------------------------------\n",
        "# intersection/intersection_update\n",
        "s1 ={1,2,3,4,5}\n",
        "s2 = {4,5,6,7,8}\n",
        "\n",
        "print('intersection : ',s1.intersection(s2)) #---->intersection of s1 and s2\n",
        "s1.intersection_update(s2) # --------> replace s1 with s1 intersection s2\n",
        "print(s1)\n",
        "print(s2)\n",
        "print('-'*50)\n",
        "\n",
        "#------------------------------------------------------------------------------\n",
        "# difference/difference_update\n",
        "s1 ={1,2,3,4,5}\n",
        "s2 = {4,5,6,7,8}\n",
        "\n",
        "print('difference : ',s1.difference(s2)) #----> s1 - s2\n",
        "s1.difference_update(s2) # --------> replace s1 with s1 - s2\n",
        "print(s1)\n",
        "print(s2)\n",
        "print('-'*50)\n",
        "\n",
        "#------------------------------------------------------------------------------\n",
        "# symmectric/symmectric_update\n",
        "s1 ={1,2,3,4,5}\n",
        "s2 = {4,5,6,7,8}\n",
        "\n",
        "print('summectric difference : ',s1.symmetric_difference(s2)) #----> s1 ^ s2\n",
        "s1.symmetric_difference_update(s2) # --------> replace s1 with s1 ^ s2\n",
        "print(s1)\n",
        "print(s2)\n"
      ],
      "metadata": {
        "collapsed": true,
        "id": "w-JZmZcnvBp1"
      },
      "execution_count": null,
      "outputs": []
    },
    {
      "cell_type": "code",
      "source": [
        "# isdisjoint -----> no common items\n",
        "\n",
        "s1 = {1,2,3,4,5}\n",
        "s2 = {6,7,8,9}\n",
        "\n",
        "s1.isdisjoint(s2) # True\n",
        "\n",
        "# issubset -----> checks if it's subset or not\n",
        "# issuperset ---> checks if it's superset or not\n",
        "s1 = {1,2,3,4,5}\n",
        "s2 = {4,5}\n",
        "print(s2.issubset(s1)) # returns True\n",
        "print(s1.issuperset(s2))\n",
        "\n",
        "# copy\n",
        "\n",
        "s1 = {1,2,3}\n",
        "s2 = s1.copy()\n",
        "print(s2) # --------> creates shallow copy"
      ],
      "metadata": {
        "collapsed": true,
        "id": "Akh9T4SNxnsT"
      },
      "execution_count": null,
      "outputs": []
    },
    {
      "cell_type": "code",
      "source": [
        "# set comprehension - will be same\n",
        "\n",
        "s = { i*i for i in range(1,20)}\n",
        "print(s)"
      ],
      "metadata": {
        "collapsed": true,
        "id": "lwxoejioz5SS"
      },
      "execution_count": null,
      "outputs": []
    },
    {
      "cell_type": "markdown",
      "source": [
        "## *Frozen set* *({a,b,c})*"
      ],
      "metadata": {
        "id": "TUJzYTLOy9Lp"
      }
    },
    {
      "cell_type": "code",
      "source": [
        "# it is immutable version of python set\n",
        "\n",
        "fs = frozenset([2,3,4,5])\n",
        "print(fs)\n",
        "\n",
        "\n",
        "# ----> all the operations will work\n",
        "# ----> add, delete and other things will not work\n",
        "# -----> 2D frozen set will work\n",
        "\n",
        "fs = frozenset([2,3,4,5,frozenset([2,3])])\n",
        "print(fs)\n",
        "print(type(fs))"
      ],
      "metadata": {
        "collapsed": true,
        "id": "cwYiPlO7y6tC"
      },
      "execution_count": null,
      "outputs": []
    },
    {
      "cell_type": "markdown",
      "source": [
        "# *Dictionary { key:value }*"
      ],
      "metadata": {
        "id": "iXt7J4Mq6U_Q"
      }
    },
    {
      "cell_type": "code",
      "source": [
        "# ---> collection of keys and values - maps/associated array\n",
        "# ---> mutable\n",
        "#----> indexing has no meaning\n",
        "#----> keys are unique\n",
        "#----> keys can't be mutable (list,set)"
      ],
      "metadata": {
        "id": "oDHWwCa56PYp"
      },
      "execution_count": null,
      "outputs": []
    },
    {
      "cell_type": "code",
      "source": [
        "# creating dictionary\n",
        "\n",
        "#------------------------------------------------------------------------------\n",
        "# empty dict\n",
        "d = {} #--------> empty dictionray\n",
        "#------------------------------------------------------------------------------\n",
        "# 1D dict\n",
        "d1 = {\n",
        "    'name': 'Kunal',\n",
        "    'gender' : 'Male'\n",
        "}\n",
        "#------------------------------------------------------------------------------\n",
        "#2D dict\n",
        "student = {\n",
        "    'name': 'Kunal',\n",
        "    'sem' : 4,\n",
        "    'subject': {\n",
        "        'dsa':99,\n",
        "        'stat':99,\n",
        "        'math':00 #------------> dict within dict --> 2D\n",
        "    }\n",
        "}\n",
        "print(student)\n",
        "#------------------------------------------------------------------------------\n",
        "# using sequence and dict\n",
        "d2 = dict([(1,2),(2,3),(4,5)])\n",
        "l1 = [1,2,3,4,5,6]\n",
        "l2 = [44,555,565656,67657,56756756,4356534534,5467657467]\n",
        "print(dict(list(zip(l1,l2)))) #-------create dict using 2 list\n",
        "print(d2)\n",
        "#------------------------------------------------------------------------------\n",
        "# duplicate keys -\n",
        "d3 = {\n",
        "    'name': 'Kunal',\n",
        "    'name' : 'Wagh'\n",
        "}\n",
        "print(d3) #--------> in case of duplicate keys it will take the value of latest\n"
      ],
      "metadata": {
        "colab": {
          "base_uri": "https://localhost:8080/"
        },
        "collapsed": true,
        "id": "MgmfJ6Jz7Dqg",
        "outputId": "479124ed-e1aa-4da1-8458-2830afb14dfc"
      },
      "execution_count": null,
      "outputs": [
        {
          "output_type": "stream",
          "name": "stdout",
          "text": [
            "{'name': 'Kunal', 'sem': 4, 'subject': {'dsa': 99, 'stat': 99, 'math': 0}}\n",
            "{1: 44, 2: 555, 3: 565656, 4: 67657, 5: 56756756, 6: 4356534534}\n",
            "{1: 2, 2: 3, 4: 5}\n",
            "{'name': 'Wagh'}\n"
          ]
        }
      ]
    },
    {
      "cell_type": "code",
      "source": [
        "# accessing items of dict (['key'],get('key'))\n",
        "#-----> indexing will not work\n",
        "\n",
        "d1 = {\n",
        "    'name': 'Kunal',\n",
        "    'gender' : 'Male'\n",
        "}\n",
        "student = {\n",
        "    'name': 'Kunal',\n",
        "    'sem' : 4,\n",
        "    'subject': {\n",
        "        'dsa':99,\n",
        "        'stat':99,\n",
        "        'math':00\n",
        "    }\n",
        "}\n",
        "# 1. --->['key'] --> we will pass corresponding key\n",
        "\n",
        "print(d1['gender']) #------> if not exist, returns error\n",
        "print(student['subject']['dsa'])\n",
        "\n",
        "#2.---->get\n",
        "print(d1.get('gender')) # ---> if not exist then return none\n",
        "print(student.get('subject').get('dsa'))"
      ],
      "metadata": {
        "colab": {
          "base_uri": "https://localhost:8080/"
        },
        "collapsed": true,
        "id": "RllrxEOJJSNT",
        "outputId": "2f1c6c74-8614-4882-e1d3-f4b8f529b942"
      },
      "execution_count": null,
      "outputs": [
        {
          "output_type": "stream",
          "name": "stdout",
          "text": [
            "Male\n",
            "99\n",
            "Male\n",
            "99\n"
          ]
        }
      ]
    },
    {
      "cell_type": "code",
      "source": [
        "# adding key-value pair\n",
        "\n",
        "d1['New key'] = 'New value'\n",
        "print(d1)\n",
        "\n",
        "student['subject']['New subject'] = 100\n",
        "print(student)\n"
      ],
      "metadata": {
        "colab": {
          "base_uri": "https://localhost:8080/"
        },
        "collapsed": true,
        "id": "9H3j66pOPtil",
        "outputId": "21ec24d5-a274-4a22-8f40-893f3d96d810"
      },
      "execution_count": null,
      "outputs": [
        {
          "output_type": "stream",
          "name": "stdout",
          "text": [
            "{'name': 'Kunal', 'gender': 'Male', 'New key': 'New value'}\n",
            "{'name': 'Kunal', 'sem': 4, 'subject': {'dsa': 99, 'stat': 99, 'math': 0, 'New subject': 100}}\n"
          ]
        }
      ]
    },
    {
      "cell_type": "code",
      "source": [
        "# remove key-value pair\n",
        "\n",
        "d1 = {'name': 'Kunal', 'gender': 'Male', 'New key': 'New value',\n",
        "      'last key': 'last value'}\n",
        "print(d1)\n",
        "\n",
        "# pop -----> removes provided k-v pair, need to provide key\n",
        "d1.pop('New key')\n",
        "print(d1)\n",
        "\n",
        "# popitem ----> delets last key value pair\n",
        "d1.popitem()\n",
        "print(d1)\n",
        "\n",
        "# del ---> can delete all dictionary or specific key value pair\n",
        "del d1['gender'] # --------> removes gender --> work same as pop\n",
        "print (d1)\n",
        "\n",
        "# clear ---> cleares the content of dictionary\n",
        "d1.clear()\n",
        "print(d1)"
      ],
      "metadata": {
        "colab": {
          "base_uri": "https://localhost:8080/"
        },
        "collapsed": true,
        "id": "6fGVd4bXMNLS",
        "outputId": "bd46a81d-8788-4230-d3a8-9af1eaec96a0"
      },
      "execution_count": null,
      "outputs": [
        {
          "output_type": "stream",
          "name": "stdout",
          "text": [
            "{'name': 'Kunal', 'gender': 'Male', 'New key': 'New value', 'last key': 'last value'}\n",
            "{'name': 'Kunal', 'gender': 'Male', 'last key': 'last value'}\n",
            "{'name': 'Kunal', 'gender': 'Male'}\n",
            "{'name': 'Kunal'}\n",
            "{}\n"
          ]
        }
      ]
    },
    {
      "cell_type": "code",
      "source": [
        "# editing existing pair\n",
        "\n",
        "print(student)\n",
        "\n",
        "student['subject']['New subject'] = 99\n",
        "print(student)\n",
        "\n",
        "# rename key\n",
        "student['subject']['ML'] = student['subject'].pop('New subject') #--> pop return\n",
        "print(student)"
      ],
      "metadata": {
        "colab": {
          "base_uri": "https://localhost:8080/"
        },
        "collapsed": true,
        "id": "WmgkWyJnSXyi",
        "outputId": "2f8ce899-4789-4144-b39c-d5cc12a96261"
      },
      "execution_count": null,
      "outputs": [
        {
          "output_type": "stream",
          "name": "stdout",
          "text": [
            "{'name': 'Kunal', 'sem': 4, 'subject': {'dsa': 99, 'stat': 99, 'math': 0, 'ML': 99}}\n",
            "{'name': 'Kunal', 'sem': 4, 'subject': {'dsa': 99, 'stat': 99, 'math': 0, 'ML': 99, 'New subject': 99}}\n",
            "{'name': 'Kunal', 'sem': 4, 'subject': {'dsa': 99, 'stat': 99, 'math': 0, 'ML': 99}}\n"
          ]
        }
      ]
    },
    {
      "cell_type": "code",
      "source": [
        "# Operation - membership , loop\n",
        "\n",
        "# membership ---> in, not in\n",
        "d = {'name': 'Kunal', 'sem': 4,\n",
        " 'subject': {'dsa': 99, 'stat': 99, 'math': 0, 'ML': 99}}\n",
        "\n",
        "'Kunal' in d # ----> F as in dict, it searches only keys\n",
        "'name' in d # ----> T\n",
        "\n",
        "# loop\n",
        "\n",
        "for i in d:\n",
        "  print('key = ', i, '  value = ',d[i]) # will print keys in i"
      ],
      "metadata": {
        "colab": {
          "base_uri": "https://localhost:8080/"
        },
        "collapsed": true,
        "id": "OUfpLqY0T5GB",
        "outputId": "add455e0-de40-4f04-8887-687dd3f62369"
      },
      "execution_count": null,
      "outputs": [
        {
          "output_type": "stream",
          "name": "stdout",
          "text": [
            "key =  name   value =  Kunal\n",
            "key =  sem   value =  4\n",
            "key =  subject   value =  {'dsa': 99, 'stat': 99, 'math': 0, 'ML': 99}\n"
          ]
        }
      ]
    },
    {
      "cell_type": "code",
      "source": [
        "# Dictionary Function - len/sorted\n",
        "\n",
        "d1 = {'name': 'Kunal', 'gender': 'Male', 'New key': 'New value',\n",
        "      'last key': 'last value','emp': None}\n",
        "\n",
        "print(len(d1)) # -------> number of key value pair\n",
        "print(sorted(d1)) #-------> sort the key on basis of ASCII\n",
        "print(min(d1))\n",
        "print(max(d1))"
      ],
      "metadata": {
        "colab": {
          "base_uri": "https://localhost:8080/"
        },
        "collapsed": true,
        "id": "1oEt_0hOo9EP",
        "outputId": "12755788-f626-4f04-f29b-901bba00845b"
      },
      "execution_count": null,
      "outputs": [
        {
          "output_type": "stream",
          "name": "stdout",
          "text": [
            "5\n",
            "['New key', 'emp', 'gender', 'last key', 'name']\n",
            "New key\n",
            "name\n"
          ]
        }
      ]
    },
    {
      "cell_type": "code",
      "source": [
        "# items/keys/values\n",
        "\n",
        "print(d1.items()) # shows the k-v pairs in list of tuples\n",
        "print(d1.keys()) # prints list of keys\n",
        "print(d1.values()) # print list of values"
      ],
      "metadata": {
        "colab": {
          "base_uri": "https://localhost:8080/"
        },
        "collapsed": true,
        "id": "yndQa0r_pnYo",
        "outputId": "ceabb3cc-31fe-4715-c7ee-60b2cbf3852d"
      },
      "execution_count": null,
      "outputs": [
        {
          "output_type": "stream",
          "name": "stdout",
          "text": [
            "dict_items([('name', 'Kunal'), ('gender', 'Male'), ('New key', 'New value'), ('last key', 'last value'), ('emp', None)])\n",
            "dict_keys(['name', 'gender', 'New key', 'last key', 'emp'])\n",
            "dict_values(['Kunal', 'Male', 'New value', 'last value', None])\n"
          ]
        }
      ]
    },
    {
      "cell_type": "code",
      "source": [
        "# update ----> permenant change -> updates one dict. with other\n",
        "\n",
        "d1 = {1:2,3:4,4:5}\n",
        "d2 = {3:999,4:0000,5:4444}\n",
        "d1.update(d2)\n",
        "print(d1) # d1 will have all the d2 k-v pairs and update values\n"
      ],
      "metadata": {
        "colab": {
          "base_uri": "https://localhost:8080/"
        },
        "collapsed": true,
        "id": "Y031dZjOqJzd",
        "outputId": "bc618053-46c6-403a-ba2a-a4215ba27b13"
      },
      "execution_count": null,
      "outputs": [
        {
          "output_type": "stream",
          "name": "stdout",
          "text": [
            "{1: 2, 3: 999, 4: 0, 5: 4444}\n"
          ]
        }
      ]
    },
    {
      "cell_type": "code",
      "source": [
        "# dict comprehension- { 'key':'value' for 'vars' in iterable }\n",
        "\n",
        "# print first 10 numbers with squares\n",
        "d = {i:i**2 for i in range(1,11)} # instead of expression, k-v relation\n",
        "print(d)\n",
        "#------------------------------------------------------------------------------\n",
        "\n",
        "# using existing dict\n",
        "distances = { 'pune' : 1000,'Mumbai': 2000,'nashik' : 3000}\n",
        "nd = {i:j/100 for (i,j) in distances.items()}\n",
        "print(nd)\n",
        "\n",
        "#------------------------------------------------------------------------------\n",
        "# using zip()\n",
        "\n",
        "d = [\"Sun\", \"Monday\", \"Tuesday\", \"Wednesday\", \"Thursday\", \"Friday\", \"Saturday\"]\n",
        "temp = [30.5, 32.6, 31.8, 33.4, 29.8, 30.2, 29.9]\n",
        "\n",
        "dc = {i:j for i,j in zip(d,temp)}\n",
        "print(dc)\n",
        "\n",
        "#------------------------------------------------------------------------------\n",
        "# if condition - temp > 31\n",
        "d = {'Mon': 32.6,'Tue':31.8,'Wed':33.4,'Thu': 29.8,'Fri':30.2,}\n",
        "\n",
        "du = {i:j for i,j in d.items() if j > 31}\n",
        "print(du)\n",
        "#------------------------------------------------------------------------------\n",
        "# nested comprehension\n",
        "{i:{j:i*j for j in range(1,11)} for i in range(1,4)} # focus on i : {j iter.}"
      ],
      "metadata": {
        "colab": {
          "base_uri": "https://localhost:8080/"
        },
        "collapsed": true,
        "id": "zyh0lPWerDvt",
        "outputId": "2384546e-ef3c-4963-eff6-aa1e7a974e2e"
      },
      "execution_count": null,
      "outputs": [
        {
          "output_type": "stream",
          "name": "stdout",
          "text": [
            "{1: 1, 2: 4, 3: 9, 4: 16, 5: 25, 6: 36, 7: 49, 8: 64, 9: 81, 10: 100}\n",
            "{'pune': 10.0, 'Mumbai': 20.0, 'nashik': 30.0}\n",
            "{'Sun': 30.5, 'Monday': 32.6, 'Tuesday': 31.8, 'Wednesday': 33.4, 'Thursday': 29.8, 'Friday': 30.2, 'Saturday': 29.9}\n",
            "{'Mon': 32.6, 'Tue': 31.8, 'Wed': 33.4}\n"
          ]
        },
        {
          "output_type": "execute_result",
          "data": {
            "text/plain": [
              "{1: {1: 1, 2: 2, 3: 3, 4: 4, 5: 5, 6: 6, 7: 7, 8: 8, 9: 9, 10: 10},\n",
              " 2: {1: 2, 2: 4, 3: 6, 4: 8, 5: 10, 6: 12, 7: 14, 8: 16, 9: 18, 10: 20},\n",
              " 3: {1: 3, 2: 6, 3: 9, 4: 12, 5: 15, 6: 18, 7: 21, 8: 24, 9: 27, 10: 30}}"
            ]
          },
          "metadata": {},
          "execution_count": 231
        }
      ]
    },
    {
      "cell_type": "markdown",
      "source": [
        "# *functions*"
      ],
      "metadata": {
        "id": "1Ac3VwBLBM36"
      }
    },
    {
      "cell_type": "code",
      "source": [
        "# block of code --> for certain input, you will get desired output\n",
        "# code reusability\n",
        "\n",
        "# 1 . Abstraction ---> code is there but we can;t see it\n",
        "# 2 . Decomposition --> small smaall bits make whole thing--> function thinking"
      ],
      "metadata": {
        "id": "-12QyQqHBPHU"
      },
      "execution_count": null,
      "outputs": []
    },
    {
      "cell_type": "code",
      "source": [
        "def fun_name(input_name): # ---> function to check if even name(i)\n",
        "  ''' Doc string '''\n",
        "  x = input_name %2 == 0 #----------> body of function\n",
        "  return x # ---------> return statement\n",
        "\n",
        "fun_name(45)  # -----> calling function"
      ],
      "metadata": {
        "colab": {
          "base_uri": "https://localhost:8080/"
        },
        "id": "EYn0iih5B8Lq",
        "outputId": "6ca8deb5-e0f1-48a8-9032-b7655725a0c3"
      },
      "execution_count": null,
      "outputs": [
        {
          "output_type": "execute_result",
          "data": {
            "text/plain": [
              "False"
            ]
          },
          "metadata": {},
          "execution_count": 232
        }
      ]
    },
    {
      "cell_type": "code",
      "source": [
        "# odd or even function\n",
        "\n",
        "def is_even_odd(i): # i is parameter\n",
        "  '''\n",
        "  This function returns if given function is odd or even\n",
        "  input - any valid integer\n",
        "  output - odd/even\n",
        "  created on - 8/12/2025\n",
        "  created by - Kunal Wagh\n",
        "  '''\n",
        "  if type(i) == int: # we can also use isinstance(i, int) or (i,(int,float))\n",
        "    if i % 2 == 0:\n",
        "      return 'even'\n",
        "    else:\n",
        "      return 'odd'\n",
        "  else:\n",
        "    return print('Please put valid integer !!! ')\n",
        "#------------------------------------------------------------------------------\n",
        "\n",
        "for i in range(1,6):\n",
        "  x = is_even_odd(i) # here i is argument\n",
        "  print('given number {} is {}'.format(i,x))\n",
        "\n",
        "print('-'*50)\n",
        "\n",
        "is_even_odd('Kunal') # this will throw error -> make sure code handles all input\n",
        "print('-'*50)\n",
        "#------------------------------------------------------------------------------\n",
        "\n",
        "# to get the documentation ---\n",
        "\n",
        "print(is_even_odd.__doc__)\n",
        "print(print.__doc__)"
      ],
      "metadata": {
        "colab": {
          "base_uri": "https://localhost:8080/"
        },
        "collapsed": true,
        "id": "xo7o_jGwCp3-",
        "outputId": "8075ed12-cf84-4f0d-866d-636b9fac5911"
      },
      "execution_count": null,
      "outputs": [
        {
          "output_type": "stream",
          "name": "stdout",
          "text": [
            "given number 1 is odd\n",
            "given number 2 is even\n",
            "given number 3 is odd\n",
            "given number 4 is even\n",
            "given number 5 is odd\n",
            "--------------------------------------------------\n",
            "Please put valid integer !!! \n",
            "--------------------------------------------------\n",
            "\n",
            "  This function returns if given function is odd or even\n",
            "  input - any valid integer\n",
            "  output - odd/even\n",
            "  created on - 8/12/2025\n",
            "  created by - Kunal Wagh\n",
            "  \n",
            "Prints the values to a stream, or to sys.stdout by default.\n",
            "\n",
            "  sep\n",
            "    string inserted between values, default a space.\n",
            "  end\n",
            "    string appended after the last value, default a newline.\n",
            "  file\n",
            "    a file-like object (stream); defaults to the current sys.stdout.\n",
            "  flush\n",
            "    whether to forcibly flush the stream.\n"
          ]
        }
      ]
    },
    {
      "cell_type": "code",
      "source": [
        "# types of argument\n",
        "\n",
        "# 1. Default argument --->\n",
        "def power(a =1, b = 1): # we provide default values for a and b\n",
        "  return print(a**b)\n",
        "\n",
        "power() # this will not throw error as by default it will take value a=1 & b=1\n",
        "power(2)\n",
        "\n",
        "#------------------------------------------------------------------------------\n",
        "# 2. Positional argument ----> python follows pattern 1 arg 1 par 2 arg 2 para\n",
        "power(3,4) #------> here a = 3 and b = 4  will be picked by default\n",
        "\n",
        "#------------------------------------------------------------------------------\n",
        "# 3. Keyword argument ----> keyword has precedence over positional\n",
        "power(b = 3 , a = 2) # it should be with exact names only\n"
      ],
      "metadata": {
        "colab": {
          "base_uri": "https://localhost:8080/"
        },
        "id": "eaecVFiLFSav",
        "outputId": "ffcbedb4-4ba4-4461-a7d5-bc994566d867"
      },
      "execution_count": null,
      "outputs": [
        {
          "output_type": "stream",
          "name": "stdout",
          "text": [
            "1\n",
            "2\n",
            "81\n",
            "8\n"
          ]
        }
      ]
    },
    {
      "cell_type": "markdown",
      "source": [
        "## `- *args and **kwargs`"
      ],
      "metadata": {
        "id": "Fqq9CHlFLEDM"
      }
    },
    {
      "cell_type": "code",
      "source": [
        "# use to pass variable length of arguments\n",
        "\n",
        "# args --> allows us to pass non keyword arguments\n",
        "\n",
        "def mult(*numbers): # ---> can use any name word instead of 'numbers'\n",
        "  product = 1\n",
        "  # print(numbers)  # ---> internally it created tuple of entries\n",
        "  for i in numbers:\n",
        "    product *= i\n",
        "  return product\n",
        "#------------------------------------------------------------------------------\n",
        "mult(1,3,4,5,5)\n"
      ],
      "metadata": {
        "colab": {
          "base_uri": "https://localhost:8080/"
        },
        "id": "pqsTTjgqLDb5",
        "outputId": "34256426-873e-4430-f3e5-4eab1385f4ca"
      },
      "execution_count": null,
      "outputs": [
        {
          "output_type": "stream",
          "name": "stdout",
          "text": [
            "None\n"
          ]
        }
      ]
    },
    {
      "cell_type": "code",
      "source": [
        "# kwargs --> allows us to pass keyeword agruments (key-value pairs)\n",
        "\n",
        "\n",
        "def disp(**kwargs):\n",
        "  print(kwargs) # ------->  python will convert it into dictionary\n",
        "  for (key,value) in kwargs.items():\n",
        "    print(key,'->',value)\n",
        "#------------------------------------------------------------------------------\n",
        "disp(Ind = 'Del', SriLanka = 'Col') # ---> like keyword arguments we gave above"
      ],
      "metadata": {
        "colab": {
          "base_uri": "https://localhost:8080/"
        },
        "id": "KHUBPPb_NmJM",
        "outputId": "4cbd3eb3-ad3f-474c-91db-0d4e44b8917f"
      },
      "execution_count": null,
      "outputs": [
        {
          "output_type": "stream",
          "name": "stdout",
          "text": [
            "{'Ind': 'Del', 'SriLanka': 'Col'}\n",
            "Ind -> Del\n",
            "SriLanka -> Col\n"
          ]
        }
      ]
    },
    {
      "cell_type": "code",
      "source": [
        "# ----> order of arguments matter (number , *args , **kwargs)"
      ],
      "metadata": {
        "id": "8NtLE4y9PbOI"
      },
      "execution_count": null,
      "outputs": []
    },
    {
      "cell_type": "markdown",
      "source": [
        "## *- def in memory*"
      ],
      "metadata": {
        "id": "4MQ829QaQSvO"
      }
    },
    {
      "cell_type": "code",
      "source": [
        "# how function executes in ram---->\n",
        "\n",
        "\n",
        "def fun_name(input_name):\n",
        "  ''' Doc string '''\n",
        "  x = input_name %2 == 0\n",
        "  return x\n",
        "\n",
        "fun_name(45)  # -----> calling function\n",
        "\n",
        "\n",
        "# def --> python ignores and jumps\n",
        "# fun_name --> jumps to function --> creates a block in memory\n",
        "# it behaves as independent program (ram = city, global frame = house, fun=room)\n",
        "# execution done is room and after execution ---> gets distroyed\n",
        "# active ---> between call and return"
      ],
      "metadata": {
        "id": "YYSL2C8pQRvi"
      },
      "execution_count": null,
      "outputs": []
    },
    {
      "cell_type": "code",
      "source": [
        "# without return statement\n",
        "def fun_name(input_name):\n",
        "  ''' Doc string '''\n",
        "  x = input_name %2 == 0\n",
        "  print(x)\n",
        "\n",
        "fun_name(45)\n",
        "print(fun_name(45)) #--------> return none\n",
        "\n",
        "# even if we do't provide any return value, it will still returns none\n",
        "\n",
        "l = [1,2,3,4]\n",
        "print(l.append(4)) # some function dosen't return --> just does the operation"
      ],
      "metadata": {
        "colab": {
          "base_uri": "https://localhost:8080/"
        },
        "id": "77vNtL_8RoEf",
        "outputId": "9ad341d5-2bc0-49d0-ee89-61a529e990db"
      },
      "execution_count": null,
      "outputs": [
        {
          "output_type": "stream",
          "name": "stdout",
          "text": [
            "False\n",
            "False\n",
            "None\n",
            "None\n"
          ]
        }
      ]
    },
    {
      "cell_type": "markdown",
      "source": [
        "## *- variable scope*"
      ],
      "metadata": {
        "id": "SSewF4OgT-K-"
      }
    },
    {
      "cell_type": "code",
      "source": [
        "#--------------------------------below --> local ->function scope---> local var.\n",
        "def g(y):\n",
        "  print(x)\n",
        "  print(x+1)\n",
        "#----------------------------below --> global -> main prog. scope -> global var.\n",
        "x = 5\n",
        "g(x)\n",
        "print(x)\n",
        "#-------------------------------------------------------------------------------\n",
        "# x -> global varible\n",
        "# y -> local\n",
        "\n",
        "# global can't use local but local can use global variable"
      ],
      "metadata": {
        "id": "evutoKbWT8il"
      },
      "execution_count": null,
      "outputs": []
    },
    {
      "cell_type": "code",
      "source": [
        "def f(y):\n",
        "  x = 1  # if it hase value then it will not look after global -> no reletion\n",
        "  x += 1\n",
        "  print(x)\n",
        "\n",
        "x = 5\n",
        "f(x)\n",
        "print(x)\n",
        "\n",
        "# output ->   2 5"
      ],
      "metadata": {
        "colab": {
          "base_uri": "https://localhost:8080/"
        },
        "id": "zyOhSLPRVxr5",
        "outputId": "d7c4d20a-d3d5-4c70-84ff-0c79bbd05f31"
      },
      "execution_count": null,
      "outputs": [
        {
          "output_type": "stream",
          "name": "stdout",
          "text": [
            "2\n",
            "5\n"
          ]
        }
      ]
    },
    {
      "cell_type": "code",
      "source": [
        "def h(y):\n",
        "  x += 1 # changes in global variable is not allowed if taken from global\n",
        "# it is logical because if other fun. are using it, it will create chaos\n",
        "x = 5\n",
        "# h(x) -------> due to this, it will throw error\n",
        "print(x)"
      ],
      "metadata": {
        "colab": {
          "base_uri": "https://localhost:8080/"
        },
        "id": "lFTTMI1-ZY1P",
        "outputId": "70580fa7-2fea-48b1-f453-792c8d5057c3"
      },
      "execution_count": null,
      "outputs": [
        {
          "output_type": "stream",
          "name": "stdout",
          "text": [
            "5\n"
          ]
        }
      ]
    },
    {
      "cell_type": "code",
      "source": [
        "# we can change it\n",
        "\n",
        "def h(y):\n",
        "  global x # we have to define it that it is global --> but avoid this\n",
        "  x += 1\n",
        "\n",
        "x = 5\n",
        "h(x)\n",
        "print(x)"
      ],
      "metadata": {
        "colab": {
          "base_uri": "https://localhost:8080/"
        },
        "id": "SvAPmtHGbOKe",
        "outputId": "387eb71f-fd3b-47bf-a6b2-c23cdc58edec"
      },
      "execution_count": null,
      "outputs": [
        {
          "output_type": "stream",
          "name": "stdout",
          "text": [
            "6\n"
          ]
        }
      ]
    },
    {
      "cell_type": "code",
      "source": [
        "def f(x):\n",
        "  x = x + 1\n",
        "  print('in f(x) : x = ', x) # if it runs in def -> it will print\n",
        "  return x\n",
        "\n",
        "x = 3\n",
        "z = f(x) # here it is giving x = 3 as input\n",
        "\n",
        "print('in main program scope z is ', z)\n",
        "print('in main program scope x is ', x)\n"
      ],
      "metadata": {
        "colab": {
          "base_uri": "https://localhost:8080/"
        },
        "id": "goU--loLhioo",
        "outputId": "4baa95eb-4656-44f9-e126-ab22060776ee"
      },
      "execution_count": null,
      "outputs": [
        {
          "output_type": "stream",
          "name": "stdout",
          "text": [
            "in f(x) : x =  4\n",
            "in main program scope z is  4\n",
            "in main program scope x is  3\n"
          ]
        }
      ]
    },
    {
      "cell_type": "markdown",
      "source": [
        "### *-- variable scope for mutable objects*"
      ],
      "metadata": {
        "id": "lm-SS4dnPR2c"
      }
    },
    {
      "cell_type": "code",
      "source": [
        "''' Mutable objects (list, dict, set, bytearray, custom classes) →\n",
        "Changes inside a function (mutation) affect the original object.\n",
        " '''\n",
        "\n",
        "\n",
        "def func(a):\n",
        "  a.append(4)\n",
        "\n",
        "\n",
        "a = [1,2,3]\n",
        "\n",
        "func(a)\n",
        "\n",
        "print(a)"
      ],
      "metadata": {
        "id": "DUPh6ZzlPPT8",
        "colab": {
          "base_uri": "https://localhost:8080/"
        },
        "outputId": "4801e807-bb9b-4bf4-8271-48c189f8b8d7"
      },
      "execution_count": null,
      "outputs": [
        {
          "output_type": "stream",
          "name": "stdout",
          "text": [
            "[1, 2, 3, 4]\n"
          ]
        }
      ]
    },
    {
      "cell_type": "markdown",
      "source": [
        "## *- nested functions*"
      ],
      "metadata": {
        "id": "1ilzdIStintF"
      }
    },
    {
      "cell_type": "code",
      "source": [
        "def f():\n",
        "  def g():\n",
        "    print('inside function g')\n",
        "    # f() # recursion\n",
        "  g()\n",
        "  print('inside function f')\n",
        "\n",
        "\n",
        "f() # ------> with the flow first g and then f\n",
        "\n",
        "# g() # error ---> hidden from main program. only outside program can call it\n"
      ],
      "metadata": {
        "colab": {
          "base_uri": "https://localhost:8080/"
        },
        "id": "1awNkKdBim5F",
        "outputId": "67bea2c9-47d2-4b78-d7fd-008fae84775f"
      },
      "execution_count": null,
      "outputs": [
        {
          "output_type": "stream",
          "name": "stdout",
          "text": [
            "inside function g\n",
            "inside function f\n"
          ]
        }
      ]
    },
    {
      "cell_type": "code",
      "source": [
        "def g(x):\n",
        "  def h():\n",
        "    x = 'abc' #-----> this x is independent\n",
        "  x = x + 1\n",
        "  print('in g(x) x = ',x) # -----> this x is for g(x)\n",
        "  h() # -----> its x has value but it is different than the g(x)\n",
        "  return x # still picking the value of x from g(x)\n",
        "\n",
        "x = 3\n",
        "z = g(x)\n",
        "\n",
        "print(z)\n"
      ],
      "metadata": {
        "colab": {
          "base_uri": "https://localhost:8080/"
        },
        "id": "8Q9UTduAkOaN",
        "outputId": "6a09f2fb-e55a-4a8e-db9e-fbd21bb4d938"
      },
      "execution_count": null,
      "outputs": [
        {
          "output_type": "stream",
          "name": "stdout",
          "text": [
            "in g(x) x =  4\n",
            "4\n"
          ]
        }
      ]
    },
    {
      "cell_type": "code",
      "source": [
        "def g(x):\n",
        "    def h(x):\n",
        "        x = x + 1\n",
        "        print(\"in h(x): x = \", x)\n",
        "    x = x + 1\n",
        "    print('in g(x): x = ', x)\n",
        "    h(x) # ---> important step\n",
        "    return x # ---> important step\n",
        "\n",
        "x = 3\n",
        "z = g(x)\n",
        "print('in main program scope: x = ', x)\n",
        "print('in main program scope: z = ', z)\n",
        "\n",
        "\n",
        "# g x = 4\n",
        "# h x = 5\n",
        "# x = 3\n",
        "# z  = 4"
      ],
      "metadata": {
        "colab": {
          "base_uri": "https://localhost:8080/"
        },
        "collapsed": true,
        "id": "zwcQjDTnlqes",
        "outputId": "6f800390-51a2-4320-e6a8-0595cc4b6f6d"
      },
      "execution_count": null,
      "outputs": [
        {
          "output_type": "stream",
          "name": "stdout",
          "text": [
            "in g(x): x =  4\n",
            "in h(x): x =  5\n",
            "in main program scope: x =  3\n",
            "in main program scope: z =  4\n"
          ]
        }
      ]
    },
    {
      "cell_type": "markdown",
      "source": [
        "## *- def as first class citizen*"
      ],
      "metadata": {
        "id": "xspMpZ3jn-7T"
      }
    },
    {
      "cell_type": "code",
      "source": [
        "# entity supports all operations generally ------> all data type + functions\n",
        "\n",
        "# passed as argument\n",
        "# return from function\n",
        "# assigned to variable\n",
        "#-----------------------------------------------------------------------------\n",
        "# type, id\n",
        "def square(sum):\n",
        "  return sum**2\n",
        "\n",
        "print(type(square)) #------>  class function\n",
        "print(id(square)) # -------> it has its own id\n",
        "#-----------------------------------------------------------------------------\n",
        "# assign\n",
        "\n",
        "x = square\n",
        "print(id(x))\n",
        "print(x(2)) # rename the function\n",
        "\n",
        "#-----------------------------------------------------------------------------\n",
        "# delete the function\n",
        "\n",
        "# del square  # will delete the function\n",
        "square(3)\n",
        "\n",
        "#-----------------------------------------------------------------------------\n",
        "# storing\n",
        "\n",
        "l = [1,2,3,square] #----------> will get stored in list\n",
        "print(l)\n",
        "l[-1](3) #-------> this will print square of 3\n",
        "#-----------------------------------------------------------------------------\n",
        "\n",
        "# mutable or not\n",
        "\n",
        "s = {square} # -----> can store in set, therefore immutable\n",
        "\n",
        "#-----------------------------------------------------------------------------\n",
        "\n",
        "# returning a function\n",
        "\n",
        "def f():\n",
        "  def x(a,b):\n",
        "    return a + b\n",
        "  return x # ------> this is function object itslef not some random x\n",
        "\n",
        "\n",
        "val = f()(3,4) # called f() --> returned x thefore -> x(3,4) and it will work\n",
        "print(val)\n",
        "\n",
        "#-------------------Below ---v\n",
        "\n",
        "# easiest way is to look at it like this --->\n",
        "\n",
        "def f():\n",
        "  def inner_func(a,b):\n",
        "    return a + b\n",
        "  return inner_func # as it is accessed by outside fun not from outside global\n",
        "\n",
        "\n",
        "val = f()(3,4) # called f() --> returned x thefore -> x(3,4) and it will work\n",
        "print(val)\n",
        "\n",
        "# innner_func(2,3) -----> this will throw error as we are calling from outside\n",
        "\n",
        "#-----------------------------------------------------------------------------\n",
        "# function as argument\n",
        "\n",
        "def func_a():\n",
        "    print('inside func_a')\n",
        "\n",
        "def func_b(z):\n",
        "    print('inside func_b')\n",
        "    return z()\n",
        "\n",
        "(func_b(func_a))\n"
      ],
      "metadata": {
        "colab": {
          "base_uri": "https://localhost:8080/"
        },
        "collapsed": true,
        "id": "VK04BqJBn-XJ",
        "outputId": "100a86ee-6909-452d-e484-ea1992ce680a"
      },
      "execution_count": null,
      "outputs": [
        {
          "output_type": "stream",
          "name": "stdout",
          "text": [
            "<class 'function'>\n",
            "136791766663872\n",
            "136791766663872\n",
            "4\n",
            "[1, 2, 3, <function square at 0x7c6950a902c0>]\n",
            "7\n",
            "7\n",
            "inside func_b\n",
            "inside func_a\n"
          ]
        }
      ]
    },
    {
      "cell_type": "markdown",
      "source": [
        "## *- lambda function*"
      ],
      "metadata": {
        "id": "FhQAy5SUuejT"
      }
    },
    {
      "cell_type": "code",
      "source": [
        "# little anonymus function\n",
        "\n",
        "# lambda a,b : expression\n",
        "\n",
        "a = lambda x : x**2\n",
        "a(5)\n",
        "\n",
        "# ------> no name\n",
        "# ------> no return --> return function\n",
        "# ------> always written in one line\n",
        "# ------> not reusable\n",
        "# ------> used in higher order function\n",
        "\n",
        "#------------------------------------------------------------------------------\n",
        "\n",
        "# check if string has a\n",
        "a = lambda a : 'a' in a\n",
        "\n",
        "print(a('ha')) # true\n",
        "\n",
        "#------------------------------------------------------------------------------\n",
        "\n",
        "# odd or even\n",
        "\n",
        "f = lambda x : 'even' if x %2 == 0 else 'odd'\n",
        "f(34)\n",
        "\n",
        "\n"
      ],
      "metadata": {
        "colab": {
          "base_uri": "https://localhost:8080/",
          "height": 52
        },
        "id": "_2iDr8akueHr",
        "outputId": "67c3ffdf-6eb9-45c5-8a72-52ac258752b3"
      },
      "execution_count": null,
      "outputs": [
        {
          "output_type": "stream",
          "name": "stdout",
          "text": [
            "True\n"
          ]
        },
        {
          "output_type": "execute_result",
          "data": {
            "text/plain": [
              "'even'"
            ],
            "application/vnd.google.colaboratory.intrinsic+json": {
              "type": "string"
            }
          },
          "metadata": {},
          "execution_count": 50
        }
      ]
    },
    {
      "cell_type": "markdown",
      "source": [
        "## *- Higer order function*"
      ],
      "metadata": {
        "id": "l0WWedvHwHQy"
      }
    },
    {
      "cell_type": "code",
      "source": [
        "# Functions which returns other function or\n",
        "# Function which takes other function as input\n",
        "\n",
        "def square(x):\n",
        "  return x**2\n",
        "\n",
        "def transform(v,l):\n",
        "  output = []\n",
        "  for i in l:\n",
        "    output.append(v(i)) # we have given function as v\n",
        "\n",
        "  print(output)\n",
        "\n",
        "#------------------------------------------------------------------------------\n",
        "\n",
        "l = [1,3,4,5,6,7]\n",
        "transform(square,l)\n",
        "\n",
        "#------------------------------------------------------------------------------\n",
        "\n",
        "transform(lambda x : x**2,l) # instead of making multiple function for sq. cube\n"
      ],
      "metadata": {
        "colab": {
          "base_uri": "https://localhost:8080/"
        },
        "id": "WhpxnQjvwGnb",
        "outputId": "7e33d300-e713-4bec-f098-1ab0559b3c21"
      },
      "execution_count": null,
      "outputs": [
        {
          "output_type": "stream",
          "name": "stdout",
          "text": [
            "[1, 9, 16, 25, 36, 49]\n",
            "[1, 9, 16, 25, 36, 49]\n"
          ]
        }
      ]
    },
    {
      "cell_type": "markdown",
      "source": [
        "### *-- map*"
      ],
      "metadata": {
        "id": "WqCUlnBKx7jo"
      }
    },
    {
      "cell_type": "code",
      "source": [
        "# expect lambda and list\n",
        "# we can apply any logic over the list\n",
        "#------------------------------------------------------------------------------\n",
        "l = [2,3,4,5,6]\n",
        "\n",
        "k = map(lambda x : x**2 , l) # ------> this will return map object\n",
        "print(list(k)) # we can typecast it\n",
        "#------------------------------------------------------------------------------\n",
        "# need to return odd even\n",
        "\n",
        "k = map(lambda x : 'even' if x %2 == 0 else 'odd',l)\n",
        "print(list(k))\n",
        "\n",
        "\n",
        "k = [\n",
        "  {\n",
        "    \"name\": \"Rahul\",\n",
        "    \"age\": 45,\n",
        "    \"gender\": \"male\"\n",
        "  },\n",
        "  {\n",
        "    \"name\": \"Nitish\",\n",
        "    \"age\": 33,\n",
        "    \"gender\": \"male\"\n",
        "  },\n",
        "  {\n",
        "    \"name\": \"Ankita\",\n",
        "    \"age\": 50,\n",
        "    \"gender\": \"female\"\n",
        "  }\n",
        "]\n",
        "\n",
        "list(map(lambda x : x['name'],k)) # will go to each element and index name"
      ],
      "metadata": {
        "colab": {
          "base_uri": "https://localhost:8080/"
        },
        "id": "G-1hoZevx6_3",
        "outputId": "20ee733c-f272-4847-91aa-d378a2fe606e"
      },
      "execution_count": null,
      "outputs": [
        {
          "output_type": "stream",
          "name": "stdout",
          "text": [
            "[4, 9, 16, 25, 36]\n",
            "['even', 'odd', 'even', 'odd', 'even']\n"
          ]
        },
        {
          "output_type": "execute_result",
          "data": {
            "text/plain": [
              "['Rahul', 'Nitish', 'Ankita']"
            ]
          },
          "metadata": {},
          "execution_count": 61
        }
      ]
    },
    {
      "cell_type": "markdown",
      "source": [
        "### *-- filter*"
      ],
      "metadata": {
        "id": "TpsjekuU0TI-"
      }
    },
    {
      "cell_type": "code",
      "source": [
        "# filters based on given condition on list\n",
        "#------------------------------------------------------------------------------\n",
        "# filter numbers greater than 4 -->\n",
        "l = [1,2,3,4,5,6,7,8]\n",
        "\n",
        "nl = filter(lambda x : x > 4 , l)\n",
        "print(list(nl))\n",
        "#------------------------------------------------------------------------------\n",
        "# filter element contains a only  ---->\n",
        "fruits = ['apple','cherry','banana']\n",
        "\n",
        "nf = filter(lambda x : x.startswith('a'),fruits)\n",
        "print(list(nf))"
      ],
      "metadata": {
        "colab": {
          "base_uri": "https://localhost:8080/"
        },
        "id": "mNFfbc_I0VUW",
        "outputId": "9019ce17-fd96-49f0-a9b3-7ff16c54180b"
      },
      "execution_count": null,
      "outputs": [
        {
          "output_type": "stream",
          "name": "stdout",
          "text": [
            "[5, 6, 7, 8]\n",
            "['apple']\n"
          ]
        }
      ]
    },
    {
      "cell_type": "markdown",
      "source": [
        "### *-- reduce*"
      ],
      "metadata": {
        "id": "pA-MKVI-1MJz"
      }
    },
    {
      "cell_type": "code",
      "source": [
        "# it is in module functools\n",
        "\n",
        "import functools as f\n",
        "l = [1,2,3,4,5]\n",
        "\n",
        "f.reduce(lambda x,y : x + y, l) # it will carry out operation one by one"
      ],
      "metadata": {
        "colab": {
          "base_uri": "https://localhost:8080/"
        },
        "id": "Rght2HqB1Loe",
        "outputId": "200743d2-9d48-4cbc-b018-1ec615c8d38d"
      },
      "execution_count": null,
      "outputs": [
        {
          "output_type": "execute_result",
          "data": {
            "text/plain": [
              "15"
            ]
          },
          "metadata": {},
          "execution_count": 65
        }
      ]
    },
    {
      "cell_type": "code",
      "source": [
        "# find min\n",
        "\n",
        "f.reduce(lambda x,y : x if x < y else y,l)"
      ],
      "metadata": {
        "colab": {
          "base_uri": "https://localhost:8080/"
        },
        "id": "-KuzMIcE13Z2",
        "outputId": "957bc5aa-ac21-41e4-8045-3140acccf2ec"
      },
      "execution_count": null,
      "outputs": [
        {
          "output_type": "execute_result",
          "data": {
            "text/plain": [
              "1"
            ]
          },
          "metadata": {},
          "execution_count": 66
        }
      ]
    },
    {
      "cell_type": "markdown",
      "source": [
        "# *Array - [ Interview Questions ]*"
      ],
      "metadata": {
        "id": "39Qy_1R5Dxcw"
      }
    },
    {
      "cell_type": "code",
      "source": [
        "# codes are relatively easier - Mostly on arrays and strings\n",
        "# simple solution --> improve --> intution on python tuter"
      ],
      "metadata": {
        "id": "hD31qIMhDwVx"
      },
      "execution_count": null,
      "outputs": []
    },
    {
      "cell_type": "code",
      "source": [
        "# maximum subarray -\n",
        "\n",
        "l = [-2,4,7,-1,6,-11,14,3,-1,-5]\n",
        "\n",
        "# extarct sub array which has maximum sum --> continious items\n",
        "\n",
        "# extract the list ---> use sum --> put it in the dict.\n",
        "\n",
        "d = {}\n",
        "for i in range(0,len(l)):\n",
        "  for j in range(i,len(l)):\n",
        "    # print(l[i:j+1],sum(l[i:j+1]))\n",
        "    d[sum(l[i:j+1])] = l[i:j+1] # or can make empty list and append it\n",
        "\n",
        "max_key = max(d.keys())\n",
        "\n",
        "print(max_key,d[max_key])\n",
        "\n",
        "# time complexity - O(n**2) ---------> not good"
      ],
      "metadata": {
        "colab": {
          "base_uri": "https://localhost:8080/"
        },
        "id": "ygCT-PSZF073",
        "outputId": "45e96c97-e354-48ad-a683-acf933ed68bb"
      },
      "execution_count": null,
      "outputs": [
        {
          "output_type": "stream",
          "name": "stdout",
          "text": [
            "22 [4, 7, -1, 6, -11, 14, 3]\n"
          ]
        }
      ]
    },
    {
      "cell_type": "code",
      "source": [
        "# improved code - Kadane's Algorithn\n",
        "\n",
        "# current sum\n",
        "# current sum sub array\n",
        "# best sume\n",
        "# best sub array\n",
        "\n",
        "l = [-2,4,7,-1,6,-11,14,3,-1,-5]\n",
        "\n",
        "best_sum = 0\n",
        "best_sequence = []\n",
        "current_sum = l[0]\n",
        "current_sequence  = []\n",
        "\n",
        "for i in l:\n",
        "  if i + current_sum > i :\n",
        "    current_sum =  current_sum + i\n",
        "    current_sequence.append(i)\n",
        "  else:\n",
        "    current_sum = i\n",
        "    current_sequence.clear()\n",
        "    current_sequence.append(i)\n",
        "  if current_sum > best_sum:\n",
        "    best_sum = current_sum\n",
        "    best_sequence = current_sequence.copy() # ----> will effect if change later\n",
        "\n",
        "print(best_sum,best_sequence)"
      ],
      "metadata": {
        "colab": {
          "base_uri": "https://localhost:8080/"
        },
        "id": "iCqp7ugSN_4h",
        "outputId": "faa4f232-cbdf-4d34-dfde-e183674d82e3"
      },
      "execution_count": null,
      "outputs": [
        {
          "output_type": "stream",
          "name": "stdout",
          "text": [
            "22 [4, 7, -1, 6, -11, 14, 3]\n"
          ]
        }
      ]
    },
    {
      "cell_type": "code",
      "source": [
        "# elements smaller and bigger\n",
        "\n",
        "l = [3,1,2,5,8,7,9]\n",
        "\n",
        "\n",
        "for i in range(1, len(l)-1):  # skip first and last index\n",
        "    if max(l[:i]) < l[i] < min(l[i+1:]):\n",
        "        print(l[i])\n",
        "# order of (n**2)"
      ],
      "metadata": {
        "colab": {
          "base_uri": "https://localhost:8080/"
        },
        "id": "QI-riWcaVhOD",
        "outputId": "284e98f8-7700-4ffa-dfcf-2a2fd74a571b"
      },
      "execution_count": null,
      "outputs": [
        {
          "output_type": "stream",
          "name": "stdout",
          "text": [
            "5\n"
          ]
        }
      ]
    },
    {
      "cell_type": "code",
      "source": [
        "l = [3,1,2,5,8,7,9]\n",
        "\n",
        "# Step 1: Prefix max\n",
        "max_value = l[0]\n",
        "max_list = [max_value]\n",
        "\n",
        "for i in range(1, len(l)):\n",
        "    if l[i] > max_value:\n",
        "        max_value = l[i]\n",
        "    max_list.append(max_value)\n",
        "\n",
        "print(\"Prefix Max:\", max_list)\n",
        "\n",
        "# Step 2: Suffix min\n",
        "min_value = l[-1]\n",
        "min_list = [min_value]\n",
        "for i in range(len(l)-2, -1, -1):\n",
        "    if l[i] < min_value:\n",
        "        min_value = l[i]\n",
        "    min_list.append(min_value)\n",
        "\n",
        "min_list.reverse()  # ✅ reverse, not sort\n",
        "print(\"Suffix Min:\", min_list)\n",
        "\n",
        "# Step 3: Find elements\n",
        "for i in range(1, len(l)-1):   # avoid first & last\n",
        "    if max_list[i-1] < l[i] < min_list[i+1]:\n",
        "        print(\"Special element:\", l[i])\n"
      ],
      "metadata": {
        "colab": {
          "base_uri": "https://localhost:8080/"
        },
        "id": "2uVVbG6sgmoB",
        "outputId": "17a55be9-af56-4c00-8af4-7e2a5df51936"
      },
      "execution_count": null,
      "outputs": [
        {
          "output_type": "stream",
          "name": "stdout",
          "text": [
            "Prefix Max: [3, 3, 3, 5, 8, 8, 9]\n",
            "Suffix Min: [1, 1, 2, 5, 7, 7, 9]\n",
            "Special element: 5\n"
          ]
        }
      ]
    },
    {
      "cell_type": "code",
      "source": [
        "# find continious sub-array with given sum.\n",
        "# return starting/ending index\n",
        "# return first in case of multiple\n",
        "# sliding window ALGORITHM\n",
        "\n",
        "\n",
        "l = [1,22,13,7,9,11,10]\n",
        "s = 21\n",
        "\n",
        "for i in range(0,len(l)):\n",
        "  subarray = [ ]\n",
        "  for j in range(i,len(l)):\n",
        "    subarray.append(l[j])\n",
        "    # print(subarray,sum(subarray))\n",
        "    if sum(subarray) == s:\n",
        "      print(subarray)\n",
        "\n",
        "\n"
      ],
      "metadata": {
        "colab": {
          "base_uri": "https://localhost:8080/"
        },
        "id": "JQnHiXyT3Q-O",
        "outputId": "86c6d918-3cd9-490f-89a7-0fffe3026d20"
      },
      "execution_count": null,
      "outputs": [
        {
          "output_type": "stream",
          "name": "stdout",
          "text": [
            "[11, 10]\n"
          ]
        }
      ]
    },
    {
      "cell_type": "code",
      "source": [
        "\n",
        "# prefix sum + hashmap method, which is more powerful than sliding window\n",
        "# because it also works with negative numbers. L\n",
        "L = [1,22,13,7,9,11,10]\n",
        "S = 35\n",
        "\n",
        "d = {}\n",
        "curr_sum = 0\n",
        "\n",
        "for i in range(len(L)):\n",
        "    curr_sum = curr_sum + L[i]\n",
        "    if (curr_sum - S) in d:\n",
        "        print(d[curr_sum - S]+1, i)\n",
        "        break\n",
        "    d[curr_sum] = i\n",
        "\n",
        "print(d)\n",
        "\n",
        "\n",
        "# hashing in sets and dict tales 1  - > in in list,tup,string is works as loop"
      ],
      "metadata": {
        "colab": {
          "base_uri": "https://localhost:8080/"
        },
        "id": "A3EQbaiw6DfB",
        "outputId": "b4014d77-3636-4080-fe03-f626d12e603c"
      },
      "execution_count": null,
      "outputs": [
        {
          "output_type": "stream",
          "name": "stdout",
          "text": [
            "1 2\n",
            "{1: 0, 23: 1}\n"
          ]
        }
      ]
    },
    {
      "cell_type": "code",
      "source": [
        "# intersection of sorted arrays\n",
        "\n",
        "a = [1,2,3,4,5,6,6,7]\n",
        "b = [3,5,99]\n",
        "\n",
        "for i in a:\n",
        "  if i in b:\n",
        "    print(i) # --- n**2 time complexity due to in\n",
        "\n"
      ],
      "metadata": {
        "colab": {
          "base_uri": "https://localhost:8080/"
        },
        "id": "6TItl54T_7fC",
        "outputId": "f9a97c4e-3596-4755-8e37-6c3d0c32c1b6"
      },
      "execution_count": null,
      "outputs": [
        {
          "output_type": "stream",
          "name": "stdout",
          "text": [
            "3\n",
            "5\n"
          ]
        }
      ]
    },
    {
      "cell_type": "code",
      "source": [
        "# valid because both are sorted\n",
        "\n",
        "i = j = 0\n",
        "\n",
        "while i < len(a) and j < len(b):\n",
        "  if a[i] == b[j]:\n",
        "    print(a[i]) #------> or can put b[j] as both are same\n",
        "    i += 1\n",
        "    j+= 1\n",
        "  elif a[i] > b[j]:\n",
        "    j+=1\n",
        "  else:\n",
        "    i+=1"
      ],
      "metadata": {
        "colab": {
          "base_uri": "https://localhost:8080/"
        },
        "id": "Wj-BTrxfAuOx",
        "outputId": "0f2ff10e-e199-4b4a-f0dd-498e22b96d82"
      },
      "execution_count": null,
      "outputs": [
        {
          "output_type": "stream",
          "name": "stdout",
          "text": [
            "3\n",
            "5\n"
          ]
        }
      ]
    },
    {
      "cell_type": "code",
      "source": [
        "# rotate array left by d items\n",
        "\n",
        "l = [1,2,3,4,5,6]\n",
        "\n",
        "d = 2\n",
        "\n",
        "for i in range(d):\n",
        "  temp = l[0]\n",
        "  for j in range(0,len(l)-1):\n",
        "    l[j] = l[j+1]\n",
        "  l[-1] = temp\n",
        "print(l)\n"
      ],
      "metadata": {
        "colab": {
          "base_uri": "https://localhost:8080/"
        },
        "id": "yyPP7qhnBoRo",
        "outputId": "34eb97df-13e8-4201-d5ca-43f0eb7f23cf"
      },
      "execution_count": null,
      "outputs": [
        {
          "output_type": "stream",
          "name": "stdout",
          "text": [
            "[3, 4, 5, 6, 1, 2]\n"
          ]
        }
      ]
    },
    {
      "cell_type": "code",
      "source": [
        "L = [1, 2, 3, 4, 5]\n",
        "d = 2\n",
        "\n",
        "d = d % len(L)  # handle d > len(L)\n",
        "rotated = L[d:] + L[:d]\n",
        "print(rotated)"
      ],
      "metadata": {
        "colab": {
          "base_uri": "https://localhost:8080/"
        },
        "id": "d2p0XgpfDB9F",
        "outputId": "ae989c74-e1ff-422c-93e0-6a313a89555f"
      },
      "execution_count": null,
      "outputs": [
        {
          "output_type": "stream",
          "name": "stdout",
          "text": [
            "[3, 4, 5, 1, 2]\n"
          ]
        }
      ]
    },
    {
      "cell_type": "code",
      "source": [
        "# find the duplicate in array\n",
        "\n",
        "a = [1,2,2,3,3,3,4,4,4,4,5,5,5]\n",
        "\n",
        "d = {}\n",
        "\n",
        "for i in l:\n",
        "  if i in d:\n",
        "    d[i] = d[i] + 1"
      ],
      "metadata": {
        "id": "9QbZ4sYXDtSn"
      },
      "execution_count": null,
      "outputs": []
    },
    {
      "cell_type": "code",
      "source": [
        "# fihd the first element to occure k times i"
      ],
      "metadata": {
        "id": "_m3n50PuEREc"
      },
      "execution_count": null,
      "outputs": []
    },
    {
      "cell_type": "code",
      "source": [
        "# check if array is sorted"
      ],
      "metadata": {
        "id": "5f8RFR6FEk-2"
      },
      "execution_count": null,
      "outputs": []
    },
    {
      "cell_type": "code",
      "source": [
        "# largest/smallest item from list"
      ],
      "metadata": {
        "id": "9edkljizFaNE"
      },
      "execution_count": null,
      "outputs": []
    },
    {
      "cell_type": "code",
      "source": [
        "# sorting algo ) n - log n in python"
      ],
      "metadata": {
        "id": "VIo9jnwMFtrb"
      },
      "execution_count": null,
      "outputs": []
    },
    {
      "cell_type": "code",
      "source": [
        "# geeks for geeks array"
      ],
      "metadata": {
        "id": "6QY_eCKfF0pj"
      },
      "execution_count": null,
      "outputs": []
    },
    {
      "cell_type": "code",
      "source": [],
      "metadata": {
        "colab": {
          "base_uri": "https://localhost:8080/"
        },
        "id": "pBElCvPsOW0U",
        "outputId": "9a2a6c52-48cb-4b5b-861d-7f90ece6d273"
      },
      "execution_count": null,
      "outputs": [
        {
          "output_type": "stream",
          "name": "stdout",
          "text": [
            "[1, 2, 3, 4]\n"
          ]
        }
      ]
    },
    {
      "cell_type": "markdown",
      "source": [
        "# OOP"
      ],
      "metadata": {
        "id": "9ROFAOKfLRIO"
      }
    },
    {
      "cell_type": "code",
      "source": [
        "# ---> everything in python is object\n",
        "# procedural approch vs OOP\n",
        "# ---> generality to specificity\n",
        "# ----> power to create it's own data types\n",
        "\n",
        "l = [1,2,3]\n",
        "\n",
        "# l.upper() # error 'list' *object* has no attribute 'upper'\n"
      ],
      "metadata": {
        "id": "xzNa746jLPe-"
      },
      "execution_count": null,
      "outputs": []
    },
    {
      "cell_type": "markdown",
      "source": [
        "## *classes and objects*"
      ],
      "metadata": {
        "id": "rvOSpqY2M3vk"
      }
    },
    {
      "cell_type": "code",
      "source": [
        "l = [1,3,4,5]  # list is class (all data types) and l is object\n",
        "print(type(l))\n",
        "# ---> class is blueprint, it defines how object will work\n",
        "\n",
        "# class --> 1. Data or property   2. Functions or behavior\n",
        "\n",
        "# object --> instance of class\n",
        "# syntex to create object --> object_name = Class_Name() ---> s = str()\n",
        "\n",
        "# 2 types of classes --> 1. Built in (list/and other) 2. User defined classes"
      ],
      "metadata": {
        "colab": {
          "base_uri": "https://localhost:8080/"
        },
        "id": "MnfQVF2BMxg4",
        "outputId": "e021ea38-cd9b-4166-8934-3c3375878b9b"
      },
      "execution_count": null,
      "outputs": [
        {
          "output_type": "stream",
          "name": "stdout",
          "text": [
            "<class 'list'>\n"
          ]
        }
      ]
    },
    {
      "cell_type": "code",
      "source": [
        "class Atm:    # ----> class name as pascal case => MyAtm\n",
        "  # construcor - # function inside the class\n",
        "  def __init__(self):   # ---->  variables are defined under constructor\n",
        "    self.pin = ''\n",
        "    self.balance = 0\n",
        "\n",
        "obj = Atm()\n",
        "\n",
        "print(type(obj)) # -----> object of Atm Class\n",
        "\n",
        "# obj.  ----> can access elements of Atm class"
      ],
      "metadata": {
        "colab": {
          "base_uri": "https://localhost:8080/"
        },
        "id": "y8wZZWL0OxZB",
        "outputId": "03774797-6fdd-4409-db6c-43478b5c2ed7"
      },
      "execution_count": null,
      "outputs": [
        {
          "output_type": "stream",
          "name": "stdout",
          "text": [
            "<class '__main__.Atm'>\n"
          ]
        }
      ]
    },
    {
      "cell_type": "code",
      "source": [
        "class Atm :\n",
        "\n",
        "  def __init__(self): # --> constructor -> special function\n",
        "    self.pin = ''     ##---->auto call after obj. creation\n",
        "    self.balance = 0\n",
        "    print('Executed automatically after creating object --> constructor')\n",
        "    self.menu()\n",
        "\n",
        "  def menu(self):\n",
        "    user_input = int(input('''\n",
        "    How can I help you ?\n",
        "\n",
        "    1. Press 1 to create pin\n",
        "    2. Press 2 to change pin\n",
        "    3. Press 3 to check balance\n",
        "    4. Press 4 to withdraw\n",
        "    4. Anything else to exit\n",
        "     '''))\n",
        "\n",
        "    if user_input == 1:\n",
        "      self.create_pin()\n",
        "    elif user_input == 2 :\n",
        "      self.change_pin()\n",
        "    elif user_input == 3 :\n",
        "      self.check_balance()\n",
        "    elif user_input == 4 :\n",
        "      self.withdraw()\n",
        "    else:\n",
        "      pass# exit() # ----------------------> stops the whole program right there\n",
        "\n",
        "  def create_pin(self):\n",
        "    user_pin = input('Enter your pin')\n",
        "    self.pin = user_pin\n",
        "\n",
        "    user_balance = int(input('Enter your balance'))\n",
        "    self.balance = user_balance\n",
        "\n",
        "    print('Pin created successfully')\n",
        "    self.menu()\n",
        "\n",
        "\n",
        "  def change_pin(self):\n",
        "    old_pin = input('Enter old pin : ')\n",
        "\n",
        "    if old_pin == self.pin:\n",
        "      print('Pin varified successfully !!')\n",
        "      new_pin = input('Enter new pin')\n",
        "      new_pin = self.pin\n",
        "      print('Pin change successfull')\n",
        "      self.menu()\n",
        "    else:\n",
        "      print('Entered wrong pin')\n",
        "      self.menu()\n",
        "\n",
        "\n",
        "\n",
        "  def check_balance(self):\n",
        "    user_pin = input('Enter pin : ')\n",
        "\n",
        "    if user_pin == self.pin:\n",
        "       print('Your balance is ', self.balance)\n",
        "       self.menu()\n",
        "    else:\n",
        "      print('Wrong pin entered')\n",
        "      self.menu()\n",
        "\n",
        "  def withdraw(self):\n",
        "    user_pin = input('Enter your pin')\n",
        "    if user_pin == self.pin:\n",
        "      amount = int(input('Enter the amound which you want to withdraw'))\n",
        "      if amount > self.balance :\n",
        "        print('Insufficient amount')\n",
        "        self.menu()\n",
        "      else:\n",
        "        final_balance = self.balance - amount\n",
        "        final_balance = self.balance\n",
        "        print('Remaining balance : ',self.balance)\n",
        "        self.menu() #----------> we can put it only once outside the loop\n",
        "    else:\n",
        "      print('Please input valid pin')\n",
        "      self.menu()"
      ],
      "metadata": {
        "id": "zeTl43RnQVct"
      },
      "execution_count": null,
      "outputs": []
    },
    {
      "cell_type": "code",
      "source": [
        "obj = Atm()\n"
      ],
      "metadata": {
        "colab": {
          "base_uri": "https://localhost:8080/"
        },
        "id": "k7ZtVuhiS1ya",
        "outputId": "5864da4f-c1a4-4d06-db20-9ad3b2d7dad7",
        "collapsed": true
      },
      "execution_count": null,
      "outputs": [
        {
          "name": "stdout",
          "output_type": "stream",
          "text": [
            "Executed automatically after creating object --> constructor\n",
            " \n",
            "    How can I help you ? \n",
            "\n",
            "    1. Press 1 to create pin \n",
            "    2. Press 2 to change pin\n",
            "    3. Press 3 to check balance \n",
            "    4. Press 4 to withdraw \n",
            "    4. Anything else to exit\n",
            "     1\n",
            "Enter your pin1233\n",
            "Enter your balance123454\n",
            "Pin created successfully\n",
            " \n",
            "    How can I help you ? \n",
            "\n",
            "    1. Press 1 to create pin \n",
            "    2. Press 2 to change pin\n",
            "    3. Press 3 to check balance \n",
            "    4. Press 4 to withdraw \n",
            "    4. Anything else to exit\n",
            "     4\n",
            "Enter your pin1233\n",
            "Enter the amound which you want to withdraw1222\n",
            "Remaining balance :  123454\n",
            " \n",
            "    How can I help you ? \n",
            "\n",
            "    1. Press 1 to create pin \n",
            "    2. Press 2 to change pin\n",
            "    3. Press 3 to check balance \n",
            "    4. Press 4 to withdraw \n",
            "    4. Anything else to exit\n",
            "     4\n",
            "Enter your pin1233\n",
            "Enter the amound which you want to withdraw213243545\n",
            "Insufficient amount\n",
            " \n",
            "    How can I help you ? \n",
            "\n",
            "    1. Press 1 to create pin \n",
            "    2. Press 2 to change pin\n",
            "    3. Press 3 to check balance \n",
            "    4. Press 4 to withdraw \n",
            "    4. Anything else to exit\n",
            "     4\n",
            "Enter your pin1233\n",
            "Enter the amound which you want to withdraw123123\n",
            "Remaining balance :  123454\n",
            " \n",
            "    How can I help you ? \n",
            "\n",
            "    1. Press 1 to create pin \n",
            "    2. Press 2 to change pin\n",
            "    3. Press 3 to check balance \n",
            "    4. Press 4 to withdraw \n",
            "    4. Anything else to exit\n",
            "     4\n",
            "Enter your pin12343\n",
            "Please input valid pin\n",
            " \n",
            "    How can I help you ? \n",
            "\n",
            "    1. Press 1 to create pin \n",
            "    2. Press 2 to change pin\n",
            "    3. Press 3 to check balance \n",
            "    4. Press 4 to withdraw \n",
            "    4. Anything else to exit\n",
            "     7\n"
          ]
        }
      ]
    },
    {
      "cell_type": "code",
      "source": [
        "# class diagram\n",
        "\n",
        "# -----------------------------\n",
        "# |           Atm             |  <----- Class name\n",
        "# -----------------------------\n",
        "# | - pin : str               |  <---- data/variables/attributes\n",
        "# | - balance : int           |\n",
        "# -----------------------------\n",
        "# | + __init__()              |\n",
        "# | + menu()                  | <------ methods ----> (+) public (-) private\n",
        "# | + create_pin()            |\n",
        "# | + change_pin()            |\n",
        "# | + check_balance()         |\n",
        "# | + withdraw()              |\n",
        "# -----------------------------\n"
      ],
      "metadata": {
        "id": "jeqwZXMvViYp"
      },
      "execution_count": null,
      "outputs": []
    },
    {
      "cell_type": "code",
      "source": [
        "# methods vs functions\n",
        "\n",
        "# ----> build under class --> methods\n",
        "# ----> build independent outside of class ---> function\n",
        "\n",
        "l = [1,2,3]\n",
        "len(l) # --> function\n",
        "l.append(3) # ---> method as after putting . I am getting all the methods"
      ],
      "metadata": {
        "id": "2-iI5pQfUj0W"
      },
      "execution_count": null,
      "outputs": []
    },
    {
      "cell_type": "code",
      "source": [
        "# magic methods / dunder method\n",
        "\n",
        "# __init__  --> constructor -----> triggers automatically\n",
        "\n",
        "class Temp :\n",
        "\n",
        "  def __init__(self):\n",
        "    print('Hello')\n",
        "\n",
        "k = Temp()\n",
        "\n",
        "# --> use ?\n",
        "# --> control you don't want to give user\n",
        "# --> write configuration releted code (connect db / connect internet)\n",
        "# --> god is programmer --> earth is class --> human are obj --> constructor --> death"
      ],
      "metadata": {
        "colab": {
          "base_uri": "https://localhost:8080/"
        },
        "id": "neWKa5DiVfCg",
        "outputId": "f204a3f6-1048-4e93-e7b2-15f696a52870"
      },
      "execution_count": null,
      "outputs": [
        {
          "output_type": "stream",
          "name": "stdout",
          "text": [
            "136430824318176\n"
          ]
        }
      ]
    },
    {
      "cell_type": "code",
      "source": [
        "# self ----> current object ---> convention ->  we can use any word\n",
        "\n",
        "# --->  methods, self as default parameter\n",
        "# --->  attributes required self. initialization\n",
        "# ---> for calling methods we are using self\n",
        "\n",
        "\n",
        "# golden rule OOP ---> only object can access everything inside class\n",
        "\n",
        "# check balance can call withdrawl method ? ---> instead of writing menu()  we use self\n",
        "\n",
        "class Temp :\n",
        "\n",
        "  def __init__(self):\n",
        "    print(id(self)) # ----> object and self are pointing towards same id\n",
        "\n",
        "  def demo(self):\n",
        "    print('Demo')\n",
        "\n",
        "\n",
        "k = Temp()\n",
        "\n",
        "print(id(k))\n",
        "\n",
        "k.demo() # this means we are doing demo(k) ---> object is given as input"
      ],
      "metadata": {
        "colab": {
          "base_uri": "https://localhost:8080/"
        },
        "id": "H1zh3ADaeY76",
        "outputId": "f71e91e1-fc9d-47c4-a904-278c8018c11b"
      },
      "execution_count": null,
      "outputs": [
        {
          "output_type": "stream",
          "name": "stdout",
          "text": [
            "136430827761552\n",
            "136430827761552\n",
            "Demo\n"
          ]
        }
      ]
    },
    {
      "cell_type": "markdown",
      "source": [
        "### *fraction data type - creation*"
      ],
      "metadata": {
        "id": "aWXZyP4tg50x"
      }
    },
    {
      "cell_type": "code",
      "source": [
        "# print(3/4*1/2)\n",
        "\n",
        "\n",
        "class Fraction :\n",
        "\n",
        "  def __init__(self,x,y): # parameterized constructor --> expect paramerter x&y\n",
        "    self.num = x\n",
        "    self.den = y\n",
        "\n",
        "  def __str__(self):  #-------> if we print --> it will look into str function\n",
        "    return '{}/{}'.format(self.num,self.den)\n",
        "\n",
        "  def __add__(self,other): # ---> needs 2 objects and triggered when put + in between\n",
        "    new_num = self.num * other.den + other.num * self.den\n",
        "    new_den = self.den * other.den\n",
        "    return '{}/{}'.format(new_num,new_den)\n",
        "\n",
        "  def __sub__(self,other):\n",
        "    new_num = self.num * other.den - other.num * self.den\n",
        "    new_den = self.den * other.den\n",
        "    return '{}/{}'.format(new_num,new_den)\n",
        "\n",
        "  def __mul__(self,other):\n",
        "    new_num = self.num *other.num\n",
        "    new_den = self.den * other.den\n",
        "    return '{}/{}'.format(new_num,new_den)\n",
        "\n",
        "  def __truediv__(self,other):\n",
        "    new_num = self.num *other.den\n",
        "    new_den = self.den * other.num\n",
        "    return '{}/{}'.format(new_num,new_den)\n",
        "\n",
        "  def convert_to_decimal(self):\n",
        "    return self.num/self.den"
      ],
      "metadata": {
        "id": "n6i5N7Hmg84i"
      },
      "execution_count": null,
      "outputs": []
    },
    {
      "cell_type": "code",
      "source": [
        "k = Fraction(3,4)\n",
        "print(k)\n",
        "\n",
        "f = Fraction(1,4)\n",
        "print(f)\n",
        "\n",
        "\n",
        "# print(k+f) ---> no logic yet defined --> unsupported operand type(s) for +: 'Fraction' and 'Fraction'\n",
        "\n",
        "s1 = {1,2,3}\n",
        "s2 = {2,3,5}\n",
        "\n",
        "# print(s1+s2) # unsupported operand type(s) for +: 'set' and 'set'\n",
        "\n",
        "\n",
        "print(k+f) # 1st --> self (k)  2nd --> other (f)\n",
        "\n",
        "print(k-f)\n",
        "print(k*f)\n",
        "print(k/f)\n",
        "\n",
        "k.convert_to_decimal() # convert to decimal ---> non magic mathod"
      ],
      "metadata": {
        "colab": {
          "base_uri": "https://localhost:8080/"
        },
        "id": "m7kXfHXlhxhL",
        "outputId": "d44758fc-dc0f-449e-a671-22bcad857141"
      },
      "execution_count": null,
      "outputs": [
        {
          "output_type": "stream",
          "name": "stdout",
          "text": [
            "3/4\n",
            "1/4\n",
            "16/16\n",
            "8/16\n",
            "3/16\n",
            "12/4\n"
          ]
        },
        {
          "output_type": "execute_result",
          "data": {
            "text/plain": [
              "0.75"
            ]
          },
          "metadata": {},
          "execution_count": 5
        }
      ]
    },
    {
      "cell_type": "markdown",
      "source": [
        "### *creating co-ordinate gemetry data type*"
      ],
      "metadata": {
        "id": "KwLJEg2tAE1w"
      }
    },
    {
      "cell_type": "code",
      "source": [
        "# ---> create and view 2D coordinates  ---> __init__ and __str__\n",
        "# ---> A user can find out distance between 2 coordinates ---> method\n",
        "# ---> A user can find out distance of co-ordinate from origin --> method\n",
        "# ---> A user can check if point lies on given line ---> create line class\n",
        "# ---> A user can find distance between 2 given 2D point and given line -> method\n",
        "# ---> check if 2 lines are intersect or not"
      ],
      "metadata": {
        "id": "PxckBa93AEUI"
      },
      "execution_count": null,
      "outputs": []
    },
    {
      "cell_type": "code",
      "source": [
        "class Point :\n",
        "\n",
        "  def __init__(self,x,y):\n",
        "    self.x_cod = x\n",
        "    self.y_cod = y\n",
        "\n",
        "  def __str__(self):\n",
        "    return '<{},{}>'.format(self.x_cod,self.y_cod)\n",
        "\n",
        "  def euclidian_dist(self,other):\n",
        "    return ((self.x_cod - other.x_cod)**2 + (self.y_cod - other.y_cod)**2)**0.5\n",
        "\n",
        "  def origin_dist(self):\n",
        "    return self.euclidian_dist(Point(0,0)) # we are not giving self as self. <--\n",
        "    # we jave created class object inside the class ^\n",
        " #---> pass by refrence example ^\n",
        "\n",
        "#-------------------------------------------------------------------------------\n",
        "\n",
        "\n",
        "class Line :\n",
        "\n",
        "  def __init__(self,a,b,c):\n",
        "    self.a = a\n",
        "    self.b = b\n",
        "    self.c = c\n",
        "\n",
        "  def __str__(self):\n",
        "    if (self.c) < 0 :\n",
        "      return '{}x +{}y {}'.format(self.a,self.b,self.c)\n",
        "    elif (self.c) == 0 :\n",
        "      return '{}x +{}y '.format(self.a,self.b)\n",
        "    else :\n",
        "      return '{}x +{}y +{}'.format(self.a,self.b,self.c)\n",
        "\n",
        "\n",
        "  def check_point_on_line(self,point):\n",
        "    if self.a * point.x_cod + self.b * point.y_cod + self.c == 0:\n",
        "      print('Point is on line')\n",
        "    else :\n",
        "      print('Point is not on line')\n",
        "\n",
        "  def shortest_dist(self,point):\n",
        "    return abs(self.a*point.x_cod + self.b*point.y_cod + self.c)/(self.a **2 + self.b**2)**0.5"
      ],
      "metadata": {
        "id": "Hpnepb3E-Qg2"
      },
      "execution_count": null,
      "outputs": []
    },
    {
      "cell_type": "code",
      "source": [
        "k = Point(0,0)\n",
        "j = Point(1,1)\n",
        "\n",
        "k.euclidian_dist(j) #-------> these are formed like this\n",
        "\n",
        "j.origin_dist()\n"
      ],
      "metadata": {
        "colab": {
          "base_uri": "https://localhost:8080/"
        },
        "collapsed": true,
        "id": "L6TLjqjtB1xC",
        "outputId": "1804696f-ef4f-4ef1-93b2-826bc83a10a0"
      },
      "execution_count": null,
      "outputs": [
        {
          "output_type": "execute_result",
          "data": {
            "text/plain": [
              "1.4142135623730951"
            ]
          },
          "metadata": {},
          "execution_count": 18
        }
      ]
    },
    {
      "cell_type": "code",
      "source": [
        "print(Line(1,2,3))\n",
        "print(Line(1,2,0))\n",
        "print(Line(1,2,-3))\n",
        "\n",
        "L = Line(1,1,-2)\n",
        "\n",
        "L.check_point_on_line(j)\n",
        "\n",
        "print(L.shortest_dist(j)) # point lies on line therefore it is zero\n",
        "\n",
        "\n",
        "# same file therefore interraction is possible--> if other ---> need to import\n",
        "# we can pass object ----> no class has passed\n",
        "\n",
        "\n",
        "\n",
        "# Difference in calling style\n",
        "# ---> Function: function(obj)\n",
        "# ---> Method: obj.method()\n",
        "\n",
        "# # Under the hood, methods are also functions, just bound to the object.\n",
        "# l = [1,2,3]\n",
        "# print(len(l))        # function way\n",
        "# print(l.__len__())   # method way (same thing internally!)\n",
        "\n"
      ],
      "metadata": {
        "colab": {
          "base_uri": "https://localhost:8080/"
        },
        "id": "P2IaSCPLFm8M",
        "outputId": "c526c4dc-91da-43dc-bcaf-e1d1f09ac42e"
      },
      "execution_count": null,
      "outputs": [
        {
          "output_type": "stream",
          "name": "stdout",
          "text": [
            "1x +2y +3\n",
            "1x +2y \n",
            "1x +2y -3\n",
            "Point is on line\n",
            "0.0\n"
          ]
        }
      ]
    },
    {
      "cell_type": "markdown",
      "source": [
        "### *How objects access attributes*"
      ],
      "metadata": {
        "id": "z90Um5Ho4LwD"
      }
    },
    {
      "cell_type": "code",
      "source": [
        "class Person:\n",
        "    def __init__(self, name_input, country_input):\n",
        "        self.name = name_input\n",
        "        self.country = country_input\n",
        "\n",
        "    def greet(self):\n",
        "        if self.country == 'India':\n",
        "            print('Namaste', self.name)\n",
        "        else:\n",
        "            print('Hello', self.name)\n"
      ],
      "metadata": {
        "id": "fqtZpACl4LCM"
      },
      "execution_count": null,
      "outputs": []
    },
    {
      "cell_type": "code",
      "source": [
        "# ---> once you create object it can access all the attributes and methods\n",
        "\n",
        "k = Person('Kunal','India')\n",
        "\n",
        "# --> if we put k. (it will show all the accessable attributes and methods)\n",
        "print(k.name)\n",
        "print(k.country)\n",
        "k.greet()\n",
        "\n",
        "#----------------------------------------------------------------------------\n",
        "\n",
        "# but we can create attributes outside the class ---->\n",
        "\n",
        "# k.gender (it will throw error)\n",
        "k.gender = 'Male'\n",
        "k.gender\n",
        "\n",
        "\n",
        "\n"
      ],
      "metadata": {
        "colab": {
          "base_uri": "https://localhost:8080/",
          "height": 87
        },
        "id": "sUVeL3EJ4ccM",
        "outputId": "02ad2aba-6fe0-431d-d9f8-224506f5701c"
      },
      "execution_count": null,
      "outputs": [
        {
          "output_type": "stream",
          "name": "stdout",
          "text": [
            "Kunal\n",
            "India\n",
            "Namaste Kunal\n"
          ]
        },
        {
          "output_type": "execute_result",
          "data": {
            "text/plain": [
              "'Male'"
            ],
            "application/vnd.google.colaboratory.intrinsic+json": {
              "type": "string"
            }
          },
          "metadata": {},
          "execution_count": 9
        }
      ]
    },
    {
      "cell_type": "markdown",
      "source": [
        "### *refrence variables*"
      ],
      "metadata": {
        "id": "E5DB5Nq25f55"
      }
    },
    {
      "cell_type": "code",
      "source": [
        "class Person :\n",
        "\n",
        "  def __init__(self):\n",
        "    self.name = 'Kunal'\n",
        "    self.gender = 'Male'"
      ],
      "metadata": {
        "id": "veGzH1ZG5hKZ"
      },
      "execution_count": null,
      "outputs": []
    },
    {
      "cell_type": "code",
      "source": [
        "# we can create am object without refrence as well\n",
        "Person()\n",
        "\n",
        "#----------------------------------------------------------------------------\n",
        "# refrence variables holds the object -->\n",
        "\n",
        "p = Person() #--> due to calling Person()\n",
        "# ----> we created object in memory and ref. assigned to it to p\n",
        "# it holds the object (refrence) --> p\n",
        "\n",
        "#----------------------------------------------------------------------------\n",
        "# object can have multiple refrence variables --->\n",
        "\n",
        "q = p # now both are variables pointing at same object (memory location)\n",
        "\n",
        "print(id(p))\n",
        "print(id(q)) # ---> can give same object to multiple ref variables\n",
        "print(p.name)\n",
        "print(q.name)\n",
        "#----------------------------------------------------------------------------\n",
        "# assigning new refrence variable to existing obj will not create new obj.\n",
        "\n",
        "q.name = 'Bharat' # -----> once changed it will change in p as well\n",
        "print(p.name)\n",
        "print(q.name)"
      ],
      "metadata": {
        "colab": {
          "base_uri": "https://localhost:8080/"
        },
        "id": "1b9ybvrk58W9",
        "outputId": "20613b81-fb14-42dc-fe8a-7657cabcd98a"
      },
      "execution_count": null,
      "outputs": [
        {
          "output_type": "stream",
          "name": "stdout",
          "text": [
            "137849986243696\n",
            "137849986243696\n",
            "Kunal\n",
            "Kunal\n",
            "Bharat\n",
            "Bharat\n"
          ]
        }
      ]
    },
    {
      "cell_type": "markdown",
      "source": [
        "### *pass by refrence*"
      ],
      "metadata": {
        "id": "yAK6SWKx8UbA"
      }
    },
    {
      "cell_type": "code",
      "source": [
        "class Person :\n",
        "\n",
        "  def __init__(self,name,gender):\n",
        "    self.name = name\n",
        "    self.gender = gender\n",
        "\n",
        "# outside the class ---> function\n",
        "\n",
        "# taking input as object -->\n",
        "def greet(person):\n",
        "  print('Hi my name is {} and I am {}'.format(person.name,person.gender))\n",
        "\n",
        "# returning object --->\n",
        "def ret_fun():\n",
        "  return Person('XYZ','Male')"
      ],
      "metadata": {
        "id": "NVS2x4Kg8X1S"
      },
      "execution_count": null,
      "outputs": []
    },
    {
      "cell_type": "code",
      "source": [
        "k = Person('Kunal','Male')\n",
        "\n",
        "greet(k) # ---> taking object as input\n",
        "\n",
        "\n",
        "x = ret_fun() # it will return object\n",
        "print(x.name)\n",
        "print(x.gender)\n"
      ],
      "metadata": {
        "colab": {
          "base_uri": "https://localhost:8080/"
        },
        "id": "W1ajbmgP85Ux",
        "outputId": "77739003-dad6-4990-9448-c841a0a52110"
      },
      "execution_count": null,
      "outputs": [
        {
          "output_type": "stream",
          "name": "stdout",
          "text": [
            "Hi my name is Kunal and I am Male\n",
            "Hi my name is XYZ and I am Male\n",
            "XYZ\n",
            "Male\n"
          ]
        }
      ]
    },
    {
      "cell_type": "code",
      "source": [
        "class Person :\n",
        "\n",
        "  def __init__(self,name,gender):\n",
        "    self.name = name\n",
        "    self.gender = gender\n",
        "\n",
        "def greet(person):\n",
        "  print(id(person))\n",
        "\n",
        "k = Person('Kunal','Male')\n",
        "\n",
        "print(id(k))\n",
        "greet(k)  # so technically we sent the id in the function\n",
        "\n"
      ],
      "metadata": {
        "colab": {
          "base_uri": "https://localhost:8080/"
        },
        "id": "JnSc6tZp_lkk",
        "outputId": "4dcb0265-94cc-403f-af1d-310dad429e6f"
      },
      "execution_count": null,
      "outputs": [
        {
          "output_type": "stream",
          "name": "stdout",
          "text": [
            "137849714301008\n",
            "137849714301008\n"
          ]
        }
      ]
    },
    {
      "cell_type": "code",
      "source": [
        "class Person :\n",
        "\n",
        "  def __init__(self,name,gender):\n",
        "    self.name = name\n",
        "    self.gender = gender\n",
        "\n",
        "def greet(person):\n",
        "  person.name = 'Madara' # by using the function we changed atttr. of obj\n",
        "  person.gender = 'Uchiha'\n",
        "  return person\n",
        "# it is due to same address print\n",
        "\n",
        "\n",
        "k = Person('Kunal','Male')\n",
        "l = greet(k)\n",
        "print(id(k),id(l))\n",
        "# user defined object are mutable as even if we are modifying it is not changing id\n",
        "\n",
        "\n",
        "# for immutable it will create a copy and address will change"
      ],
      "metadata": {
        "colab": {
          "base_uri": "https://localhost:8080/"
        },
        "id": "-iVwVIdW_41t",
        "outputId": "e6af38e3-aaea-4a69-9efb-bfaa83f6b4ac"
      },
      "execution_count": null,
      "outputs": [
        {
          "output_type": "stream",
          "name": "stdout",
          "text": [
            "137849718365296 137849718365296\n"
          ]
        }
      ]
    },
    {
      "cell_type": "code",
      "source": [
        "# list of objects\n",
        "\n",
        "class Person :\n",
        "\n",
        "  def __init__(self,name,gender):\n",
        "    self.name = name\n",
        "    self.gender = gender\n",
        "\n",
        "p1 = Person('Kunal','Male') # <__main__.Person object at 0x7d5fa382a600>\n",
        "p2 = Person('Madara','Uchiha') # <__main__.Person object at 0x7d5fa3420a40>\n",
        "p3 = Person('XYZ','Male') # <__main__.Person object at 0x7d5fa3421f70>\n",
        "\n",
        "l = [p1,p2,p3] # we can store objects as list\n",
        "\n",
        "for i in l:\n",
        "  print(i.name)  # <-- can treat them as objects\n",
        "\n",
        "# can stored in set?"
      ],
      "metadata": {
        "colab": {
          "base_uri": "https://localhost:8080/"
        },
        "id": "bcD5vJR15pEG",
        "outputId": "c3774c55-dd62-4dfa-c5c9-0c2a1f42f8e6"
      },
      "execution_count": null,
      "outputs": [
        {
          "output_type": "stream",
          "name": "stdout",
          "text": [
            "Kunal\n",
            "Madara\n",
            "XYZ\n"
          ]
        }
      ]
    },
    {
      "cell_type": "code",
      "source": [
        "# dict of objects\n",
        "\n",
        "\n",
        "p1 = Person('Kunal','Male')\n",
        "p2 = Person('Madara','Uchiha')\n",
        "p3 = Person('XYZ','Male')\n",
        "\n",
        "d = {\n",
        "    'p1' : p1,\n",
        "    'p2' : p2,\n",
        "    'p3' : p3\n",
        "}\n",
        "\n",
        "for i in d:\n",
        "  print(d[i].name)\n"
      ],
      "metadata": {
        "colab": {
          "base_uri": "https://localhost:8080/"
        },
        "id": "m_kKkXSO6jDa",
        "outputId": "df74a767-6242-46d4-e7ed-3800f63e4546"
      },
      "execution_count": null,
      "outputs": [
        {
          "output_type": "stream",
          "name": "stdout",
          "text": [
            "Kunal\n",
            "Madara\n",
            "XYZ\n"
          ]
        }
      ]
    },
    {
      "cell_type": "markdown",
      "source": [
        "## *Encapsulation*"
      ],
      "metadata": {
        "id": "N5AAx_M1CDWa"
      }
    },
    {
      "cell_type": "markdown",
      "source": [
        "### *private variable and method*"
      ],
      "metadata": {
        "id": "xTlcevJwjEWy"
      }
    },
    {
      "cell_type": "code",
      "source": [
        "# instance variable ---> value changed for different variables -->depends on obj\n",
        "\n",
        "class Person:\n",
        "    def __init__(self, name_input, country_input):\n",
        "        self.name = name_input\n",
        "        self.country = country_input\n",
        "\n",
        "p1 = Person('Kunal','India') # this is Person instance at p1\n",
        "p2 = Person('XYZ', 'France') # this is Person instance at p2\n",
        "\n",
        "# attributes / getter and setter --> every attribute"
      ],
      "metadata": {
        "id": "-dO4_K1XCGHa"
      },
      "execution_count": null,
      "outputs": []
    },
    {
      "cell_type": "code",
      "source": [
        "class Atm :\n",
        "\n",
        "  def __init__(self):\n",
        "    self.pin = ''\n",
        "    self.balance = 0\n",
        "\n",
        "\n",
        "  def create_pin(self):\n",
        "    user_pin = input('Enter your pin')\n",
        "    self.pin = user_pin\n",
        "    user_balance = int(input('Enter your balance'))\n",
        "    self.balance = user_balance\n",
        "    print('Pin created successfully')\n",
        "\n",
        "\n",
        "  def withdraw(self):\n",
        "    user_pin = input('Enter your pin')\n",
        "    if user_pin == self.pin:\n",
        "      amount = int(input('Enter the amound which you want to withdraw'))\n",
        "      if amount > self.balance :\n",
        "        print('Insufficient amount')\n",
        "      else:\n",
        "        final_balance = self.balance - amount\n",
        "        final_balance = self.balance\n",
        "        print('Remaining balance : ',self.balance)\n",
        "    else:\n",
        "      print('Please input valid pin')"
      ],
      "metadata": {
        "id": "H_EtO1HQDNOB"
      },
      "execution_count": null,
      "outputs": []
    },
    {
      "cell_type": "code",
      "source": [
        "obj = Atm()\n",
        "\n",
        "obj.create_pin()\n",
        "\n",
        "obj.balance = 'Heheheh' # ---> as it is not private outsider changed it. (__var)\n",
        "\n"
      ],
      "metadata": {
        "colab": {
          "base_uri": "https://localhost:8080/"
        },
        "id": "2AMGC5k9evOR",
        "outputId": "58ac99f9-3cb0-4a09-85e5-39dfd14ef647"
      },
      "execution_count": null,
      "outputs": [
        {
          "output_type": "stream",
          "name": "stdout",
          "text": [
            "Enter your pin123\n",
            "Enter your balance123\n",
            "Pin created successfully\n"
          ]
        }
      ]
    },
    {
      "cell_type": "code",
      "source": [
        "obj.withdraw() # will create error in the code"
      ],
      "metadata": {
        "id": "T9mhgNKYfofK"
      },
      "execution_count": null,
      "outputs": []
    },
    {
      "cell_type": "code",
      "source": [
        "# to aviod, we make attribute private by putting __ (double underscore) before it\n",
        "\n",
        "class Atm :\n",
        "\n",
        "  def __init__(self):\n",
        "    self.__pin = ''     # <----- Private attribute\n",
        "    self.__balance = 0  # <----- Private attribute\n",
        "\n",
        "\n",
        "  def create_pin(self):\n",
        "    user__pin = input('Enter your pin')\n",
        "    self.pin = user__pin\n",
        "    user_balance = int(input('Enter your balance'))\n",
        "    self.__balance = user_balance\n",
        "    print('Pin created successfully')\n",
        "\n",
        "\n",
        "  def withdraw(self):\n",
        "    user_pin = input('Enter your pin')\n",
        "    if user_pin == self.__pin:\n",
        "      amount = int(input('Enter the amound which you want to withdraw'))\n",
        "      if amount > self.__balance :\n",
        "        print('Insufficient amount')\n",
        "      else:\n",
        "        final_balance = self.__balance - amount\n",
        "        final_balance = self.__balance\n",
        "        print('Remaining balance : ',self.__balance)\n",
        "    else:\n",
        "      print('Please input valid pin')"
      ],
      "metadata": {
        "id": "-by3knNyftF8"
      },
      "execution_count": null,
      "outputs": []
    },
    {
      "cell_type": "code",
      "source": [
        "# due to __ user will now not able to access it outside the class --> private\n",
        "\n",
        "# even if we do this ->\n",
        "obj.__balance = 'Heheheh' # <-- but this will not throw error but not change pvt.\n",
        "# as pvt will be stored as --> _class__attribute -> _Atm__balance\n",
        "# so above will create a new attribute and not change the main attribute\n",
        "\n",
        "# we can do it to any methods as well --> def __method\n",
        "# if we are splitting the code ---> we keep it private to not show intermediate"
      ],
      "metadata": {
        "id": "T4vsZHahgx96"
      },
      "execution_count": null,
      "outputs": []
    },
    {
      "cell_type": "markdown",
      "source": [
        "### *getter and setter*"
      ],
      "metadata": {
        "id": "maNBNwhljAxZ"
      }
    },
    {
      "cell_type": "code",
      "source": [
        "# to safely acces the private attributes we use getter and setter\n",
        "\n",
        "class Atm :\n",
        "\n",
        "  def __init__(self):\n",
        "    self.__pin = ''     # <----- Private attribute\n",
        "    self.__balance = 12345   # <----- Private attribute\n",
        "\n",
        "  def get_balance(self):   # < --------- Getter\n",
        "    print(self.__balance)\n",
        "\n",
        "  def set_balance(self,new_bal):  # < --------- Setter\n",
        "    if type(new_bal) == int :\n",
        "      self.__balance = new_bal\n",
        "    else:\n",
        "      print('Please enter valid interger')\n"
      ],
      "metadata": {
        "id": "fjGfmcIWjM0W"
      },
      "execution_count": null,
      "outputs": []
    },
    {
      "cell_type": "code",
      "source": [
        "obj = Atm()\n",
        "\n",
        "obj.get_balance()\n",
        "\n",
        "# since we are controlling pvt. attibute with methods, we have more control\n",
        "\n",
        "obj.set_balance('Kunal')\n",
        "\n",
        "obj.set_balance(46666)\n",
        "\n",
        "obj.get_balance()"
      ],
      "metadata": {
        "colab": {
          "base_uri": "https://localhost:8080/"
        },
        "id": "XTldhZCLjyen",
        "outputId": "7bfea72a-99a5-4690-ff1c-a3330d3399a1"
      },
      "execution_count": null,
      "outputs": [
        {
          "output_type": "stream",
          "name": "stdout",
          "text": [
            "12345\n",
            "Please enter valid interger\n",
            "46666\n"
          ]
        }
      ]
    },
    {
      "cell_type": "markdown",
      "source": [
        "### *static variables*"
      ],
      "metadata": {
        "id": "Y1iTfxX6lele"
      }
    },
    {
      "cell_type": "code",
      "source": [
        "# want to add counter to generate the customer id's\n",
        "class Atm :\n",
        "\n",
        "  def __init__(self):\n",
        "    self.__pin = ''\n",
        "    self.__balance = 12345\n",
        "    self.cid = 0\n",
        "    self.cid += 1\n"
      ],
      "metadata": {
        "id": "3h1GyAHT7UKM"
      },
      "execution_count": null,
      "outputs": []
    },
    {
      "cell_type": "code",
      "source": [
        "a = Atm()\n",
        "b = Atm()\n",
        "c = Atm()"
      ],
      "metadata": {
        "id": "wNX9ErUn7rtQ"
      },
      "execution_count": null,
      "outputs": []
    },
    {
      "cell_type": "code",
      "source": [
        "print(a.cid,b.cid,c.cid)\n",
        "# ----> using instance variable we cannot implement counter --> it is for obj\n",
        "# ----> again initiates again ---> instance variable -->independent for each obj\n",
        "\n",
        "# Therefore we use class variable ---> static variable --> constant\n",
        "\n",
        "# banking (customer name , balance ) --> instance , IFSC Code ---> static"
      ],
      "metadata": {
        "colab": {
          "base_uri": "https://localhost:8080/"
        },
        "id": "SNuJPGWO720N",
        "outputId": "5d428c84-a1d1-4610-b2f5-1ed8657dce1e"
      },
      "execution_count": null,
      "outputs": [
        {
          "output_type": "stream",
          "name": "stdout",
          "text": [
            "1 1 1\n"
          ]
        }
      ]
    },
    {
      "cell_type": "code",
      "source": [
        "class Atm :\n",
        "\n",
        "  counter = 1  # <---- we declaire it outside the methods\n",
        "\n",
        "  def __init__(self):\n",
        "    self.__pin = ''\n",
        "    self.__balance = 12345 # <-----instance varible\n",
        "    self.cid = Atm.counter # <--- static <-- classname.variablename\n",
        "    Atm.counter += 1\n",
        "\n"
      ],
      "metadata": {
        "id": "KcI7_pfa9G6B"
      },
      "execution_count": null,
      "outputs": []
    },
    {
      "cell_type": "code",
      "source": [
        "a = Atm()\n",
        "b = Atm()\n",
        "c = Atm()"
      ],
      "metadata": {
        "id": "bQ2XBBB-9ywD"
      },
      "execution_count": null,
      "outputs": []
    },
    {
      "cell_type": "code",
      "source": [
        "print(a.cid,b.cid,c.cid)"
      ],
      "metadata": {
        "colab": {
          "base_uri": "https://localhost:8080/"
        },
        "id": "AWLnq0an92s8",
        "outputId": "e410a468-fdf4-4733-ee53-a5a366567013"
      },
      "execution_count": null,
      "outputs": [
        {
          "output_type": "stream",
          "name": "stdout",
          "text": [
            "1 2 3\n"
          ]
        }
      ]
    },
    {
      "cell_type": "code",
      "source": [
        "# Atm.counter = 'Hehehe'\n",
        "# print(Atm.counter) # and the code will get creashed\n",
        "\n",
        "# to avoid that we will use __\n",
        "# and to access that we will create getter and setter (static methods )\n",
        "\n",
        "class Atm :\n",
        "\n",
        "  __counter = 1  # <---- we declaire it outside the methods\n",
        "\n",
        "  def __init__(self):\n",
        "    self.__pin = ''\n",
        "    self.__balance = 12345 # <-----instance varible\n",
        "    self.cid = Atm.__counter # <--- static <-- classname.variablename\n",
        "    Atm.__counter += 1\n",
        "\n",
        "  @staticmethod # <--- utility methods <--don't pass self automatically\n",
        "  def get_counter():  # <--- This is class method -> static method\n",
        "    return Atm.__counter"
      ],
      "metadata": {
        "id": "K2utSLyw-Mi9"
      },
      "execution_count": null,
      "outputs": []
    },
    {
      "cell_type": "code",
      "source": [
        "Atm.get_counter() # and this is how we will call static methods"
      ],
      "metadata": {
        "colab": {
          "base_uri": "https://localhost:8080/"
        },
        "id": "6OfX5ZPB-wtd",
        "outputId": "b63d8adb-a0b5-4967-b665-11d90abd3951"
      },
      "execution_count": null,
      "outputs": [
        {
          "output_type": "execute_result",
          "data": {
            "text/plain": [
              "1"
            ]
          },
          "metadata": {},
          "execution_count": 125
        }
      ]
    },
    {
      "cell_type": "markdown",
      "source": [
        "## class reletionship"
      ],
      "metadata": {
        "id": "WFtvf4U813We"
      }
    },
    {
      "cell_type": "markdown",
      "source": [
        "### *Aggregatation*"
      ],
      "metadata": {
        "id": "6xGFqClG7e1D"
      }
    },
    {
      "cell_type": "code",
      "source": [
        " # class reletionship\n",
        "\n",
        " # 1. Aggregation -> has a reletionship\n",
        " # --> one Class owns the other Class (Customer -> address (customer has add.))\n",
        " # --> this dosen't mean we can fetch the pvt attributes as well -> restricted\n",
        "\n",
        "class Customer :\n",
        "\n",
        "  def __init__(self,name,gender,address):\n",
        "    self.name = name\n",
        "    self.gender = gender\n",
        "    self.address = address\n",
        "\n",
        "  def get_address(self):\n",
        "    print(self.address.city,self.address.dist,self.address.pin,sep='-')\n",
        "# we are able to do this ^ because of the address class (. to access)\n",
        "\n",
        "class Address :\n",
        "\n",
        "  def __init__(self,city,dist,pin):\n",
        "    self.city = city\n",
        "    self.dist = dist\n",
        "    self.pin = pin\n"
      ],
      "metadata": {
        "id": "yFcRc8Ll18Fo"
      },
      "execution_count": null,
      "outputs": []
    },
    {
      "cell_type": "code",
      "source": [
        "ad1 = Address('Malegaon','Nashik',423203)\n",
        "p1 = Customer('Kunal','Male',ad1)\n",
        "p1.get_address()\n",
        "\n",
        "print(id(ad1))\n",
        "print(id(p1.address)) # pointing towards same object memory location\n"
      ],
      "metadata": {
        "colab": {
          "base_uri": "https://localhost:8080/"
        },
        "id": "i52jcV3d4RM6",
        "outputId": "8db0e623-9d72-44b6-fad3-22384168e573"
      },
      "execution_count": null,
      "outputs": [
        {
          "output_type": "stream",
          "name": "stdout",
          "text": [
            "Malegaon-Nashik-423203\n",
            "137502062307680\n",
            "137502062307680\n"
          ]
        }
      ]
    },
    {
      "cell_type": "code",
      "source": [
        "# what if city variable is private ???\n",
        "#--> we cannot access it directly in other class (need getter) ->coz methods can access\n",
        "\n",
        "\n",
        "class Customer:\n",
        "  def __init__(self,name,gender,address):\n",
        "    self.name = name\n",
        "    self.gender = gender\n",
        "    self.address = address\n",
        "\n",
        "  def get_address(self):\n",
        "    # print(self.address.city,self.address.dist,self.address.pin,sep='-')\n",
        "# if we input ^ address.__city it will throw an error\n",
        "    print(self.address.get_city(),self.address.dist,self.address.pin,sep='-')\n",
        "# therefore we are putting ^ getter to get that information\n",
        "\n",
        "class Address :\n",
        "\n",
        "  def __init__(self,city,dist,pin):\n",
        "    self.__city = city\n",
        "    self.dist = dist\n",
        "    self.pin = pin\n",
        "\n",
        "  def get_city(self):\n",
        "    return self.__city\n",
        "\n",
        "\n",
        "ad1 = Address('Malegaon','Nashik',423203)\n",
        "p1 = Customer('Kunal','Male',ad1)\n",
        "p1.get_address()"
      ],
      "metadata": {
        "colab": {
          "base_uri": "https://localhost:8080/"
        },
        "id": "yxNzlWG16R87",
        "outputId": "32b727b0-8409-4564-8dda-4d6d7d1a5ac5"
      },
      "execution_count": null,
      "outputs": [
        {
          "output_type": "stream",
          "name": "stdout",
          "text": [
            "Malegaon-Nashik-423203\n"
          ]
        }
      ]
    },
    {
      "cell_type": "code",
      "source": [
        "# want to update the address and name\n",
        "\n",
        "\n",
        "class Customer:\n",
        "  def __init__(self,name,gender,address):\n",
        "    self.name = name\n",
        "    self.gender = gender\n",
        "    self.address = address\n",
        "\n",
        "  def update_nameadd(self,new_name,new_address):\n",
        "    self.name = new_name\n",
        "    # for new address we will make it in address class\n",
        "    self.address.update_add(new_address.city,new_address.dist,new_address.pin)\n",
        "# we are using method created in other class here --^\n",
        "\n",
        "class Address :\n",
        "\n",
        "  def __init__(self,city,dist,pin):\n",
        "    self.city = city\n",
        "    self.dist = dist\n",
        "    self.pin = pin\n",
        "\n",
        "  def update_add(self,new_city,new_dist,new_pin):\n",
        "    self.city  =  new_city\n",
        "    self.dist = new_dist\n",
        "    self.pin = new_pin\n",
        "\n",
        "\n",
        "ad1 = Address('Malegaon','Nashik',423203)\n",
        "p1 = Customer('Kunal','Male',ad1)\n",
        "\n",
        "ad2 = Address('Wagholi','Pune',412207)\n",
        "\n",
        "p1.update_nameadd('KUNAL',ad2)\n",
        "\n",
        "print(p1.name,p1.address.city,p1.address.dist,p1.address.pin)"
      ],
      "metadata": {
        "colab": {
          "base_uri": "https://localhost:8080/"
        },
        "id": "jbz2X0FAD5fp",
        "outputId": "0edabc43-7d36-4219-a519-3df44ff2166a"
      },
      "execution_count": null,
      "outputs": [
        {
          "output_type": "stream",
          "name": "stdout",
          "text": [
            "KUNAL Wagholi Pune 412207\n"
          ]
        }
      ]
    },
    {
      "cell_type": "code",
      "source": [
        "# all attributes should be private and dimond means aggrigation\n",
        "\n",
        "# +----------------+                         +-------------+\n",
        "# |   Customer     |  has as retionship      |   Address   |\n",
        "# +----------------+ ◇──----------------->  +-------------+\n",
        "# | - name         |                         | - city      |  # <--- attributes\n",
        "# | - gender       |                         | - dist      |\n",
        "# | - address      |                         | - pin       |\n",
        "# +----------------+                         +-------------+\n",
        "# | + update_nameadd() |                     | + update_add() | # <--- methods\n",
        "# +----------------+                         +-------------+\n"
      ],
      "metadata": {
        "id": "ESVYRielIRYs"
      },
      "execution_count": null,
      "outputs": []
    },
    {
      "cell_type": "markdown",
      "source": [
        "### *Inheritance*"
      ],
      "metadata": {
        "id": "hqXeF7diJJD0"
      }
    },
    {
      "cell_type": "code",
      "source": [
        "# ---> code reusability\n",
        "# ---> principle ---> DRY ---> don't repet yourself\n",
        "\n",
        "#            +-----------+\n",
        "#            |   User    |   (Parent)\n",
        "#            +-----------+\n",
        "#            | + login() |\n",
        "#            | + register() |\n",
        "#            +-----------+\n",
        "#               ▲      ▲   #  <------- arrow head towards parent class\n",
        "#               |      |\n",
        "#    +--------------------------+\n",
        "#    |                          |\n",
        "# +-----------+          +-----------+\n",
        "# |  Student  |          | Instructor|\n",
        "# +-----------+          +-----------+\n",
        "# | + enroll()|          | + create()|\n",
        "# | + review()|          | + reply() |\n",
        "# +-----------+          +-----------+\n",
        "\n"
      ],
      "metadata": {
        "id": "TBOe5NQ0JIil"
      },
      "execution_count": null,
      "outputs": []
    },
    {
      "cell_type": "code",
      "source": [
        "class User:\n",
        "\n",
        "  def __init__(self):\n",
        "    self.name = 'Kunal'\n",
        "    self.gender = 'Male'\n",
        "\n",
        "\n",
        "  def greet(self):\n",
        "    print('Hi {}'.format(self.name))\n",
        "\n",
        "# ----------------------------------------------------------------------------\n",
        "\n",
        "class Student(User): # <--- this is how we define child class\n",
        "\n",
        "  def greet_2(self):\n",
        "    return self.greet()\n"
      ],
      "metadata": {
        "colab": {
          "base_uri": "https://localhost:8080/"
        },
        "id": "izG-mMJdYoh6",
        "outputId": "e9cdfb5c-6ebc-4372-88e3-b2045e973a65"
      },
      "execution_count": null,
      "outputs": [
        {
          "output_type": "stream",
          "name": "stdout",
          "text": [
            "Hi Kunal\n",
            "Kunal Male\n",
            "Hi Kunal\n"
          ]
        }
      ]
    },
    {
      "cell_type": "code",
      "source": [
        "u = User()\n",
        "s = Student()\n",
        "\n",
        "s.greet() # child can access any method and non private attribute\n",
        "print(s.name, s.gender)\n",
        "s.greet_2()\n",
        "\n",
        "# <--- to access attribute child will look into it's __init__ first if exist\n",
        "# then it will initiate it and will not take parent's __init__ (constructor)\n",
        "# this is also known as ---> method orverriding\n",
        "# super keyword ---- ?"
      ],
      "metadata": {
        "colab": {
          "base_uri": "https://localhost:8080/"
        },
        "id": "ah3PkRKzav4V",
        "outputId": "42b1e42c-9c21-4412-e86f-462de9e240a1"
      },
      "execution_count": null,
      "outputs": [
        {
          "output_type": "stream",
          "name": "stdout",
          "text": [
            "Hi Kunal\n",
            "Kunal Male\n",
            "Hi Kunal\n"
          ]
        }
      ]
    },
    {
      "cell_type": "code",
      "source": [
        "# class diagram\n",
        "\n",
        "\n",
        "# +-------------------+               +-------------------+\n",
        "# |      Student      |─────────────▷|       User        |\n",
        "# |-------------------|               |-------------------|\n",
        "# | greet_2()         |               | name              |\n",
        "# |                   |               | gender            |\n",
        "# |                   |               |-------------------| <-- parent class\n",
        "# |                   |               | greet()           |\n",
        "# +-------------------+               +-------------------+\n"
      ],
      "metadata": {
        "id": "D5WGKPFsbg6B"
      },
      "execution_count": null,
      "outputs": []
    },
    {
      "cell_type": "markdown",
      "source": [
        "#### *1. constructor inheritance*"
      ],
      "metadata": {
        "id": "QVMDcRIctbG4"
      }
    },
    {
      "cell_type": "code",
      "source": [
        "# 1.constructor --->  constructor overriding\n",
        "\n",
        "# --> if child has no constructor, parent's constructor gets initiated\n",
        "# --> parent has no access to child class (attributes/Method)\n",
        "class Phone :\n",
        "\n",
        "  def __init__(self,price,brand,camera):\n",
        "    print('inside parent constructor')\n",
        "    self.price = price\n",
        "    self.brand = brand\n",
        "    self.camera = camera\n",
        "\n",
        "\n",
        "  def buy(self):\n",
        "    print('buying a phone')\n",
        "\n",
        "\n",
        "class SmartPhone(Phone):\n",
        "  pass\n",
        "\n",
        "\n",
        "s = SmartPhone(2000,'POCO',48)\n",
        "s.buy() # < --- as non private method, therefore can access"
      ],
      "metadata": {
        "colab": {
          "base_uri": "https://localhost:8080/"
        },
        "id": "HAlyF6Qrb6Cs",
        "outputId": "8aef52af-bc00-4b26-d91a-8b9b3d79c9b8"
      },
      "execution_count": null,
      "outputs": [
        {
          "output_type": "stream",
          "name": "stdout",
          "text": [
            "inside parent constructor\n",
            "buying a phone\n"
          ]
        }
      ]
    },
    {
      "cell_type": "code",
      "source": [
        "class Phone :\n",
        "\n",
        "  def __init__(self,price,brand,camera):\n",
        "    self.price = price\n",
        "    self.brand = brand\n",
        "    self.camera = camera\n",
        "    print('inside parent constructor')\n",
        "\n",
        "  def buy(self):\n",
        "    print('buying a phone')\n",
        "\n",
        "\n",
        "class SmartPhone(Phone):\n",
        "\n",
        "  def __init__(self,os,ram):\n",
        "    self.os = os\n",
        "    self.ram = ram\n",
        "    print('inside child constructor')\n",
        "\n",
        "\n",
        "s = SmartPhone('Android', 8) # <--- as child has constructor, it will go inside\n",
        "# --------> and parent constructor will not get called and not initialized"
      ],
      "metadata": {
        "colab": {
          "base_uri": "https://localhost:8080/"
        },
        "id": "163hgNCWoYjS",
        "outputId": "d837c04c-b1e4-4393-fb92-4ca07535d18d"
      },
      "execution_count": null,
      "outputs": [
        {
          "output_type": "stream",
          "name": "stdout",
          "text": [
            "inside child constructor\n"
          ]
        }
      ]
    },
    {
      "cell_type": "markdown",
      "source": [
        "#### *2. non private attributes/methods*"
      ],
      "metadata": {
        "id": "3QcMVbTitqMo"
      }
    },
    {
      "cell_type": "code",
      "source": [
        "class Phone :\n",
        "\n",
        "  def __init__(self,price,brand,camera):\n",
        "    print('inside parent constructor')\n",
        "    self.__price = price  # <---- private attribute Parent\n",
        "    self.brand = brand\n",
        "    self.camera = camera\n",
        "\n",
        "  # getter of price\n",
        "  def __show_price(self): # <---- Private method parent\n",
        "    print(self.__price)\n",
        "\n",
        "\n",
        "class SmartPhone(Phone):\n",
        "\n",
        "  def show_price2(self):\n",
        "    print(self.__price) # <--- calling private attribute of parent\n",
        "\n",
        "\n",
        "s = SmartPhone(2000,'POCO',48)\n",
        "\n",
        "# s.show_price() # <---- calling private methods of parent <---- error\n",
        "# s.show_price2() # <----- This will throw an error"
      ],
      "metadata": {
        "colab": {
          "base_uri": "https://localhost:8080/"
        },
        "id": "KIKSjwdttzit",
        "outputId": "026fde92-8a85-4395-81cb-87f4fa478b13"
      },
      "execution_count": null,
      "outputs": [
        {
          "output_type": "stream",
          "name": "stdout",
          "text": [
            "inside parent constructor\n"
          ]
        }
      ]
    },
    {
      "cell_type": "code",
      "source": [
        "# examples -->\n",
        "\n",
        "class Parent:\n",
        "    def __init__(self, num):\n",
        "        self.__num = num\n",
        "\n",
        "    def get_num(self):\n",
        "        return self.__num\n",
        "\n",
        "class Child(Parent):\n",
        "    def show(self):\n",
        "        print(\"This is in child class\")\n",
        "\n",
        "son = Child(100)\n",
        "print(son.get_num())\n",
        "son.show()\n",
        "\n",
        "print('-'*50)\n",
        "#-------------------------------------------------------------------------------\n",
        "\n",
        "class Parent:\n",
        "    def __init__(self, num):\n",
        "        self.__num = num\n",
        "\n",
        "    def get_num(self):\n",
        "        return self.__num\n",
        "\n",
        "class Child(Parent):\n",
        "    def __init__(self, val, num):\n",
        "        self.__val = val\n",
        "\n",
        "    def get_val(self):\n",
        "        return self.__val\n",
        "\n",
        "son = Child(100, 10)\n",
        "# print(\"Parent: Num:\", son.get_num()) # error\n",
        "print(\"Child: Val:\", son.get_val()) # print\n",
        "\n",
        "print('-'*50)\n",
        "#-------------------------------------------------------------------------------\n",
        "\n",
        "class A:\n",
        "    def __init__(self):\n",
        "        self.var1 = 100\n",
        "\n",
        "    def display1(self, var1):\n",
        "        print(\"class A :\", self.var1) # <--- var1 is different than self.var1\n",
        "\n",
        "class B(A):\n",
        "    def display2(self, var1):\n",
        "        print(\"class B :\", self.var1)\n",
        "\n",
        "obj = B()\n",
        "obj.display1(200) # 100 :)\n"
      ],
      "metadata": {
        "colab": {
          "base_uri": "https://localhost:8080/"
        },
        "id": "91Ujwa5OvsPg",
        "outputId": "f2d6d0a4-4118-42d5-97da-b28187d9bfda"
      },
      "execution_count": null,
      "outputs": [
        {
          "output_type": "stream",
          "name": "stdout",
          "text": [
            "100\n",
            "This is in child class\n",
            "--------------------------------------------------\n",
            "Child: Val: 100\n",
            "--------------------------------------------------\n",
            "class A : 100\n"
          ]
        }
      ]
    },
    {
      "cell_type": "markdown",
      "source": [
        "#### *method overriding*"
      ],
      "metadata": {
        "id": "WFQh0oX8xPjV"
      }
    },
    {
      "cell_type": "code",
      "source": [
        "# if parent and child has same method --> child method is executed\n",
        "\n",
        "class Phone :\n",
        "\n",
        "  def __init__(self,price,brand,camera):\n",
        "    self.price = price\n",
        "    self.brand = brand\n",
        "    self.camera = camera\n",
        "\n",
        "\n",
        "  def buy(self):\n",
        "    print('Buying phone - Parent')\n",
        "\n",
        "\n",
        "class SmartPhone(Phone):\n",
        "\n",
        "  def buy(self):\n",
        "    print('Buying phone - Child')\n",
        "\n",
        "\n",
        "s = SmartPhone(2000,'POCO',48)\n",
        "\n",
        "s.buy() # <--------- child gets executed\n",
        "\n",
        "# if we initiated phone class then phone class buy will get executed"
      ],
      "metadata": {
        "colab": {
          "base_uri": "https://localhost:8080/"
        },
        "id": "s1IPpZEOxTJf",
        "outputId": "f2eb478f-dc28-419f-db83-4767653503bc"
      },
      "execution_count": null,
      "outputs": [
        {
          "output_type": "stream",
          "name": "stdout",
          "text": [
            "Buying phone - Child\n"
          ]
        }
      ]
    },
    {
      "cell_type": "markdown",
      "source": [
        "#### *super keyword*"
      ],
      "metadata": {
        "id": "u105c7S3yRRi"
      }
    },
    {
      "cell_type": "code",
      "source": [
        " # buy using super keyword, we can call parent's methods\n",
        "\n",
        "class Phone :\n",
        "\n",
        "  def __init__(self,price,brand,camera):\n",
        "    self.price = price\n",
        "    self.brand = brand\n",
        "    self.camera = camera\n",
        "\n",
        "\n",
        "  def buy(self):\n",
        "    print('Buying phone - Parent')\n",
        "\n",
        "\n",
        "class SmartPhone(Phone):\n",
        "\n",
        "  def buy(self):\n",
        "    print('Buying phone - Child')\n",
        "    # super keyword\n",
        "    super().buy() # <---- This will call parent's method\n",
        "\n",
        "\n",
        "s = SmartPhone(2000,'POCO',48)\n",
        "\n",
        "s.buy()"
      ],
      "metadata": {
        "colab": {
          "base_uri": "https://localhost:8080/"
        },
        "id": "u-tLe4myyUmz",
        "outputId": "6d3b2e36-9e05-4a96-9eaa-6a5c7fe4dbb6"
      },
      "execution_count": null,
      "outputs": [
        {
          "output_type": "stream",
          "name": "stdout",
          "text": [
            "Buying phone - Child\n",
            "Buying phone - Parent\n"
          ]
        }
      ]
    },
    {
      "cell_type": "code",
      "source": [
        "class Phone:\n",
        "    def __init__(self, price, brand, camera):          # < -- 2/\n",
        "      print(\"inside parent constructor\")\n",
        "      self.__price = price\n",
        "      self.brand = brand\n",
        "      self.camera = camera\n",
        "\n",
        "class SmartPhone(Phone):\n",
        "    def __init__(self, price, brand, camera, os, ram): # < -- 1/\n",
        "      print('inside child constructor')\n",
        "      super().__init__(price, brand, camera) #<---- triggering parent's const.\n",
        "      self.os = os                                     # < -- 3/\n",
        "      self.ram = ram\n",
        "      print(\"again inside child constructor\")\n",
        "\n",
        "s = SmartPhone(20000, \"Samsung\", 12, \"Android\", 2)\n",
        "\n",
        "# print(s.os)\n",
        "# print(s.brand)\n",
        "# s.price # <---- now cannot call price as it is in parent's const. and pvt."
      ],
      "metadata": {
        "colab": {
          "base_uri": "https://localhost:8080/"
        },
        "id": "Lneav1xVzMYE",
        "outputId": "5a93b62a-37c8-44e0-a8a6-dd451df271e4"
      },
      "execution_count": null,
      "outputs": [
        {
          "output_type": "stream",
          "name": "stdout",
          "text": [
            "inside child constructor\n",
            "inside parent constructor\n",
            "again inside child constructor\n"
          ]
        }
      ]
    },
    {
      "cell_type": "code",
      "source": [
        "# super outside the class will not work --> error\n",
        "# we can only access methods not attributes\n",
        "\n",
        "class Phone :\n",
        "\n",
        "  def __init__(self,price,brand,camera):\n",
        "    self.price = price\n",
        "    self.brand = brand\n",
        "    self.camera = camera\n",
        "\n",
        "\n",
        "  def buy(self):\n",
        "    print('Buying phone - Parent')\n",
        "\n",
        "\n",
        "class SmartPhone(Phone):\n",
        "\n",
        "  def buy(self):\n",
        "    print('Buying phone - Child')\n",
        "    # super().brand <------------------- cannot access attributes\n",
        "\n",
        "\n",
        "s = SmartPhone(2000,'POCO',48)\n",
        "\n",
        "# s.super().buy() # not work\n",
        "\n",
        "s.buy()"
      ],
      "metadata": {
        "colab": {
          "base_uri": "https://localhost:8080/"
        },
        "id": "TxNxHzxg04Sj",
        "outputId": "2021f6a0-5b4e-47b1-9df8-4b1a78bc7d2b"
      },
      "execution_count": null,
      "outputs": [
        {
          "output_type": "stream",
          "name": "stdout",
          "text": [
            "Buying phone - Child\n"
          ]
        }
      ]
    },
    {
      "cell_type": "code",
      "source": [
        "# examples\n",
        "\n",
        "class Parent:\n",
        "    def __init__(self, num):\n",
        "        self.__num = num\n",
        "\n",
        "    def get_num(self):\n",
        "        return self.__num\n",
        "\n",
        "class Child(Parent):\n",
        "    def __init__(self, num, val):\n",
        "        super().__init__(num)\n",
        "        self.__val = val\n",
        "\n",
        "    def get_val(self):\n",
        "        return self.__val\n",
        "\n",
        "son = Child(100, 200)\n",
        "print(son.get_num()) # as we are using getter therefore it will work\n",
        "print(son.get_val()) # in child class only so work\n",
        "\n",
        "print('-'*50)\n",
        "#------------------------------------------------------------------------------\n",
        "\n",
        "\n",
        "class Parent:\n",
        "    def __init__(self):\n",
        "        self.num = 100\n",
        "\n",
        "class Child(Parent):\n",
        "    def __init__(self):\n",
        "        super().__init__()\n",
        "        self.var = 200\n",
        "\n",
        "    def show(self):\n",
        "        print(self.num) #self.num initialized in parent --> and can access non pvt.\n",
        "        print(self.var)\n",
        "\n",
        "son = Child()\n",
        "son.show()"
      ],
      "metadata": {
        "colab": {
          "base_uri": "https://localhost:8080/"
        },
        "id": "UQ2S-tKc2VLM",
        "outputId": "dbbf5515-ab39-4cf0-9e2d-b5c661ab5286"
      },
      "execution_count": null,
      "outputs": [
        {
          "output_type": "stream",
          "name": "stdout",
          "text": [
            "100\n",
            "200\n",
            "--------------------------------------------------\n",
            "100\n",
            "200\n"
          ]
        }
      ]
    },
    {
      "cell_type": "markdown",
      "source": [
        "#### *Types of inheritance*"
      ],
      "metadata": {
        "id": "uuEVSD_p4ibq"
      }
    },
    {
      "cell_type": "markdown",
      "source": [
        "##### *single*"
      ],
      "metadata": {
        "id": "7BWei6c857Lp"
      }
    },
    {
      "cell_type": "code",
      "source": [
        "# single\n",
        "\n",
        "class Phone:\n",
        "    def __init__(self, price, brand, camera):\n",
        "        print(\"Inside phone constructor\")\n",
        "        self.__price = price\n",
        "        self.brand = brand\n",
        "        self.camera = camera\n",
        "\n",
        "    def buy(self):\n",
        "        print(\"Buying a phone\")\n",
        "\n",
        "class SmartPhone(Phone):\n",
        "    pass\n",
        "\n",
        "SmartPhone(1000, \"Apple\", \"13px\").buy()\n"
      ],
      "metadata": {
        "colab": {
          "base_uri": "https://localhost:8080/"
        },
        "id": "DObADAHh4njU",
        "outputId": "183ed58f-5bbd-4164-9a5d-85662a9436c1"
      },
      "execution_count": null,
      "outputs": [
        {
          "output_type": "stream",
          "name": "stdout",
          "text": [
            "Inside phone constructor\n",
            "Buying a phone\n"
          ]
        }
      ]
    },
    {
      "cell_type": "markdown",
      "source": [
        "##### *multilevel*"
      ],
      "metadata": {
        "id": "6ZSCKHxW6DrN"
      }
    },
    {
      "cell_type": "code",
      "source": [
        "class Product:\n",
        "    def review(self):\n",
        "        print(\"Grandparent method\")\n",
        "\n",
        "class Phone(Product):\n",
        "    def __init__(self, price, brand, camera):\n",
        "        print(\"Inside phone constructor\")\n",
        "        self.__price = price\n",
        "        self.brand = brand\n",
        "        self.camera = camera\n",
        "\n",
        "    def buy(self):\n",
        "        print(\"Parent method\")\n",
        "\n",
        "class SmartPhone(Phone):\n",
        "    pass\n",
        "\n",
        "s = SmartPhone(20000, \"Apple\", 12)\n",
        "\n",
        "s.review() # <---- can call grandparent method as well\n",
        "s.buy() # <------- parent method"
      ],
      "metadata": {
        "colab": {
          "base_uri": "https://localhost:8080/"
        },
        "id": "9SZbbi6O5z4m",
        "outputId": "198fcb5e-a7f4-4a28-9ec8-2a88e7ca010d"
      },
      "execution_count": null,
      "outputs": [
        {
          "output_type": "stream",
          "name": "stdout",
          "text": [
            "Inside phone constructor\n",
            "Grandparent method\n",
            "Parent method\n"
          ]
        }
      ]
    },
    {
      "cell_type": "markdown",
      "source": [
        "##### *hierarchical*"
      ],
      "metadata": {
        "id": "QktsnWBt6hnR"
      }
    },
    {
      "cell_type": "code",
      "source": [
        "# Hierarchical\n",
        "\n",
        "class Phone:\n",
        "\n",
        "  def __init__(self, price, brand, camera):\n",
        "    print(\"Inside phone constructor\")\n",
        "    self.__price = price\n",
        "    self.brand = brand\n",
        "    self.camera = camera\n",
        "\n",
        "  def buy(self):\n",
        "    print(\"Buying a phone\")\n",
        "\n",
        "class SmartPhone(Phone):\n",
        "  pass\n",
        "\n",
        "class FeaturePhone(Phone):\n",
        "  pass\n",
        "\n",
        "SmartPhone(1000, \"POCO\", \"13px\").buy()\n",
        "print('-'*50)\n",
        "FeaturePhone(120, \"Realme\", \"130px\").buy()\n"
      ],
      "metadata": {
        "colab": {
          "base_uri": "https://localhost:8080/"
        },
        "id": "p8ymrYjS6ni8",
        "outputId": "e1ec71d5-e717-4143-c099-ef9dde23737f"
      },
      "execution_count": null,
      "outputs": [
        {
          "output_type": "stream",
          "name": "stdout",
          "text": [
            "Inside phone constructor\n",
            "Buying a phone\n",
            "--------------------------------------------------\n",
            "Inside phone constructor\n",
            "Buying a phone\n"
          ]
        }
      ]
    },
    {
      "cell_type": "markdown",
      "source": [
        "##### *multiple*"
      ],
      "metadata": {
        "id": "w1R7nnEb7Oz4"
      }
    },
    {
      "cell_type": "code",
      "source": [
        "class Phone:\n",
        "  def __init__(self, price, brand, camera):\n",
        "    print(\"Inside phone constructor\")\n",
        "    self.__price = price\n",
        "    self.brand = brand\n",
        "    self.camera = camera\n",
        "\n",
        "  def review(self):\n",
        "    print(\"Phone class\")\n",
        "\n",
        "class Product:\n",
        "  def review(self):\n",
        "    print(\"Product class\")\n",
        "\n",
        "class SmartPhone(Phone, Product): # <---- MRO <-- method resolution order\n",
        "  pass\n",
        "\n",
        "s = SmartPhone(20000, \"Apple\", 12)\n",
        "# s.buy()\n",
        "s.review() # Phone is listed first in the inheritance list.\n"
      ],
      "metadata": {
        "colab": {
          "base_uri": "https://localhost:8080/"
        },
        "id": "WuEpjGQe7R2_",
        "outputId": "31f5f00b-4135-4aa5-c035-2e6f10741d4d"
      },
      "execution_count": null,
      "outputs": [
        {
          "output_type": "stream",
          "name": "stdout",
          "text": [
            "Inside phone constructor\n",
            "Phone class\n"
          ]
        }
      ]
    },
    {
      "cell_type": "code",
      "source": [
        "# examples\n",
        "\n",
        "class A:\n",
        "  def m1(self):\n",
        "    return 20\n",
        "\n",
        "class B(A):\n",
        "  def m1(self):\n",
        "    return 30\n",
        "  def m2(self):\n",
        "    return 40\n",
        "\n",
        "class C(B):\n",
        "  def m2(self):\n",
        "    return 20\n",
        "\n",
        "obj1 = A()\n",
        "obj2 = B()\n",
        "obj3 = C()\n",
        "\n",
        "print(obj1.m1() , obj3.m1() , obj3.m2())\n",
        "print(obj1.m1() + obj3.m1() + obj3.m2())\n",
        "\n",
        "# 20 + 30 + 20\n",
        "\n",
        "print('-'*50)\n",
        "#-------------------------------------------------------------------------------\n",
        "\n",
        "class A:\n",
        "  def m1(self):\n",
        "    return 20\n",
        "\n",
        "class B(A):\n",
        "  def m1(self):\n",
        "    val = super().m1() + 30\n",
        "    return val\n",
        "\n",
        "class C(B):\n",
        "  def m1(self): # <---- this will get called\n",
        "    val = self.m1() + 20 # <--- inf. loop-> calling itslef -> method overriding\n",
        "    return val\n",
        "\n",
        "\n",
        "obj = C()\n",
        "# print(obj.m1())\n",
        "\n",
        "\n",
        "\n",
        "print('-'*50)\n",
        "#-------------------------------------------------------------------------------\n"
      ],
      "metadata": {
        "colab": {
          "base_uri": "https://localhost:8080/"
        },
        "id": "87HG_t0y8g2a",
        "outputId": "2e5d3f30-257d-4757-b2f3-169e25210ff9"
      },
      "execution_count": null,
      "outputs": [
        {
          "output_type": "stream",
          "name": "stdout",
          "text": [
            "20 30 20\n",
            "70\n",
            "--------------------------------------------------\n"
          ]
        }
      ]
    },
    {
      "cell_type": "markdown",
      "source": [
        "## *Polymorphism*"
      ],
      "metadata": {
        "id": "o11EyV5o-2gz"
      }
    },
    {
      "cell_type": "code",
      "source": [
        "# means having multiple phases --> same thing behaves differently accoding to situation"
      ],
      "metadata": {
        "id": "Cn0DSudI_myY"
      },
      "execution_count": null,
      "outputs": []
    },
    {
      "cell_type": "markdown",
      "source": [
        "### *1. method overriding* --> completed discussion above"
      ],
      "metadata": {
        "id": "rY2lYM65_Cn4"
      }
    },
    {
      "cell_type": "markdown",
      "source": [
        "### *2. method overloding - Not work in python*  "
      ],
      "metadata": {
        "id": "dE9jdxS__VuK"
      }
    },
    {
      "cell_type": "code",
      "source": [
        "# ---> single class 2 methods -->  same name --> but behaviour different (input)\n",
        "# ---> code more clean in reading\n",
        "\n",
        "class Shape:\n",
        "\n",
        "  def area(self,rad):   # <----------- area of circle\n",
        "    return 3.14 *rad*rad\n",
        "\n",
        "  def area(self,l,b): # <----------- area of rectangle\n",
        "    return l*b\n",
        "\n",
        "s = Shape()\n",
        "\n",
        "# s.area(20)  this will throw error --> consider only latest area\n",
        "\n",
        "# ---> overloding doesnot work in python.\n",
        "# ---> we can solve it using default keyword arguments\n",
        "\n",
        "class Shape:\n",
        "    def area(self, a, b=0):\n",
        "        if b == 0:\n",
        "            return 3.14 * a * a\n",
        "        else:\n",
        "            return a * b\n",
        "\n",
        "s = Shape()\n",
        "\n",
        "print(s.area(2))\n",
        "print(s.area(3, 4))\n"
      ],
      "metadata": {
        "colab": {
          "base_uri": "https://localhost:8080/"
        },
        "id": "zTq89yqj_ajr",
        "outputId": "3ff3bdfe-0886-48af-fe66-b66e049c3344"
      },
      "execution_count": null,
      "outputs": [
        {
          "output_type": "stream",
          "name": "stdout",
          "text": [
            "12.56\n",
            "12\n"
          ]
        }
      ]
    },
    {
      "cell_type": "markdown",
      "source": [
        "### *3. operator overloding*"
      ],
      "metadata": {
        "id": "EubtbiSPBomS"
      }
    },
    {
      "cell_type": "code",
      "source": [
        "# based on input the function of operator changes -->"
      ],
      "metadata": {
        "id": "EbsRdBkwB-iT"
      },
      "execution_count": null,
      "outputs": []
    },
    {
      "cell_type": "code",
      "source": [
        "'Hello' + 'word'  # ---> concat"
      ],
      "metadata": {
        "colab": {
          "base_uri": "https://localhost:8080/",
          "height": 35
        },
        "id": "FsCS0sUwBnmp",
        "outputId": "b8a99d67-9c43-43b5-8278-ccbbfe76ae61"
      },
      "execution_count": null,
      "outputs": [
        {
          "output_type": "execute_result",
          "data": {
            "text/plain": [
              "'Helloword'"
            ],
            "application/vnd.google.colaboratory.intrinsic+json": {
              "type": "string"
            }
          },
          "metadata": {},
          "execution_count": 11
        }
      ]
    },
    {
      "cell_type": "code",
      "source": [
        "4 + 5             # ---> add"
      ],
      "metadata": {
        "colab": {
          "base_uri": "https://localhost:8080/"
        },
        "id": "ow4EoRDUBwWt",
        "outputId": "663e568e-a03a-457e-cb47-02d543b20e5f"
      },
      "execution_count": null,
      "outputs": [
        {
          "output_type": "execute_result",
          "data": {
            "text/plain": [
              "9"
            ]
          },
          "metadata": {},
          "execution_count": 10
        }
      ]
    },
    {
      "cell_type": "code",
      "source": [
        "[1,2,3,4] + [3,4] #--> merge"
      ],
      "metadata": {
        "colab": {
          "base_uri": "https://localhost:8080/"
        },
        "id": "R0GJMTpFByvm",
        "outputId": "64ec8810-78b5-4087-da59-d358ce662307"
      },
      "execution_count": null,
      "outputs": [
        {
          "output_type": "execute_result",
          "data": {
            "text/plain": [
              "[1, 2, 3, 4, 3, 4]"
            ]
          },
          "metadata": {},
          "execution_count": 12
        }
      ]
    },
    {
      "cell_type": "markdown",
      "source": [
        "## *Abstraction*"
      ],
      "metadata": {
        "id": "2nkF_FUNSiy1"
      }
    },
    {
      "cell_type": "code",
      "source": [
        "# meaning - hidden\n",
        "# laptop (implementation is hidden) --> we just use it\n",
        "# ----> want to force constraints # ---> gets control over child class\n",
        "\n",
        "from abc import ABC, abstractmethod\n",
        "\n",
        "class BankApp(ABC): # Abstract class ------> should inherit from ABC class\n",
        "\n",
        "  def database(self):\n",
        "    print('connected to database')\n",
        "\n",
        "  @abstractmethod # -------> should atleast have one abstract method\n",
        "  def security(self): # ---> no code is written in it\n",
        "    pass\n",
        "\n",
        "  @abstractmethod\n",
        "  def display(self):\n",
        "    pass\n"
      ],
      "metadata": {
        "id": "7D9gW9mcSnco"
      },
      "execution_count": null,
      "outputs": []
    },
    {
      "cell_type": "code",
      "source": [
        "class MobileApp(BankApp): # <-- can't inherit till we implement the abst. method\n",
        "\n",
        "  def mobile_login(self):\n",
        "    print('Login to mobile')\n",
        "\n",
        "  def security(self):\n",
        "    print('security code')\n",
        "\n",
        "  def display(self):\n",
        "    print('display code')"
      ],
      "metadata": {
        "id": "OWyCB00UT9w1"
      },
      "execution_count": null,
      "outputs": []
    },
    {
      "cell_type": "code",
      "source": [
        "mob = MobileApp()\n",
        "\n",
        "mob.database()"
      ],
      "metadata": {
        "colab": {
          "base_uri": "https://localhost:8080/"
        },
        "id": "BleN4hmvULBS",
        "outputId": "4064bf64-fbbd-4dcd-f569-7c97f7beea19"
      },
      "execution_count": null,
      "outputs": [
        {
          "output_type": "stream",
          "name": "stdout",
          "text": [
            "connected to database\n"
          ]
        }
      ]
    },
    {
      "cell_type": "markdown",
      "source": [
        "## *OOP - Project*"
      ],
      "metadata": {
        "id": "bW_cBefUvn04"
      }
    },
    {
      "cell_type": "code",
      "source": [
        "# API - application programming interface (nlp cloud)\n",
        "\n",
        "\n",
        "# python --> oop --> Url --> parameter --> result\n",
        "\n",
        "# login and registration will use some kind of database to store value\n",
        "\n",
        "\n",
        "!pip install nlpcloud  # <--- use to install library\n",
        "\n"
      ],
      "metadata": {
        "id": "Yydz5vQ7vspi",
        "colab": {
          "base_uri": "https://localhost:8080/"
        },
        "collapsed": true,
        "outputId": "dc15dffd-8ba9-478e-93a3-9fa510bb943d"
      },
      "execution_count": null,
      "outputs": [
        {
          "output_type": "stream",
          "name": "stdout",
          "text": [
            "Collecting nlpcloud\n",
            "  Downloading nlpcloud-1.1.47-py3-none-any.whl.metadata (1.1 kB)\n",
            "Requirement already satisfied: requests in /usr/local/lib/python3.12/dist-packages (from nlpcloud) (2.32.4)\n",
            "Requirement already satisfied: charset_normalizer<4,>=2 in /usr/local/lib/python3.12/dist-packages (from requests->nlpcloud) (3.4.3)\n",
            "Requirement already satisfied: idna<4,>=2.5 in /usr/local/lib/python3.12/dist-packages (from requests->nlpcloud) (3.10)\n",
            "Requirement already satisfied: urllib3<3,>=1.21.1 in /usr/local/lib/python3.12/dist-packages (from requests->nlpcloud) (2.5.0)\n",
            "Requirement already satisfied: certifi>=2017.4.17 in /usr/local/lib/python3.12/dist-packages (from requests->nlpcloud) (2025.8.3)\n",
            "Downloading nlpcloud-1.1.47-py3-none-any.whl (3.9 kB)\n",
            "Installing collected packages: nlpcloud\n",
            "Successfully installed nlpcloud-1.1.47\n"
          ]
        }
      ]
    },
    {
      "cell_type": "code",
      "source": [
        "import nlpcloud\n",
        "\n",
        "\n",
        "class NLPApp :\n",
        "\n",
        "  __database = {}\n",
        "\n",
        "  def __init__(self):\n",
        "    self.__first_menu()\n",
        "\n",
        "  def __first_menu(self):\n",
        "    first_input = input('''\n",
        "\n",
        "    Hi, How would you like to proceeed -->\n",
        "\n",
        "    1. Register\n",
        "    2. Login\n",
        "    3. Exit\n",
        "\n",
        "     ''')\n",
        "    if first_input == '1':\n",
        "      self.__register()\n",
        "    elif first_input == '2':\n",
        "      self.__login()\n",
        "    else:\n",
        "      pass\n",
        "\n",
        "  def __register(self): # <--- name, email, password\n",
        "    name = input('Enter the name - ') # we not using outside therefore not self\n",
        "    email = input('Enter the email - ')\n",
        "    password = input('Ente the password - ')\n",
        "    self.__add_user(name,email,password) # ---> db check\n",
        "\n",
        "\n",
        "  def __add_user(self, name, email, password):\n",
        "    if email in NLPApp.__database:   # explicitly use the class\n",
        "        print('Email already exists')\n",
        "    else:\n",
        "        NLPApp.__database[email] = [name, password]\n",
        "        print(\"Let's Move to login :) \")\n",
        "        self.__login()\n",
        "\n",
        "\n",
        "  def __login(self):\n",
        "    email = input('Enter the email - ')\n",
        "    password = input('Ente the password - ')\n",
        "    self.__check_user(email,password)\n",
        "\n",
        "\n",
        "  def __check_user(self,email, password):\n",
        "      if email in NLPApp.__database:\n",
        "        if NLPApp.__database[email][1] == password:\n",
        "          self.__second_menu()\n",
        "        else:\n",
        "          print('Password incorrect')\n",
        "          self.__login()\n",
        "      else:\n",
        "        print('User not found, Please sign up first')\n",
        "        self.__first_menu()\n",
        "\n",
        "  def __second_menu(self):\n",
        "    second_input = input('''\n",
        "\n",
        "    Welcome, How would you like to proceeed -->\n",
        "\n",
        "    1. NER\n",
        "    2. Language Detection\n",
        "    3. Sentiment Analysis\n",
        "    4. Logout\n",
        "\n",
        "     ''')\n",
        "\n",
        "    if second_input == '1':\n",
        "      self.__ner()\n",
        "    elif second_input == '2':\n",
        "      pass\n",
        "    elif second_input == '3':\n",
        "      pass\n",
        "    else:\n",
        "      self.__first_menu()\n",
        "\n",
        "\n",
        "  def __ner(self):\n",
        "    para = input('Enter Paragraph ----> ')\n",
        "    search = input('Search ------> ')\n",
        "    client = nlpcloud.Client(\"finetuned-llama-3-70b\", \"9c78b007959a0a1851c6fb05e29109e01c0d23ac\", gpu=True)\n",
        "    responce = client.entities(para,searched_entity= search)\n",
        "    l = []\n",
        "    for entity in responce['entities']:\n",
        "      l.append((entity['text']))\n",
        "    print(l)\n",
        "\n",
        "  def __lang_det(self):\n",
        "    pass\n",
        "\n",
        "  def __sentiment(self):\n",
        "    pass\n",
        "\n",
        "\n",
        "  @classmethod\n",
        "  def get_users(cls):\n",
        "    return cls.__database.copy()   # safe read-only copy"
      ],
      "metadata": {
        "id": "fT6E7XQp5Jax"
      },
      "execution_count": null,
      "outputs": []
    },
    {
      "cell_type": "code",
      "source": [
        "k = NLPApp()"
      ],
      "metadata": {
        "colab": {
          "base_uri": "https://localhost:8080/"
        },
        "collapsed": true,
        "id": "TzAZNAps683T",
        "outputId": "b2c7fa20-1dd8-4777-8f91-f9d14581ca3c"
      },
      "execution_count": null,
      "outputs": [
        {
          "output_type": "stream",
          "name": "stdout",
          "text": [
            " \n",
            "    \n",
            "    Hi, How would you like to proceeed --> \n",
            "\n",
            "    1. Register \n",
            "    2. Login\n",
            "    3. Exit\n",
            "    \n",
            "     1\n",
            "Enter the name - 1\n",
            "Enter the email - 2\n",
            "Ente the password - 3\n",
            "Let's Move to login :) \n",
            "Enter the email - 2\n",
            "Ente the password - 3\n",
            " \n",
            "    \n",
            "    Welcome, How would you like to proceeed --> \n",
            "\n",
            "    1. NER \n",
            "    2. Language Detection\n",
            "    3. Sentiment Analysis\n",
            "    4. Logout \n",
            "    \n",
            "     1\n",
            "Enter Paragraph ----> The databases track covers systems that manage data across industries. MySQL continues to be a reliable backbone for structured data and transactional applications. PostgreSQL brings advanced features and flexibility, making it a go-to for developers seeking both performance and scalability. MongoDB, as a NoSQL database, shines in handling unstructured and dynamic datasets. Cassandra excels in high-availability environments where distributed scalability is critical. SQLite, lightweight yet powerful, finds its place in mobile, embedded, and standalone applications. Together, these databases highlight the spectrum of data management, from lightweight local use to massive distributed systems.\n",
            "Search ------> databases\n",
            "['MySQL', 'PostgreSQL', 'MongoDB', 'Cassandra', 'SQLite']\n"
          ]
        }
      ]
    },
    {
      "cell_type": "code",
      "source": [
        "k.get_users()"
      ],
      "metadata": {
        "colab": {
          "base_uri": "https://localhost:8080/"
        },
        "collapsed": true,
        "id": "1MKDAMWF-pxD",
        "outputId": "6adcd5e6-e87e-4942-d945-69a909534b18"
      },
      "execution_count": null,
      "outputs": [
        {
          "output_type": "execute_result",
          "data": {
            "text/plain": [
              "{'2': ['1', '3']}"
            ]
          },
          "metadata": {},
          "execution_count": 56
        }
      ]
    },
    {
      "cell_type": "code",
      "source": [
        "d= {'entities':\n",
        " [\n",
        "     {'start': 26, 'end': 36, 'type': 'programming languages', 'text': 'Javascript'},\n",
        "      {'start': 102, 'end': 108, 'type': 'programming languages', 'text': 'Python'},\n",
        "       {'start': 165, 'end': 167, 'type': 'programming languages', 'text': 'Go'}]\n",
        " }\n",
        "\n",
        "\n"
      ],
      "metadata": {
        "colab": {
          "base_uri": "https://localhost:8080/"
        },
        "collapsed": true,
        "id": "gfLfpgGJQiwz",
        "outputId": "dc8169ee-0e23-402e-c390-c798cc2427b1"
      },
      "execution_count": null,
      "outputs": [
        {
          "output_type": "stream",
          "name": "stdout",
          "text": [
            "['Javascript', 'Python', 'Go']\n"
          ]
        }
      ]
    },
    {
      "cell_type": "markdown",
      "source": [
        "# Interview questions"
      ],
      "metadata": {
        "id": "4n6imuuVit7y"
      }
    },
    {
      "cell_type": "code",
      "source": [
        "# how indexing works in set\n",
        "\n",
        "# how set indexing works --->\n",
        "\n",
        "s = {1,21,33,45,23}\n",
        "print(s) # <---- hashing is used by set while printing\n",
        "# hashing defines the index\n",
        "\n",
        "# -0-1-2-3-4-5  <--- it has hash function (find out index position)\n",
        "\n",
        "# simple function --> 10%size  --> hetro --> choose hashing fun acc. both\n",
        "\n",
        "# confilct rsolution - probing or chaining\n",
        "\n",
        "# why we are doing this > -> searching---> order of 1 than array which is n\n",
        "\n",
        "# directly put it in the hash function and get the index\n",
        "\n",
        "# converting list to set ? --> order of n ?\n",
        "\n",
        "\n",
        "\n",
        "\n",
        "# why dict keys should be immutable ?\n",
        "\n",
        "# --> key -> hash --> store\n",
        "# --> if can change -> hash output -> change --> rearrange in memory for all\n",
        "\n",
        "\n"
      ],
      "metadata": {
        "id": "MgASeLxRitZi"
      },
      "execution_count": null,
      "outputs": []
    },
    {
      "cell_type": "code",
      "source": [
        "# enumerate - adds counter and returns enemurate object on iterables\n",
        "\n",
        "k = 'Kunal'\n",
        "print(list(enumerate(k)))\n",
        "\n",
        "k = [12,34,45,567,453]\n",
        "print(list(enumerate(k)))\n",
        "\n",
        "k = (1,23,45,56,34,2,2)\n",
        "print(list(enumerate(k)))"
      ],
      "metadata": {
        "colab": {
          "base_uri": "https://localhost:8080/"
        },
        "id": "6LqRMgAt5Rl0",
        "outputId": "9f59552b-aa65-4887-b09d-3d797a1bf913"
      },
      "execution_count": null,
      "outputs": [
        {
          "output_type": "stream",
          "name": "stdout",
          "text": [
            "[(0, 'K'), (1, 'u'), (2, 'n'), (3, 'a'), (4, 'l')]\n",
            "[(0, 12), (1, 34), (2, 45), (3, 567), (4, 453)]\n",
            "[(0, 1), (1, 23), (2, 45), (3, 56), (4, 34), (5, 2), (6, 2)]\n"
          ]
        }
      ]
    },
    {
      "cell_type": "code",
      "source": [
        "# sorted\n",
        "l = [('Kunal',32),('XYZ',21),('OG',99)]\n",
        "# sorting based on second element\n",
        "sorted(l,key=lambda x : x[1],reverse = True)"
      ],
      "metadata": {
        "colab": {
          "base_uri": "https://localhost:8080/"
        },
        "id": "_59925jN5-0p",
        "outputId": "17f36d7a-d0eb-478f-8c6e-b81478019860"
      },
      "execution_count": null,
      "outputs": [
        {
          "output_type": "execute_result",
          "data": {
            "text/plain": [
              "[('OG', 99), ('Kunal', 32), ('XYZ', 21)]"
            ]
          },
          "metadata": {},
          "execution_count": 103
        }
      ]
    },
    {
      "cell_type": "code",
      "source": [
        "# destructor - opp of constructor --> distroy then called\n",
        "\n",
        "class Example:\n",
        "\n",
        "  def __init__(self):\n",
        "    print('inside constructor')\n",
        "\n",
        "  def __del__(self):\n",
        "    print('Inside destructor') # <--- close the config. releted(db,file connect)"
      ],
      "metadata": {
        "id": "dYX6sZub6weu"
      },
      "execution_count": null,
      "outputs": []
    },
    {
      "cell_type": "code",
      "source": [
        "a = Example()\n",
        "b = a\n",
        "del a"
      ],
      "metadata": {
        "colab": {
          "base_uri": "https://localhost:8080/"
        },
        "id": "YwB71IET8e2Y",
        "outputId": "72d6bfaf-a8dc-45d9-f9da-2c666ef413fc"
      },
      "execution_count": null,
      "outputs": [
        {
          "output_type": "stream",
          "name": "stdout",
          "text": [
            "inside constructor\n",
            "Inside destructor\n"
          ]
        }
      ]
    },
    {
      "cell_type": "code",
      "source": [
        "# dir/isinsatnce/issubclass\n",
        "\n",
        "class Demo:\n",
        "\n",
        "  def __init__(self):\n",
        "    self.demo1 = ''\n",
        "    self._demo2 = ''\n",
        "    self.__demo3 = ''\n",
        "\n",
        "  def greet(self):\n",
        "    print('demo')\n",
        "\n",
        "\n",
        "t = Demo()\n",
        "print(dir(t)) # <-------- gives information about attributes methods and all\n",
        "# for i in dir(t):\n",
        "#   print(i)\n",
        "\n",
        "#------------------------------------------------------------------------------\n",
        "\n",
        "# isinsatnace --> checks if object is instance of class or not\n",
        "k = isinstance(t,Demo)\n",
        "print(k) # <---- returns bull\n",
        "\n",
        "#------------------------------------------------------------------------------\n",
        "# issubclass ---> checks parent child reletionship\n",
        "\n",
        "class Parent:\n",
        "  pass\n",
        "\n",
        "class Child(Parent):\n",
        "  pass\n",
        "\n",
        "print(issubclass(Child,Parent))\n"
      ],
      "metadata": {
        "colab": {
          "base_uri": "https://localhost:8080/"
        },
        "collapsed": true,
        "id": "v-UpsRPo8-9t",
        "outputId": "960a02c7-6561-4319-95b0-3dded0f5d6bc"
      },
      "execution_count": null,
      "outputs": [
        {
          "output_type": "stream",
          "name": "stdout",
          "text": [
            "['_Demo__demo3', '__class__', '__delattr__', '__dict__', '__dir__', '__doc__', '__eq__', '__format__', '__ge__', '__getattribute__', '__getstate__', '__gt__', '__hash__', '__init__', '__init_subclass__', '__le__', '__lt__', '__module__', '__ne__', '__new__', '__reduce__', '__reduce_ex__', '__repr__', '__setattr__', '__sizeof__', '__str__', '__subclasshook__', '__weakref__', '_demo2', 'demo1', 'greet']\n",
            "True\n",
            "True\n"
          ]
        }
      ]
    },
    {
      "cell_type": "code",
      "source": [
        "# Diamond problem -\n",
        "\n",
        "class A:\n",
        "    def show(self):\n",
        "        print(\"Class A\")\n",
        "\n",
        "class B(A):\n",
        "    def show(self):\n",
        "        print(\"Class B\") # <---- method overriding\n",
        "\n",
        "class C(A):\n",
        "    def show(self):\n",
        "        print(\"Class C\")\n",
        "\n",
        "# D inherits from both B and C\n",
        "class D(B, C): # < -- Method resolution order --> MRO\n",
        "    pass\n",
        "\n",
        "obj = D()\n",
        "obj.show()\n",
        "\n"
      ],
      "metadata": {
        "colab": {
          "base_uri": "https://localhost:8080/"
        },
        "id": "gUYnoAOA-Eiz",
        "outputId": "8715bc5f-dc95-44a4-ee5f-fbd579351bae"
      },
      "execution_count": null,
      "outputs": [
        {
          "output_type": "stream",
          "name": "stdout",
          "text": [
            "Class B\n"
          ]
        }
      ]
    },
    {
      "cell_type": "code",
      "source": [
        "# difference between single and double underscores\n",
        "\n",
        "# _singlebefore --> notion --> use it only inside class --> can access from outside\n",
        "\n",
        "class A:\n",
        "\n",
        "  def __init__(self):\n",
        "    self._var1 = 11 # <--- will not visible outside if put . and don't access it\n",
        "    self.var2 = 22\n",
        "\n",
        "t = A()\n",
        "\n",
        "t.var2\n",
        "t._var1 # can but ideally don't\n",
        "\n",
        "#------------------------------------------------------------------------------\n",
        "# singletrailing_ ---> for keywords if want to use\n",
        "\n",
        "class A :\n",
        "\n",
        "  def __init__(self,class_): #---> if most fitting name is keyword then underscore\n",
        "\n",
        "#------------------------------------------------------------------------------\n",
        "# __doubleleading --> private and name mangling _classname__variable\n",
        "#------------------------------------------------------------------------------\n",
        "# _  ----> don't care variable\n"
      ],
      "metadata": {
        "colab": {
          "base_uri": "https://localhost:8080/"
        },
        "id": "gHGfj9dw_rS5",
        "outputId": "ee57ed43-f08c-495d-b226-aec3905050c9"
      },
      "execution_count": null,
      "outputs": [
        {
          "output_type": "execute_result",
          "data": {
            "text/plain": [
              "11"
            ]
          },
          "metadata": {},
          "execution_count": 128
        }
      ]
    },
    {
      "cell_type": "code",
      "source": [
        "# string --> Human readable --> informal ---> user friendly\n",
        "# repr --> developer focused --> unambiguous representation\n",
        "import datetime\n",
        "\n",
        "today = datetime.date.today()\n",
        "\n",
        "print(str(today))   # str() nice readable form\n",
        "print(repr(today))  # repr() shows the “official” representation, which looks like valid Python code.\n"
      ],
      "metadata": {
        "colab": {
          "base_uri": "https://localhost:8080/"
        },
        "id": "8w5QZbasvlS-",
        "outputId": "f03088ec-360d-44bb-f36e-e9c7a9a0c845"
      },
      "execution_count": null,
      "outputs": [
        {
          "output_type": "stream",
          "name": "stdout",
          "text": [
            "2025-09-06\n",
            "datetime.date(2025, 9, 6)\n"
          ]
        }
      ]
    },
    {
      "cell_type": "code",
      "source": [
        "class Book:\n",
        "    def __init__(self, title, author):\n",
        "        self.title = title\n",
        "        self.author = author\n",
        "\n",
        "    def __str__(self):\n",
        "        return f\"{self.title} by {self.author}\"  # user-friendly\n",
        "\n",
        "    def __repr__(self):\n",
        "        return f\"Book('{self.title}', '{self.author}')\"  # dev-friendly\n",
        "\n",
        "b = Book(\"1984\", \"George Orwell\")\n",
        "\n",
        "print(str(b))   # str()\n",
        "print(repr(b))  # repr()\n"
      ],
      "metadata": {
        "colab": {
          "base_uri": "https://localhost:8080/"
        },
        "id": "-ync2uJEwjVq",
        "outputId": "4edf42f5-ce13-46fe-c0cb-5fa8ea1b686b"
      },
      "execution_count": null,
      "outputs": [
        {
          "output_type": "stream",
          "name": "stdout",
          "text": [
            "1984 by George Orwell\n",
            "Book('1984', 'George Orwell')\n"
          ]
        }
      ]
    },
    {
      "cell_type": "code",
      "source": [
        "# how objects can be stored in set even if they are mutable\n",
        "\n",
        "# class under __hash__ --> and return integer \\\\\n",
        "\n",
        "class A:\n",
        "\n",
        "  def __init__(self):\n",
        "    print('constructor')\n",
        "\n",
        "  def __hash__(self):\n",
        "    pass\n",
        "\n",
        "\n",
        "a = A()\n",
        "\n",
        "# s = {a}\n",
        "\n",
        "# we have hash function as well"
      ],
      "metadata": {
        "colab": {
          "base_uri": "https://localhost:8080/"
        },
        "id": "R-WV_hvUxYe4",
        "outputId": "e59a31e5-0365-486f-c508-2a50a1b4e0e8"
      },
      "execution_count": null,
      "outputs": [
        {
          "output_type": "stream",
          "name": "stdout",
          "text": [
            "constructor\n"
          ]
        }
      ]
    },
    {
      "cell_type": "code",
      "source": [],
      "metadata": {
        "id": "p4NyX0LmybYm"
      },
      "execution_count": null,
      "outputs": []
    },
    {
      "cell_type": "markdown",
      "source": [
        "# *file handling*"
      ],
      "metadata": {
        "id": "mdn-zqUrMGPH"
      }
    },
    {
      "cell_type": "code",
      "source": [
        "# Type of data used in input/output\n",
        "\n",
        "# Text -> unicode sequence --> as string\n",
        "# Binary -> sequence of bytes --> 010101\n",
        "\n",
        "# we will deal with\n",
        "\n",
        "# 1. Text files --> all program files are in text files\n",
        "# 2. Binary files --> images,music,videos\n"
      ],
      "metadata": {
        "id": "OSU3I8dfMLKq"
      },
      "execution_count": null,
      "outputs": []
    },
    {
      "cell_type": "markdown",
      "source": [
        "## *text file*"
      ],
      "metadata": {
        "id": "KT9iS-gDSwEc"
      }
    },
    {
      "cell_type": "markdown",
      "source": [
        "### *write*"
      ],
      "metadata": {
        "id": "7D_5gHzrblc7"
      }
    },
    {
      "cell_type": "code",
      "source": [
        "# for text files they will be written in string and read in string\n",
        "\n",
        "# case - 1 -> file not present\n",
        "f = open('sample.txt','w') # we create the file -> specify write 'w'\n",
        "f.write('Kunal Wagh') # <-------- write something in file\n",
        "f.close()             # <-------- close it, coz will be there in ram and safety\n",
        "\n",
        "#----------------------------------\n",
        "f = open('sample1.txt','w')\n",
        "f.write('Kunal')\n",
        "f.write('\\n') # <--- newline\n",
        "f.write('Wagh')\n",
        "f.close()\n",
        "#-------------------------------------------------------------------------------\n",
        "\n",
        "# case 2 ---> file is already persent\n",
        "\n",
        "f = open('sample.txt','w') #<--- first parth and then mode\n",
        "f.write('Hashirama Senju') #<---- it cleares all existing and writes new\n",
        "f.close()\n",
        "\n",
        "#-------------------------------------------------------------------------------\n",
        "\n",
        "# how open() works ? ->  https://docs.python.org/3/library/functions.html#open\n",
        "# ---> take if from ROM --> ram's buffer memory --> operation -> close it\n",
        "\n",
        "#-------------------------------------------------------------------------------\n",
        "# problem with 'w' mode --> cleares and then writes --> to deal --> append\n",
        "\n",
        "f = open('sample.txt','a') # <----append mode\n",
        "f.write(' \\n the goat') # <--- will start right after earlier end\n",
        "f.close()\n",
        "\n",
        "#-------------------------------------------------------------------------------\n",
        "# writing multiple lines -->\n",
        "\n",
        "l = ['Hello','\\nHow are you', '\\nI am fine'] # can pass tuple, generator no set\n",
        "s = open('sample1.txt','w')\n",
        "s.writelines(l)\n",
        "s.close()\n",
        "# ---------------------------------------------------------------------------\n",
        "# x is basically to avoid overriding - if exist -> raises File exists error\n",
        "with open('sample2.txt','x') as f :\n",
        "  f.write('This is new file created')\n"
      ],
      "metadata": {
        "id": "nkEdjHjnSta6"
      },
      "execution_count": null,
      "outputs": []
    },
    {
      "cell_type": "markdown",
      "source": [
        "### *read*"
      ],
      "metadata": {
        "id": "b9yDujITbp9l"
      }
    },
    {
      "cell_type": "code",
      "source": [
        "f = open('/content/sample1.txt','r')\n",
        "s = f.read() # <---- it will return string\n",
        "print(s)\n",
        "f.close()\n",
        "\n",
        "print('-'*50)\n",
        "#------------------------------------------------------------------------------\n",
        "# want to read only limited char -->\n",
        "\n",
        "f = open('/content/sample1.txt','r')\n",
        "s = f.read(11) # <---- it will return 10 char --> space/newline will also count\n",
        "print(s)\n",
        "f.close()\n",
        "print('-'*50)\n",
        "#------------------------------------------------------------------------------\n",
        "# read it line by line\n",
        "\n",
        "f = open('/content/sample1.txt','r')\n",
        "s1 = f.readline() # read-line will end as '\\n' line change\n",
        "s2 = f.readline() # ---> avoid as it loads all file in memory\n",
        "print(s1,end='')\n",
        "print(s2)\n",
        "f.close()\n",
        "print('-'*50)\n",
        "#------------------------------------------------------------------------------\n",
        "# read vs readline --> readline if file is big\n",
        "\n",
        "with open('sample1.txt', 'r') as f:\n",
        "    line_count = sum(1 for line in f)\n",
        "print(\"Total lines:\", line_count)\n"
      ],
      "metadata": {
        "colab": {
          "base_uri": "https://localhost:8080/"
        },
        "collapsed": true,
        "id": "SPux0sFAbsEP",
        "outputId": "25e0015c-363d-46d0-85f8-f9d52c11a255"
      },
      "execution_count": null,
      "outputs": [
        {
          "output_type": "stream",
          "name": "stdout",
          "text": [
            "Hello\n",
            "How are you\n",
            "I am fine\n",
            "--------------------------------------------------\n",
            "Hello\n",
            "How a\n",
            "--------------------------------------------------\n",
            "Hello\n",
            "How are you\n",
            "\n",
            "--------------------------------------------------\n",
            "Total lines: 3\n"
          ]
        }
      ]
    },
    {
      "cell_type": "markdown",
      "source": [
        "### *with* -> keyword"
      ],
      "metadata": {
        "id": "YtXyvdOVpO50"
      }
    },
    {
      "cell_type": "code",
      "source": [
        "# using with ---> no need to use close()\n",
        "\n",
        "with open('sample.txt','r') as f: # <--- with will auto close the file\n",
        "  print(f.read())\n",
        "\n",
        "# f.write('k') # this will raise an error"
      ],
      "metadata": {
        "colab": {
          "base_uri": "https://localhost:8080/"
        },
        "id": "ZYD5CBkpomxq",
        "outputId": "8c10b63b-14c2-4722-ba3b-7fd13ce98a53"
      },
      "execution_count": null,
      "outputs": [
        {
          "output_type": "stream",
          "name": "stdout",
          "text": [
            "Hashirama Senju \n",
            " the goat\n"
          ]
        }
      ]
    },
    {
      "cell_type": "markdown",
      "source": [
        "## handling csv file"
      ],
      "metadata": {
        "id": "7hLXN4kE3Or3"
      }
    },
    {
      "cell_type": "code",
      "source": [
        "import csv\n",
        "\n",
        "with open('data.csv','r',encoding='utf-8') as csv_data:\n",
        "  csv_read = csv.reader(csv_data)\n",
        "  print(csv_read) # < --- this is csv reader object like list of values per row\n",
        "  for i in csv_read:\n",
        "    print(i)\n",
        "\n"
      ],
      "metadata": {
        "colab": {
          "base_uri": "https://localhost:8080/"
        },
        "collapsed": true,
        "id": "59vFLOfw3SVP",
        "outputId": "77415ac5-98f6-469a-995f-7cf0014ab113"
      },
      "execution_count": null,
      "outputs": [
        {
          "output_type": "stream",
          "name": "stdout",
          "text": [
            "<_csv.reader object at 0x7ca435051c40>\n",
            "['ID', 'Name', 'Age', 'Country', 'Salary']\n",
            "['1', 'Hannah', '50', 'Australia', '64531.67']\n",
            "['2', 'Eve', '22', 'Germany', '111154.00']\n",
            "['3', 'Charlie', '46', 'Brazil', '80891.46']\n",
            "['4', 'Grace', '23', 'UK', '118591.70']\n",
            "['5', 'Frank', '35', 'India', '84289.55']\n",
            "['6', 'Sophia', '28', 'Canada', '91034.51']\n",
            "['7', 'Isaac', '44', 'USA', '120731.24']\n",
            "['8', 'Olivia', '31', 'Spain', '67521.80']\n",
            "['9', 'Liam', '39', 'India', '95217.23']\n",
            "['10', 'Emma', '52', 'Australia', '81023.76']\n",
            "['11', 'Benjamin', '27', 'France', '68459.30']\n",
            "['12', 'Ava', '45', 'UK', '113047.67']\n",
            "['13', 'Mason', '37', 'Canada', '87219.64']\n",
            "['14', 'Chloe', '55', 'USA', '102834.90']\n",
            "['15', 'Lucas', '48', 'Germany', '74211.12']\n",
            "['16', 'Emily', '29', 'Brazil', '94762.87']\n",
            "['17', 'Jacob', '41', 'India', '85799.38']\n",
            "['18', 'Mia', '36', 'Spain', '82562.15']\n",
            "['19', 'William', '51', 'France', '119481.99']\n",
            "['20', 'Amelia', '24', 'Australia', '66981.43']\n",
            "['21', 'Henry', '38', 'UK', '102782.94']\n",
            "['22', 'Zoe', '33', 'Canada', '78349.50']\n",
            "['23', 'Elijah', '49', 'USA', '117204.23']\n",
            "['24', 'Lily', '26', 'Germany', '69824.17']\n",
            "['25', 'James', '47', 'Brazil', '81345.52']\n",
            "['26', 'Sofia', '34', 'India', '91174.88']\n",
            "['27', 'Logan', '53', 'Spain', '121234.76']\n",
            "['28', 'Harper', '30', 'France', '67234.16']\n",
            "['29', 'Alexander', '43', 'Australia', '109381.47']\n",
            "['30', 'Grace', '32', 'UK', '80321.98']\n",
            "['31', 'Daniel', '40', 'Canada', '97215.82']\n",
            "['32', 'Scarlett', '25', 'USA', '99341.12']\n",
            "['33', 'Matthew', '54', 'Germany', '101241.50']\n",
            "['34', 'Victoria', '27', 'Brazil', '92812.39']\n",
            "['35', 'Jackson', '42', 'India', '76839.22']\n",
            "['36', 'Penelope', '37', 'Spain', '80933.48']\n",
            "['37', 'Michael', '50', 'France', '101237.65']\n",
            "['38', 'Ella', '28', 'Australia', '77985.90']\n",
            "['39', 'David', '39', 'UK', '125431.72']\n",
            "['40', 'Abigail', '31', 'Canada', '71034.81']\n",
            "['41', 'Joseph', '46', 'USA', '110448.93']\n",
            "['42', 'Samantha', '35', 'Germany', '78261.24']\n",
            "['43', 'Joshua', '29', 'Brazil', '98349.17']\n",
            "['44', 'Avery', '45', 'India', '103781.56']\n",
            "['45', 'Andrew', '38', 'Spain', '89235.69']\n",
            "['46', 'Madison', '53', 'France', '97584.20']\n",
            "['47', 'Samuel', '47', 'Australia', '119846.75']\n",
            "['48', 'Brooklyn', '32', 'UK', '74822.38']\n",
            "['49', 'Christopher', '23', 'Canada', '89571.11']\n",
            "['50', 'Elizabeth', '41', 'USA', '86357.15']\n"
          ]
        }
      ]
    },
    {
      "cell_type": "code",
      "source": [
        "with open('data.csv','r',encoding='utf-8') as csv_data:\n",
        "  csv_read = csv.DictReader(csv_data)\n",
        "  print(csv_read)\n",
        "  for i in csv_read:\n",
        "    print(i)"
      ],
      "metadata": {
        "collapsed": true,
        "colab": {
          "base_uri": "https://localhost:8080/"
        },
        "id": "mvqV2xhY5gN7",
        "outputId": "f877c76b-b4ec-4b31-eaba-cf6eff13b602"
      },
      "execution_count": null,
      "outputs": [
        {
          "output_type": "stream",
          "name": "stdout",
          "text": [
            "<csv.DictReader object at 0x7ca4350ff0e0>\n",
            "{'ID': '1', 'Name': 'Hannah', 'Age': '50', 'Country': 'Australia', 'Salary': '64531.67'}\n",
            "{'ID': '2', 'Name': 'Eve', 'Age': '22', 'Country': 'Germany', 'Salary': '111154.00'}\n",
            "{'ID': '3', 'Name': 'Charlie', 'Age': '46', 'Country': 'Brazil', 'Salary': '80891.46'}\n",
            "{'ID': '4', 'Name': 'Grace', 'Age': '23', 'Country': 'UK', 'Salary': '118591.70'}\n",
            "{'ID': '5', 'Name': 'Frank', 'Age': '35', 'Country': 'India', 'Salary': '84289.55'}\n",
            "{'ID': '6', 'Name': 'Sophia', 'Age': '28', 'Country': 'Canada', 'Salary': '91034.51'}\n",
            "{'ID': '7', 'Name': 'Isaac', 'Age': '44', 'Country': 'USA', 'Salary': '120731.24'}\n",
            "{'ID': '8', 'Name': 'Olivia', 'Age': '31', 'Country': 'Spain', 'Salary': '67521.80'}\n",
            "{'ID': '9', 'Name': 'Liam', 'Age': '39', 'Country': 'India', 'Salary': '95217.23'}\n",
            "{'ID': '10', 'Name': 'Emma', 'Age': '52', 'Country': 'Australia', 'Salary': '81023.76'}\n",
            "{'ID': '11', 'Name': 'Benjamin', 'Age': '27', 'Country': 'France', 'Salary': '68459.30'}\n",
            "{'ID': '12', 'Name': 'Ava', 'Age': '45', 'Country': 'UK', 'Salary': '113047.67'}\n",
            "{'ID': '13', 'Name': 'Mason', 'Age': '37', 'Country': 'Canada', 'Salary': '87219.64'}\n",
            "{'ID': '14', 'Name': 'Chloe', 'Age': '55', 'Country': 'USA', 'Salary': '102834.90'}\n",
            "{'ID': '15', 'Name': 'Lucas', 'Age': '48', 'Country': 'Germany', 'Salary': '74211.12'}\n",
            "{'ID': '16', 'Name': 'Emily', 'Age': '29', 'Country': 'Brazil', 'Salary': '94762.87'}\n",
            "{'ID': '17', 'Name': 'Jacob', 'Age': '41', 'Country': 'India', 'Salary': '85799.38'}\n",
            "{'ID': '18', 'Name': 'Mia', 'Age': '36', 'Country': 'Spain', 'Salary': '82562.15'}\n",
            "{'ID': '19', 'Name': 'William', 'Age': '51', 'Country': 'France', 'Salary': '119481.99'}\n",
            "{'ID': '20', 'Name': 'Amelia', 'Age': '24', 'Country': 'Australia', 'Salary': '66981.43'}\n",
            "{'ID': '21', 'Name': 'Henry', 'Age': '38', 'Country': 'UK', 'Salary': '102782.94'}\n",
            "{'ID': '22', 'Name': 'Zoe', 'Age': '33', 'Country': 'Canada', 'Salary': '78349.50'}\n",
            "{'ID': '23', 'Name': 'Elijah', 'Age': '49', 'Country': 'USA', 'Salary': '117204.23'}\n",
            "{'ID': '24', 'Name': 'Lily', 'Age': '26', 'Country': 'Germany', 'Salary': '69824.17'}\n",
            "{'ID': '25', 'Name': 'James', 'Age': '47', 'Country': 'Brazil', 'Salary': '81345.52'}\n",
            "{'ID': '26', 'Name': 'Sofia', 'Age': '34', 'Country': 'India', 'Salary': '91174.88'}\n",
            "{'ID': '27', 'Name': 'Logan', 'Age': '53', 'Country': 'Spain', 'Salary': '121234.76'}\n",
            "{'ID': '28', 'Name': 'Harper', 'Age': '30', 'Country': 'France', 'Salary': '67234.16'}\n",
            "{'ID': '29', 'Name': 'Alexander', 'Age': '43', 'Country': 'Australia', 'Salary': '109381.47'}\n",
            "{'ID': '30', 'Name': 'Grace', 'Age': '32', 'Country': 'UK', 'Salary': '80321.98'}\n",
            "{'ID': '31', 'Name': 'Daniel', 'Age': '40', 'Country': 'Canada', 'Salary': '97215.82'}\n",
            "{'ID': '32', 'Name': 'Scarlett', 'Age': '25', 'Country': 'USA', 'Salary': '99341.12'}\n",
            "{'ID': '33', 'Name': 'Matthew', 'Age': '54', 'Country': 'Germany', 'Salary': '101241.50'}\n",
            "{'ID': '34', 'Name': 'Victoria', 'Age': '27', 'Country': 'Brazil', 'Salary': '92812.39'}\n",
            "{'ID': '35', 'Name': 'Jackson', 'Age': '42', 'Country': 'India', 'Salary': '76839.22'}\n",
            "{'ID': '36', 'Name': 'Penelope', 'Age': '37', 'Country': 'Spain', 'Salary': '80933.48'}\n",
            "{'ID': '37', 'Name': 'Michael', 'Age': '50', 'Country': 'France', 'Salary': '101237.65'}\n",
            "{'ID': '38', 'Name': 'Ella', 'Age': '28', 'Country': 'Australia', 'Salary': '77985.90'}\n",
            "{'ID': '39', 'Name': 'David', 'Age': '39', 'Country': 'UK', 'Salary': '125431.72'}\n",
            "{'ID': '40', 'Name': 'Abigail', 'Age': '31', 'Country': 'Canada', 'Salary': '71034.81'}\n",
            "{'ID': '41', 'Name': 'Joseph', 'Age': '46', 'Country': 'USA', 'Salary': '110448.93'}\n",
            "{'ID': '42', 'Name': 'Samantha', 'Age': '35', 'Country': 'Germany', 'Salary': '78261.24'}\n",
            "{'ID': '43', 'Name': 'Joshua', 'Age': '29', 'Country': 'Brazil', 'Salary': '98349.17'}\n",
            "{'ID': '44', 'Name': 'Avery', 'Age': '45', 'Country': 'India', 'Salary': '103781.56'}\n",
            "{'ID': '45', 'Name': 'Andrew', 'Age': '38', 'Country': 'Spain', 'Salary': '89235.69'}\n",
            "{'ID': '46', 'Name': 'Madison', 'Age': '53', 'Country': 'France', 'Salary': '97584.20'}\n",
            "{'ID': '47', 'Name': 'Samuel', 'Age': '47', 'Country': 'Australia', 'Salary': '119846.75'}\n",
            "{'ID': '48', 'Name': 'Brooklyn', 'Age': '32', 'Country': 'UK', 'Salary': '74822.38'}\n",
            "{'ID': '49', 'Name': 'Christopher', 'Age': '23', 'Country': 'Canada', 'Salary': '89571.11'}\n",
            "{'ID': '50', 'Name': 'Elizabeth', 'Age': '41', 'Country': 'USA', 'Salary': '86357.15'}\n"
          ]
        }
      ]
    },
    {
      "cell_type": "code",
      "source": [
        "with open('data.csv','r',encoding='utf-8') as csv_data:\n",
        "  csv_read = csv.DictReader(csv_data)\n",
        "  print(csv_read.fieldnames)\n",
        "  filter_field = input('Input the filter field')\n",
        "  if filter_field in csv_read.fieldnames:\n",
        "    for i in csv_read:\n",
        "      print(i[filter_field])\n"
      ],
      "metadata": {
        "colab": {
          "base_uri": "https://localhost:8080/"
        },
        "id": "6hDAoygd5kbM",
        "outputId": "9d6b6b65-9529-49e8-b1e8-69a86d61cd45"
      },
      "execution_count": null,
      "outputs": [
        {
          "output_type": "stream",
          "name": "stdout",
          "text": [
            "['ID', 'Name', 'Age', 'Country', 'Salary']\n",
            "Input the filter fieldName\n",
            "Hannah\n",
            "Eve\n",
            "Charlie\n",
            "Grace\n",
            "Frank\n",
            "Sophia\n",
            "Isaac\n",
            "Olivia\n",
            "Liam\n",
            "Emma\n",
            "Benjamin\n",
            "Ava\n",
            "Mason\n",
            "Chloe\n",
            "Lucas\n",
            "Emily\n",
            "Jacob\n",
            "Mia\n",
            "William\n",
            "Amelia\n",
            "Henry\n",
            "Zoe\n",
            "Elijah\n",
            "Lily\n",
            "James\n",
            "Sofia\n",
            "Logan\n",
            "Harper\n",
            "Alexander\n",
            "Grace\n",
            "Daniel\n",
            "Scarlett\n",
            "Matthew\n",
            "Victoria\n",
            "Jackson\n",
            "Penelope\n",
            "Michael\n",
            "Ella\n",
            "David\n",
            "Abigail\n",
            "Joseph\n",
            "Samantha\n",
            "Joshua\n",
            "Avery\n",
            "Andrew\n",
            "Madison\n",
            "Samuel\n",
            "Brooklyn\n",
            "Christopher\n",
            "Elizabeth\n"
          ]
        }
      ]
    },
    {
      "cell_type": "markdown",
      "source": [
        "### *loding file chunk by chunk*"
      ],
      "metadata": {
        "id": "TfwHoprpr112"
      }
    },
    {
      "cell_type": "code",
      "source": [
        "# assume we want to load 20gigs of data in 8 gb ram\n",
        "# we load it chunk by chunk\n",
        "\n",
        "with open('sample.txt','r') as f :\n",
        "  print(f.read(10))\n",
        "  print(f.read(10)) #<--- prints next 10 <-- buffer # <--can load big file"
      ],
      "metadata": {
        "colab": {
          "base_uri": "https://localhost:8080/"
        },
        "id": "w8HMz_bRpX5o",
        "outputId": "b8d930e5-d5b7-4ea7-c930-0c70a5b219e6"
      },
      "execution_count": null,
      "outputs": [
        {
          "output_type": "stream",
          "name": "stdout",
          "text": [
            "Hashirama \n",
            "Senju \n",
            " th\n"
          ]
        }
      ]
    },
    {
      "cell_type": "code",
      "source": [
        "big_l = ['Kunal' for i in range(100000)]\n",
        "\n",
        "with open('big_file.txt','w') as big:\n",
        "  big.writelines(big_l)"
      ],
      "metadata": {
        "id": "ez8adVleqBaZ"
      },
      "execution_count": null,
      "outputs": []
    },
    {
      "cell_type": "code",
      "source": [
        "with open('big_file.txt','r') as f:\n",
        "\n",
        "  chunk_size = 10\n",
        "\n",
        "  while len(f.read(chunk_size)) > 0:\n",
        "    print(f.read(chunk_size),end=\"**\")\n",
        "    f.read(chunk_size) # <--- we are loding chunk by chunk"
      ],
      "metadata": {
        "colab": {
          "base_uri": "https://localhost:8080/"
        },
        "id": "Oc_P5KMYqx33",
        "outputId": "e4e72278-e52a-4ad8-ca22-afa152216ffc"
      },
      "execution_count": null,
      "outputs": [
        {
          "output_type": "stream",
          "name": "stdout",
          "text": [
            "KunalKunal**KunalKunal**KunalKunal**KunalKunal**KunalKunal**KunalKunal**KunalKunal**KunalKunal**KunalKunal**KunalKunal**KunalKunal**KunalKunal**KunalKunal**KunalKunal**KunalKunal**KunalKunal**KunalKunal**KunalKunal**KunalKunal**KunalKunal**KunalKunal**KunalKunal**KunalKunal**KunalKunal**KunalKunal**KunalKunal**KunalKunal**KunalKunal**KunalKunal**KunalKunal**KunalKunal**KunalKunal**KunalKunal**KunalKunal**KunalKunal**KunalKunal**KunalKunal**KunalKunal**KunalKunal**KunalKunal**KunalKunal**KunalKunal**KunalKunal**KunalKunal**KunalKunal**KunalKunal**KunalKunal**KunalKunal**KunalKunal**KunalKunal**KunalKunal**KunalKunal**KunalKunal**KunalKunal**KunalKunal**KunalKunal**KunalKunal**KunalKunal**KunalKunal**KunalKunal**KunalKunal**KunalKunal**KunalKunal**KunalKunal**KunalKunal**KunalKunal**KunalKunal**KunalKunal**KunalKunal**KunalKunal**KunalKunal**KunalKunal**KunalKunal**KunalKunal**KunalKunal**KunalKunal**KunalKunal**KunalKunal**KunalKunal**KunalKunal**KunalKunal**KunalKunal**KunalKunal**KunalKunal**KunalKunal**KunalKunal**KunalKunal**KunalKunal**KunalKunal**KunalKunal**KunalKunal**KunalKunal**KunalKunal**KunalKunal**KunalKunal**KunalKunal**KunalKunal**KunalKunal**KunalKunal**KunalKunal**KunalKunal**KunalKunal**KunalKunal**KunalKunal**KunalKunal**KunalKunal**KunalKunal**KunalKunal**KunalKunal**KunalKunal**KunalKunal**KunalKunal**KunalKunal**KunalKunal**KunalKunal**KunalKunal**KunalKunal**KunalKunal**KunalKunal**KunalKunal**KunalKunal**KunalKunal**KunalKunal**KunalKunal**KunalKunal**KunalKunal**KunalKunal**KunalKunal**KunalKunal**KunalKunal**KunalKunal**KunalKunal**KunalKunal**KunalKunal**KunalKunal**KunalKunal**KunalKunal**KunalKunal**KunalKunal**KunalKunal**KunalKunal**KunalKunal**KunalKunal**KunalKunal**KunalKunal**KunalKunal**KunalKunal**KunalKunal**KunalKunal**KunalKunal**KunalKunal**KunalKunal**KunalKunal**KunalKunal**KunalKunal**KunalKunal**KunalKunal**KunalKunal**KunalKunal**KunalKunal**KunalKunal**KunalKunal**KunalKunal**KunalKunal**KunalKunal**KunalKunal**KunalKunal**KunalKunal**KunalKunal**KunalKunal**KunalKunal**KunalKunal**KunalKunal**KunalKunal**KunalKunal**KunalKunal**KunalKunal**KunalKunal**KunalKunal**KunalKunal**KunalKunal**KunalKunal**KunalKunal**KunalKunal**KunalKunal**KunalKunal**KunalKunal**KunalKunal**KunalKunal**KunalKunal**KunalKunal**KunalKunal**KunalKunal**KunalKunal**KunalKunal**KunalKunal**KunalKunal**KunalKunal**KunalKunal**KunalKunal**KunalKunal**KunalKunal**KunalKunal**KunalKunal**KunalKunal**KunalKunal**KunalKunal**KunalKunal**KunalKunal**KunalKunal**KunalKunal**KunalKunal**KunalKunal**KunalKunal**KunalKunal**KunalKunal**KunalKunal**KunalKunal**KunalKunal**KunalKunal**KunalKunal**KunalKunal**KunalKunal**KunalKunal**KunalKunal**KunalKunal**KunalKunal**KunalKunal**KunalKunal**KunalKunal**KunalKunal**KunalKunal**KunalKunal**KunalKunal**KunalKunal**KunalKunal**KunalKunal**KunalKunal**KunalKunal**KunalKunal**KunalKunal**KunalKunal**KunalKunal**KunalKunal**KunalKunal**KunalKunal**KunalKunal**KunalKunal**KunalKunal**KunalKunal**KunalKunal**KunalKunal**KunalKunal**KunalKunal**KunalKunal**KunalKunal**KunalKunal**KunalKunal**KunalKunal**KunalKunal**KunalKunal**KunalKunal**KunalKunal**KunalKunal**KunalKunal**KunalKunal**KunalKunal**KunalKunal**KunalKunal**KunalKunal**KunalKunal**KunalKunal**KunalKunal**KunalKunal**KunalKunal**KunalKunal**KunalKunal**KunalKunal**KunalKunal**KunalKunal**KunalKunal**KunalKunal**KunalKunal**KunalKunal**KunalKunal**KunalKunal**KunalKunal**KunalKunal**KunalKunal**KunalKunal**KunalKunal**KunalKunal**KunalKunal**KunalKunal**KunalKunal**KunalKunal**KunalKunal**KunalKunal**KunalKunal**KunalKunal**KunalKunal**KunalKunal**KunalKunal**KunalKunal**KunalKunal**KunalKunal**KunalKunal**KunalKunal**KunalKunal**KunalKunal**KunalKunal**KunalKunal**KunalKunal**KunalKunal**KunalKunal**KunalKunal**KunalKunal**KunalKunal**KunalKunal**KunalKunal**KunalKunal**KunalKunal**KunalKunal**KunalKunal**KunalKunal**KunalKunal**KunalKunal**KunalKunal**KunalKunal**KunalKunal**KunalKunal**KunalKunal**KunalKunal**KunalKunal**KunalKunal**KunalKunal**KunalKunal**KunalKunal**KunalKunal**KunalKunal**KunalKunal**KunalKunal**KunalKunal**KunalKunal**KunalKunal**KunalKunal**KunalKunal**KunalKunal**KunalKunal**KunalKunal**KunalKunal**KunalKunal**KunalKunal**KunalKunal**KunalKunal**KunalKunal**KunalKunal**KunalKunal**KunalKunal**KunalKunal**KunalKunal**KunalKunal**KunalKunal**KunalKunal**KunalKunal**KunalKunal**KunalKunal**KunalKunal**KunalKunal**KunalKunal**KunalKunal**KunalKunal**KunalKunal**KunalKunal**KunalKunal**KunalKunal**KunalKunal**KunalKunal**KunalKunal**KunalKunal**KunalKunal**KunalKunal**KunalKunal**KunalKunal**KunalKunal**KunalKunal**KunalKunal**KunalKunal**KunalKunal**KunalKunal**KunalKunal**KunalKunal**KunalKunal**KunalKunal**KunalKunal**KunalKunal**KunalKunal**KunalKunal**KunalKunal**KunalKunal**KunalKunal**KunalKunal**KunalKunal**KunalKunal**KunalKunal**KunalKunal**KunalKunal**KunalKunal**KunalKunal**KunalKunal**KunalKunal**KunalKunal**KunalKunal**KunalKunal**KunalKunal**KunalKunal**KunalKunal**KunalKunal**KunalKunal**KunalKunal**KunalKunal**KunalKunal**KunalKunal**KunalKunal**KunalKunal**KunalKunal**KunalKunal**KunalKunal**KunalKunal**KunalKunal**KunalKunal**KunalKunal**KunalKunal**KunalKunal**KunalKunal**KunalKunal**KunalKunal**KunalKunal**KunalKunal**KunalKunal**KunalKunal**KunalKunal**KunalKunal**KunalKunal**KunalKunal**KunalKunal**KunalKunal**KunalKunal**KunalKunal**KunalKunal**KunalKunal**KunalKunal**KunalKunal**KunalKunal**KunalKunal**KunalKunal**KunalKunal**KunalKunal**KunalKunal**KunalKunal**KunalKunal**KunalKunal**KunalKunal**KunalKunal**KunalKunal**KunalKunal**KunalKunal**KunalKunal**KunalKunal**KunalKunal**KunalKunal**KunalKunal**KunalKunal**KunalKunal**KunalKunal**KunalKunal**KunalKunal**KunalKunal**KunalKunal**KunalKunal**KunalKunal**KunalKunal**KunalKunal**KunalKunal**KunalKunal**KunalKunal**KunalKunal**KunalKunal**KunalKunal**KunalKunal**KunalKunal**KunalKunal**KunalKunal**KunalKunal**KunalKunal**KunalKunal**KunalKunal**KunalKunal**KunalKunal**KunalKunal**KunalKunal**KunalKunal**KunalKunal**KunalKunal**KunalKunal**KunalKunal**KunalKunal**KunalKunal**KunalKunal**KunalKunal**KunalKunal**KunalKunal**KunalKunal**KunalKunal**KunalKunal**KunalKunal**KunalKunal**KunalKunal**KunalKunal**KunalKunal**KunalKunal**KunalKunal**KunalKunal**KunalKunal**KunalKunal**KunalKunal**KunalKunal**KunalKunal**KunalKunal**KunalKunal**KunalKunal**KunalKunal**KunalKunal**KunalKunal**KunalKunal**KunalKunal**KunalKunal**KunalKunal**KunalKunal**KunalKunal**KunalKunal**KunalKunal**KunalKunal**KunalKunal**KunalKunal**KunalKunal**KunalKunal**KunalKunal**KunalKunal**KunalKunal**KunalKunal**KunalKunal**KunalKunal**KunalKunal**KunalKunal**KunalKunal**KunalKunal**KunalKunal**KunalKunal**KunalKunal**KunalKunal**KunalKunal**KunalKunal**KunalKunal**KunalKunal**KunalKunal**KunalKunal**KunalKunal**KunalKunal**KunalKunal**KunalKunal**KunalKunal**KunalKunal**KunalKunal**KunalKunal**KunalKunal**KunalKunal**KunalKunal**KunalKunal**KunalKunal**KunalKunal**KunalKunal**KunalKunal**KunalKunal**KunalKunal**KunalKunal**KunalKunal**KunalKunal**KunalKunal**KunalKunal**KunalKunal**KunalKunal**KunalKunal**KunalKunal**KunalKunal**KunalKunal**KunalKunal**KunalKunal**KunalKunal**KunalKunal**KunalKunal**KunalKunal**KunalKunal**KunalKunal**KunalKunal**KunalKunal**KunalKunal**KunalKunal**KunalKunal**KunalKunal**KunalKunal**KunalKunal**KunalKunal**KunalKunal**KunalKunal**KunalKunal**KunalKunal**KunalKunal**KunalKunal**KunalKunal**KunalKunal**KunalKunal**KunalKunal**KunalKunal**KunalKunal**KunalKunal**KunalKunal**KunalKunal**KunalKunal**KunalKunal**KunalKunal**KunalKunal**KunalKunal**KunalKunal**KunalKunal**KunalKunal**KunalKunal**KunalKunal**KunalKunal**KunalKunal**KunalKunal**KunalKunal**KunalKunal**KunalKunal**KunalKunal**KunalKunal**KunalKunal**KunalKunal**KunalKunal**KunalKunal**KunalKunal**KunalKunal**KunalKunal**KunalKunal**KunalKunal**KunalKunal**KunalKunal**KunalKunal**KunalKunal**KunalKunal**KunalKunal**KunalKunal**KunalKunal**KunalKunal**KunalKunal**KunalKunal**KunalKunal**KunalKunal**KunalKunal**KunalKunal**KunalKunal**KunalKunal**KunalKunal**KunalKunal**KunalKunal**KunalKunal**KunalKunal**KunalKunal**KunalKunal**KunalKunal**KunalKunal**KunalKunal**KunalKunal**KunalKunal**KunalKunal**KunalKunal**KunalKunal**KunalKunal**KunalKunal**KunalKunal**KunalKunal**KunalKunal**KunalKunal**KunalKunal**KunalKunal**KunalKunal**KunalKunal**KunalKunal**KunalKunal**KunalKunal**KunalKunal**KunalKunal**KunalKunal**KunalKunal**KunalKunal**KunalKunal**KunalKunal**KunalKunal**KunalKunal**KunalKunal**KunalKunal**KunalKunal**KunalKunal**KunalKunal**KunalKunal**KunalKunal**KunalKunal**KunalKunal**KunalKunal**KunalKunal**KunalKunal**KunalKunal**KunalKunal**KunalKunal**KunalKunal**KunalKunal**KunalKunal**KunalKunal**KunalKunal**KunalKunal**KunalKunal**KunalKunal**KunalKunal**KunalKunal**KunalKunal**KunalKunal**KunalKunal**KunalKunal**KunalKunal**KunalKunal**KunalKunal**KunalKunal**KunalKunal**KunalKunal**KunalKunal**KunalKunal**KunalKunal**KunalKunal**KunalKunal**KunalKunal**KunalKunal**KunalKunal**KunalKunal**KunalKunal**KunalKunal**KunalKunal**KunalKunal**KunalKunal**KunalKunal**KunalKunal**KunalKunal**KunalKunal**KunalKunal**KunalKunal**KunalKunal**KunalKunal**KunalKunal**KunalKunal**KunalKunal**KunalKunal**KunalKunal**KunalKunal**KunalKunal**KunalKunal**KunalKunal**KunalKunal**KunalKunal**KunalKunal**KunalKunal**KunalKunal**KunalKunal**KunalKunal**KunalKunal**KunalKunal**KunalKunal**KunalKunal**KunalKunal**KunalKunal**KunalKunal**KunalKunal**KunalKunal**KunalKunal**KunalKunal**KunalKunal**KunalKunal**KunalKunal**KunalKunal**KunalKunal**KunalKunal**KunalKunal**KunalKunal**KunalKunal**KunalKunal**KunalKunal**KunalKunal**KunalKunal**KunalKunal**KunalKunal**KunalKunal**KunalKunal**KunalKunal**KunalKunal**KunalKunal**KunalKunal**KunalKunal**KunalKunal**KunalKunal**KunalKunal**KunalKunal**KunalKunal**KunalKunal**KunalKunal**KunalKunal**KunalKunal**KunalKunal**KunalKunal**KunalKunal**KunalKunal**KunalKunal**KunalKunal**KunalKunal**KunalKunal**KunalKunal**KunalKunal**KunalKunal**KunalKunal**KunalKunal**KunalKunal**KunalKunal**KunalKunal**KunalKunal**KunalKunal**KunalKunal**KunalKunal**KunalKunal**KunalKunal**KunalKunal**KunalKunal**KunalKunal**KunalKunal**KunalKunal**KunalKunal**KunalKunal**KunalKunal**KunalKunal**KunalKunal**KunalKunal**KunalKunal**KunalKunal**KunalKunal**KunalKunal**KunalKunal**KunalKunal**KunalKunal**KunalKunal**KunalKunal**KunalKunal**KunalKunal**KunalKunal**KunalKunal**KunalKunal**KunalKunal**KunalKunal**KunalKunal**KunalKunal**KunalKunal**KunalKunal**KunalKunal**KunalKunal**KunalKunal**KunalKunal**KunalKunal**KunalKunal**KunalKunal**KunalKunal**KunalKunal**KunalKunal**KunalKunal**KunalKunal**KunalKunal**KunalKunal**KunalKunal**KunalKunal**KunalKunal**KunalKunal**KunalKunal**KunalKunal**KunalKunal**KunalKunal**KunalKunal**KunalKunal**KunalKunal**KunalKunal**KunalKunal**KunalKunal**KunalKunal**KunalKunal**KunalKunal**KunalKunal**KunalKunal**KunalKunal**KunalKunal**KunalKunal**KunalKunal**KunalKunal**KunalKunal**KunalKunal**KunalKunal**KunalKunal**KunalKunal**KunalKunal**KunalKunal**KunalKunal**KunalKunal**KunalKunal**KunalKunal**KunalKunal**KunalKunal**KunalKunal**KunalKunal**KunalKunal**KunalKunal**KunalKunal**KunalKunal**KunalKunal**KunalKunal**KunalKunal**KunalKunal**KunalKunal**KunalKunal**KunalKunal**KunalKunal**KunalKunal**KunalKunal**KunalKunal**KunalKunal**KunalKunal**KunalKunal**KunalKunal**KunalKunal**KunalKunal**KunalKunal**KunalKunal**KunalKunal**KunalKunal**KunalKunal**KunalKunal**KunalKunal**KunalKunal**KunalKunal**KunalKunal**KunalKunal**KunalKunal**KunalKunal**KunalKunal**KunalKunal**KunalKunal**KunalKunal**KunalKunal**KunalKunal**KunalKunal**KunalKunal**KunalKunal**KunalKunal**KunalKunal**KunalKunal**KunalKunal**KunalKunal**KunalKunal**KunalKunal**KunalKunal**KunalKunal**KunalKunal**KunalKunal**KunalKunal**KunalKunal**KunalKunal**KunalKunal**KunalKunal**KunalKunal**KunalKunal**KunalKunal**KunalKunal**KunalKunal**KunalKunal**KunalKunal**KunalKunal**KunalKunal**KunalKunal**KunalKunal**KunalKunal**KunalKunal**KunalKunal**KunalKunal**KunalKunal**KunalKunal**KunalKunal**KunalKunal**KunalKunal**KunalKunal**KunalKunal**KunalKunal**KunalKunal**KunalKunal**KunalKunal**KunalKunal**KunalKunal**KunalKunal**KunalKunal**KunalKunal**KunalKunal**KunalKunal**KunalKunal**KunalKunal**KunalKunal**KunalKunal**KunalKunal**KunalKunal**KunalKunal**KunalKunal**KunalKunal**KunalKunal**KunalKunal**KunalKunal**KunalKunal**KunalKunal**KunalKunal**KunalKunal**KunalKunal**KunalKunal**KunalKunal**KunalKunal**KunalKunal**KunalKunal**KunalKunal**KunalKunal**KunalKunal**KunalKunal**KunalKunal**KunalKunal**KunalKunal**KunalKunal**KunalKunal**KunalKunal**KunalKunal**KunalKunal**KunalKunal**KunalKunal**KunalKunal**KunalKunal**KunalKunal**KunalKunal**KunalKunal**KunalKunal**KunalKunal**KunalKunal**KunalKunal**KunalKunal**KunalKunal**KunalKunal**KunalKunal**KunalKunal**KunalKunal**KunalKunal**KunalKunal**KunalKunal**KunalKunal**KunalKunal**KunalKunal**KunalKunal**KunalKunal**KunalKunal**KunalKunal**KunalKunal**KunalKunal**KunalKunal**KunalKunal**KunalKunal**KunalKunal**KunalKunal**KunalKunal**KunalKunal**KunalKunal**KunalKunal**KunalKunal**KunalKunal**KunalKunal**KunalKunal**KunalKunal**KunalKunal**KunalKunal**KunalKunal**KunalKunal**KunalKunal**KunalKunal**KunalKunal**KunalKunal**KunalKunal**KunalKunal**KunalKunal**KunalKunal**KunalKunal**KunalKunal**KunalKunal**KunalKunal**KunalKunal**KunalKunal**KunalKunal**KunalKunal**KunalKunal**KunalKunal**KunalKunal**KunalKunal**KunalKunal**KunalKunal**KunalKunal**KunalKunal**KunalKunal**KunalKunal**KunalKunal**KunalKunal**KunalKunal**KunalKunal**KunalKunal**KunalKunal**KunalKunal**KunalKunal**KunalKunal**KunalKunal**KunalKunal**KunalKunal**KunalKunal**KunalKunal**KunalKunal**KunalKunal**KunalKunal**KunalKunal**KunalKunal**KunalKunal**KunalKunal**KunalKunal**KunalKunal**KunalKunal**KunalKunal**KunalKunal**KunalKunal**KunalKunal**KunalKunal**KunalKunal**KunalKunal**KunalKunal**KunalKunal**KunalKunal**KunalKunal**KunalKunal**KunalKunal**KunalKunal**KunalKunal**KunalKunal**KunalKunal**KunalKunal**KunalKunal**KunalKunal**KunalKunal**KunalKunal**KunalKunal**KunalKunal**KunalKunal**KunalKunal**KunalKunal**KunalKunal**KunalKunal**KunalKunal**KunalKunal**KunalKunal**KunalKunal**KunalKunal**KunalKunal**KunalKunal**KunalKunal**KunalKunal**KunalKunal**KunalKunal**KunalKunal**KunalKunal**KunalKunal**KunalKunal**KunalKunal**KunalKunal**KunalKunal**KunalKunal**KunalKunal**KunalKunal**KunalKunal**KunalKunal**KunalKunal**KunalKunal**KunalKunal**KunalKunal**KunalKunal**KunalKunal**KunalKunal**KunalKunal**KunalKunal**KunalKunal**KunalKunal**KunalKunal**KunalKunal**KunalKunal**KunalKunal**KunalKunal**KunalKunal**KunalKunal**KunalKunal**KunalKunal**KunalKunal**KunalKunal**KunalKunal**KunalKunal**KunalKunal**KunalKunal**KunalKunal**KunalKunal**KunalKunal**KunalKunal**KunalKunal**KunalKunal**KunalKunal**KunalKunal**KunalKunal**KunalKunal**KunalKunal**KunalKunal**KunalKunal**KunalKunal**KunalKunal**KunalKunal**KunalKunal**KunalKunal**KunalKunal**KunalKunal**KunalKunal**KunalKunal**KunalKunal**KunalKunal**KunalKunal**KunalKunal**KunalKunal**KunalKunal**KunalKunal**KunalKunal**KunalKunal**KunalKunal**KunalKunal**KunalKunal**KunalKunal**KunalKunal**KunalKunal**KunalKunal**KunalKunal**KunalKunal**KunalKunal**KunalKunal**KunalKunal**KunalKunal**KunalKunal**KunalKunal**KunalKunal**KunalKunal**KunalKunal**KunalKunal**KunalKunal**KunalKunal**KunalKunal**KunalKunal**KunalKunal**KunalKunal**KunalKunal**KunalKunal**KunalKunal**KunalKunal**KunalKunal**KunalKunal**KunalKunal**KunalKunal**KunalKunal**KunalKunal**KunalKunal**KunalKunal**KunalKunal**KunalKunal**KunalKunal**KunalKunal**KunalKunal**KunalKunal**KunalKunal**KunalKunal**KunalKunal**KunalKunal**KunalKunal**KunalKunal**KunalKunal**KunalKunal**KunalKunal**KunalKunal**KunalKunal**KunalKunal**KunalKunal**KunalKunal**KunalKunal**KunalKunal**KunalKunal**KunalKunal**KunalKunal**KunalKunal**KunalKunal**KunalKunal**KunalKunal**KunalKunal**KunalKunal**KunalKunal**KunalKunal**KunalKunal**KunalKunal**KunalKunal**KunalKunal**KunalKunal**KunalKunal**KunalKunal**KunalKunal**KunalKunal**KunalKunal**KunalKunal**KunalKunal**KunalKunal**KunalKunal**KunalKunal**KunalKunal**KunalKunal**KunalKunal**KunalKunal**KunalKunal**KunalKunal**KunalKunal**KunalKunal**KunalKunal**KunalKunal**KunalKunal**KunalKunal**KunalKunal**KunalKunal**KunalKunal**KunalKunal**KunalKunal**KunalKunal**KunalKunal**KunalKunal**KunalKunal**KunalKunal**KunalKunal**KunalKunal**KunalKunal**KunalKunal**KunalKunal**KunalKunal**KunalKunal**KunalKunal**KunalKunal**KunalKunal**KunalKunal**KunalKunal**KunalKunal**KunalKunal**KunalKunal**KunalKunal**KunalKunal**KunalKunal**KunalKunal**KunalKunal**KunalKunal**KunalKunal**KunalKunal**KunalKunal**KunalKunal**KunalKunal**KunalKunal**KunalKunal**KunalKunal**KunalKunal**KunalKunal**KunalKunal**KunalKunal**KunalKunal**KunalKunal**KunalKunal**KunalKunal**KunalKunal**KunalKunal**KunalKunal**KunalKunal**KunalKunal**KunalKunal**KunalKunal**KunalKunal**KunalKunal**KunalKunal**KunalKunal**KunalKunal**KunalKunal**KunalKunal**KunalKunal**KunalKunal**KunalKunal**KunalKunal**KunalKunal**KunalKunal**KunalKunal**KunalKunal**KunalKunal**KunalKunal**KunalKunal**KunalKunal**KunalKunal**KunalKunal**KunalKunal**KunalKunal**KunalKunal**KunalKunal**KunalKunal**KunalKunal**KunalKunal**KunalKunal**KunalKunal**KunalKunal**KunalKunal**KunalKunal**KunalKunal**KunalKunal**KunalKunal**KunalKunal**KunalKunal**KunalKunal**KunalKunal**KunalKunal**KunalKunal**KunalKunal**KunalKunal**KunalKunal**KunalKunal**KunalKunal**KunalKunal**KunalKunal**KunalKunal**KunalKunal**KunalKunal**KunalKunal**KunalKunal**KunalKunal**KunalKunal**KunalKunal**KunalKunal**KunalKunal**KunalKunal**KunalKunal**KunalKunal**KunalKunal**KunalKunal**KunalKunal**KunalKunal**KunalKunal**KunalKunal**KunalKunal**KunalKunal**KunalKunal**KunalKunal**KunalKunal**KunalKunal**KunalKunal**KunalKunal**KunalKunal**KunalKunal**KunalKunal**KunalKunal**KunalKunal**KunalKunal**KunalKunal**KunalKunal**KunalKunal**KunalKunal**KunalKunal**KunalKunal**KunalKunal**KunalKunal**KunalKunal**KunalKunal**KunalKunal**KunalKunal**KunalKunal**KunalKunal**KunalKunal**KunalKunal**KunalKunal**KunalKunal**KunalKunal**KunalKunal**KunalKunal**KunalKunal**KunalKunal**KunalKunal**KunalKunal**KunalKunal**KunalKunal**KunalKunal**KunalKunal**KunalKunal**KunalKunal**KunalKunal**KunalKunal**KunalKunal**KunalKunal**KunalKunal**KunalKunal**KunalKunal**KunalKunal**KunalKunal**KunalKunal**KunalKunal**KunalKunal**KunalKunal**KunalKunal**KunalKunal**KunalKunal**KunalKunal**KunalKunal**KunalKunal**KunalKunal**KunalKunal**KunalKunal**KunalKunal**KunalKunal**KunalKunal**KunalKunal**KunalKunal**KunalKunal**KunalKunal**KunalKunal**KunalKunal**KunalKunal**KunalKunal**KunalKunal**KunalKunal**KunalKunal**KunalKunal**KunalKunal**KunalKunal**KunalKunal**KunalKunal**KunalKunal**KunalKunal**KunalKunal**KunalKunal**KunalKunal**KunalKunal**KunalKunal**KunalKunal**KunalKunal**KunalKunal**KunalKunal**KunalKunal**KunalKunal**KunalKunal**KunalKunal**KunalKunal**KunalKunal**KunalKunal**KunalKunal**KunalKunal**KunalKunal**KunalKunal**KunalKunal**KunalKunal**KunalKunal**KunalKunal**KunalKunal**KunalKunal**KunalKunal**KunalKunal**KunalKunal**KunalKunal**KunalKunal**KunalKunal**KunalKunal**KunalKunal**KunalKunal**KunalKunal**KunalKunal**KunalKunal**KunalKunal**KunalKunal**KunalKunal**KunalKunal**KunalKunal**KunalKunal**KunalKunal**KunalKunal**KunalKunal**KunalKunal**KunalKunal**KunalKunal**KunalKunal**KunalKunal**KunalKunal**KunalKunal**KunalKunal**KunalKunal**KunalKunal**KunalKunal**KunalKunal**KunalKunal**KunalKunal**KunalKunal**KunalKunal**KunalKunal**KunalKunal**KunalKunal**KunalKunal**KunalKunal**KunalKunal**KunalKunal**KunalKunal**KunalKunal**KunalKunal**KunalKunal**KunalKunal**KunalKunal**KunalKunal**KunalKunal**KunalKunal**KunalKunal**KunalKunal**KunalKunal**KunalKunal**KunalKunal**KunalKunal**KunalKunal**KunalKunal**KunalKunal**KunalKunal**KunalKunal**KunalKunal**KunalKunal**KunalKunal**KunalKunal**KunalKunal**KunalKunal**KunalKunal**KunalKunal**KunalKunal**KunalKunal**KunalKunal**KunalKunal**KunalKunal**KunalKunal**KunalKunal**KunalKunal**KunalKunal**KunalKunal**KunalKunal**KunalKunal**KunalKunal**KunalKunal**KunalKunal**KunalKunal**KunalKunal**KunalKunal**KunalKunal**KunalKunal**KunalKunal**KunalKunal**KunalKunal**KunalKunal**KunalKunal**KunalKunal**KunalKunal**KunalKunal**KunalKunal**KunalKunal**KunalKunal**KunalKunal**KunalKunal**KunalKunal**KunalKunal**KunalKunal**KunalKunal**KunalKunal**KunalKunal**KunalKunal**KunalKunal**KunalKunal**KunalKunal**KunalKunal**KunalKunal**KunalKunal**KunalKunal**KunalKunal**KunalKunal**KunalKunal**KunalKunal**KunalKunal**KunalKunal**KunalKunal**KunalKunal**KunalKunal**KunalKunal**KunalKunal**KunalKunal**KunalKunal**KunalKunal**KunalKunal**KunalKunal**KunalKunal**KunalKunal**KunalKunal**KunalKunal**KunalKunal**KunalKunal**KunalKunal**KunalKunal**KunalKunal**KunalKunal**KunalKunal**KunalKunal**KunalKunal**KunalKunal**KunalKunal**KunalKunal**KunalKunal**KunalKunal**KunalKunal**KunalKunal**KunalKunal**KunalKunal**KunalKunal**KunalKunal**KunalKunal**KunalKunal**KunalKunal**KunalKunal**KunalKunal**KunalKunal**KunalKunal**KunalKunal**KunalKunal**KunalKunal**KunalKunal**KunalKunal**KunalKunal**KunalKunal**KunalKunal**KunalKunal**KunalKunal**KunalKunal**KunalKunal**KunalKunal**KunalKunal**KunalKunal**KunalKunal**KunalKunal**KunalKunal**KunalKunal**KunalKunal**KunalKunal**KunalKunal**KunalKunal**KunalKunal**KunalKunal**KunalKunal**KunalKunal**KunalKunal**KunalKunal**KunalKunal**KunalKunal**KunalKunal**KunalKunal**KunalKunal**KunalKunal**KunalKunal**KunalKunal**KunalKunal**KunalKunal**KunalKunal**KunalKunal**KunalKunal**KunalKunal**KunalKunal**KunalKunal**KunalKunal**KunalKunal**KunalKunal**KunalKunal**KunalKunal**KunalKunal**KunalKunal**KunalKunal**KunalKunal**KunalKunal**KunalKunal**KunalKunal**KunalKunal**KunalKunal**KunalKunal**KunalKunal**KunalKunal**KunalKunal**KunalKunal**KunalKunal**KunalKunal**KunalKunal**KunalKunal**KunalKunal**KunalKunal**KunalKunal**KunalKunal**KunalKunal**KunalKunal**KunalKunal**KunalKunal**KunalKunal**KunalKunal**KunalKunal**KunalKunal**KunalKunal**KunalKunal**KunalKunal**KunalKunal**KunalKunal**KunalKunal**KunalKunal**KunalKunal**KunalKunal**KunalKunal**KunalKunal**KunalKunal**KunalKunal**KunalKunal**KunalKunal**KunalKunal**KunalKunal**KunalKunal**KunalKunal**KunalKunal**KunalKunal**KunalKunal**KunalKunal**KunalKunal**KunalKunal**KunalKunal**KunalKunal**KunalKunal**KunalKunal**KunalKunal**KunalKunal**KunalKunal**KunalKunal**KunalKunal**KunalKunal**KunalKunal**KunalKunal**KunalKunal**KunalKunal**KunalKunal**KunalKunal**KunalKunal**KunalKunal**KunalKunal**KunalKunal**KunalKunal**KunalKunal**KunalKunal**KunalKunal**KunalKunal**KunalKunal**KunalKunal**KunalKunal**KunalKunal**KunalKunal**KunalKunal**KunalKunal**KunalKunal**KunalKunal**KunalKunal**KunalKunal**KunalKunal**KunalKunal**KunalKunal**KunalKunal**KunalKunal**KunalKunal**KunalKunal**KunalKunal**KunalKunal**KunalKunal**KunalKunal**KunalKunal**KunalKunal**KunalKunal**KunalKunal**KunalKunal**KunalKunal**KunalKunal**KunalKunal**KunalKunal**KunalKunal**KunalKunal**KunalKunal**KunalKunal**KunalKunal**KunalKunal**KunalKunal**KunalKunal**KunalKunal**KunalKunal**KunalKunal**KunalKunal**KunalKunal**KunalKunal**KunalKunal**KunalKunal**KunalKunal**KunalKunal**KunalKunal**KunalKunal**KunalKunal**KunalKunal**KunalKunal**KunalKunal**KunalKunal**KunalKunal**KunalKunal**KunalKunal**KunalKunal**KunalKunal**KunalKunal**KunalKunal**KunalKunal**KunalKunal**KunalKunal**KunalKunal**KunalKunal**KunalKunal**KunalKunal**KunalKunal**KunalKunal**KunalKunal**KunalKunal**KunalKunal**KunalKunal**KunalKunal**KunalKunal**KunalKunal**KunalKunal**KunalKunal**KunalKunal**KunalKunal**KunalKunal**KunalKunal**KunalKunal**KunalKunal**KunalKunal**KunalKunal**KunalKunal**KunalKunal**KunalKunal**KunalKunal**KunalKunal**KunalKunal**KunalKunal**KunalKunal**KunalKunal**KunalKunal**KunalKunal**KunalKunal**KunalKunal**KunalKunal**KunalKunal**KunalKunal**KunalKunal**KunalKunal**KunalKunal**KunalKunal**KunalKunal**KunalKunal**KunalKunal**KunalKunal**KunalKunal**KunalKunal**KunalKunal**KunalKunal**KunalKunal**KunalKunal**KunalKunal**KunalKunal**KunalKunal**KunalKunal**KunalKunal**KunalKunal**KunalKunal**KunalKunal**KunalKunal**KunalKunal**KunalKunal**KunalKunal**KunalKunal**KunalKunal**KunalKunal**KunalKunal**KunalKunal**KunalKunal**KunalKunal**KunalKunal**KunalKunal**KunalKunal**KunalKunal**KunalKunal**KunalKunal**KunalKunal**KunalKunal**KunalKunal**KunalKunal**KunalKunal**KunalKunal**KunalKunal**KunalKunal**KunalKunal**KunalKunal**KunalKunal**KunalKunal**KunalKunal**KunalKunal**KunalKunal**KunalKunal**KunalKunal**KunalKunal**KunalKunal**KunalKunal**KunalKunal**KunalKunal**KunalKunal**KunalKunal**KunalKunal**KunalKunal**KunalKunal**KunalKunal**KunalKunal**KunalKunal**KunalKunal**KunalKunal**KunalKunal**KunalKunal**KunalKunal**KunalKunal**KunalKunal**KunalKunal**KunalKunal**KunalKunal**KunalKunal**KunalKunal**KunalKunal**KunalKunal**KunalKunal**KunalKunal**KunalKunal**KunalKunal**KunalKunal**KunalKunal**KunalKunal**KunalKunal**KunalKunal**KunalKunal**KunalKunal**KunalKunal**KunalKunal**KunalKunal**KunalKunal**KunalKunal**KunalKunal**KunalKunal**KunalKunal**KunalKunal**KunalKunal**KunalKunal**KunalKunal**KunalKunal**KunalKunal**KunalKunal**KunalKunal**KunalKunal**KunalKunal**KunalKunal**KunalKunal**KunalKunal**KunalKunal**KunalKunal**KunalKunal**KunalKunal**KunalKunal**KunalKunal**KunalKunal**KunalKunal**KunalKunal**KunalKunal**KunalKunal**KunalKunal**KunalKunal**KunalKunal**KunalKunal**KunalKunal**KunalKunal**KunalKunal**KunalKunal**KunalKunal**KunalKunal**KunalKunal**KunalKunal**KunalKunal**KunalKunal**KunalKunal**KunalKunal**KunalKunal**KunalKunal**KunalKunal**KunalKunal**KunalKunal**KunalKunal**KunalKunal**KunalKunal**KunalKunal**KunalKunal**KunalKunal**KunalKunal**KunalKunal**KunalKunal**KunalKunal**KunalKunal**KunalKunal**KunalKunal**KunalKunal**KunalKunal**KunalKunal**KunalKunal**KunalKunal**KunalKunal**KunalKunal**KunalKunal**KunalKunal**KunalKunal**KunalKunal**KunalKunal**KunalKunal**KunalKunal**KunalKunal**KunalKunal**KunalKunal**KunalKunal**KunalKunal**KunalKunal**KunalKunal**KunalKunal**KunalKunal**KunalKunal**KunalKunal**KunalKunal**KunalKunal**KunalKunal**KunalKunal**KunalKunal**KunalKunal**KunalKunal**KunalKunal**KunalKunal**KunalKunal**KunalKunal**KunalKunal**KunalKunal**KunalKunal**KunalKunal**KunalKunal**KunalKunal**KunalKunal**KunalKunal**KunalKunal**KunalKunal**KunalKunal**KunalKunal**KunalKunal**KunalKunal**KunalKunal**KunalKunal**KunalKunal**KunalKunal**KunalKunal**KunalKunal**KunalKunal**KunalKunal**KunalKunal**KunalKunal**KunalKunal**KunalKunal**KunalKunal**KunalKunal**KunalKunal**KunalKunal**KunalKunal**KunalKunal**KunalKunal**KunalKunal**KunalKunal**KunalKunal**KunalKunal**KunalKunal**KunalKunal**KunalKunal**KunalKunal**KunalKunal**KunalKunal**KunalKunal**KunalKunal**KunalKunal**KunalKunal**KunalKunal**KunalKunal**KunalKunal**KunalKunal**KunalKunal**KunalKunal**KunalKunal**KunalKunal**KunalKunal**KunalKunal**KunalKunal**KunalKunal**KunalKunal**KunalKunal**KunalKunal**KunalKunal**KunalKunal**KunalKunal**KunalKunal**KunalKunal**KunalKunal**KunalKunal**KunalKunal**KunalKunal**KunalKunal**KunalKunal**KunalKunal**KunalKunal**KunalKunal**KunalKunal**KunalKunal**KunalKunal**KunalKunal**KunalKunal**KunalKunal**KunalKunal**KunalKunal**KunalKunal**KunalKunal**KunalKunal**KunalKunal**KunalKunal**KunalKunal**KunalKunal**KunalKunal**KunalKunal**KunalKunal**KunalKunal**KunalKunal**KunalKunal**KunalKunal**KunalKunal**KunalKunal**KunalKunal**KunalKunal**KunalKunal**KunalKunal**KunalKunal**KunalKunal**KunalKunal**KunalKunal**KunalKunal**KunalKunal**KunalKunal**KunalKunal**KunalKunal**KunalKunal**KunalKunal**KunalKunal**KunalKunal**KunalKunal**KunalKunal**KunalKunal**KunalKunal**KunalKunal**KunalKunal**KunalKunal**KunalKunal**KunalKunal**KunalKunal**KunalKunal**KunalKunal**KunalKunal**KunalKunal**KunalKunal**KunalKunal**KunalKunal**KunalKunal**KunalKunal**KunalKunal**KunalKunal**KunalKunal**KunalKunal**KunalKunal**KunalKunal**KunalKunal**KunalKunal**KunalKunal**KunalKunal**KunalKunal**KunalKunal**KunalKunal**KunalKunal**KunalKunal**KunalKunal**KunalKunal**KunalKunal**KunalKunal**KunalKunal**KunalKunal**KunalKunal**KunalKunal**KunalKunal**KunalKunal**KunalKunal**KunalKunal**KunalKunal**KunalKunal**KunalKunal**KunalKunal**KunalKunal**KunalKunal**KunalKunal**KunalKunal**KunalKunal**KunalKunal**KunalKunal**KunalKunal**KunalKunal**KunalKunal**KunalKunal**KunalKunal**KunalKunal**KunalKunal**KunalKunal**KunalKunal**KunalKunal**KunalKunal**KunalKunal**KunalKunal**KunalKunal**KunalKunal**KunalKunal**KunalKunal**KunalKunal**KunalKunal**KunalKunal**KunalKunal**KunalKunal**KunalKunal**KunalKunal**KunalKunal**KunalKunal**KunalKunal**KunalKunal**KunalKunal**KunalKunal**KunalKunal**KunalKunal**KunalKunal**KunalKunal**KunalKunal**KunalKunal**KunalKunal**KunalKunal**KunalKunal**KunalKunal**KunalKunal**KunalKunal**KunalKunal**KunalKunal**KunalKunal**KunalKunal**KunalKunal**KunalKunal**KunalKunal**KunalKunal**KunalKunal**KunalKunal**KunalKunal**KunalKunal**KunalKunal**KunalKunal**KunalKunal**KunalKunal**KunalKunal**KunalKunal**KunalKunal**KunalKunal**KunalKunal**KunalKunal**KunalKunal**KunalKunal**KunalKunal**KunalKunal**KunalKunal**KunalKunal**KunalKunal**KunalKunal**KunalKunal**KunalKunal**KunalKunal**KunalKunal**KunalKunal**KunalKunal**KunalKunal**KunalKunal**KunalKunal**KunalKunal**KunalKunal**KunalKunal**KunalKunal**KunalKunal**KunalKunal**KunalKunal**KunalKunal**KunalKunal**KunalKunal**KunalKunal**KunalKunal**KunalKunal**KunalKunal**KunalKunal**KunalKunal**KunalKunal**KunalKunal**KunalKunal**KunalKunal**KunalKunal**KunalKunal**KunalKunal**KunalKunal**KunalKunal**KunalKunal**KunalKunal**KunalKunal**KunalKunal**KunalKunal**KunalKunal**KunalKunal**KunalKunal**KunalKunal**KunalKunal**KunalKunal**KunalKunal**KunalKunal**KunalKunal**KunalKunal**KunalKunal**KunalKunal**KunalKunal**KunalKunal**KunalKunal**KunalKunal**KunalKunal**KunalKunal**KunalKunal**KunalKunal**KunalKunal**KunalKunal**KunalKunal**KunalKunal**KunalKunal**KunalKunal**KunalKunal**KunalKunal**KunalKunal**KunalKunal**KunalKunal**KunalKunal**KunalKunal**KunalKunal**KunalKunal**KunalKunal**KunalKunal**KunalKunal**KunalKunal**KunalKunal**KunalKunal**KunalKunal**KunalKunal**KunalKunal**KunalKunal**KunalKunal**KunalKunal**KunalKunal**KunalKunal**KunalKunal**KunalKunal**KunalKunal**KunalKunal**KunalKunal**KunalKunal**KunalKunal**KunalKunal**KunalKunal**KunalKunal**KunalKunal**KunalKunal**KunalKunal**KunalKunal**KunalKunal**KunalKunal**KunalKunal**KunalKunal**KunalKunal**KunalKunal**KunalKunal**KunalKunal**KunalKunal**KunalKunal**KunalKunal**KunalKunal**KunalKunal**KunalKunal**KunalKunal**KunalKunal**KunalKunal**KunalKunal**KunalKunal**KunalKunal**KunalKunal**KunalKunal**KunalKunal**KunalKunal**KunalKunal**KunalKunal**KunalKunal**KunalKunal**KunalKunal**KunalKunal**KunalKunal**KunalKunal**KunalKunal**KunalKunal**KunalKunal**KunalKunal**KunalKunal**KunalKunal**KunalKunal**KunalKunal**KunalKunal**KunalKunal**KunalKunal**KunalKunal**KunalKunal**KunalKunal**KunalKunal**KunalKunal**KunalKunal**KunalKunal**KunalKunal**KunalKunal**KunalKunal**KunalKunal**KunalKunal**KunalKunal**KunalKunal**KunalKunal**KunalKunal**KunalKunal**KunalKunal**KunalKunal**KunalKunal**KunalKunal**KunalKunal**KunalKunal**KunalKunal**KunalKunal**KunalKunal**KunalKunal**KunalKunal**KunalKunal**KunalKunal**KunalKunal**KunalKunal**KunalKunal**KunalKunal**KunalKunal**KunalKunal**KunalKunal**KunalKunal**KunalKunal**KunalKunal**KunalKunal**KunalKunal**KunalKunal**KunalKunal**KunalKunal**KunalKunal**KunalKunal**KunalKunal**KunalKunal**KunalKunal**KunalKunal**KunalKunal**KunalKunal**KunalKunal**KunalKunal**KunalKunal**KunalKunal**KunalKunal**KunalKunal**KunalKunal**KunalKunal**KunalKunal**KunalKunal**KunalKunal**KunalKunal**KunalKunal**KunalKunal**KunalKunal**KunalKunal**KunalKunal**KunalKunal**KunalKunal**KunalKunal**KunalKunal**KunalKunal**KunalKunal**KunalKunal**KunalKunal**KunalKunal**KunalKunal**KunalKunal**KunalKunal**KunalKunal**KunalKunal**KunalKunal**KunalKunal**KunalKunal**KunalKunal**KunalKunal**KunalKunal**KunalKunal**KunalKunal**KunalKunal**KunalKunal**KunalKunal**KunalKunal**KunalKunal**KunalKunal**KunalKunal**KunalKunal**KunalKunal**KunalKunal**KunalKunal**KunalKunal**KunalKunal**KunalKunal**KunalKunal**KunalKunal**KunalKunal**KunalKunal**KunalKunal**KunalKunal**KunalKunal**KunalKunal**KunalKunal**KunalKunal**KunalKunal**KunalKunal**KunalKunal**KunalKunal**KunalKunal**KunalKunal**KunalKunal**KunalKunal**KunalKunal**KunalKunal**KunalKunal**KunalKunal**KunalKunal**KunalKunal**KunalKunal**KunalKunal**KunalKunal**KunalKunal**KunalKunal**KunalKunal**KunalKunal**KunalKunal**KunalKunal**KunalKunal**KunalKunal**KunalKunal**KunalKunal**KunalKunal**KunalKunal**KunalKunal**KunalKunal**KunalKunal**KunalKunal**KunalKunal**KunalKunal**KunalKunal**KunalKunal**KunalKunal**KunalKunal**KunalKunal**KunalKunal**KunalKunal**KunalKunal**KunalKunal**KunalKunal**KunalKunal**KunalKunal**KunalKunal**KunalKunal**KunalKunal**KunalKunal**KunalKunal**KunalKunal**KunalKunal**KunalKunal**KunalKunal**KunalKunal**KunalKunal**KunalKunal**KunalKunal**KunalKunal**KunalKunal**KunalKunal**KunalKunal**KunalKunal**KunalKunal**KunalKunal**KunalKunal**KunalKunal**KunalKunal**KunalKunal**KunalKunal**KunalKunal**KunalKunal**KunalKunal**KunalKunal**KunalKunal**KunalKunal**KunalKunal**KunalKunal**KunalKunal**KunalKunal**KunalKunal**KunalKunal**KunalKunal**KunalKunal**KunalKunal**KunalKunal**KunalKunal**KunalKunal**KunalKunal**KunalKunal**KunalKunal**KunalKunal**KunalKunal**KunalKunal**KunalKunal**KunalKunal**KunalKunal**KunalKunal**KunalKunal**KunalKunal**KunalKunal**KunalKunal**KunalKunal**KunalKunal**KunalKunal**KunalKunal**KunalKunal**KunalKunal**KunalKunal**KunalKunal**KunalKunal**KunalKunal**KunalKunal**KunalKunal**KunalKunal**KunalKunal**KunalKunal**KunalKunal**KunalKunal**KunalKunal**KunalKunal**KunalKunal**KunalKunal**KunalKunal**KunalKunal**KunalKunal**KunalKunal**KunalKunal**KunalKunal**KunalKunal**KunalKunal**KunalKunal**KunalKunal**KunalKunal**KunalKunal**KunalKunal**KunalKunal**KunalKunal**KunalKunal**KunalKunal**KunalKunal**KunalKunal**KunalKunal**KunalKunal**KunalKunal**KunalKunal**KunalKunal**KunalKunal**KunalKunal**KunalKunal**KunalKunal**KunalKunal**KunalKunal**KunalKunal**KunalKunal**KunalKunal**KunalKunal**KunalKunal**KunalKunal**KunalKunal**KunalKunal**KunalKunal**KunalKunal**KunalKunal**KunalKunal**KunalKunal**KunalKunal**KunalKunal**KunalKunal**KunalKunal**KunalKunal**KunalKunal**KunalKunal**KunalKunal**KunalKunal**KunalKunal**KunalKunal**KunalKunal**KunalKunal**KunalKunal**KunalKunal**KunalKunal**KunalKunal**KunalKunal**KunalKunal**KunalKunal**KunalKunal**KunalKunal**KunalKunal**KunalKunal**KunalKunal**KunalKunal**KunalKunal**KunalKunal**KunalKunal**KunalKunal**KunalKunal**KunalKunal**KunalKunal**KunalKunal**KunalKunal**KunalKunal**KunalKunal**KunalKunal**KunalKunal**KunalKunal**KunalKunal**KunalKunal**KunalKunal**KunalKunal**KunalKunal**KunalKunal**KunalKunal**KunalKunal**KunalKunal**KunalKunal**KunalKunal**KunalKunal**KunalKunal**KunalKunal**KunalKunal**KunalKunal**KunalKunal**KunalKunal**KunalKunal**KunalKunal**KunalKunal**KunalKunal**KunalKunal**KunalKunal**KunalKunal**KunalKunal**KunalKunal**KunalKunal**KunalKunal**KunalKunal**KunalKunal**KunalKunal**KunalKunal**KunalKunal**KunalKunal**KunalKunal**KunalKunal**KunalKunal**KunalKunal**KunalKunal**KunalKunal**KunalKunal**KunalKunal**KunalKunal**KunalKunal**KunalKunal**KunalKunal**KunalKunal**KunalKunal**KunalKunal**KunalKunal**KunalKunal**KunalKunal**KunalKunal**KunalKunal**KunalKunal**KunalKunal**KunalKunal**KunalKunal**KunalKunal**KunalKunal**KunalKunal**KunalKunal**KunalKunal**KunalKunal**KunalKunal**KunalKunal**KunalKunal**KunalKunal**KunalKunal**KunalKunal**KunalKunal**KunalKunal**KunalKunal**KunalKunal**KunalKunal**KunalKunal**KunalKunal**KunalKunal**KunalKunal**KunalKunal**KunalKunal**KunalKunal**KunalKunal**KunalKunal**KunalKunal**KunalKunal**KunalKunal**KunalKunal**KunalKunal**KunalKunal**KunalKunal**KunalKunal**KunalKunal**KunalKunal**KunalKunal**KunalKunal**KunalKunal**KunalKunal**KunalKunal**KunalKunal**KunalKunal**KunalKunal**KunalKunal**KunalKunal**KunalKunal**KunalKunal**KunalKunal**KunalKunal**KunalKunal**KunalKunal**KunalKunal**KunalKunal**KunalKunal**KunalKunal**KunalKunal**KunalKunal**KunalKunal**KunalKunal**KunalKunal**KunalKunal**KunalKunal**KunalKunal**KunalKunal**KunalKunal**KunalKunal**KunalKunal**KunalKunal**KunalKunal**KunalKunal**KunalKunal**KunalKunal**KunalKunal**KunalKunal**KunalKunal**KunalKunal**KunalKunal**KunalKunal**KunalKunal**KunalKunal**KunalKunal**KunalKunal**KunalKunal**KunalKunal**KunalKunal**KunalKunal**KunalKunal**KunalKunal**KunalKunal**KunalKunal**KunalKunal**KunalKunal**KunalKunal**KunalKunal**KunalKunal**KunalKunal**KunalKunal**KunalKunal**KunalKunal**KunalKunal**KunalKunal**KunalKunal**KunalKunal**KunalKunal**KunalKunal**KunalKunal**KunalKunal**KunalKunal**KunalKunal**KunalKunal**KunalKunal**KunalKunal**KunalKunal**KunalKunal**KunalKunal**KunalKunal**KunalKunal**KunalKunal**KunalKunal**KunalKunal**KunalKunal**KunalKunal**KunalKunal**KunalKunal**KunalKunal**KunalKunal**KunalKunal**KunalKunal**KunalKunal**KunalKunal**KunalKunal**KunalKunal**KunalKunal**KunalKunal**KunalKunal**KunalKunal**KunalKunal**KunalKunal**KunalKunal**KunalKunal**KunalKunal**KunalKunal**KunalKunal**KunalKunal**KunalKunal**KunalKunal**KunalKunal**KunalKunal**KunalKunal**KunalKunal**KunalKunal**KunalKunal**KunalKunal**KunalKunal**KunalKunal**KunalKunal**KunalKunal**KunalKunal**KunalKunal**KunalKunal**KunalKunal**KunalKunal**KunalKunal**KunalKunal**KunalKunal**KunalKunal**KunalKunal**KunalKunal**KunalKunal**KunalKunal**KunalKunal**KunalKunal**KunalKunal**KunalKunal**KunalKunal**KunalKunal**KunalKunal**KunalKunal**KunalKunal**KunalKunal**KunalKunal**KunalKunal**KunalKunal**KunalKunal**KunalKunal**KunalKunal**KunalKunal**KunalKunal**KunalKunal**KunalKunal**KunalKunal**KunalKunal**KunalKunal**KunalKunal**KunalKunal**KunalKunal**KunalKunal**KunalKunal**KunalKunal**KunalKunal**KunalKunal**KunalKunal**KunalKunal**KunalKunal**KunalKunal**KunalKunal**KunalKunal**KunalKunal**KunalKunal**KunalKunal**KunalKunal**KunalKunal**KunalKunal**KunalKunal**KunalKunal**KunalKunal**KunalKunal**KunalKunal**KunalKunal**KunalKunal**KunalKunal**KunalKunal**KunalKunal**KunalKunal**KunalKunal**KunalKunal**KunalKunal**KunalKunal**KunalKunal**KunalKunal**KunalKunal**KunalKunal**KunalKunal**KunalKunal**KunalKunal**KunalKunal**KunalKunal**KunalKunal**KunalKunal**KunalKunal**KunalKunal**KunalKunal**KunalKunal**KunalKunal**KunalKunal**KunalKunal**KunalKunal**KunalKunal**KunalKunal**KunalKunal**KunalKunal**KunalKunal**KunalKunal**KunalKunal**KunalKunal**KunalKunal**KunalKunal**KunalKunal**KunalKunal**KunalKunal**KunalKunal**KunalKunal**KunalKunal**KunalKunal**KunalKunal**KunalKunal**KunalKunal**KunalKunal**KunalKunal**KunalKunal**KunalKunal**KunalKunal**KunalKunal**KunalKunal**KunalKunal**KunalKunal**KunalKunal**KunalKunal**KunalKunal**KunalKunal**KunalKunal**KunalKunal**KunalKunal**KunalKunal**KunalKunal**KunalKunal**KunalKunal**KunalKunal**KunalKunal**KunalKunal**KunalKunal**KunalKunal**KunalKunal**KunalKunal**KunalKunal**KunalKunal**KunalKunal**KunalKunal**KunalKunal**KunalKunal**KunalKunal**KunalKunal**KunalKunal**KunalKunal**KunalKunal**KunalKunal**KunalKunal**KunalKunal**KunalKunal**KunalKunal**KunalKunal**KunalKunal**KunalKunal**KunalKunal**KunalKunal**KunalKunal**KunalKunal**KunalKunal**KunalKunal**KunalKunal**KunalKunal**KunalKunal**KunalKunal**KunalKunal**KunalKunal**KunalKunal**KunalKunal**KunalKunal**KunalKunal**KunalKunal**KunalKunal**KunalKunal**KunalKunal**KunalKunal**KunalKunal**KunalKunal**KunalKunal**KunalKunal**KunalKunal**KunalKunal**KunalKunal**KunalKunal**KunalKunal**KunalKunal**KunalKunal**KunalKunal**KunalKunal**KunalKunal**KunalKunal**KunalKunal**KunalKunal**KunalKunal**KunalKunal**KunalKunal**KunalKunal**KunalKunal**KunalKunal**KunalKunal**KunalKunal**KunalKunal**KunalKunal**KunalKunal**KunalKunal**KunalKunal**KunalKunal**KunalKunal**KunalKunal**KunalKunal**KunalKunal**KunalKunal**KunalKunal**KunalKunal**KunalKunal**KunalKunal**KunalKunal**KunalKunal**KunalKunal**KunalKunal**KunalKunal**KunalKunal**KunalKunal**KunalKunal**KunalKunal**KunalKunal**KunalKunal**KunalKunal**KunalKunal**KunalKunal**KunalKunal**KunalKunal**KunalKunal**KunalKunal**KunalKunal**KunalKunal**KunalKunal**KunalKunal**KunalKunal**KunalKunal**KunalKunal**KunalKunal**KunalKunal**KunalKunal**KunalKunal**KunalKunal**KunalKunal**KunalKunal**KunalKunal**KunalKunal**KunalKunal**KunalKunal**KunalKunal**KunalKunal**KunalKunal**KunalKunal**KunalKunal**KunalKunal**KunalKunal**KunalKunal**KunalKunal**KunalKunal**KunalKunal**KunalKunal**KunalKunal**KunalKunal**KunalKunal**KunalKunal**KunalKunal**KunalKunal**KunalKunal**KunalKunal**KunalKunal**KunalKunal**KunalKunal**KunalKunal**KunalKunal**KunalKunal**KunalKunal**KunalKunal**KunalKunal**KunalKunal**KunalKunal**KunalKunal**KunalKunal**KunalKunal**KunalKunal**KunalKunal**KunalKunal**KunalKunal**KunalKunal**KunalKunal**KunalKunal**KunalKunal**KunalKunal**KunalKunal**KunalKunal**KunalKunal**KunalKunal**KunalKunal**KunalKunal**KunalKunal**KunalKunal**KunalKunal**KunalKunal**KunalKunal**KunalKunal**KunalKunal**KunalKunal**KunalKunal**KunalKunal**KunalKunal**KunalKunal**KunalKunal**KunalKunal**KunalKunal**KunalKunal**KunalKunal**KunalKunal**KunalKunal**KunalKunal**KunalKunal**KunalKunal**KunalKunal**KunalKunal**KunalKunal**KunalKunal**KunalKunal**KunalKunal**KunalKunal**KunalKunal**KunalKunal**KunalKunal**KunalKunal**KunalKunal**KunalKunal**KunalKunal**KunalKunal**KunalKunal**KunalKunal**KunalKunal**KunalKunal**KunalKunal**KunalKunal**KunalKunal**KunalKunal**KunalKunal**KunalKunal**KunalKunal**KunalKunal**KunalKunal**KunalKunal**KunalKunal**KunalKunal**KunalKunal**KunalKunal**KunalKunal**KunalKunal**KunalKunal**KunalKunal**KunalKunal**KunalKunal**KunalKunal**KunalKunal**KunalKunal**KunalKunal**KunalKunal**KunalKunal**KunalKunal**KunalKunal**KunalKunal**KunalKunal**KunalKunal**KunalKunal**KunalKunal**KunalKunal**KunalKunal**KunalKunal**KunalKunal**KunalKunal**KunalKunal**KunalKunal**KunalKunal**KunalKunal**KunalKunal**KunalKunal**KunalKunal**KunalKunal**KunalKunal**KunalKunal**KunalKunal**KunalKunal**KunalKunal**KunalKunal**KunalKunal**KunalKunal**KunalKunal**KunalKunal**KunalKunal**KunalKunal**KunalKunal**KunalKunal**KunalKunal**KunalKunal**KunalKunal**KunalKunal**KunalKunal**KunalKunal**KunalKunal**KunalKunal**KunalKunal**KunalKunal**KunalKunal**KunalKunal**KunalKunal**KunalKunal**KunalKunal**KunalKunal**KunalKunal**KunalKunal**KunalKunal**KunalKunal**KunalKunal**KunalKunal**KunalKunal**KunalKunal**KunalKunal**KunalKunal**KunalKunal**KunalKunal**KunalKunal**KunalKunal**KunalKunal**KunalKunal**KunalKunal**KunalKunal**KunalKunal**KunalKunal**KunalKunal**KunalKunal**KunalKunal**KunalKunal**KunalKunal**KunalKunal**KunalKunal**KunalKunal**KunalKunal**KunalKunal**KunalKunal**KunalKunal**KunalKunal**KunalKunal**KunalKunal**KunalKunal**KunalKunal**KunalKunal**KunalKunal**KunalKunal**KunalKunal**KunalKunal**KunalKunal**KunalKunal**KunalKunal**KunalKunal**KunalKunal**KunalKunal**KunalKunal**KunalKunal**KunalKunal**KunalKunal**KunalKunal**KunalKunal**KunalKunal**KunalKunal**KunalKunal**KunalKunal**KunalKunal**KunalKunal**KunalKunal**KunalKunal**KunalKunal**KunalKunal**KunalKunal**KunalKunal**KunalKunal**KunalKunal**KunalKunal**KunalKunal**KunalKunal**KunalKunal**KunalKunal**KunalKunal**KunalKunal**KunalKunal**KunalKunal**KunalKunal**KunalKunal**KunalKunal**KunalKunal**KunalKunal**KunalKunal**KunalKunal**KunalKunal**KunalKunal**KunalKunal**KunalKunal**KunalKunal**KunalKunal**KunalKunal**KunalKunal**KunalKunal**KunalKunal**KunalKunal**KunalKunal**KunalKunal**KunalKunal**KunalKunal**KunalKunal**KunalKunal**KunalKunal**KunalKunal**KunalKunal**KunalKunal**KunalKunal**KunalKunal**KunalKunal**KunalKunal**KunalKunal**KunalKunal**KunalKunal**KunalKunal**KunalKunal**KunalKunal**KunalKunal**KunalKunal**KunalKunal**KunalKunal**KunalKunal**KunalKunal**KunalKunal**KunalKunal**KunalKunal**KunalKunal**KunalKunal**KunalKunal**KunalKunal**KunalKunal**KunalKunal**KunalKunal**KunalKunal**KunalKunal**KunalKunal**KunalKunal**KunalKunal**KunalKunal**KunalKunal**KunalKunal**KunalKunal**KunalKunal**KunalKunal**KunalKunal**KunalKunal**KunalKunal**KunalKunal**KunalKunal**KunalKunal**KunalKunal**KunalKunal**KunalKunal**KunalKunal**KunalKunal**KunalKunal**KunalKunal**KunalKunal**KunalKunal**KunalKunal**KunalKunal**KunalKunal**KunalKunal**KunalKunal**KunalKunal**KunalKunal**KunalKunal**KunalKunal**KunalKunal**KunalKunal**KunalKunal**KunalKunal**KunalKunal**KunalKunal**KunalKunal**KunalKunal**KunalKunal**KunalKunal**KunalKunal**KunalKunal**KunalKunal**KunalKunal**KunalKunal**KunalKunal**KunalKunal**KunalKunal**KunalKunal**KunalKunal**KunalKunal**KunalKunal**KunalKunal**KunalKunal**KunalKunal**KunalKunal**KunalKunal**KunalKunal**KunalKunal**KunalKunal**KunalKunal**KunalKunal**KunalKunal**KunalKunal**KunalKunal**KunalKunal**KunalKunal**KunalKunal**KunalKunal**KunalKunal**KunalKunal**KunalKunal**KunalKunal**KunalKunal**KunalKunal**KunalKunal**KunalKunal**KunalKunal**KunalKunal**KunalKunal**KunalKunal**KunalKunal**KunalKunal**KunalKunal**KunalKunal**KunalKunal**KunalKunal**KunalKunal**KunalKunal**KunalKunal**KunalKunal**KunalKunal**KunalKunal**KunalKunal**KunalKunal**KunalKunal**KunalKunal**KunalKunal**KunalKunal**KunalKunal**KunalKunal**KunalKunal**KunalKunal**KunalKunal**KunalKunal**KunalKunal**KunalKunal**KunalKunal**KunalKunal**KunalKunal**KunalKunal**KunalKunal**KunalKunal**KunalKunal**KunalKunal**KunalKunal**KunalKunal**KunalKunal**KunalKunal**KunalKunal**KunalKunal**KunalKunal**KunalKunal**KunalKunal**KunalKunal**KunalKunal**KunalKunal**KunalKunal**KunalKunal**KunalKunal**KunalKunal**KunalKunal**KunalKunal**KunalKunal**KunalKunal**KunalKunal**KunalKunal**KunalKunal**KunalKunal**KunalKunal**KunalKunal**KunalKunal**KunalKunal**KunalKunal**KunalKunal**KunalKunal**KunalKunal**KunalKunal**KunalKunal**KunalKunal**KunalKunal**KunalKunal**KunalKunal**KunalKunal**KunalKunal**KunalKunal**KunalKunal**KunalKunal**KunalKunal**KunalKunal**KunalKunal**KunalKunal**KunalKunal**KunalKunal**KunalKunal**KunalKunal**KunalKunal**KunalKunal**KunalKunal**KunalKunal**KunalKunal**KunalKunal**KunalKunal**KunalKunal**KunalKunal**KunalKunal**KunalKunal**KunalKunal**KunalKunal**KunalKunal**KunalKunal**KunalKunal**KunalKunal**KunalKunal**KunalKunal**KunalKunal**KunalKunal**KunalKunal**KunalKunal**KunalKunal**KunalKunal**KunalKunal**KunalKunal**KunalKunal**KunalKunal**KunalKunal**KunalKunal**KunalKunal**KunalKunal**KunalKunal**KunalKunal**KunalKunal**KunalKunal**KunalKunal**KunalKunal**KunalKunal**KunalKunal**KunalKunal**KunalKunal**KunalKunal**KunalKunal**KunalKunal**KunalKunal**KunalKunal**KunalKunal**KunalKunal**KunalKunal**KunalKunal**KunalKunal**KunalKunal**KunalKunal**KunalKunal**KunalKunal**KunalKunal**KunalKunal**KunalKunal**KunalKunal**KunalKunal**KunalKunal**KunalKunal**KunalKunal**KunalKunal**KunalKunal**KunalKunal**KunalKunal**KunalKunal**KunalKunal**KunalKunal**KunalKunal**KunalKunal**KunalKunal**KunalKunal**KunalKunal**KunalKunal**KunalKunal**KunalKunal**KunalKunal**KunalKunal**KunalKunal**KunalKunal**KunalKunal**KunalKunal**KunalKunal**KunalKunal**KunalKunal**KunalKunal**KunalKunal**KunalKunal**KunalKunal**KunalKunal**KunalKunal**KunalKunal**KunalKunal**KunalKunal**KunalKunal**KunalKunal**KunalKunal**KunalKunal**KunalKunal**KunalKunal**KunalKunal**KunalKunal**KunalKunal**KunalKunal**KunalKunal**KunalKunal**KunalKunal**KunalKunal**KunalKunal**KunalKunal**KunalKunal**KunalKunal**KunalKunal**KunalKunal**KunalKunal**KunalKunal**KunalKunal**KunalKunal**KunalKunal**KunalKunal**KunalKunal**KunalKunal**KunalKunal**KunalKunal**KunalKunal**KunalKunal**KunalKunal**KunalKunal**KunalKunal**KunalKunal**KunalKunal**KunalKunal**KunalKunal**KunalKunal**KunalKunal**KunalKunal**KunalKunal**KunalKunal**KunalKunal**KunalKunal**KunalKunal**KunalKunal**KunalKunal**KunalKunal**KunalKunal**KunalKunal**KunalKunal**KunalKunal**KunalKunal**KunalKunal**KunalKunal**KunalKunal**KunalKunal**KunalKunal**KunalKunal**KunalKunal**KunalKunal**KunalKunal**KunalKunal**KunalKunal**KunalKunal**KunalKunal**KunalKunal**KunalKunal**KunalKunal**KunalKunal**KunalKunal**KunalKunal**KunalKunal**KunalKunal**KunalKunal**KunalKunal**KunalKunal**KunalKunal**KunalKunal**KunalKunal**KunalKunal**KunalKunal**KunalKunal**KunalKunal**KunalKunal**KunalKunal**KunalKunal**KunalKunal**KunalKunal**KunalKunal**KunalKunal**KunalKunal**KunalKunal**KunalKunal**KunalKunal**KunalKunal**KunalKunal**KunalKunal**KunalKunal**KunalKunal**KunalKunal**KunalKunal**KunalKunal**KunalKunal**KunalKunal**KunalKunal**KunalKunal**KunalKunal**KunalKunal**KunalKunal**KunalKunal**KunalKunal**KunalKunal**KunalKunal**KunalKunal**KunalKunal**KunalKunal**KunalKunal**KunalKunal**KunalKunal**KunalKunal**KunalKunal**KunalKunal**KunalKunal**KunalKunal**KunalKunal**KunalKunal**KunalKunal**KunalKunal**KunalKunal**KunalKunal**KunalKunal**KunalKunal**KunalKunal**KunalKunal**KunalKunal**KunalKunal**KunalKunal**KunalKunal**KunalKunal**KunalKunal**KunalKunal**KunalKunal**KunalKunal**KunalKunal**KunalKunal**KunalKunal**KunalKunal**KunalKunal**KunalKunal**KunalKunal**KunalKunal**KunalKunal**KunalKunal**KunalKunal**KunalKunal**KunalKunal**KunalKunal**KunalKunal**KunalKunal**KunalKunal**KunalKunal**KunalKunal**KunalKunal**KunalKunal**KunalKunal**KunalKunal**KunalKunal**KunalKunal**KunalKunal**KunalKunal**KunalKunal**KunalKunal**KunalKunal**KunalKunal**KunalKunal**KunalKunal**KunalKunal**KunalKunal**KunalKunal**KunalKunal**KunalKunal**KunalKunal**KunalKunal**KunalKunal**KunalKunal**KunalKunal**KunalKunal**KunalKunal**KunalKunal**KunalKunal**KunalKunal**KunalKunal**KunalKunal**KunalKunal**KunalKunal**KunalKunal**KunalKunal**KunalKunal**KunalKunal**KunalKunal**KunalKunal**KunalKunal**KunalKunal**KunalKunal**KunalKunal**KunalKunal**KunalKunal**KunalKunal**KunalKunal**KunalKunal**KunalKunal**KunalKunal**KunalKunal**KunalKunal**KunalKunal**KunalKunal**KunalKunal**KunalKunal**KunalKunal**KunalKunal**KunalKunal**KunalKunal**KunalKunal**KunalKunal**KunalKunal**KunalKunal**KunalKunal**KunalKunal**KunalKunal**KunalKunal**KunalKunal**KunalKunal**KunalKunal**KunalKunal**KunalKunal**KunalKunal**KunalKunal**KunalKunal**KunalKunal**KunalKunal**KunalKunal**KunalKunal**KunalKunal**KunalKunal**KunalKunal**KunalKunal**KunalKunal**KunalKunal**KunalKunal**KunalKunal**KunalKunal**KunalKunal**KunalKunal**KunalKunal**KunalKunal**KunalKunal**KunalKunal**KunalKunal**KunalKunal**KunalKunal**KunalKunal**KunalKunal**KunalKunal**KunalKunal**KunalKunal**KunalKunal**KunalKunal**KunalKunal**KunalKunal**KunalKunal**KunalKunal**KunalKunal**KunalKunal**KunalKunal**KunalKunal**KunalKunal**KunalKunal**KunalKunal**KunalKunal**KunalKunal**KunalKunal**KunalKunal**KunalKunal**KunalKunal**KunalKunal**KunalKunal**KunalKunal**KunalKunal**KunalKunal**KunalKunal**KunalKunal**KunalKunal**KunalKunal**KunalKunal**KunalKunal**KunalKunal**KunalKunal**KunalKunal**KunalKunal**KunalKunal**KunalKunal**KunalKunal**KunalKunal**KunalKunal**KunalKunal**KunalKunal**KunalKunal**KunalKunal**KunalKunal**KunalKunal**KunalKunal**KunalKunal**KunalKunal**KunalKunal**KunalKunal**KunalKunal**KunalKunal**KunalKunal**KunalKunal**KunalKunal**KunalKunal**KunalKunal**KunalKunal**KunalKunal**KunalKunal**KunalKunal**KunalKunal**KunalKunal**KunalKunal**KunalKunal**KunalKunal**KunalKunal**KunalKunal**KunalKunal**KunalKunal**KunalKunal**KunalKunal**KunalKunal**KunalKunal**KunalKunal**KunalKunal**KunalKunal**KunalKunal**KunalKunal**KunalKunal**KunalKunal**KunalKunal**KunalKunal**KunalKunal**KunalKunal**KunalKunal**KunalKunal**KunalKunal**KunalKunal**KunalKunal**KunalKunal**KunalKunal**KunalKunal**KunalKunal**KunalKunal**KunalKunal**KunalKunal**KunalKunal**KunalKunal**KunalKunal**KunalKunal**KunalKunal**KunalKunal**KunalKunal**KunalKunal**KunalKunal**KunalKunal**KunalKunal**KunalKunal**KunalKunal**KunalKunal**KunalKunal**KunalKunal**KunalKunal**KunalKunal**KunalKunal**KunalKunal**KunalKunal**KunalKunal**KunalKunal**KunalKunal**KunalKunal**KunalKunal**KunalKunal**KunalKunal**KunalKunal**KunalKunal**KunalKunal**KunalKunal**KunalKunal**KunalKunal**KunalKunal**KunalKunal**KunalKunal**KunalKunal**KunalKunal**KunalKunal**KunalKunal**KunalKunal**KunalKunal**KunalKunal**KunalKunal**KunalKunal**KunalKunal**KunalKunal**KunalKunal**KunalKunal**KunalKunal**KunalKunal**KunalKunal**KunalKunal**KunalKunal**KunalKunal**KunalKunal**KunalKunal**KunalKunal**KunalKunal**KunalKunal**KunalKunal**KunalKunal**KunalKunal**KunalKunal**KunalKunal**KunalKunal**KunalKunal**KunalKunal**KunalKunal**KunalKunal**KunalKunal**KunalKunal**KunalKunal**KunalKunal**KunalKunal**KunalKunal**KunalKunal**KunalKunal**KunalKunal**KunalKunal**KunalKunal**KunalKunal**KunalKunal**KunalKunal**KunalKunal**KunalKunal**KunalKunal**KunalKunal**KunalKunal**KunalKunal**KunalKunal**KunalKunal**KunalKunal**KunalKunal**KunalKunal**KunalKunal**KunalKunal**KunalKunal**KunalKunal**KunalKunal**KunalKunal**KunalKunal**KunalKunal**KunalKunal**KunalKunal**KunalKunal**KunalKunal**KunalKunal**KunalKunal**KunalKunal**KunalKunal**KunalKunal**KunalKunal**KunalKunal**KunalKunal**KunalKunal**KunalKunal**KunalKunal**KunalKunal**KunalKunal**KunalKunal**KunalKunal**KunalKunal**KunalKunal**KunalKunal**KunalKunal**KunalKunal**KunalKunal**KunalKunal**KunalKunal**KunalKunal**KunalKunal**KunalKunal**KunalKunal**KunalKunal**KunalKunal**KunalKunal**KunalKunal**KunalKunal**KunalKunal**KunalKunal**KunalKunal**KunalKunal**KunalKunal**KunalKunal**KunalKunal**KunalKunal**KunalKunal**KunalKunal**KunalKunal**KunalKunal**KunalKunal**KunalKunal**KunalKunal**KunalKunal**KunalKunal**KunalKunal**KunalKunal**KunalKunal**KunalKunal**KunalKunal**KunalKunal**KunalKunal**KunalKunal**KunalKunal**KunalKunal**KunalKunal**KunalKunal**KunalKunal**KunalKunal**KunalKunal**KunalKunal**KunalKunal**KunalKunal**KunalKunal**KunalKunal**KunalKunal**KunalKunal**KunalKunal**KunalKunal**KunalKunal**KunalKunal**KunalKunal**KunalKunal**KunalKunal**KunalKunal**KunalKunal**KunalKunal**KunalKunal**KunalKunal**KunalKunal**KunalKunal**KunalKunal**KunalKunal**KunalKunal**KunalKunal**KunalKunal**KunalKunal**KunalKunal**KunalKunal**KunalKunal**KunalKunal**KunalKunal**KunalKunal**KunalKunal**KunalKunal**KunalKunal**KunalKunal**KunalKunal**KunalKunal**KunalKunal**KunalKunal**KunalKunal**KunalKunal**KunalKunal**KunalKunal**KunalKunal**KunalKunal**KunalKunal**KunalKunal**KunalKunal**KunalKunal**KunalKunal**KunalKunal**KunalKunal**KunalKunal**KunalKunal**KunalKunal**KunalKunal**KunalKunal**KunalKunal**KunalKunal**KunalKunal**KunalKunal**KunalKunal**KunalKunal**KunalKunal**KunalKunal**KunalKunal**KunalKunal**KunalKunal**KunalKunal**KunalKunal**KunalKunal**KunalKunal**KunalKunal**KunalKunal**KunalKunal**KunalKunal**KunalKunal**KunalKunal**KunalKunal**KunalKunal**KunalKunal**KunalKunal**KunalKunal**KunalKunal**KunalKunal**KunalKunal**KunalKunal**KunalKunal**KunalKunal**KunalKunal**KunalKunal**KunalKunal**KunalKunal**KunalKunal**KunalKunal**KunalKunal**KunalKunal**KunalKunal**KunalKunal**KunalKunal**KunalKunal**KunalKunal**KunalKunal**KunalKunal**KunalKunal**KunalKunal**KunalKunal**KunalKunal**KunalKunal**KunalKunal**KunalKunal**KunalKunal**KunalKunal**KunalKunal**KunalKunal**KunalKunal**KunalKunal**KunalKunal**KunalKunal**KunalKunal**KunalKunal**KunalKunal**KunalKunal**KunalKunal**KunalKunal**KunalKunal**KunalKunal**KunalKunal**KunalKunal**KunalKunal**KunalKunal**KunalKunal**KunalKunal**KunalKunal**KunalKunal**KunalKunal**KunalKunal**KunalKunal**KunalKunal**KunalKunal**KunalKunal**KunalKunal**KunalKunal**KunalKunal**KunalKunal**KunalKunal**KunalKunal**KunalKunal**KunalKunal**KunalKunal**KunalKunal**KunalKunal**KunalKunal**KunalKunal**KunalKunal**KunalKunal**KunalKunal**KunalKunal**KunalKunal**KunalKunal**KunalKunal**KunalKunal**KunalKunal**KunalKunal**KunalKunal**KunalKunal**KunalKunal**KunalKunal**KunalKunal**KunalKunal**KunalKunal**KunalKunal**KunalKunal**KunalKunal**KunalKunal**KunalKunal**KunalKunal**KunalKunal**KunalKunal**KunalKunal**KunalKunal**KunalKunal**KunalKunal**KunalKunal**KunalKunal**KunalKunal**KunalKunal**KunalKunal**KunalKunal**KunalKunal**KunalKunal**KunalKunal**KunalKunal**KunalKunal**KunalKunal**KunalKunal**KunalKunal**KunalKunal**KunalKunal**KunalKunal**KunalKunal**KunalKunal**KunalKunal**KunalKunal**KunalKunal**KunalKunal**KunalKunal**KunalKunal**KunalKunal**KunalKunal**KunalKunal**KunalKunal**KunalKunal**KunalKunal**KunalKunal**KunalKunal**KunalKunal**KunalKunal**KunalKunal**KunalKunal**KunalKunal**KunalKunal**KunalKunal**KunalKunal**KunalKunal**KunalKunal**KunalKunal**KunalKunal**KunalKunal**KunalKunal**KunalKunal**KunalKunal**KunalKunal**KunalKunal**KunalKunal**KunalKunal**KunalKunal**KunalKunal**KunalKunal**KunalKunal**KunalKunal**KunalKunal**KunalKunal**KunalKunal**KunalKunal**KunalKunal**KunalKunal**KunalKunal**KunalKunal**KunalKunal**KunalKunal**KunalKunal**KunalKunal**KunalKunal**KunalKunal**KunalKunal**KunalKunal**KunalKunal**KunalKunal**KunalKunal**KunalKunal**KunalKunal**KunalKunal**KunalKunal**KunalKunal**KunalKunal**KunalKunal**KunalKunal**KunalKunal**KunalKunal**KunalKunal**KunalKunal**KunalKunal**KunalKunal**KunalKunal**KunalKunal**KunalKunal**KunalKunal**KunalKunal**KunalKunal**KunalKunal**KunalKunal**KunalKunal**KunalKunal**KunalKunal**KunalKunal**KunalKunal**KunalKunal**KunalKunal**KunalKunal**KunalKunal**KunalKunal**KunalKunal**KunalKunal**KunalKunal**KunalKunal**KunalKunal**KunalKunal**KunalKunal**KunalKunal**KunalKunal**KunalKunal**KunalKunal**KunalKunal**KunalKunal**KunalKunal**KunalKunal**KunalKunal**KunalKunal**KunalKunal**KunalKunal**KunalKunal**KunalKunal**KunalKunal**KunalKunal**KunalKunal**KunalKunal**KunalKunal**KunalKunal**KunalKunal**KunalKunal**KunalKunal**KunalKunal**KunalKunal**KunalKunal**KunalKunal**KunalKunal**KunalKunal**KunalKunal**KunalKunal**KunalKunal**KunalKunal**KunalKunal**KunalKunal**KunalKunal**KunalKunal**KunalKunal**KunalKunal**KunalKunal**KunalKunal**KunalKunal**KunalKunal**KunalKunal**KunalKunal**KunalKunal**KunalKunal**KunalKunal**KunalKunal**KunalKunal**KunalKunal**KunalKunal**KunalKunal**KunalKunal**KunalKunal**KunalKunal**KunalKunal**KunalKunal**KunalKunal**KunalKunal**KunalKunal**KunalKunal**KunalKunal**KunalKunal**KunalKunal**KunalKunal**KunalKunal**KunalKunal**KunalKunal**KunalKunal**KunalKunal**KunalKunal**KunalKunal**KunalKunal**KunalKunal**KunalKunal**KunalKunal**KunalKunal**KunalKunal**KunalKunal**KunalKunal**KunalKunal**KunalKunal**KunalKunal**KunalKunal**KunalKunal**KunalKunal**KunalKunal**KunalKunal**KunalKunal**KunalKunal**KunalKunal**KunalKunal**KunalKunal**KunalKunal**KunalKunal**KunalKunal**KunalKunal**KunalKunal**KunalKunal**KunalKunal**KunalKunal**KunalKunal**KunalKunal**KunalKunal**KunalKunal**KunalKunal**KunalKunal**KunalKunal**KunalKunal**KunalKunal**KunalKunal**KunalKunal**KunalKunal**KunalKunal**KunalKunal**KunalKunal**KunalKunal**KunalKunal**KunalKunal**KunalKunal**KunalKunal**KunalKunal**KunalKunal**KunalKunal**KunalKunal**KunalKunal**KunalKunal**KunalKunal**KunalKunal**KunalKunal**KunalKunal**KunalKunal**KunalKunal**KunalKunal**KunalKunal**KunalKunal**KunalKunal**KunalKunal**KunalKunal**KunalKunal**KunalKunal**KunalKunal**KunalKunal**KunalKunal**KunalKunal**KunalKunal**KunalKunal**KunalKunal**KunalKunal**KunalKunal**KunalKunal**KunalKunal**KunalKunal**KunalKunal**KunalKunal**KunalKunal**KunalKunal**KunalKunal**KunalKunal**KunalKunal**KunalKunal**KunalKunal**KunalKunal**KunalKunal**KunalKunal**KunalKunal**KunalKunal**KunalKunal**KunalKunal**KunalKunal**KunalKunal**KunalKunal**KunalKunal**KunalKunal**KunalKunal**KunalKunal**KunalKunal**KunalKunal**KunalKunal**KunalKunal**KunalKunal**KunalKunal**KunalKunal**KunalKunal**KunalKunal**KunalKunal**KunalKunal**KunalKunal**KunalKunal**KunalKunal**KunalKunal**KunalKunal**KunalKunal**KunalKunal**KunalKunal**KunalKunal**KunalKunal**KunalKunal**KunalKunal**KunalKunal**KunalKunal**KunalKunal**KunalKunal**KunalKunal**KunalKunal**KunalKunal**KunalKunal**KunalKunal**KunalKunal**KunalKunal**KunalKunal**KunalKunal**KunalKunal**KunalKunal**KunalKunal**KunalKunal**KunalKunal**KunalKunal**KunalKunal**KunalKunal**KunalKunal**KunalKunal**KunalKunal**KunalKunal**KunalKunal**KunalKunal**KunalKunal**KunalKunal**KunalKunal**KunalKunal**KunalKunal**KunalKunal**KunalKunal**KunalKunal**KunalKunal**KunalKunal**KunalKunal**KunalKunal**KunalKunal**KunalKunal**KunalKunal**KunalKunal**KunalKunal**KunalKunal**KunalKunal**KunalKunal**KunalKunal**KunalKunal**KunalKunal**KunalKunal**KunalKunal**KunalKunal**KunalKunal**KunalKunal**KunalKunal**KunalKunal**KunalKunal**KunalKunal**KunalKunal**KunalKunal**KunalKunal**KunalKunal**KunalKunal**KunalKunal**KunalKunal**KunalKunal**KunalKunal**KunalKunal**KunalKunal**KunalKunal**KunalKunal**KunalKunal**KunalKunal**KunalKunal**KunalKunal**KunalKunal**KunalKunal**KunalKunal**KunalKunal**KunalKunal**KunalKunal**KunalKunal**KunalKunal**KunalKunal**KunalKunal**KunalKunal**KunalKunal**KunalKunal**KunalKunal**KunalKunal**KunalKunal**KunalKunal**KunalKunal**KunalKunal**KunalKunal**KunalKunal**KunalKunal**KunalKunal**KunalKunal**KunalKunal**KunalKunal**KunalKunal**KunalKunal**KunalKunal**KunalKunal**KunalKunal**KunalKunal**KunalKunal**KunalKunal**KunalKunal**KunalKunal**KunalKunal**KunalKunal**KunalKunal**KunalKunal**KunalKunal**KunalKunal**KunalKunal**KunalKunal**KunalKunal**KunalKunal**KunalKunal**KunalKunal**KunalKunal**KunalKunal**KunalKunal**KunalKunal**KunalKunal**KunalKunal**KunalKunal**KunalKunal**KunalKunal**KunalKunal**KunalKunal**KunalKunal**KunalKunal**KunalKunal**KunalKunal**KunalKunal**KunalKunal**KunalKunal**KunalKunal**KunalKunal**KunalKunal**KunalKunal**KunalKunal**KunalKunal**KunalKunal**KunalKunal**KunalKunal**KunalKunal**KunalKunal**KunalKunal**KunalKunal**KunalKunal**KunalKunal**KunalKunal**KunalKunal**KunalKunal**KunalKunal**KunalKunal**KunalKunal**KunalKunal**KunalKunal**KunalKunal**KunalKunal**KunalKunal**KunalKunal**KunalKunal**KunalKunal**KunalKunal**KunalKunal**KunalKunal**KunalKunal**KunalKunal**KunalKunal**KunalKunal**KunalKunal**KunalKunal**KunalKunal**KunalKunal**KunalKunal**KunalKunal**KunalKunal**KunalKunal**KunalKunal**KunalKunal**KunalKunal**KunalKunal**KunalKunal**KunalKunal**KunalKunal**KunalKunal**KunalKunal**KunalKunal**KunalKunal**KunalKunal**KunalKunal**KunalKunal**KunalKunal**KunalKunal**KunalKunal**KunalKunal**KunalKunal**KunalKunal**KunalKunal**KunalKunal**KunalKunal**KunalKunal**KunalKunal**KunalKunal**KunalKunal**KunalKunal**KunalKunal**KunalKunal**KunalKunal**KunalKunal**KunalKunal**KunalKunal**KunalKunal**KunalKunal**KunalKunal**KunalKunal**KunalKunal**KunalKunal**KunalKunal**KunalKunal**KunalKunal**KunalKunal**KunalKunal**KunalKunal**KunalKunal**KunalKunal**KunalKunal**KunalKunal**KunalKunal**KunalKunal**KunalKunal**KunalKunal**KunalKunal**KunalKunal**KunalKunal**KunalKunal**KunalKunal**KunalKunal**KunalKunal**KunalKunal**KunalKunal**KunalKunal**KunalKunal**KunalKunal**KunalKunal**KunalKunal**KunalKunal**KunalKunal**KunalKunal**KunalKunal**KunalKunal**KunalKunal**KunalKunal**KunalKunal**KunalKunal**KunalKunal**KunalKunal**KunalKunal**KunalKunal**KunalKunal**KunalKunal**KunalKunal**KunalKunal**KunalKunal**KunalKunal**KunalKunal**KunalKunal**KunalKunal**KunalKunal**KunalKunal**KunalKunal**KunalKunal**KunalKunal**KunalKunal**KunalKunal**KunalKunal**KunalKunal**KunalKunal**KunalKunal**KunalKunal**KunalKunal**KunalKunal**KunalKunal**KunalKunal**KunalKunal**KunalKunal**KunalKunal**KunalKunal**KunalKunal**KunalKunal**KunalKunal**KunalKunal**KunalKunal**KunalKunal**KunalKunal**KunalKunal**KunalKunal**KunalKunal**KunalKunal**KunalKunal**KunalKunal**KunalKunal**KunalKunal**KunalKunal**KunalKunal**KunalKunal**KunalKunal**KunalKunal**KunalKunal**KunalKunal**KunalKunal**KunalKunal**KunalKunal**KunalKunal**KunalKunal**KunalKunal**KunalKunal**KunalKunal**KunalKunal**KunalKunal**KunalKunal**KunalKunal**KunalKunal**KunalKunal**KunalKunal**KunalKunal**KunalKunal**KunalKunal**KunalKunal**KunalKunal**KunalKunal**KunalKunal**KunalKunal**KunalKunal**KunalKunal**KunalKunal**KunalKunal**KunalKunal**KunalKunal**KunalKunal**KunalKunal**KunalKunal**KunalKunal**KunalKunal**KunalKunal**KunalKunal**KunalKunal**KunalKunal**KunalKunal**KunalKunal**KunalKunal**KunalKunal**KunalKunal**KunalKunal**KunalKunal**KunalKunal**KunalKunal**KunalKunal**KunalKunal**KunalKunal**KunalKunal**KunalKunal**KunalKunal**KunalKunal**KunalKunal**KunalKunal**KunalKunal**KunalKunal**KunalKunal**KunalKunal**KunalKunal**KunalKunal**KunalKunal**KunalKunal**KunalKunal**KunalKunal**KunalKunal**KunalKunal**KunalKunal**KunalKunal**KunalKunal**KunalKunal**KunalKunal**KunalKunal**KunalKunal**KunalKunal**KunalKunal**KunalKunal**KunalKunal**KunalKunal**KunalKunal**KunalKunal**KunalKunal**KunalKunal**KunalKunal**KunalKunal**KunalKunal**KunalKunal**KunalKunal**KunalKunal**KunalKunal**KunalKunal**KunalKunal**KunalKunal**KunalKunal**KunalKunal**KunalKunal**KunalKunal**KunalKunal**KunalKunal**KunalKunal**KunalKunal**KunalKunal**KunalKunal**KunalKunal**KunalKunal**KunalKunal**KunalKunal**KunalKunal**KunalKunal**KunalKunal**KunalKunal**KunalKunal**KunalKunal**KunalKunal**KunalKunal**KunalKunal**KunalKunal**KunalKunal**KunalKunal**KunalKunal**KunalKunal**KunalKunal**KunalKunal**KunalKunal**KunalKunal**KunalKunal**KunalKunal**KunalKunal**KunalKunal**KunalKunal**KunalKunal**KunalKunal**KunalKunal**KunalKunal**KunalKunal**KunalKunal**KunalKunal**KunalKunal**KunalKunal**KunalKunal**KunalKunal**KunalKunal**KunalKunal**KunalKunal**KunalKunal**KunalKunal**KunalKunal**KunalKunal**KunalKunal**KunalKunal**KunalKunal**KunalKunal**KunalKunal**KunalKunal**KunalKunal**KunalKunal**KunalKunal**KunalKunal**KunalKunal**KunalKunal**KunalKunal**KunalKunal**KunalKunal**KunalKunal**KunalKunal**KunalKunal**KunalKunal**KunalKunal**KunalKunal**KunalKunal**KunalKunal**KunalKunal**KunalKunal**KunalKunal**KunalKunal**KunalKunal**KunalKunal**KunalKunal**KunalKunal**KunalKunal**KunalKunal**KunalKunal**KunalKunal**KunalKunal**KunalKunal**KunalKunal**KunalKunal**KunalKunal**KunalKunal**KunalKunal**KunalKunal**KunalKunal**KunalKunal**KunalKunal**KunalKunal**KunalKunal**KunalKunal**KunalKunal**KunalKunal**KunalKunal**KunalKunal**KunalKunal**KunalKunal**KunalKunal**KunalKunal**KunalKunal**KunalKunal**KunalKunal**KunalKunal**KunalKunal**KunalKunal**KunalKunal**KunalKunal**KunalKunal**KunalKunal**KunalKunal**KunalKunal**KunalKunal**KunalKunal**KunalKunal**KunalKunal**KunalKunal**KunalKunal**KunalKunal**KunalKunal**KunalKunal**KunalKunal**KunalKunal**KunalKunal**KunalKunal**KunalKunal**KunalKunal**KunalKunal**KunalKunal**KunalKunal**KunalKunal**KunalKunal**KunalKunal**KunalKunal**KunalKunal**KunalKunal**KunalKunal**KunalKunal**KunalKunal**KunalKunal**KunalKunal**KunalKunal**KunalKunal**KunalKunal**KunalKunal**KunalKunal**KunalKunal**KunalKunal**KunalKunal**KunalKunal**KunalKunal**KunalKunal**KunalKunal**KunalKunal**KunalKunal**KunalKunal**KunalKunal**KunalKunal**KunalKunal**KunalKunal**KunalKunal**KunalKunal**KunalKunal**KunalKunal**KunalKunal**KunalKunal**KunalKunal**KunalKunal**KunalKunal**KunalKunal**KunalKunal**KunalKunal**KunalKunal**KunalKunal**KunalKunal**KunalKunal**KunalKunal**KunalKunal**KunalKunal**KunalKunal**KunalKunal**KunalKunal**KunalKunal**KunalKunal**KunalKunal**KunalKunal**KunalKunal**KunalKunal**KunalKunal**KunalKunal**KunalKunal**KunalKunal**KunalKunal**KunalKunal**KunalKunal**KunalKunal**KunalKunal**KunalKunal**KunalKunal**KunalKunal**KunalKunal**KunalKunal**KunalKunal**KunalKunal**KunalKunal**KunalKunal**KunalKunal**KunalKunal**KunalKunal**KunalKunal**KunalKunal**KunalKunal**KunalKunal**KunalKunal**KunalKunal**KunalKunal**KunalKunal**KunalKunal**KunalKunal**KunalKunal**KunalKunal**KunalKunal**KunalKunal**KunalKunal**KunalKunal**KunalKunal**KunalKunal**KunalKunal**KunalKunal**KunalKunal**KunalKunal**KunalKunal**KunalKunal**KunalKunal**KunalKunal**KunalKunal**KunalKunal**KunalKunal**KunalKunal**KunalKunal**KunalKunal**KunalKunal**KunalKunal**KunalKunal**KunalKunal**KunalKunal**KunalKunal**KunalKunal**KunalKunal**KunalKunal**KunalKunal**KunalKunal**KunalKunal**KunalKunal**KunalKunal**KunalKunal**KunalKunal**KunalKunal**KunalKunal**KunalKunal**KunalKunal**KunalKunal**KunalKunal**KunalKunal**KunalKunal**KunalKunal**KunalKunal**KunalKunal**KunalKunal**KunalKunal**KunalKunal**KunalKunal**KunalKunal**KunalKunal**KunalKunal**KunalKunal**KunalKunal**KunalKunal**KunalKunal**KunalKunal**KunalKunal**KunalKunal**KunalKunal**KunalKunal**KunalKunal**KunalKunal**KunalKunal**KunalKunal**KunalKunal**KunalKunal**KunalKunal**KunalKunal**KunalKunal**KunalKunal**KunalKunal**KunalKunal**KunalKunal**KunalKunal**KunalKunal**KunalKunal**KunalKunal**KunalKunal**KunalKunal**KunalKunal**KunalKunal**KunalKunal**KunalKunal**KunalKunal**KunalKunal**KunalKunal**KunalKunal**KunalKunal**KunalKunal**KunalKunal**KunalKunal**KunalKunal**KunalKunal**KunalKunal**KunalKunal**KunalKunal**KunalKunal**KunalKunal**KunalKunal**KunalKunal**KunalKunal**KunalKunal**KunalKunal**KunalKunal**KunalKunal**KunalKunal**KunalKunal**KunalKunal**KunalKunal**KunalKunal**KunalKunal**KunalKunal**KunalKunal**KunalKunal**KunalKunal**KunalKunal**KunalKunal**KunalKunal**KunalKunal**KunalKunal**KunalKunal**KunalKunal**KunalKunal**KunalKunal**KunalKunal**KunalKunal**KunalKunal**KunalKunal**KunalKunal**KunalKunal**KunalKunal**KunalKunal**KunalKunal**KunalKunal**KunalKunal**KunalKunal**KunalKunal**KunalKunal**KunalKunal**KunalKunal**KunalKunal**KunalKunal**KunalKunal**KunalKunal**KunalKunal**KunalKunal**KunalKunal**KunalKunal**KunalKunal**KunalKunal**KunalKunal**KunalKunal**KunalKunal**KunalKunal**KunalKunal**KunalKunal**KunalKunal**KunalKunal**KunalKunal**KunalKunal**KunalKunal**KunalKunal**KunalKunal**KunalKunal**KunalKunal**KunalKunal**KunalKunal**KunalKunal**KunalKunal**KunalKunal**KunalKunal**KunalKunal**KunalKunal**KunalKunal**KunalKunal**KunalKunal**KunalKunal**KunalKunal**KunalKunal**KunalKunal**KunalKunal**KunalKunal**KunalKunal**KunalKunal**KunalKunal**KunalKunal**KunalKunal**KunalKunal**KunalKunal**KunalKunal**KunalKunal**KunalKunal**KunalKunal**KunalKunal**KunalKunal**KunalKunal**KunalKunal**KunalKunal**KunalKunal**KunalKunal**KunalKunal**KunalKunal**KunalKunal**KunalKunal**KunalKunal**KunalKunal**KunalKunal**KunalKunal**KunalKunal**KunalKunal**KunalKunal**KunalKunal**KunalKunal**KunalKunal**KunalKunal**KunalKunal**KunalKunal**KunalKunal**KunalKunal**KunalKunal**KunalKunal**KunalKunal**KunalKunal**KunalKunal**KunalKunal**KunalKunal**KunalKunal**KunalKunal**KunalKunal**KunalKunal**KunalKunal**KunalKunal**KunalKunal**KunalKunal**KunalKunal**KunalKunal**KunalKunal**KunalKunal**KunalKunal**KunalKunal**KunalKunal**KunalKunal**KunalKunal**KunalKunal**KunalKunal**KunalKunal**KunalKunal**KunalKunal**KunalKunal**KunalKunal**KunalKunal**KunalKunal**KunalKunal**KunalKunal**KunalKunal**KunalKunal**KunalKunal**KunalKunal**KunalKunal**KunalKunal**KunalKunal**KunalKunal**KunalKunal**KunalKunal**KunalKunal**KunalKunal**KunalKunal**KunalKunal**KunalKunal**KunalKunal**KunalKunal**KunalKunal**KunalKunal**KunalKunal**KunalKunal**KunalKunal**KunalKunal**KunalKunal**KunalKunal**KunalKunal**KunalKunal**KunalKunal**KunalKunal**KunalKunal**KunalKunal**KunalKunal**KunalKunal**KunalKunal**KunalKunal**KunalKunal**KunalKunal**KunalKunal**KunalKunal**KunalKunal**KunalKunal**KunalKunal**KunalKunal**KunalKunal**KunalKunal**KunalKunal**KunalKunal**KunalKunal**KunalKunal**KunalKunal**KunalKunal**KunalKunal**KunalKunal**KunalKunal**KunalKunal**KunalKunal**KunalKunal**KunalKunal**KunalKunal**KunalKunal**KunalKunal**KunalKunal**KunalKunal**KunalKunal**KunalKunal**KunalKunal**KunalKunal**KunalKunal**KunalKunal**KunalKunal**KunalKunal**KunalKunal**KunalKunal**KunalKunal**KunalKunal**KunalKunal**KunalKunal**KunalKunal**KunalKunal**KunalKunal**KunalKunal**KunalKunal**KunalKunal**KunalKunal**KunalKunal**KunalKunal**KunalKunal**KunalKunal**KunalKunal**KunalKunal**KunalKunal**KunalKunal**KunalKunal**KunalKunal**KunalKunal**KunalKunal**KunalKunal**KunalKunal**KunalKunal**KunalKunal**KunalKunal**KunalKunal**KunalKunal**KunalKunal**KunalKunal**KunalKunal**KunalKunal**KunalKunal**KunalKunal**KunalKunal**KunalKunal**KunalKunal**KunalKunal**KunalKunal**KunalKunal**KunalKunal**KunalKunal**KunalKunal**KunalKunal**KunalKunal**KunalKunal**KunalKunal**KunalKunal**KunalKunal**KunalKunal**KunalKunal**KunalKunal**KunalKunal**KunalKunal**KunalKunal**KunalKunal**KunalKunal**KunalKunal**KunalKunal**KunalKunal**KunalKunal**KunalKunal**KunalKunal**KunalKunal**KunalKunal**KunalKunal**KunalKunal**KunalKunal**KunalKunal**KunalKunal**KunalKunal**KunalKunal**KunalKunal**KunalKunal**KunalKunal**KunalKunal**KunalKunal**KunalKunal**KunalKunal**KunalKunal**KunalKunal**KunalKunal**KunalKunal**KunalKunal**KunalKunal**KunalKunal**KunalKunal**KunalKunal**KunalKunal**KunalKunal**KunalKunal**KunalKunal**KunalKunal**KunalKunal**KunalKunal**KunalKunal**KunalKunal**KunalKunal**KunalKunal**KunalKunal**KunalKunal**KunalKunal**KunalKunal**KunalKunal**KunalKunal**KunalKunal**KunalKunal**KunalKunal**KunalKunal**KunalKunal**KunalKunal**KunalKunal**KunalKunal**KunalKunal**KunalKunal**KunalKunal**KunalKunal**KunalKunal**KunalKunal**KunalKunal**KunalKunal**KunalKunal**KunalKunal**KunalKunal**KunalKunal**KunalKunal**KunalKunal**KunalKunal**KunalKunal**KunalKunal**KunalKunal**KunalKunal**KunalKunal**KunalKunal**KunalKunal**KunalKunal**KunalKunal**KunalKunal**KunalKunal**KunalKunal**KunalKunal**KunalKunal**KunalKunal**KunalKunal**KunalKunal**KunalKunal**KunalKunal**KunalKunal**KunalKunal**KunalKunal**KunalKunal**KunalKunal**KunalKunal**KunalKunal**KunalKunal**KunalKunal**KunalKunal**KunalKunal**KunalKunal**KunalKunal**KunalKunal**KunalKunal**KunalKunal**KunalKunal**KunalKunal**KunalKunal**KunalKunal**KunalKunal**KunalKunal**KunalKunal**KunalKunal**KunalKunal**KunalKunal**KunalKunal**KunalKunal**KunalKunal**KunalKunal**KunalKunal**KunalKunal**KunalKunal**KunalKunal**KunalKunal**KunalKunal**KunalKunal**KunalKunal**KunalKunal**KunalKunal**KunalKunal**KunalKunal**KunalKunal**KunalKunal**KunalKunal**KunalKunal**KunalKunal**KunalKunal**KunalKunal**KunalKunal**KunalKunal**KunalKunal**KunalKunal**KunalKunal**KunalKunal**KunalKunal**KunalKunal**KunalKunal**KunalKunal**KunalKunal**KunalKunal**KunalKunal**KunalKunal**KunalKunal**KunalKunal**KunalKunal**KunalKunal**KunalKunal**KunalKunal**KunalKunal**KunalKunal**KunalKunal**KunalKunal**KunalKunal**KunalKunal**KunalKunal**KunalKunal**KunalKunal**KunalKunal**KunalKunal**KunalKunal**KunalKunal**KunalKunal**KunalKunal**KunalKunal**KunalKunal**KunalKunal**KunalKunal**KunalKunal**KunalKunal**KunalKunal**KunalKunal**KunalKunal**KunalKunal**KunalKunal**KunalKunal**KunalKunal**KunalKunal**KunalKunal**KunalKunal**KunalKunal**KunalKunal**KunalKunal**KunalKunal**KunalKunal**KunalKunal**KunalKunal**KunalKunal**KunalKunal**KunalKunal**KunalKunal**KunalKunal**KunalKunal**KunalKunal**KunalKunal**KunalKunal**KunalKunal**KunalKunal**KunalKunal**KunalKunal**KunalKunal**KunalKunal**KunalKunal**KunalKunal**KunalKunal**KunalKunal**KunalKunal**KunalKunal**KunalKunal**KunalKunal**KunalKunal**KunalKunal**KunalKunal**KunalKunal**KunalKunal**KunalKunal**KunalKunal**KunalKunal**KunalKunal**KunalKunal**KunalKunal**KunalKunal**KunalKunal**KunalKunal**KunalKunal**KunalKunal**KunalKunal**KunalKunal**KunalKunal**KunalKunal**KunalKunal**KunalKunal**KunalKunal**KunalKunal**KunalKunal**KunalKunal**KunalKunal**KunalKunal**KunalKunal**KunalKunal**KunalKunal**KunalKunal**KunalKunal**KunalKunal**KunalKunal**KunalKunal**KunalKunal**KunalKunal**KunalKunal**KunalKunal**KunalKunal**KunalKunal**KunalKunal**KunalKunal**KunalKunal**KunalKunal**KunalKunal**KunalKunal**KunalKunal**KunalKunal**KunalKunal**KunalKunal**KunalKunal**KunalKunal**KunalKunal**KunalKunal**KunalKunal**KunalKunal**KunalKunal**KunalKunal**KunalKunal**KunalKunal**KunalKunal**KunalKunal**KunalKunal**KunalKunal**KunalKunal**KunalKunal**KunalKunal**KunalKunal**KunalKunal**KunalKunal**KunalKunal**KunalKunal**KunalKunal**KunalKunal**KunalKunal**KunalKunal**KunalKunal**KunalKunal**KunalKunal**KunalKunal**KunalKunal**KunalKunal**KunalKunal**KunalKunal**KunalKunal**KunalKunal**KunalKunal**KunalKunal**KunalKunal**KunalKunal**KunalKunal**KunalKunal**KunalKunal**KunalKunal**KunalKunal**KunalKunal**KunalKunal**KunalKunal**KunalKunal**KunalKunal**KunalKunal**KunalKunal**KunalKunal**KunalKunal**KunalKunal**KunalKunal**KunalKunal**KunalKunal**KunalKunal**KunalKunal**KunalKunal**KunalKunal**KunalKunal**KunalKunal**KunalKunal**KunalKunal**KunalKunal**KunalKunal**KunalKunal**KunalKunal**KunalKunal**KunalKunal**KunalKunal**KunalKunal**KunalKunal**KunalKunal**KunalKunal**KunalKunal**KunalKunal**KunalKunal**KunalKunal**KunalKunal**KunalKunal**KunalKunal**KunalKunal**KunalKunal**KunalKunal**KunalKunal**KunalKunal**KunalKunal**KunalKunal**KunalKunal**KunalKunal**KunalKunal**KunalKunal**KunalKunal**KunalKunal**KunalKunal**KunalKunal**KunalKunal**KunalKunal**KunalKunal**KunalKunal**KunalKunal**KunalKunal**KunalKunal**KunalKunal**KunalKunal**KunalKunal**KunalKunal**KunalKunal**KunalKunal**KunalKunal**KunalKunal**KunalKunal**KunalKunal**KunalKunal**KunalKunal**KunalKunal**KunalKunal**KunalKunal**KunalKunal**KunalKunal**KunalKunal**KunalKunal**KunalKunal**KunalKunal**KunalKunal**KunalKunal**KunalKunal**KunalKunal**KunalKunal**KunalKunal**KunalKunal**KunalKunal**KunalKunal**KunalKunal**KunalKunal**KunalKunal**KunalKunal**KunalKunal**KunalKunal**KunalKunal**KunalKunal**KunalKunal**KunalKunal**KunalKunal**KunalKunal**KunalKunal**KunalKunal**KunalKunal**KunalKunal**KunalKunal**KunalKunal**KunalKunal**KunalKunal**KunalKunal**KunalKunal**KunalKunal**KunalKunal**KunalKunal**KunalKunal**KunalKunal**KunalKunal**KunalKunal**KunalKunal**KunalKunal**KunalKunal**KunalKunal**KunalKunal**KunalKunal**KunalKunal**KunalKunal**KunalKunal**KunalKunal**KunalKunal**KunalKunal**KunalKunal**KunalKunal**KunalKunal**KunalKunal**KunalKunal**KunalKunal**KunalKunal**KunalKunal**KunalKunal**KunalKunal**KunalKunal**KunalKunal**KunalKunal**KunalKunal**KunalKunal**KunalKunal**KunalKunal**KunalKunal**KunalKunal**KunalKunal**KunalKunal**KunalKunal**KunalKunal**KunalKunal**KunalKunal**KunalKunal**KunalKunal**KunalKunal**KunalKunal**KunalKunal**KunalKunal**KunalKunal**KunalKunal**KunalKunal**KunalKunal**KunalKunal**KunalKunal**KunalKunal**KunalKunal**KunalKunal**KunalKunal**KunalKunal**KunalKunal**KunalKunal**KunalKunal**KunalKunal**KunalKunal**KunalKunal**KunalKunal**KunalKunal**KunalKunal**KunalKunal**KunalKunal**KunalKunal**KunalKunal**KunalKunal**KunalKunal**KunalKunal**KunalKunal**KunalKunal**KunalKunal**KunalKunal**KunalKunal**KunalKunal**KunalKunal**KunalKunal**KunalKunal**KunalKunal**KunalKunal**KunalKunal**KunalKunal**KunalKunal**KunalKunal**KunalKunal**KunalKunal**KunalKunal**KunalKunal**KunalKunal**KunalKunal**KunalKunal**KunalKunal**KunalKunal**KunalKunal**KunalKunal**KunalKunal**KunalKunal**KunalKunal**KunalKunal**KunalKunal**KunalKunal**KunalKunal**KunalKunal**KunalKunal**KunalKunal**KunalKunal**KunalKunal**KunalKunal**KunalKunal**KunalKunal**KunalKunal**KunalKunal**KunalKunal**KunalKunal**KunalKunal**KunalKunal**KunalKunal**KunalKunal**KunalKunal**KunalKunal**KunalKunal**KunalKunal**KunalKunal**KunalKunal**KunalKunal**KunalKunal**KunalKunal**KunalKunal**KunalKunal**KunalKunal**KunalKunal**KunalKunal**KunalKunal**KunalKunal**KunalKunal**KunalKunal**KunalKunal**KunalKunal**KunalKunal**KunalKunal**KunalKunal**KunalKunal**KunalKunal**KunalKunal**KunalKunal**KunalKunal**KunalKunal**KunalKunal**KunalKunal**KunalKunal**KunalKunal**KunalKunal**KunalKunal**KunalKunal**KunalKunal**KunalKunal**KunalKunal**KunalKunal**KunalKunal**KunalKunal**KunalKunal**KunalKunal**KunalKunal**KunalKunal**KunalKunal**KunalKunal**KunalKunal**KunalKunal**KunalKunal**KunalKunal**KunalKunal**KunalKunal**KunalKunal**KunalKunal**KunalKunal**KunalKunal**KunalKunal**KunalKunal**KunalKunal**KunalKunal**KunalKunal**KunalKunal**KunalKunal**KunalKunal**KunalKunal**KunalKunal**KunalKunal**KunalKunal**KunalKunal**KunalKunal**KunalKunal**KunalKunal**KunalKunal**KunalKunal**KunalKunal**KunalKunal**KunalKunal**KunalKunal**KunalKunal**KunalKunal**KunalKunal**KunalKunal**KunalKunal**KunalKunal**KunalKunal**KunalKunal**KunalKunal**KunalKunal**KunalKunal**KunalKunal**KunalKunal**KunalKunal**KunalKunal**KunalKunal**KunalKunal**KunalKunal**KunalKunal**KunalKunal**KunalKunal**KunalKunal**KunalKunal**KunalKunal**KunalKunal**KunalKunal**KunalKunal**KunalKunal**KunalKunal**KunalKunal**KunalKunal**KunalKunal**KunalKunal**KunalKunal**KunalKunal**KunalKunal**KunalKunal**KunalKunal**KunalKunal**KunalKunal**KunalKunal**KunalKunal**KunalKunal**KunalKunal**KunalKunal**KunalKunal**KunalKunal**KunalKunal**KunalKunal**KunalKunal**KunalKunal**KunalKunal**KunalKunal**KunalKunal**KunalKunal**KunalKunal**KunalKunal**KunalKunal**KunalKunal**KunalKunal**KunalKunal**KunalKunal**KunalKunal**KunalKunal**KunalKunal**KunalKunal**KunalKunal**KunalKunal**KunalKunal**KunalKunal**KunalKunal**KunalKunal**KunalKunal**KunalKunal**KunalKunal**KunalKunal**KunalKunal**KunalKunal**KunalKunal**KunalKunal**KunalKunal**KunalKunal**KunalKunal**KunalKunal**KunalKunal**KunalKunal**KunalKunal**KunalKunal**KunalKunal**KunalKunal**KunalKunal**KunalKunal**KunalKunal**KunalKunal**KunalKunal**KunalKunal**KunalKunal**KunalKunal**KunalKunal**KunalKunal**KunalKunal**KunalKunal**KunalKunal**KunalKunal**KunalKunal**KunalKunal**KunalKunal**KunalKunal**KunalKunal**KunalKunal**KunalKunal**KunalKunal**KunalKunal**KunalKunal**KunalKunal**KunalKunal**KunalKunal**KunalKunal**KunalKunal**KunalKunal**KunalKunal**KunalKunal**KunalKunal**KunalKunal**KunalKunal**KunalKunal**KunalKunal**KunalKunal**KunalKunal**KunalKunal**KunalKunal**KunalKunal**KunalKunal**KunalKunal**KunalKunal**KunalKunal**KunalKunal**KunalKunal**KunalKunal**KunalKunal**KunalKunal**KunalKunal**KunalKunal**KunalKunal**KunalKunal**KunalKunal**KunalKunal**KunalKunal**KunalKunal**KunalKunal**KunalKunal**KunalKunal**KunalKunal**KunalKunal**KunalKunal**KunalKunal**KunalKunal**KunalKunal**KunalKunal**KunalKunal**KunalKunal**KunalKunal**KunalKunal**KunalKunal**KunalKunal**KunalKunal**KunalKunal**KunalKunal**KunalKunal**KunalKunal**KunalKunal**KunalKunal**KunalKunal**KunalKunal**KunalKunal**KunalKunal**KunalKunal**KunalKunal**KunalKunal**KunalKunal**KunalKunal**KunalKunal**KunalKunal**KunalKunal**KunalKunal**KunalKunal**KunalKunal**KunalKunal**KunalKunal**KunalKunal**KunalKunal**KunalKunal**KunalKunal**KunalKunal**KunalKunal**KunalKunal**KunalKunal**KunalKunal**KunalKunal**KunalKunal**KunalKunal**KunalKunal**KunalKunal**KunalKunal**KunalKunal**KunalKunal**KunalKunal**KunalKunal**KunalKunal**KunalKunal**KunalKunal**KunalKunal**KunalKunal**KunalKunal**KunalKunal**KunalKunal**KunalKunal**KunalKunal**KunalKunal**KunalKunal**KunalKunal**KunalKunal**KunalKunal**KunalKunal**KunalKunal**KunalKunal**KunalKunal**KunalKunal**KunalKunal**KunalKunal**KunalKunal**KunalKunal**KunalKunal**KunalKunal**KunalKunal**KunalKunal**KunalKunal**KunalKunal**KunalKunal**KunalKunal**KunalKunal**KunalKunal**KunalKunal**KunalKunal**KunalKunal**KunalKunal**KunalKunal**KunalKunal**KunalKunal**KunalKunal**KunalKunal**KunalKunal**KunalKunal**KunalKunal**KunalKunal**KunalKunal**KunalKunal**KunalKunal**KunalKunal**KunalKunal**KunalKunal**KunalKunal**KunalKunal**KunalKunal**KunalKunal**KunalKunal**KunalKunal**KunalKunal**KunalKunal**KunalKunal**KunalKunal**KunalKunal**KunalKunal**KunalKunal**KunalKunal**KunalKunal**KunalKunal**KunalKunal**KunalKunal**KunalKunal**KunalKunal**KunalKunal**KunalKunal**KunalKunal**KunalKunal**KunalKunal**KunalKunal**KunalKunal**KunalKunal**KunalKunal**KunalKunal**KunalKunal**KunalKunal**KunalKunal**KunalKunal**KunalKunal**KunalKunal**KunalKunal**KunalKunal**KunalKunal**KunalKunal**KunalKunal**KunalKunal**KunalKunal**KunalKunal**KunalKunal**KunalKunal**KunalKunal**KunalKunal**KunalKunal**KunalKunal**KunalKunal**KunalKunal**KunalKunal**KunalKunal**KunalKunal**KunalKunal**KunalKunal**KunalKunal**KunalKunal**KunalKunal**KunalKunal**KunalKunal**KunalKunal**KunalKunal**KunalKunal**KunalKunal**KunalKunal**KunalKunal**KunalKunal**KunalKunal**KunalKunal**KunalKunal**KunalKunal**KunalKunal**KunalKunal**KunalKunal**KunalKunal**KunalKunal**KunalKunal**KunalKunal**KunalKunal**KunalKunal**KunalKunal**KunalKunal**KunalKunal**KunalKunal**KunalKunal**KunalKunal**KunalKunal**KunalKunal**KunalKunal**KunalKunal**KunalKunal**KunalKunal**KunalKunal**KunalKunal**KunalKunal**KunalKunal**KunalKunal**KunalKunal**KunalKunal**KunalKunal**KunalKunal**KunalKunal**KunalKunal**KunalKunal**KunalKunal**KunalKunal**KunalKunal**KunalKunal**KunalKunal**KunalKunal**KunalKunal**KunalKunal**KunalKunal**KunalKunal**KunalKunal**KunalKunal**KunalKunal**KunalKunal**KunalKunal**KunalKunal**KunalKunal**KunalKunal**KunalKunal**KunalKunal**KunalKunal**KunalKunal**KunalKunal**KunalKunal**KunalKunal**KunalKunal**KunalKunal**KunalKunal**KunalKunal**KunalKunal**KunalKunal**KunalKunal**KunalKunal**KunalKunal**KunalKunal**KunalKunal**KunalKunal**KunalKunal**KunalKunal**KunalKunal**KunalKunal**KunalKunal**KunalKunal**KunalKunal**KunalKunal**KunalKunal**KunalKunal**KunalKunal**KunalKunal**KunalKunal**KunalKunal**KunalKunal**KunalKunal**KunalKunal**KunalKunal**KunalKunal**KunalKunal**KunalKunal**KunalKunal**KunalKunal**KunalKunal**KunalKunal**KunalKunal**KunalKunal**KunalKunal**KunalKunal**KunalKunal**KunalKunal**KunalKunal**KunalKunal**KunalKunal**KunalKunal**KunalKunal**KunalKunal**KunalKunal**KunalKunal**KunalKunal**KunalKunal**KunalKunal**KunalKunal**KunalKunal**KunalKunal**KunalKunal**KunalKunal**KunalKunal**KunalKunal**KunalKunal**KunalKunal**KunalKunal**KunalKunal**KunalKunal**KunalKunal**KunalKunal**KunalKunal**KunalKunal**KunalKunal**KunalKunal**KunalKunal**KunalKunal**KunalKunal**KunalKunal**KunalKunal**KunalKunal**KunalKunal**KunalKunal**KunalKunal**KunalKunal**KunalKunal**KunalKunal**KunalKunal**KunalKunal**KunalKunal**KunalKunal**KunalKunal**KunalKunal**KunalKunal**KunalKunal**KunalKunal**KunalKunal**KunalKunal**KunalKunal**KunalKunal**KunalKunal**KunalKunal**KunalKunal**KunalKunal**KunalKunal**KunalKunal**KunalKunal**KunalKunal**KunalKunal**KunalKunal**KunalKunal**KunalKunal**KunalKunal**KunalKunal**KunalKunal**KunalKunal**KunalKunal**KunalKunal**KunalKunal**KunalKunal**KunalKunal**KunalKunal**KunalKunal**KunalKunal**KunalKunal**KunalKunal**KunalKunal**KunalKunal**KunalKunal**KunalKunal**KunalKunal**KunalKunal**KunalKunal**KunalKunal**KunalKunal**KunalKunal**KunalKunal**KunalKunal**KunalKunal**KunalKunal**KunalKunal**KunalKunal**KunalKunal**KunalKunal**KunalKunal**KunalKunal**KunalKunal**KunalKunal**KunalKunal**KunalKunal**KunalKunal**KunalKunal**KunalKunal**KunalKunal**KunalKunal**KunalKunal**KunalKunal**KunalKunal**KunalKunal**KunalKunal**KunalKunal**KunalKunal**KunalKunal**KunalKunal**KunalKunal**KunalKunal**KunalKunal**KunalKunal**KunalKunal**KunalKunal**KunalKunal**KunalKunal**KunalKunal**KunalKunal**KunalKunal**KunalKunal**KunalKunal**KunalKunal**KunalKunal**KunalKunal**KunalKunal**KunalKunal**KunalKunal**KunalKunal**KunalKunal**KunalKunal**KunalKunal**KunalKunal**KunalKunal**KunalKunal**KunalKunal**KunalKunal**KunalKunal**KunalKunal**KunalKunal**KunalKunal**KunalKunal**KunalKunal**KunalKunal**KunalKunal**KunalKunal**KunalKunal**KunalKunal**KunalKunal**KunalKunal**KunalKunal**KunalKunal**KunalKunal**KunalKunal**KunalKunal**KunalKunal**KunalKunal**KunalKunal**KunalKunal**KunalKunal**KunalKunal**KunalKunal**KunalKunal**KunalKunal**KunalKunal**KunalKunal**KunalKunal**KunalKunal**KunalKunal**KunalKunal**KunalKunal**KunalKunal**KunalKunal**KunalKunal**KunalKunal**KunalKunal**KunalKunal**KunalKunal**KunalKunal**KunalKunal**KunalKunal**KunalKunal**KunalKunal**KunalKunal**KunalKunal**KunalKunal**KunalKunal**KunalKunal**KunalKunal**KunalKunal**KunalKunal**KunalKunal**KunalKunal**KunalKunal**KunalKunal**KunalKunal**KunalKunal**KunalKunal**KunalKunal**KunalKunal**KunalKunal**KunalKunal**KunalKunal**KunalKunal**KunalKunal**KunalKunal**KunalKunal**KunalKunal**KunalKunal**KunalKunal**KunalKunal**KunalKunal**KunalKunal**KunalKunal**KunalKunal**KunalKunal**KunalKunal**KunalKunal**KunalKunal**KunalKunal**KunalKunal**KunalKunal**KunalKunal**KunalKunal**KunalKunal**KunalKunal**KunalKunal**KunalKunal**KunalKunal**KunalKunal**KunalKunal**KunalKunal**KunalKunal**KunalKunal**KunalKunal**KunalKunal**KunalKunal**KunalKunal**KunalKunal**KunalKunal**KunalKunal**KunalKunal**KunalKunal**KunalKunal**KunalKunal**KunalKunal**KunalKunal**KunalKunal**KunalKunal**KunalKunal**KunalKunal**KunalKunal**KunalKunal**KunalKunal**KunalKunal**KunalKunal**KunalKunal**KunalKunal**KunalKunal**KunalKunal**KunalKunal**KunalKunal**KunalKunal**KunalKunal**KunalKunal**KunalKunal**KunalKunal**KunalKunal**KunalKunal**KunalKunal**KunalKunal**KunalKunal**KunalKunal**KunalKunal**KunalKunal**KunalKunal**KunalKunal**KunalKunal**KunalKunal**KunalKunal**KunalKunal**KunalKunal**KunalKunal**KunalKunal**KunalKunal**KunalKunal**KunalKunal**KunalKunal**KunalKunal**KunalKunal**KunalKunal**KunalKunal**KunalKunal**KunalKunal**KunalKunal**KunalKunal**KunalKunal**KunalKunal**KunalKunal**KunalKunal**KunalKunal**KunalKunal**KunalKunal**KunalKunal**KunalKunal**KunalKunal**KunalKunal**KunalKunal**KunalKunal**KunalKunal**KunalKunal**KunalKunal**KunalKunal**KunalKunal**KunalKunal**KunalKunal**KunalKunal**KunalKunal**KunalKunal**KunalKunal**KunalKunal**KunalKunal**KunalKunal**KunalKunal**KunalKunal**KunalKunal**KunalKunal**KunalKunal**KunalKunal**KunalKunal**KunalKunal**KunalKunal**KunalKunal**KunalKunal**KunalKunal**KunalKunal**KunalKunal**KunalKunal**KunalKunal**KunalKunal**KunalKunal**KunalKunal**KunalKunal**KunalKunal**KunalKunal**KunalKunal**KunalKunal**KunalKunal**KunalKunal**KunalKunal**KunalKunal**KunalKunal**KunalKunal**KunalKunal**KunalKunal**KunalKunal**KunalKunal**KunalKunal**KunalKunal**KunalKunal**KunalKunal**KunalKunal**KunalKunal**KunalKunal**KunalKunal**KunalKunal**KunalKunal**KunalKunal**KunalKunal**KunalKunal**KunalKunal**KunalKunal**KunalKunal**KunalKunal**KunalKunal**KunalKunal**KunalKunal**KunalKunal**KunalKunal**KunalKunal**KunalKunal**KunalKunal**KunalKunal**KunalKunal**KunalKunal**KunalKunal**KunalKunal**KunalKunal**KunalKunal**KunalKunal**KunalKunal**KunalKunal**KunalKunal**KunalKunal**KunalKunal**KunalKunal**KunalKunal**KunalKunal**KunalKunal**KunalKunal**KunalKunal**KunalKunal**KunalKunal**KunalKunal**KunalKunal**KunalKunal**KunalKunal**KunalKunal**KunalKunal**KunalKunal**KunalKunal**KunalKunal**KunalKunal**KunalKunal**KunalKunal**KunalKunal**KunalKunal**KunalKunal**KunalKunal**KunalKunal**KunalKunal**KunalKunal**KunalKunal**KunalKunal**KunalKunal**KunalKunal**KunalKunal**KunalKunal**KunalKunal**KunalKunal**KunalKunal**KunalKunal**KunalKunal**KunalKunal**KunalKunal**KunalKunal**KunalKunal**KunalKunal**KunalKunal**KunalKunal**KunalKunal**KunalKunal**KunalKunal**KunalKunal**KunalKunal**KunalKunal**KunalKunal**KunalKunal**KunalKunal**KunalKunal**KunalKunal**KunalKunal**KunalKunal**KunalKunal**KunalKunal**KunalKunal**KunalKunal**KunalKunal**KunalKunal**KunalKunal**KunalKunal**KunalKunal**KunalKunal**KunalKunal**KunalKunal**KunalKunal**KunalKunal**KunalKunal**KunalKunal**KunalKunal**KunalKunal**KunalKunal**KunalKunal**KunalKunal**KunalKunal**KunalKunal**KunalKunal**KunalKunal**KunalKunal**KunalKunal**KunalKunal**KunalKunal**KunalKunal**KunalKunal**KunalKunal**KunalKunal**KunalKunal**KunalKunal**KunalKunal**KunalKunal**KunalKunal**KunalKunal**KunalKunal**KunalKunal**KunalKunal**KunalKunal**KunalKunal**KunalKunal**KunalKunal**KunalKunal**KunalKunal**KunalKunal**KunalKunal**KunalKunal**KunalKunal**KunalKunal**KunalKunal**KunalKunal**KunalKunal**KunalKunal**KunalKunal**KunalKunal**KunalKunal**KunalKunal**KunalKunal**KunalKunal**KunalKunal**KunalKunal**KunalKunal**KunalKunal**KunalKunal**KunalKunal**KunalKunal**KunalKunal**KunalKunal**KunalKunal**KunalKunal**KunalKunal**KunalKunal**KunalKunal**KunalKunal**KunalKunal**KunalKunal**KunalKunal**KunalKunal**KunalKunal**KunalKunal**KunalKunal**KunalKunal**KunalKunal**KunalKunal**KunalKunal**KunalKunal**KunalKunal**KunalKunal**KunalKunal**KunalKunal**KunalKunal**KunalKunal**KunalKunal**KunalKunal**KunalKunal**KunalKunal**KunalKunal**KunalKunal**KunalKunal**KunalKunal**KunalKunal**KunalKunal**KunalKunal**KunalKunal**KunalKunal**KunalKunal**KunalKunal**KunalKunal**KunalKunal**KunalKunal**KunalKunal**KunalKunal**KunalKunal**KunalKunal**KunalKunal**KunalKunal**KunalKunal**KunalKunal**KunalKunal**KunalKunal**KunalKunal**KunalKunal**KunalKunal**KunalKunal**KunalKunal**KunalKunal**KunalKunal**KunalKunal**KunalKunal**KunalKunal**KunalKunal**KunalKunal**KunalKunal**KunalKunal**KunalKunal**KunalKunal**KunalKunal**KunalKunal**KunalKunal**KunalKunal**KunalKunal**KunalKunal**KunalKunal**KunalKunal**KunalKunal**KunalKunal**KunalKunal**KunalKunal**KunalKunal**KunalKunal**KunalKunal**KunalKunal**KunalKunal**KunalKunal**KunalKunal**KunalKunal**KunalKunal**KunalKunal**KunalKunal**KunalKunal**KunalKunal**KunalKunal**KunalKunal**KunalKunal**KunalKunal**KunalKunal**KunalKunal**KunalKunal**KunalKunal**KunalKunal**KunalKunal**KunalKunal**KunalKunal**KunalKunal**KunalKunal**KunalKunal**KunalKunal**KunalKunal**KunalKunal**KunalKunal**KunalKunal**KunalKunal**KunalKunal**KunalKunal**KunalKunal**KunalKunal**KunalKunal**KunalKunal**KunalKunal**KunalKunal**KunalKunal**KunalKunal**KunalKunal**KunalKunal**KunalKunal**KunalKunal**KunalKunal**KunalKunal**KunalKunal**KunalKunal**KunalKunal**KunalKunal**KunalKunal**KunalKunal**KunalKunal**KunalKunal**KunalKunal**KunalKunal**KunalKunal**KunalKunal**KunalKunal**KunalKunal**KunalKunal**KunalKunal**KunalKunal**KunalKunal**KunalKunal**KunalKunal**KunalKunal**KunalKunal**KunalKunal**KunalKunal**KunalKunal**KunalKunal**KunalKunal**KunalKunal**KunalKunal**KunalKunal**KunalKunal**KunalKunal**KunalKunal**KunalKunal**KunalKunal**KunalKunal**KunalKunal**KunalKunal**KunalKunal**KunalKunal**KunalKunal**KunalKunal**KunalKunal**KunalKunal**KunalKunal**KunalKunal**KunalKunal**KunalKunal**KunalKunal**KunalKunal**KunalKunal**KunalKunal**KunalKunal**KunalKunal**KunalKunal**KunalKunal**KunalKunal**KunalKunal**KunalKunal**KunalKunal**KunalKunal**KunalKunal**KunalKunal**KunalKunal**KunalKunal**KunalKunal**KunalKunal**KunalKunal**KunalKunal**KunalKunal**KunalKunal**KunalKunal**KunalKunal**KunalKunal**KunalKunal**KunalKunal**KunalKunal**KunalKunal**KunalKunal**KunalKunal**KunalKunal**KunalKunal**KunalKunal**KunalKunal**KunalKunal**KunalKunal**KunalKunal**KunalKunal**KunalKunal**KunalKunal**KunalKunal**KunalKunal**KunalKunal**KunalKunal**KunalKunal**KunalKunal**KunalKunal**KunalKunal**KunalKunal**KunalKunal**KunalKunal**KunalKunal**KunalKunal**KunalKunal**KunalKunal**KunalKunal**KunalKunal**KunalKunal**KunalKunal**KunalKunal**KunalKunal**KunalKunal**KunalKunal**KunalKunal**KunalKunal**KunalKunal**KunalKunal**KunalKunal**KunalKunal**KunalKunal**KunalKunal**KunalKunal**KunalKunal**KunalKunal**KunalKunal**KunalKunal**KunalKunal**KunalKunal**KunalKunal**KunalKunal**KunalKunal**KunalKunal**KunalKunal**KunalKunal**KunalKunal**KunalKunal**KunalKunal**KunalKunal**KunalKunal**KunalKunal**KunalKunal**KunalKunal**KunalKunal**KunalKunal**KunalKunal**KunalKunal**KunalKunal**KunalKunal**KunalKunal**KunalKunal**KunalKunal**KunalKunal**KunalKunal**KunalKunal**KunalKunal**KunalKunal**KunalKunal**KunalKunal**KunalKunal**KunalKunal**KunalKunal**KunalKunal**KunalKunal**KunalKunal**KunalKunal**KunalKunal**KunalKunal**KunalKunal**KunalKunal**KunalKunal**KunalKunal**KunalKunal**KunalKunal**KunalKunal**KunalKunal**KunalKunal**KunalKunal**KunalKunal**KunalKunal**KunalKunal**KunalKunal**KunalKunal**KunalKunal**KunalKunal**KunalKunal**KunalKunal**KunalKunal**KunalKunal**KunalKunal**KunalKunal**KunalKunal**KunalKunal**KunalKunal**KunalKunal**KunalKunal**KunalKunal**KunalKunal**KunalKunal**KunalKunal**KunalKunal**KunalKunal**KunalKunal**KunalKunal**KunalKunal**KunalKunal**KunalKunal**KunalKunal**KunalKunal**KunalKunal**KunalKunal**KunalKunal**KunalKunal**KunalKunal**KunalKunal**KunalKunal**KunalKunal**KunalKunal**KunalKunal**KunalKunal**KunalKunal**KunalKunal**KunalKunal**KunalKunal**KunalKunal**KunalKunal**KunalKunal**KunalKunal**KunalKunal**KunalKunal**KunalKunal**KunalKunal**KunalKunal**KunalKunal**KunalKunal**KunalKunal**KunalKunal**KunalKunal**KunalKunal**KunalKunal**KunalKunal**KunalKunal**KunalKunal**KunalKunal**KunalKunal**KunalKunal**KunalKunal**KunalKunal**KunalKunal**KunalKunal**KunalKunal**KunalKunal**KunalKunal**KunalKunal**KunalKunal**KunalKunal**KunalKunal**KunalKunal**KunalKunal**KunalKunal**KunalKunal**KunalKunal**KunalKunal**KunalKunal**KunalKunal**KunalKunal**KunalKunal**KunalKunal**KunalKunal**KunalKunal**KunalKunal**KunalKunal**KunalKunal**KunalKunal**KunalKunal**KunalKunal**KunalKunal**KunalKunal**KunalKunal**KunalKunal**KunalKunal**KunalKunal**KunalKunal**KunalKunal**KunalKunal**KunalKunal**KunalKunal**KunalKunal**KunalKunal**KunalKunal**KunalKunal**KunalKunal**KunalKunal**KunalKunal**KunalKunal**KunalKunal**KunalKunal**KunalKunal**KunalKunal**KunalKunal**KunalKunal**KunalKunal**KunalKunal**KunalKunal**KunalKunal**KunalKunal**KunalKunal**KunalKunal**KunalKunal**KunalKunal**KunalKunal**KunalKunal**KunalKunal**KunalKunal**KunalKunal**KunalKunal**KunalKunal**KunalKunal**KunalKunal**KunalKunal**KunalKunal**KunalKunal**KunalKunal**KunalKunal**KunalKunal**KunalKunal**KunalKunal**KunalKunal**KunalKunal**KunalKunal**KunalKunal**KunalKunal**KunalKunal**KunalKunal**KunalKunal**KunalKunal**KunalKunal**KunalKunal**KunalKunal**KunalKunal**KunalKunal**KunalKunal**KunalKunal**KunalKunal**KunalKunal**KunalKunal**KunalKunal**KunalKunal**KunalKunal**KunalKunal**KunalKunal**KunalKunal**KunalKunal**KunalKunal**KunalKunal**KunalKunal**KunalKunal**KunalKunal**KunalKunal**KunalKunal**KunalKunal**KunalKunal**KunalKunal**KunalKunal**KunalKunal**KunalKunal**KunalKunal**KunalKunal**KunalKunal**KunalKunal**KunalKunal**KunalKunal**KunalKunal**KunalKunal**KunalKunal**KunalKunal**KunalKunal**KunalKunal**KunalKunal**KunalKunal**KunalKunal**KunalKunal**KunalKunal**KunalKunal**KunalKunal**KunalKunal**KunalKunal**KunalKunal**KunalKunal**KunalKunal**KunalKunal**KunalKunal**KunalKunal**KunalKunal**KunalKunal**KunalKunal**KunalKunal**KunalKunal**KunalKunal**KunalKunal**KunalKunal**KunalKunal**KunalKunal**KunalKunal**KunalKunal**KunalKunal**KunalKunal**KunalKunal**KunalKunal**KunalKunal**KunalKunal**KunalKunal**KunalKunal**KunalKunal**KunalKunal**KunalKunal**KunalKunal**KunalKunal**KunalKunal**KunalKunal**KunalKunal**KunalKunal**KunalKunal**KunalKunal**KunalKunal**KunalKunal**KunalKunal**KunalKunal**KunalKunal**KunalKunal**KunalKunal**KunalKunal**KunalKunal**KunalKunal**KunalKunal**KunalKunal**KunalKunal**KunalKunal**KunalKunal**KunalKunal**KunalKunal**KunalKunal**KunalKunal**KunalKunal**KunalKunal**KunalKunal**KunalKunal**KunalKunal**KunalKunal**KunalKunal**KunalKunal**KunalKunal**KunalKunal**KunalKunal**KunalKunal**KunalKunal**KunalKunal**KunalKunal**KunalKunal**KunalKunal**KunalKunal**KunalKunal**KunalKunal**KunalKunal**KunalKunal**KunalKunal**KunalKunal**KunalKunal**KunalKunal**KunalKunal**KunalKunal**KunalKunal**KunalKunal**KunalKunal**KunalKunal**KunalKunal**KunalKunal**KunalKunal**KunalKunal**KunalKunal**KunalKunal**KunalKunal**KunalKunal**KunalKunal**KunalKunal**KunalKunal**KunalKunal**KunalKunal**KunalKunal**KunalKunal**KunalKunal**KunalKunal**KunalKunal**KunalKunal**KunalKunal**KunalKunal**KunalKunal**KunalKunal**KunalKunal**KunalKunal**KunalKunal**KunalKunal**KunalKunal**KunalKunal**KunalKunal**KunalKunal**KunalKunal**KunalKunal**KunalKunal**KunalKunal**KunalKunal**KunalKunal**KunalKunal**KunalKunal**KunalKunal**KunalKunal**KunalKunal**KunalKunal**KunalKunal**KunalKunal**KunalKunal**KunalKunal**KunalKunal**KunalKunal**KunalKunal**KunalKunal**KunalKunal**KunalKunal**KunalKunal**KunalKunal**KunalKunal**KunalKunal**KunalKunal**KunalKunal**KunalKunal**KunalKunal**KunalKunal**KunalKunal**KunalKunal**KunalKunal**KunalKunal**KunalKunal**KunalKunal**KunalKunal**KunalKunal**KunalKunal**KunalKunal**KunalKunal**KunalKunal**KunalKunal**KunalKunal**KunalKunal**KunalKunal**KunalKunal**KunalKunal**KunalKunal**KunalKunal**KunalKunal**KunalKunal**KunalKunal**KunalKunal**KunalKunal**KunalKunal**KunalKunal**KunalKunal**KunalKunal**KunalKunal**KunalKunal**KunalKunal**KunalKunal**KunalKunal**KunalKunal**KunalKunal**KunalKunal**KunalKunal**KunalKunal**KunalKunal**KunalKunal**KunalKunal**KunalKunal**KunalKunal**KunalKunal**KunalKunal**KunalKunal**KunalKunal**KunalKunal**KunalKunal**KunalKunal**KunalKunal**KunalKunal**KunalKunal**KunalKunal**KunalKunal**KunalKunal**KunalKunal**KunalKunal**KunalKunal**KunalKunal**KunalKunal**KunalKunal**KunalKunal**KunalKunal**KunalKunal**KunalKunal**KunalKunal**KunalKunal**KunalKunal**KunalKunal**KunalKunal**KunalKunal**KunalKunal**KunalKunal**KunalKunal**KunalKunal**KunalKunal**KunalKunal**KunalKunal**KunalKunal**KunalKunal**KunalKunal**KunalKunal**KunalKunal**KunalKunal**KunalKunal**KunalKunal**KunalKunal**KunalKunal**KunalKunal**KunalKunal**KunalKunal**KunalKunal**KunalKunal**KunalKunal**KunalKunal**KunalKunal**KunalKunal**KunalKunal**KunalKunal**KunalKunal**KunalKunal**KunalKunal**KunalKunal**KunalKunal**KunalKunal**KunalKunal**KunalKunal**KunalKunal**KunalKunal**KunalKunal**KunalKunal**KunalKunal**KunalKunal**KunalKunal**KunalKunal**KunalKunal**KunalKunal**KunalKunal**KunalKunal**KunalKunal**KunalKunal**KunalKunal**KunalKunal**KunalKunal**KunalKunal**KunalKunal**KunalKunal**KunalKunal**KunalKunal**KunalKunal**KunalKunal**KunalKunal**KunalKunal**KunalKunal**KunalKunal**KunalKunal**KunalKunal**KunalKunal**KunalKunal**KunalKunal**KunalKunal**KunalKunal**KunalKunal**KunalKunal**KunalKunal**KunalKunal**KunalKunal**KunalKunal**KunalKunal**KunalKunal**KunalKunal**KunalKunal**KunalKunal**KunalKunal**KunalKunal**KunalKunal**KunalKunal**KunalKunal**KunalKunal**KunalKunal**KunalKunal**KunalKunal**KunalKunal**KunalKunal**KunalKunal**KunalKunal**KunalKunal**KunalKunal**KunalKunal**KunalKunal**KunalKunal**KunalKunal**KunalKunal**KunalKunal**KunalKunal**KunalKunal**KunalKunal**KunalKunal**KunalKunal**KunalKunal**KunalKunal**KunalKunal**KunalKunal**KunalKunal**KunalKunal**KunalKunal**KunalKunal**KunalKunal**KunalKunal**KunalKunal**KunalKunal**KunalKunal**KunalKunal**KunalKunal**KunalKunal**KunalKunal**KunalKunal**KunalKunal**KunalKunal**KunalKunal**KunalKunal**KunalKunal**KunalKunal**KunalKunal**KunalKunal**KunalKunal**KunalKunal**KunalKunal**KunalKunal**KunalKunal**KunalKunal**KunalKunal**KunalKunal**KunalKunal**KunalKunal**KunalKunal**KunalKunal**KunalKunal**KunalKunal**KunalKunal**KunalKunal**KunalKunal**KunalKunal**KunalKunal**KunalKunal**KunalKunal**KunalKunal**KunalKunal**KunalKunal**KunalKunal**KunalKunal**KunalKunal**KunalKunal**KunalKunal**KunalKunal**KunalKunal**KunalKunal**KunalKunal**KunalKunal**KunalKunal**KunalKunal**KunalKunal**KunalKunal**KunalKunal**KunalKunal**KunalKunal**KunalKunal**KunalKunal**KunalKunal**KunalKunal**KunalKunal**KunalKunal**KunalKunal**KunalKunal**KunalKunal**KunalKunal**KunalKunal**KunalKunal**KunalKunal**KunalKunal**KunalKunal**KunalKunal**KunalKunal**KunalKunal**KunalKunal**KunalKunal**KunalKunal**KunalKunal**KunalKunal**KunalKunal**KunalKunal**KunalKunal**KunalKunal**KunalKunal**KunalKunal**KunalKunal**KunalKunal**KunalKunal**KunalKunal**KunalKunal**KunalKunal**KunalKunal**KunalKunal**KunalKunal**KunalKunal**KunalKunal**KunalKunal**KunalKunal**KunalKunal**KunalKunal**KunalKunal**KunalKunal**KunalKunal**KunalKunal**KunalKunal**KunalKunal**KunalKunal**KunalKunal**KunalKunal**KunalKunal**KunalKunal**KunalKunal**KunalKunal**KunalKunal**KunalKunal**KunalKunal**KunalKunal**KunalKunal**KunalKunal**KunalKunal**KunalKunal**KunalKunal**KunalKunal**KunalKunal**KunalKunal**KunalKunal**KunalKunal**KunalKunal**KunalKunal**KunalKunal**KunalKunal**KunalKunal**KunalKunal**KunalKunal**KunalKunal**KunalKunal**KunalKunal**KunalKunal**KunalKunal**KunalKunal**KunalKunal**KunalKunal**KunalKunal**KunalKunal**KunalKunal**KunalKunal**KunalKunal**KunalKunal**KunalKunal**KunalKunal**KunalKunal**KunalKunal**KunalKunal**KunalKunal**KunalKunal**KunalKunal**KunalKunal**KunalKunal**KunalKunal**KunalKunal**KunalKunal**KunalKunal**KunalKunal**KunalKunal**KunalKunal**KunalKunal**KunalKunal**KunalKunal**KunalKunal**KunalKunal**KunalKunal**KunalKunal**KunalKunal**KunalKunal**KunalKunal**KunalKunal**KunalKunal**KunalKunal**KunalKunal**KunalKunal**KunalKunal**KunalKunal**KunalKunal**KunalKunal**KunalKunal**KunalKunal**KunalKunal**KunalKunal**KunalKunal**KunalKunal**KunalKunal**KunalKunal**KunalKunal**KunalKunal**KunalKunal**KunalKunal**KunalKunal**KunalKunal**KunalKunal**KunalKunal**KunalKunal**KunalKunal**KunalKunal**KunalKunal**KunalKunal**KunalKunal**KunalKunal**KunalKunal**KunalKunal**KunalKunal**KunalKunal**KunalKunal**KunalKunal**KunalKunal**KunalKunal**KunalKunal**KunalKunal**KunalKunal**KunalKunal**KunalKunal**KunalKunal**KunalKunal**KunalKunal**KunalKunal**KunalKunal**KunalKunal**KunalKunal**KunalKunal**KunalKunal**KunalKunal**KunalKunal**KunalKunal**KunalKunal**KunalKunal**KunalKunal**KunalKunal**KunalKunal**KunalKunal**KunalKunal**KunalKunal**KunalKunal**KunalKunal**KunalKunal**KunalKunal**KunalKunal**KunalKunal**KunalKunal**KunalKunal**KunalKunal**KunalKunal**KunalKunal**KunalKunal**KunalKunal**KunalKunal**KunalKunal**KunalKunal**KunalKunal**KunalKunal**KunalKunal**KunalKunal**KunalKunal**KunalKunal**KunalKunal**KunalKunal**KunalKunal**KunalKunal**KunalKunal**KunalKunal**KunalKunal**KunalKunal**KunalKunal**KunalKunal**KunalKunal**KunalKunal**KunalKunal**KunalKunal**KunalKunal**KunalKunal**KunalKunal**KunalKunal**KunalKunal**KunalKunal**KunalKunal**KunalKunal**KunalKunal**KunalKunal**KunalKunal**KunalKunal**KunalKunal**KunalKunal**KunalKunal**KunalKunal**KunalKunal**KunalKunal**KunalKunal**KunalKunal**KunalKunal**KunalKunal**KunalKunal**KunalKunal**KunalKunal**KunalKunal**KunalKunal**KunalKunal**KunalKunal**KunalKunal**KunalKunal**KunalKunal**KunalKunal**KunalKunal**KunalKunal**KunalKunal**KunalKunal**KunalKunal**KunalKunal**KunalKunal**KunalKunal**KunalKunal**KunalKunal**KunalKunal**KunalKunal**KunalKunal**KunalKunal**KunalKunal**KunalKunal**KunalKunal**KunalKunal**KunalKunal**KunalKunal**KunalKunal**KunalKunal**KunalKunal**KunalKunal**KunalKunal**KunalKunal**KunalKunal**KunalKunal**KunalKunal**KunalKunal**KunalKunal**KunalKunal**KunalKunal**KunalKunal**KunalKunal**KunalKunal**KunalKunal**KunalKunal**KunalKunal**KunalKunal**KunalKunal**KunalKunal**KunalKunal**KunalKunal**KunalKunal**KunalKunal**KunalKunal**KunalKunal**KunalKunal**KunalKunal**KunalKunal**KunalKunal**KunalKunal**KunalKunal**KunalKunal**KunalKunal**KunalKunal**KunalKunal**KunalKunal**KunalKunal**KunalKunal**KunalKunal**KunalKunal**KunalKunal**KunalKunal**KunalKunal**KunalKunal**KunalKunal**KunalKunal**KunalKunal**KunalKunal**KunalKunal**KunalKunal**KunalKunal**KunalKunal**KunalKunal**KunalKunal**KunalKunal**KunalKunal**KunalKunal**KunalKunal**KunalKunal**KunalKunal**KunalKunal**KunalKunal**KunalKunal**KunalKunal**KunalKunal**KunalKunal**KunalKunal**KunalKunal**KunalKunal**KunalKunal**KunalKunal**KunalKunal**KunalKunal**KunalKunal**KunalKunal**KunalKunal**KunalKunal**KunalKunal**KunalKunal**KunalKunal**KunalKunal**KunalKunal**KunalKunal**KunalKunal**KunalKunal**KunalKunal**KunalKunal**KunalKunal**KunalKunal**KunalKunal**KunalKunal**KunalKunal**KunalKunal**KunalKunal**KunalKunal**KunalKunal**KunalKunal**KunalKunal**KunalKunal**KunalKunal**KunalKunal**KunalKunal**KunalKunal**KunalKunal**KunalKunal**KunalKunal**KunalKunal**KunalKunal**KunalKunal**KunalKunal**KunalKunal**KunalKunal**KunalKunal**KunalKunal**KunalKunal**KunalKunal**KunalKunal**KunalKunal**KunalKunal**KunalKunal**KunalKunal**KunalKunal**KunalKunal**KunalKunal**KunalKunal**KunalKunal**KunalKunal**KunalKunal**KunalKunal**KunalKunal**KunalKunal**KunalKunal**KunalKunal**KunalKunal**KunalKunal**KunalKunal**KunalKunal**KunalKunal**KunalKunal**KunalKunal**KunalKunal**KunalKunal**KunalKunal**KunalKunal**KunalKunal**KunalKunal**KunalKunal**KunalKunal**KunalKunal**KunalKunal**KunalKunal**KunalKunal**KunalKunal**KunalKunal**KunalKunal**KunalKunal**KunalKunal**KunalKunal**KunalKunal**KunalKunal**KunalKunal**KunalKunal**KunalKunal**KunalKunal**KunalKunal**KunalKunal**KunalKunal**KunalKunal**KunalKunal**KunalKunal**KunalKunal**KunalKunal**KunalKunal**KunalKunal**KunalKunal**KunalKunal**KunalKunal**KunalKunal**KunalKunal**KunalKunal**KunalKunal**KunalKunal**KunalKunal**KunalKunal**KunalKunal**KunalKunal**KunalKunal**KunalKunal**KunalKunal**KunalKunal**KunalKunal**KunalKunal**KunalKunal**KunalKunal**KunalKunal**KunalKunal**KunalKunal**KunalKunal**KunalKunal**KunalKunal**KunalKunal**KunalKunal**KunalKunal**KunalKunal**KunalKunal**KunalKunal**KunalKunal**KunalKunal**KunalKunal**KunalKunal**KunalKunal**KunalKunal**KunalKunal**KunalKunal**KunalKunal**KunalKunal**KunalKunal**KunalKunal**KunalKunal**KunalKunal**KunalKunal**KunalKunal**KunalKunal**KunalKunal**KunalKunal**KunalKunal**KunalKunal**KunalKunal**KunalKunal**KunalKunal**KunalKunal**KunalKunal**KunalKunal**KunalKunal**KunalKunal**KunalKunal**KunalKunal**KunalKunal**KunalKunal**KunalKunal**KunalKunal**KunalKunal**KunalKunal**KunalKunal**KunalKunal**KunalKunal**KunalKunal**KunalKunal**KunalKunal**KunalKunal**KunalKunal**KunalKunal**KunalKunal**KunalKunal**KunalKunal**KunalKunal**KunalKunal**KunalKunal**KunalKunal**KunalKunal**KunalKunal**KunalKunal**KunalKunal**KunalKunal**KunalKunal**KunalKunal**KunalKunal**KunalKunal**KunalKunal**KunalKunal**KunalKunal**KunalKunal**KunalKunal**KunalKunal**KunalKunal**KunalKunal**KunalKunal**KunalKunal**KunalKunal**KunalKunal**KunalKunal**KunalKunal**KunalKunal**KunalKunal**KunalKunal**KunalKunal**KunalKunal**KunalKunal**KunalKunal**KunalKunal**KunalKunal**KunalKunal**KunalKunal**KunalKunal**KunalKunal**KunalKunal**KunalKunal**KunalKunal**KunalKunal**KunalKunal**KunalKunal**KunalKunal**KunalKunal**KunalKunal**KunalKunal**KunalKunal**KunalKunal**KunalKunal**KunalKunal**KunalKunal**KunalKunal**KunalKunal**KunalKunal**KunalKunal**KunalKunal**KunalKunal**KunalKunal**KunalKunal**KunalKunal**KunalKunal**KunalKunal**KunalKunal**KunalKunal**KunalKunal**KunalKunal**KunalKunal**KunalKunal**KunalKunal**KunalKunal**KunalKunal**KunalKunal**KunalKunal**KunalKunal**KunalKunal**KunalKunal**KunalKunal**KunalKunal**KunalKunal**KunalKunal**KunalKunal**KunalKunal**KunalKunal**KunalKunal**KunalKunal**KunalKunal**KunalKunal**KunalKunal**KunalKunal**KunalKunal**KunalKunal**KunalKunal**KunalKunal**KunalKunal**KunalKunal**KunalKunal**KunalKunal**KunalKunal**KunalKunal**KunalKunal**KunalKunal**KunalKunal**KunalKunal**KunalKunal**KunalKunal**KunalKunal**KunalKunal**KunalKunal**KunalKunal**KunalKunal**KunalKunal**KunalKunal**KunalKunal**KunalKunal**KunalKunal**KunalKunal**KunalKunal**KunalKunal**KunalKunal**KunalKunal**KunalKunal**KunalKunal**KunalKunal**KunalKunal**KunalKunal**KunalKunal**KunalKunal**KunalKunal**KunalKunal**KunalKunal**KunalKunal**KunalKunal**KunalKunal**KunalKunal**KunalKunal**KunalKunal**KunalKunal**KunalKunal**KunalKunal**KunalKunal**KunalKunal**KunalKunal**KunalKunal**KunalKunal**KunalKunal**KunalKunal**KunalKunal**KunalKunal**KunalKunal**KunalKunal**KunalKunal**KunalKunal**KunalKunal**KunalKunal**KunalKunal**KunalKunal**KunalKunal**KunalKunal**KunalKunal**KunalKunal**KunalKunal**KunalKunal**KunalKunal**KunalKunal**KunalKunal**KunalKunal**KunalKunal**KunalKunal**KunalKunal**KunalKunal**KunalKunal**KunalKunal**KunalKunal**KunalKunal**KunalKunal**KunalKunal**KunalKunal**KunalKunal**KunalKunal**KunalKunal**KunalKunal**KunalKunal**KunalKunal**KunalKunal**KunalKunal**KunalKunal**KunalKunal**KunalKunal**KunalKunal**KunalKunal**KunalKunal**KunalKunal**KunalKunal**KunalKunal**KunalKunal**KunalKunal**KunalKunal**KunalKunal**KunalKunal**KunalKunal**KunalKunal**KunalKunal**KunalKunal**KunalKunal**KunalKunal**KunalKunal**KunalKunal**KunalKunal**KunalKunal**KunalKunal**KunalKunal**KunalKunal**KunalKunal**KunalKunal**KunalKunal**KunalKunal**KunalKunal**KunalKunal**KunalKunal**KunalKunal**KunalKunal**KunalKunal**KunalKunal**KunalKunal**KunalKunal**KunalKunal**KunalKunal**KunalKunal**KunalKunal**KunalKunal**KunalKunal**KunalKunal**KunalKunal**KunalKunal**KunalKunal**KunalKunal**KunalKunal**KunalKunal**KunalKunal**KunalKunal**KunalKunal**KunalKunal**KunalKunal**KunalKunal**KunalKunal**KunalKunal**KunalKunal**KunalKunal**KunalKunal**KunalKunal**KunalKunal**KunalKunal**KunalKunal**KunalKunal**KunalKunal**KunalKunal**KunalKunal**KunalKunal**KunalKunal**KunalKunal**KunalKunal**KunalKunal**KunalKunal**KunalKunal**KunalKunal**KunalKunal**KunalKunal**KunalKunal**KunalKunal**KunalKunal**KunalKunal**KunalKunal**KunalKunal**KunalKunal**KunalKunal**KunalKunal**KunalKunal**KunalKunal**KunalKunal**KunalKunal**KunalKunal**KunalKunal**KunalKunal**KunalKunal**KunalKunal**KunalKunal**KunalKunal**KunalKunal**KunalKunal**KunalKunal**KunalKunal**KunalKunal**KunalKunal**KunalKunal**KunalKunal**KunalKunal**KunalKunal**KunalKunal**KunalKunal**KunalKunal**KunalKunal**KunalKunal**KunalKunal**KunalKunal**KunalKunal**KunalKunal**KunalKunal**KunalKunal**KunalKunal**KunalKunal**KunalKunal**KunalKunal**KunalKunal**KunalKunal**KunalKunal**KunalKunal**KunalKunal**KunalKunal**KunalKunal**KunalKunal**KunalKunal**KunalKunal**KunalKunal**KunalKunal**KunalKunal**KunalKunal**KunalKunal**KunalKunal**KunalKunal**KunalKunal**KunalKunal**KunalKunal**KunalKunal**KunalKunal**KunalKunal**KunalKunal**KunalKunal**KunalKunal**KunalKunal**KunalKunal**KunalKunal**KunalKunal**KunalKunal**KunalKunal**KunalKunal**KunalKunal**KunalKunal**KunalKunal**KunalKunal**KunalKunal**KunalKunal**KunalKunal**KunalKunal**KunalKunal**KunalKunal**KunalKunal**KunalKunal**KunalKunal**KunalKunal**KunalKunal**KunalKunal**KunalKunal**KunalKunal**KunalKunal**KunalKunal**KunalKunal**KunalKunal**KunalKunal**KunalKunal**KunalKunal**KunalKunal**KunalKunal**KunalKunal**KunalKunal**KunalKunal**KunalKunal**KunalKunal**KunalKunal**KunalKunal**KunalKunal**KunalKunal**KunalKunal**KunalKunal**KunalKunal**KunalKunal**KunalKunal**KunalKunal**KunalKunal**KunalKunal**KunalKunal**KunalKunal**KunalKunal**KunalKunal**KunalKunal**KunalKunal**KunalKunal**KunalKunal**KunalKunal**KunalKunal**KunalKunal**KunalKunal**KunalKunal**KunalKunal**KunalKunal**KunalKunal**KunalKunal**KunalKunal**KunalKunal**KunalKunal**KunalKunal**KunalKunal**KunalKunal**KunalKunal**KunalKunal**KunalKunal**KunalKunal**KunalKunal**KunalKunal**KunalKunal**KunalKunal**KunalKunal**KunalKunal**KunalKunal**KunalKunal**KunalKunal**KunalKunal**KunalKunal**KunalKunal**KunalKunal**KunalKunal**KunalKunal**KunalKunal**KunalKunal**KunalKunal**KunalKunal**KunalKunal**KunalKunal**KunalKunal**KunalKunal**KunalKunal**KunalKunal**KunalKunal**KunalKunal**KunalKunal**KunalKunal**KunalKunal**KunalKunal**KunalKunal**KunalKunal**KunalKunal**KunalKunal**KunalKunal**KunalKunal**KunalKunal**KunalKunal**KunalKunal**KunalKunal**KunalKunal**KunalKunal**KunalKunal**KunalKunal**KunalKunal**KunalKunal**KunalKunal**KunalKunal**KunalKunal**KunalKunal**KunalKunal**KunalKunal**KunalKunal**KunalKunal**KunalKunal**KunalKunal**KunalKunal**KunalKunal**KunalKunal**KunalKunal**KunalKunal**KunalKunal**KunalKunal**KunalKunal**KunalKunal**KunalKunal**KunalKunal**KunalKunal**KunalKunal**KunalKunal**KunalKunal**KunalKunal**KunalKunal**KunalKunal**KunalKunal**KunalKunal**KunalKunal**KunalKunal**KunalKunal**KunalKunal**KunalKunal**KunalKunal**KunalKunal**KunalKunal**KunalKunal**KunalKunal**KunalKunal**KunalKunal**KunalKunal**KunalKunal**KunalKunal**KunalKunal**KunalKunal**KunalKunal**KunalKunal**KunalKunal**KunalKunal**KunalKunal**KunalKunal**KunalKunal**KunalKunal**KunalKunal**KunalKunal**KunalKunal**KunalKunal**KunalKunal**KunalKunal**KunalKunal**KunalKunal**KunalKunal**KunalKunal**KunalKunal**KunalKunal**KunalKunal**KunalKunal**KunalKunal**KunalKunal**KunalKunal**KunalKunal**KunalKunal**KunalKunal**KunalKunal**KunalKunal**KunalKunal**KunalKunal**KunalKunal**KunalKunal**KunalKunal**KunalKunal**KunalKunal**KunalKunal**KunalKunal**KunalKunal**KunalKunal**KunalKunal**KunalKunal**KunalKunal**KunalKunal**KunalKunal**KunalKunal**KunalKunal**KunalKunal**KunalKunal**KunalKunal**KunalKunal**KunalKunal**KunalKunal**KunalKunal**KunalKunal**KunalKunal**KunalKunal**KunalKunal**KunalKunal**KunalKunal**KunalKunal**KunalKunal**KunalKunal**KunalKunal**KunalKunal**KunalKunal**KunalKunal**KunalKunal**KunalKunal**KunalKunal**KunalKunal**KunalKunal**KunalKunal**KunalKunal**KunalKunal**KunalKunal**KunalKunal**KunalKunal**KunalKunal**KunalKunal**KunalKunal**KunalKunal**KunalKunal**KunalKunal**KunalKunal**KunalKunal**KunalKunal**KunalKunal**KunalKunal**KunalKunal**KunalKunal**KunalKunal**KunalKunal**KunalKunal**KunalKunal**KunalKunal**KunalKunal**KunalKunal**KunalKunal**KunalKunal**KunalKunal**KunalKunal**KunalKunal**KunalKunal**KunalKunal**KunalKunal**KunalKunal**KunalKunal**KunalKunal**KunalKunal**KunalKunal**KunalKunal**KunalKunal**KunalKunal**KunalKunal**KunalKunal**KunalKunal**KunalKunal**KunalKunal**KunalKunal**KunalKunal**KunalKunal**KunalKunal**KunalKunal**KunalKunal**KunalKunal**KunalKunal**KunalKunal**KunalKunal**KunalKunal**KunalKunal**KunalKunal**KunalKunal**KunalKunal**KunalKunal**KunalKunal**KunalKunal**KunalKunal**KunalKunal**KunalKunal**KunalKunal**KunalKunal**KunalKunal**KunalKunal**KunalKunal**KunalKunal**KunalKunal**KunalKunal**KunalKunal**KunalKunal**KunalKunal**KunalKunal**KunalKunal**KunalKunal**KunalKunal**KunalKunal**KunalKunal**KunalKunal**KunalKunal**KunalKunal**KunalKunal**KunalKunal**KunalKunal**KunalKunal**KunalKunal**KunalKunal**KunalKunal**KunalKunal**KunalKunal**KunalKunal**KunalKunal**KunalKunal**KunalKunal**KunalKunal**KunalKunal**KunalKunal**KunalKunal**KunalKunal**KunalKunal**KunalKunal**KunalKunal**KunalKunal**KunalKunal**KunalKunal**KunalKunal**KunalKunal**KunalKunal**KunalKunal**KunalKunal**KunalKunal**KunalKunal**KunalKunal**KunalKunal**KunalKunal**KunalKunal**KunalKunal**KunalKunal**KunalKunal**KunalKunal**KunalKunal**KunalKunal**KunalKunal**KunalKunal**KunalKunal**KunalKunal**KunalKunal**KunalKunal**KunalKunal**KunalKunal**KunalKunal**KunalKunal**KunalKunal**KunalKunal**KunalKunal**KunalKunal**KunalKunal**KunalKunal**KunalKunal**KunalKunal**KunalKunal**KunalKunal**KunalKunal**KunalKunal**KunalKunal**KunalKunal**KunalKunal**KunalKunal**KunalKunal**KunalKunal**KunalKunal**KunalKunal**KunalKunal**KunalKunal**KunalKunal**KunalKunal**KunalKunal**KunalKunal**KunalKunal**KunalKunal**KunalKunal**KunalKunal**KunalKunal**KunalKunal**KunalKunal**KunalKunal**KunalKunal**KunalKunal**KunalKunal**KunalKunal**KunalKunal**KunalKunal**KunalKunal**KunalKunal**KunalKunal**KunalKunal**KunalKunal**KunalKunal**KunalKunal**KunalKunal**KunalKunal**KunalKunal**KunalKunal**KunalKunal**KunalKunal**KunalKunal**KunalKunal**KunalKunal**KunalKunal**KunalKunal**KunalKunal**KunalKunal**KunalKunal**KunalKunal**KunalKunal**KunalKunal**KunalKunal**KunalKunal**KunalKunal**KunalKunal**KunalKunal**KunalKunal**KunalKunal**KunalKunal**KunalKunal**KunalKunal**KunalKunal**KunalKunal**KunalKunal**KunalKunal**KunalKunal**KunalKunal**KunalKunal**KunalKunal**KunalKunal**KunalKunal**KunalKunal**KunalKunal**KunalKunal**KunalKunal**KunalKunal**KunalKunal**KunalKunal**KunalKunal**KunalKunal**KunalKunal**KunalKunal**KunalKunal**KunalKunal**KunalKunal**KunalKunal**KunalKunal**KunalKunal**KunalKunal**KunalKunal**KunalKunal**KunalKunal**KunalKunal**KunalKunal**KunalKunal**KunalKunal**KunalKunal**KunalKunal**KunalKunal**KunalKunal**KunalKunal**KunalKunal**KunalKunal**KunalKunal**KunalKunal**KunalKunal**KunalKunal**KunalKunal**KunalKunal**KunalKunal**KunalKunal**KunalKunal**KunalKunal**KunalKunal**KunalKunal**KunalKunal**KunalKunal**KunalKunal**KunalKunal**KunalKunal**KunalKunal**KunalKunal**KunalKunal**KunalKunal**KunalKunal**KunalKunal**KunalKunal**KunalKunal**KunalKunal**KunalKunal**KunalKunal**KunalKunal**KunalKunal**KunalKunal**KunalKunal**KunalKunal**KunalKunal**KunalKunal**KunalKunal**KunalKunal**KunalKunal**KunalKunal**KunalKunal**KunalKunal**KunalKunal**KunalKunal**KunalKunal**KunalKunal**KunalKunal**KunalKunal**KunalKunal**KunalKunal**KunalKunal**KunalKunal**KunalKunal**KunalKunal**KunalKunal**KunalKunal**KunalKunal**KunalKunal**KunalKunal**KunalKunal**KunalKunal**KunalKunal**KunalKunal**KunalKunal**KunalKunal**KunalKunal**KunalKunal**KunalKunal**KunalKunal**KunalKunal**KunalKunal**KunalKunal**KunalKunal**KunalKunal**KunalKunal**KunalKunal**KunalKunal**KunalKunal**KunalKunal**KunalKunal**KunalKunal**KunalKunal**KunalKunal**KunalKunal**KunalKunal**KunalKunal**KunalKunal**KunalKunal**KunalKunal**KunalKunal**KunalKunal**KunalKunal**KunalKunal**KunalKunal**KunalKunal**KunalKunal**KunalKunal**KunalKunal**KunalKunal**KunalKunal**KunalKunal**KunalKunal**KunalKunal**KunalKunal**KunalKunal**KunalKunal**KunalKunal**KunalKunal**KunalKunal**KunalKunal**KunalKunal**KunalKunal**KunalKunal**KunalKunal**KunalKunal**KunalKunal**KunalKunal**KunalKunal**KunalKunal**KunalKunal**KunalKunal**KunalKunal**KunalKunal**KunalKunal**KunalKunal**KunalKunal**KunalKunal**KunalKunal**KunalKunal**KunalKunal**KunalKunal**KunalKunal**KunalKunal**KunalKunal**KunalKunal**KunalKunal**KunalKunal**KunalKunal**KunalKunal**KunalKunal**KunalKunal**KunalKunal**KunalKunal**KunalKunal**KunalKunal**KunalKunal**KunalKunal**KunalKunal**KunalKunal**KunalKunal**KunalKunal**KunalKunal**KunalKunal**KunalKunal**KunalKunal**KunalKunal**KunalKunal**KunalKunal**KunalKunal**KunalKunal**KunalKunal**KunalKunal**KunalKunal**KunalKunal**KunalKunal**KunalKunal**KunalKunal**KunalKunal**KunalKunal**KunalKunal**KunalKunal**KunalKunal**KunalKunal**KunalKunal**KunalKunal**KunalKunal**KunalKunal**KunalKunal**KunalKunal**KunalKunal**KunalKunal**KunalKunal**KunalKunal**KunalKunal**KunalKunal**KunalKunal**KunalKunal**KunalKunal**KunalKunal**KunalKunal**KunalKunal**KunalKunal**KunalKunal**KunalKunal**KunalKunal**KunalKunal**KunalKunal**KunalKunal**KunalKunal**KunalKunal**KunalKunal**KunalKunal**KunalKunal**KunalKunal**KunalKunal**KunalKunal**KunalKunal**KunalKunal**KunalKunal**KunalKunal**KunalKunal**KunalKunal**KunalKunal**KunalKunal**KunalKunal**KunalKunal**KunalKunal**KunalKunal**KunalKunal**KunalKunal**KunalKunal**KunalKunal**KunalKunal**KunalKunal**KunalKunal**KunalKunal**KunalKunal**KunalKunal**KunalKunal**KunalKunal**KunalKunal**KunalKunal**KunalKunal**KunalKunal**KunalKunal**KunalKunal**KunalKunal**KunalKunal**KunalKunal**KunalKunal**KunalKunal**KunalKunal**KunalKunal**KunalKunal**KunalKunal**KunalKunal**KunalKunal**KunalKunal**KunalKunal**KunalKunal**KunalKunal**KunalKunal**KunalKunal**KunalKunal**KunalKunal**KunalKunal**KunalKunal**KunalKunal**KunalKunal**KunalKunal**KunalKunal**KunalKunal**KunalKunal**KunalKunal**KunalKunal**KunalKunal**KunalKunal**KunalKunal**KunalKunal**KunalKunal**KunalKunal**KunalKunal**KunalKunal**KunalKunal**KunalKunal**KunalKunal**KunalKunal**KunalKunal**KunalKunal**KunalKunal**KunalKunal**KunalKunal**KunalKunal**KunalKunal**KunalKunal**KunalKunal**KunalKunal**KunalKunal**KunalKunal**KunalKunal**KunalKunal**KunalKunal**KunalKunal**KunalKunal**KunalKunal**KunalKunal**KunalKunal**KunalKunal**KunalKunal**KunalKunal**KunalKunal**KunalKunal**KunalKunal**KunalKunal**KunalKunal**KunalKunal**KunalKunal**KunalKunal**KunalKunal**KunalKunal**KunalKunal**KunalKunal**KunalKunal**KunalKunal**KunalKunal**KunalKunal**KunalKunal**KunalKunal**KunalKunal**KunalKunal**KunalKunal**KunalKunal**KunalKunal**KunalKunal**KunalKunal**KunalKunal**KunalKunal**KunalKunal**KunalKunal**KunalKunal**KunalKunal**KunalKunal**KunalKunal**KunalKunal**KunalKunal**KunalKunal**KunalKunal**KunalKunal**KunalKunal**KunalKunal**KunalKunal**KunalKunal**KunalKunal**KunalKunal**KunalKunal**KunalKunal**KunalKunal**KunalKunal**KunalKunal**KunalKunal**KunalKunal**KunalKunal**KunalKunal**KunalKunal**KunalKunal**KunalKunal**KunalKunal**KunalKunal**KunalKunal**KunalKunal**KunalKunal**KunalKunal**KunalKunal**KunalKunal**KunalKunal**KunalKunal**KunalKunal**KunalKunal**KunalKunal**KunalKunal**KunalKunal**KunalKunal**KunalKunal**KunalKunal**KunalKunal**KunalKunal**KunalKunal**KunalKunal**KunalKunal**KunalKunal**KunalKunal**KunalKunal**KunalKunal**KunalKunal**KunalKunal**KunalKunal**KunalKunal**KunalKunal**KunalKunal**KunalKunal**KunalKunal**KunalKunal**KunalKunal**KunalKunal**KunalKunal**KunalKunal**KunalKunal**KunalKunal**KunalKunal**KunalKunal**KunalKunal**KunalKunal**KunalKunal**KunalKunal**KunalKunal**KunalKunal**KunalKunal**KunalKunal**KunalKunal**KunalKunal**KunalKunal**KunalKunal**KunalKunal**KunalKunal**KunalKunal**KunalKunal**KunalKunal**KunalKunal**KunalKunal**KunalKunal**KunalKunal**KunalKunal**KunalKunal**KunalKunal**KunalKunal**KunalKunal**KunalKunal**KunalKunal**KunalKunal**KunalKunal**KunalKunal**KunalKunal**KunalKunal**KunalKunal**KunalKunal**KunalKunal**KunalKunal**KunalKunal**KunalKunal**KunalKunal**KunalKunal**KunalKunal**KunalKunal**KunalKunal**KunalKunal**KunalKunal**KunalKunal**KunalKunal**KunalKunal**KunalKunal**KunalKunal**KunalKunal**KunalKunal**KunalKunal**KunalKunal**KunalKunal**KunalKunal**KunalKunal**KunalKunal**KunalKunal**KunalKunal**KunalKunal**KunalKunal**KunalKunal**KunalKunal**KunalKunal**KunalKunal**KunalKunal**KunalKunal**KunalKunal**KunalKunal**KunalKunal**KunalKunal**KunalKunal**KunalKunal**KunalKunal**KunalKunal**KunalKunal**KunalKunal**KunalKunal**KunalKunal**KunalKunal**KunalKunal**KunalKunal**KunalKunal**KunalKunal**KunalKunal**KunalKunal**KunalKunal**KunalKunal**KunalKunal**KunalKunal**KunalKunal**KunalKunal**KunalKunal**KunalKunal**KunalKunal**KunalKunal**KunalKunal**KunalKunal**KunalKunal**KunalKunal**KunalKunal**KunalKunal**KunalKunal**KunalKunal**KunalKunal**KunalKunal**KunalKunal**KunalKunal**KunalKunal**KunalKunal**KunalKunal**KunalKunal**KunalKunal**KunalKunal**KunalKunal**KunalKunal**KunalKunal**KunalKunal**KunalKunal**KunalKunal**KunalKunal**KunalKunal**KunalKunal**KunalKunal**KunalKunal**KunalKunal**KunalKunal**KunalKunal**KunalKunal**KunalKunal**KunalKunal**KunalKunal**KunalKunal**KunalKunal**KunalKunal**KunalKunal**KunalKunal**KunalKunal**KunalKunal**KunalKunal**KunalKunal**KunalKunal**KunalKunal**KunalKunal**KunalKunal**KunalKunal**KunalKunal**KunalKunal**KunalKunal**KunalKunal**KunalKunal**KunalKunal**KunalKunal**KunalKunal**KunalKunal**KunalKunal**KunalKunal**KunalKunal**KunalKunal**KunalKunal**KunalKunal**KunalKunal**KunalKunal**KunalKunal**KunalKunal**KunalKunal**KunalKunal**KunalKunal**KunalKunal**KunalKunal**KunalKunal**KunalKunal**KunalKunal**KunalKunal**KunalKunal**KunalKunal**KunalKunal**KunalKunal**KunalKunal**KunalKunal**KunalKunal**KunalKunal**KunalKunal**KunalKunal**KunalKunal**KunalKunal**KunalKunal**KunalKunal**KunalKunal**KunalKunal**KunalKunal**KunalKunal**KunalKunal**KunalKunal**KunalKunal**KunalKunal**KunalKunal**KunalKunal**KunalKunal**KunalKunal**KunalKunal**KunalKunal**KunalKunal**KunalKunal**KunalKunal**KunalKunal**KunalKunal**KunalKunal**KunalKunal**KunalKunal**KunalKunal**KunalKunal**KunalKunal**KunalKunal**KunalKunal**KunalKunal**KunalKunal**KunalKunal**KunalKunal**KunalKunal**KunalKunal**KunalKunal**KunalKunal**KunalKunal**KunalKunal**KunalKunal**KunalKunal**KunalKunal**KunalKunal**KunalKunal**KunalKunal**KunalKunal**KunalKunal**KunalKunal**KunalKunal**KunalKunal**KunalKunal**KunalKunal**KunalKunal**KunalKunal**KunalKunal**KunalKunal**KunalKunal**KunalKunal**KunalKunal**KunalKunal**KunalKunal**KunalKunal**KunalKunal**KunalKunal**KunalKunal**KunalKunal**KunalKunal**KunalKunal**KunalKunal**KunalKunal**KunalKunal**KunalKunal**KunalKunal**KunalKunal**KunalKunal**KunalKunal**KunalKunal**KunalKunal**KunalKunal**KunalKunal**KunalKunal**KunalKunal**KunalKunal**KunalKunal**KunalKunal**KunalKunal**KunalKunal**KunalKunal**KunalKunal**KunalKunal**KunalKunal**KunalKunal**KunalKunal**KunalKunal**KunalKunal**KunalKunal**KunalKunal**KunalKunal**KunalKunal**KunalKunal**KunalKunal**KunalKunal**KunalKunal**KunalKunal**KunalKunal**KunalKunal**KunalKunal**KunalKunal**KunalKunal**KunalKunal**KunalKunal**KunalKunal**KunalKunal**KunalKunal**KunalKunal**KunalKunal**KunalKunal**KunalKunal**KunalKunal**KunalKunal**KunalKunal**KunalKunal**KunalKunal**KunalKunal**KunalKunal**KunalKunal**KunalKunal**KunalKunal**KunalKunal**KunalKunal**KunalKunal**KunalKunal**KunalKunal**KunalKunal**KunalKunal**KunalKunal**KunalKunal**KunalKunal**KunalKunal**KunalKunal**KunalKunal**KunalKunal**KunalKunal**KunalKunal**KunalKunal**KunalKunal**KunalKunal**KunalKunal**KunalKunal**KunalKunal**KunalKunal**KunalKunal**KunalKunal**KunalKunal**KunalKunal**KunalKunal**KunalKunal**KunalKunal**KunalKunal**KunalKunal**KunalKunal**KunalKunal**KunalKunal**KunalKunal**KunalKunal**KunalKunal**KunalKunal**KunalKunal**KunalKunal**KunalKunal**KunalKunal**KunalKunal**KunalKunal**KunalKunal**KunalKunal**KunalKunal**KunalKunal**KunalKunal**KunalKunal**KunalKunal**KunalKunal**KunalKunal**KunalKunal**KunalKunal**KunalKunal**KunalKunal**KunalKunal**KunalKunal**KunalKunal**KunalKunal**KunalKunal**KunalKunal**KunalKunal**KunalKunal**KunalKunal**KunalKunal**KunalKunal**KunalKunal**KunalKunal**KunalKunal**KunalKunal**KunalKunal**KunalKunal**KunalKunal**KunalKunal**KunalKunal**KunalKunal**KunalKunal**KunalKunal**KunalKunal**KunalKunal**KunalKunal**KunalKunal**KunalKunal**KunalKunal**KunalKunal**KunalKunal**KunalKunal**KunalKunal**KunalKunal**KunalKunal**KunalKunal**KunalKunal**KunalKunal**KunalKunal**KunalKunal**KunalKunal**KunalKunal**KunalKunal**KunalKunal**KunalKunal**KunalKunal**KunalKunal**KunalKunal**KunalKunal**KunalKunal**KunalKunal**KunalKunal**KunalKunal**KunalKunal**KunalKunal**KunalKunal**KunalKunal**KunalKunal**KunalKunal**KunalKunal**KunalKunal**KunalKunal**KunalKunal**KunalKunal**KunalKunal**KunalKunal**KunalKunal**KunalKunal**KunalKunal**KunalKunal**KunalKunal**KunalKunal**KunalKunal**KunalKunal**KunalKunal**KunalKunal**KunalKunal**KunalKunal**KunalKunal**KunalKunal**KunalKunal**KunalKunal**KunalKunal**KunalKunal**KunalKunal**KunalKunal**KunalKunal**KunalKunal**KunalKunal**KunalKunal**KunalKunal**KunalKunal**KunalKunal**KunalKunal**KunalKunal**KunalKunal**KunalKunal**KunalKunal**KunalKunal**KunalKunal**KunalKunal**KunalKunal**KunalKunal**KunalKunal**KunalKunal**KunalKunal**KunalKunal**KunalKunal**KunalKunal**KunalKunal**KunalKunal**KunalKunal**KunalKunal**KunalKunal**KunalKunal**KunalKunal**KunalKunal**KunalKunal**KunalKunal**KunalKunal**KunalKunal**KunalKunal**KunalKunal**KunalKunal**KunalKunal**KunalKunal**KunalKunal**KunalKunal**KunalKunal**KunalKunal**KunalKunal**KunalKunal**KunalKunal**KunalKunal**KunalKunal**KunalKunal**KunalKunal**KunalKunal**KunalKunal**KunalKunal**KunalKunal**KunalKunal**KunalKunal**KunalKunal**KunalKunal**KunalKunal**KunalKunal**KunalKunal**KunalKunal**KunalKunal**KunalKunal**KunalKunal**KunalKunal**KunalKunal**KunalKunal**KunalKunal**KunalKunal**KunalKunal**KunalKunal**KunalKunal**KunalKunal**KunalKunal**KunalKunal**KunalKunal**KunalKunal**KunalKunal**KunalKunal**KunalKunal**KunalKunal**KunalKunal**KunalKunal**KunalKunal**KunalKunal**KunalKunal**KunalKunal**KunalKunal**KunalKunal**KunalKunal**KunalKunal**KunalKunal**KunalKunal**KunalKunal**KunalKunal**KunalKunal**KunalKunal**KunalKunal**KunalKunal**KunalKunal**KunalKunal**KunalKunal**KunalKunal**KunalKunal**KunalKunal**KunalKunal**KunalKunal**KunalKunal**KunalKunal**KunalKunal**KunalKunal**KunalKunal**KunalKunal**KunalKunal**KunalKunal**KunalKunal**KunalKunal**KunalKunal**KunalKunal**KunalKunal**KunalKunal**KunalKunal**KunalKunal**KunalKunal**KunalKunal**KunalKunal**KunalKunal**KunalKunal**KunalKunal**KunalKunal**KunalKunal**KunalKunal**KunalKunal**KunalKunal**KunalKunal**KunalKunal**KunalKunal**KunalKunal**KunalKunal**KunalKunal**KunalKunal**KunalKunal**KunalKunal**KunalKunal**KunalKunal**KunalKunal**KunalKunal**KunalKunal**KunalKunal**KunalKunal**KunalKunal**KunalKunal**KunalKunal**KunalKunal**KunalKunal**KunalKunal**KunalKunal**KunalKunal**KunalKunal**KunalKunal**KunalKunal**KunalKunal**KunalKunal**KunalKunal**KunalKunal**KunalKunal**KunalKunal**KunalKunal**KunalKunal**KunalKunal**KunalKunal**KunalKunal**KunalKunal**KunalKunal**KunalKunal**KunalKunal**KunalKunal**KunalKunal**KunalKunal**KunalKunal**KunalKunal**KunalKunal**KunalKunal**KunalKunal**KunalKunal**KunalKunal**KunalKunal**KunalKunal**KunalKunal**KunalKunal**KunalKunal**KunalKunal**KunalKunal**KunalKunal**KunalKunal**KunalKunal**KunalKunal**KunalKunal**KunalKunal**KunalKunal**KunalKunal**KunalKunal**KunalKunal**KunalKunal**KunalKunal**KunalKunal**KunalKunal**KunalKunal**KunalKunal**KunalKunal**KunalKunal**KunalKunal**KunalKunal**KunalKunal**KunalKunal**KunalKunal**KunalKunal**KunalKunal**KunalKunal**KunalKunal**KunalKunal**KunalKunal**KunalKunal**KunalKunal**KunalKunal**KunalKunal**KunalKunal**KunalKunal**KunalKunal**KunalKunal**KunalKunal**KunalKunal**KunalKunal**KunalKunal**KunalKunal**KunalKunal**KunalKunal**KunalKunal**KunalKunal**KunalKunal**KunalKunal**KunalKunal**KunalKunal**KunalKunal**KunalKunal**KunalKunal**KunalKunal**KunalKunal**KunalKunal**KunalKunal**KunalKunal**KunalKunal**KunalKunal**KunalKunal**KunalKunal**KunalKunal**KunalKunal**KunalKunal**KunalKunal**KunalKunal**KunalKunal**KunalKunal**KunalKunal**KunalKunal**KunalKunal**KunalKunal**KunalKunal**KunalKunal**KunalKunal**KunalKunal**KunalKunal**KunalKunal**KunalKunal**KunalKunal**KunalKunal**KunalKunal**KunalKunal**KunalKunal**KunalKunal**KunalKunal**KunalKunal**KunalKunal**KunalKunal**KunalKunal**KunalKunal**KunalKunal**KunalKunal**KunalKunal**KunalKunal**KunalKunal**KunalKunal**KunalKunal**KunalKunal**KunalKunal**KunalKunal**KunalKunal**KunalKunal**KunalKunal**KunalKunal**KunalKunal**KunalKunal**KunalKunal**KunalKunal**KunalKunal**KunalKunal**KunalKunal**KunalKunal**KunalKunal**KunalKunal**KunalKunal**KunalKunal**KunalKunal**KunalKunal**KunalKunal**KunalKunal**KunalKunal**KunalKunal**KunalKunal**KunalKunal**KunalKunal**KunalKunal**KunalKunal**KunalKunal**KunalKunal**KunalKunal**KunalKunal**KunalKunal**KunalKunal**KunalKunal**KunalKunal**KunalKunal**KunalKunal**KunalKunal**KunalKunal**KunalKunal**KunalKunal**KunalKunal**KunalKunal**KunalKunal**KunalKunal**KunalKunal**KunalKunal**KunalKunal**KunalKunal**KunalKunal**KunalKunal**KunalKunal**KunalKunal**KunalKunal**KunalKunal**KunalKunal**KunalKunal**KunalKunal**KunalKunal**KunalKunal**KunalKunal**KunalKunal**KunalKunal**KunalKunal**KunalKunal**KunalKunal**KunalKunal**KunalKunal**KunalKunal**KunalKunal**KunalKunal**KunalKunal**KunalKunal**KunalKunal**KunalKunal**KunalKunal**KunalKunal**KunalKunal**KunalKunal**KunalKunal**KunalKunal**KunalKunal**KunalKunal**KunalKunal**KunalKunal**KunalKunal**KunalKunal**KunalKunal**KunalKunal**KunalKunal**KunalKunal**KunalKunal**KunalKunal**KunalKunal**KunalKunal**KunalKunal**KunalKunal**KunalKunal**KunalKunal**KunalKunal**KunalKunal**KunalKunal**KunalKunal**KunalKunal**KunalKunal**KunalKunal**KunalKunal**KunalKunal**KunalKunal**KunalKunal**KunalKunal**KunalKunal**KunalKunal**KunalKunal**KunalKunal**KunalKunal**KunalKunal**KunalKunal**KunalKunal**KunalKunal**KunalKunal**KunalKunal**KunalKunal**KunalKunal**KunalKunal**KunalKunal**KunalKunal**KunalKunal**KunalKunal**KunalKunal**KunalKunal**KunalKunal**KunalKunal**KunalKunal**KunalKunal**KunalKunal**KunalKunal**KunalKunal**KunalKunal**KunalKunal**KunalKunal**KunalKunal**KunalKunal**KunalKunal**KunalKunal**KunalKunal**KunalKunal**KunalKunal**KunalKunal**KunalKunal**KunalKunal**KunalKunal**KunalKunal**KunalKunal**KunalKunal**KunalKunal**KunalKunal**KunalKunal**KunalKunal**KunalKunal**KunalKunal**KunalKunal**KunalKunal**KunalKunal**KunalKunal**KunalKunal**KunalKunal**KunalKunal**KunalKunal**KunalKunal**KunalKunal**KunalKunal**KunalKunal**KunalKunal**KunalKunal**KunalKunal**KunalKunal**KunalKunal**KunalKunal**KunalKunal**KunalKunal**KunalKunal**KunalKunal**KunalKunal**KunalKunal**KunalKunal**KunalKunal**KunalKunal**KunalKunal**KunalKunal**KunalKunal**KunalKunal**KunalKunal**KunalKunal**KunalKunal**KunalKunal**KunalKunal**KunalKunal**KunalKunal**KunalKunal**KunalKunal**KunalKunal**KunalKunal**KunalKunal**KunalKunal**KunalKunal**KunalKunal**KunalKunal**KunalKunal**KunalKunal**KunalKunal**KunalKunal**KunalKunal**KunalKunal**KunalKunal**KunalKunal**KunalKunal**KunalKunal**KunalKunal**KunalKunal**KunalKunal**KunalKunal**KunalKunal**KunalKunal**KunalKunal**KunalKunal**KunalKunal**KunalKunal**KunalKunal**KunalKunal**KunalKunal**KunalKunal**KunalKunal**KunalKunal**KunalKunal**KunalKunal**KunalKunal**KunalKunal**KunalKunal**KunalKunal**KunalKunal**KunalKunal**KunalKunal**KunalKunal**KunalKunal**KunalKunal**KunalKunal**KunalKunal**KunalKunal**KunalKunal**KunalKunal**KunalKunal**KunalKunal**KunalKunal**KunalKunal**KunalKunal**KunalKunal**KunalKunal**KunalKunal**KunalKunal**KunalKunal**KunalKunal**KunalKunal**KunalKunal**KunalKunal**KunalKunal**KunalKunal**KunalKunal**KunalKunal**KunalKunal**KunalKunal**KunalKunal**KunalKunal**KunalKunal**KunalKunal**KunalKunal**KunalKunal**KunalKunal**KunalKunal**KunalKunal**KunalKunal**KunalKunal**KunalKunal**KunalKunal**KunalKunal**KunalKunal**KunalKunal**KunalKunal**KunalKunal**KunalKunal**KunalKunal**KunalKunal**KunalKunal**KunalKunal**KunalKunal**KunalKunal**KunalKunal**KunalKunal**KunalKunal**KunalKunal**KunalKunal**KunalKunal**KunalKunal**KunalKunal**KunalKunal**KunalKunal**KunalKunal**KunalKunal**KunalKunal**KunalKunal**KunalKunal**KunalKunal**KunalKunal**KunalKunal**KunalKunal**KunalKunal**KunalKunal**KunalKunal**KunalKunal**KunalKunal**KunalKunal**KunalKunal**KunalKunal**KunalKunal**KunalKunal**KunalKunal**KunalKunal**KunalKunal**KunalKunal**KunalKunal**KunalKunal**KunalKunal**KunalKunal**KunalKunal**KunalKunal**KunalKunal**KunalKunal**KunalKunal**KunalKunal**KunalKunal**KunalKunal**KunalKunal**KunalKunal**KunalKunal**KunalKunal**KunalKunal**KunalKunal**KunalKunal**KunalKunal**KunalKunal**KunalKunal**KunalKunal**KunalKunal**KunalKunal**KunalKunal**KunalKunal**KunalKunal**KunalKunal**KunalKunal**KunalKunal**KunalKunal**KunalKunal**KunalKunal**KunalKunal**KunalKunal**KunalKunal**KunalKunal**KunalKunal**KunalKunal**KunalKunal**KunalKunal**KunalKunal**KunalKunal**KunalKunal**KunalKunal**KunalKunal**KunalKunal**KunalKunal**KunalKunal**KunalKunal**KunalKunal**KunalKunal**KunalKunal**KunalKunal**KunalKunal**KunalKunal**KunalKunal**KunalKunal**KunalKunal**KunalKunal**KunalKunal**KunalKunal**KunalKunal**KunalKunal**KunalKunal**KunalKunal**KunalKunal**KunalKunal**KunalKunal**KunalKunal**KunalKunal**KunalKunal**KunalKunal**KunalKunal**KunalKunal**KunalKunal**KunalKunal**KunalKunal**KunalKunal**KunalKunal**KunalKunal**KunalKunal**KunalKunal**KunalKunal**KunalKunal**KunalKunal**KunalKunal**KunalKunal**KunalKunal**KunalKunal**KunalKunal**KunalKunal**KunalKunal**KunalKunal**KunalKunal**KunalKunal**KunalKunal**KunalKunal**KunalKunal**KunalKunal**KunalKunal**KunalKunal**KunalKunal**KunalKunal**KunalKunal**KunalKunal**KunalKunal**KunalKunal**KunalKunal**KunalKunal**KunalKunal**KunalKunal**KunalKunal**KunalKunal**KunalKunal**KunalKunal**KunalKunal**KunalKunal**KunalKunal**KunalKunal**KunalKunal**KunalKunal**KunalKunal**KunalKunal**KunalKunal**KunalKunal**KunalKunal**KunalKunal**KunalKunal**KunalKunal**KunalKunal**KunalKunal**KunalKunal**KunalKunal**KunalKunal**KunalKunal**KunalKunal**KunalKunal**KunalKunal**KunalKunal**KunalKunal**KunalKunal**KunalKunal**KunalKunal**KunalKunal**KunalKunal**KunalKunal**KunalKunal**KunalKunal**KunalKunal**KunalKunal**KunalKunal**KunalKunal**KunalKunal**KunalKunal**KunalKunal**KunalKunal**KunalKunal**KunalKunal**KunalKunal**KunalKunal**KunalKunal**KunalKunal**KunalKunal**KunalKunal**KunalKunal**KunalKunal**KunalKunal**KunalKunal**KunalKunal**KunalKunal**KunalKunal**KunalKunal**KunalKunal**KunalKunal**KunalKunal**KunalKunal**KunalKunal**KunalKunal**KunalKunal**KunalKunal**KunalKunal**KunalKunal**KunalKunal**KunalKunal**KunalKunal**KunalKunal**KunalKunal**KunalKunal**KunalKunal**KunalKunal**KunalKunal**KunalKunal**KunalKunal**KunalKunal**KunalKunal**KunalKunal**KunalKunal**KunalKunal**KunalKunal**KunalKunal**KunalKunal**KunalKunal**KunalKunal**KunalKunal**KunalKunal**KunalKunal**KunalKunal**KunalKunal**KunalKunal**KunalKunal**KunalKunal**KunalKunal**KunalKunal**KunalKunal**KunalKunal**KunalKunal**KunalKunal**KunalKunal**KunalKunal**KunalKunal**KunalKunal**KunalKunal**KunalKunal**KunalKunal**KunalKunal**KunalKunal**KunalKunal**KunalKunal**KunalKunal**KunalKunal**KunalKunal**KunalKunal**KunalKunal**KunalKunal**KunalKunal**KunalKunal**KunalKunal**KunalKunal**KunalKunal**KunalKunal**KunalKunal**KunalKunal**KunalKunal**KunalKunal**KunalKunal**KunalKunal**KunalKunal**KunalKunal**KunalKunal**KunalKunal**KunalKunal**KunalKunal**KunalKunal**KunalKunal**KunalKunal**KunalKunal**KunalKunal**KunalKunal**KunalKunal**KunalKunal**KunalKunal**KunalKunal**KunalKunal**KunalKunal**KunalKunal**KunalKunal**KunalKunal**KunalKunal**KunalKunal**KunalKunal**KunalKunal**KunalKunal**KunalKunal**KunalKunal**KunalKunal**KunalKunal**KunalKunal**KunalKunal**KunalKunal**KunalKunal**KunalKunal**KunalKunal**KunalKunal**KunalKunal**KunalKunal**KunalKunal**KunalKunal**KunalKunal**KunalKunal**KunalKunal**KunalKunal**KunalKunal**KunalKunal**KunalKunal**KunalKunal**KunalKunal**KunalKunal**KunalKunal**KunalKunal**KunalKunal**KunalKunal**KunalKunal**KunalKunal**KunalKunal**KunalKunal**KunalKunal**KunalKunal**KunalKunal**KunalKunal**KunalKunal**KunalKunal**KunalKunal**KunalKunal**KunalKunal**KunalKunal**KunalKunal**KunalKunal**KunalKunal**KunalKunal**KunalKunal**KunalKunal**KunalKunal**KunalKunal**KunalKunal**KunalKunal**KunalKunal**KunalKunal**KunalKunal**KunalKunal**KunalKunal**KunalKunal**KunalKunal**KunalKunal**KunalKunal**KunalKunal**KunalKunal**KunalKunal**KunalKunal**KunalKunal**KunalKunal**KunalKunal**KunalKunal**KunalKunal**KunalKunal**KunalKunal**KunalKunal**KunalKunal**KunalKunal**KunalKunal**KunalKunal**KunalKunal**KunalKunal**KunalKunal**KunalKunal**KunalKunal**KunalKunal**KunalKunal**KunalKunal**KunalKunal**KunalKunal**KunalKunal**KunalKunal**KunalKunal**KunalKunal**KunalKunal**KunalKunal**KunalKunal**KunalKunal**KunalKunal**KunalKunal**KunalKunal**KunalKunal**KunalKunal**KunalKunal**KunalKunal**KunalKunal**KunalKunal**KunalKunal**KunalKunal**KunalKunal**KunalKunal**KunalKunal**KunalKunal**KunalKunal**KunalKunal**KunalKunal**KunalKunal**KunalKunal**KunalKunal**KunalKunal**KunalKunal**KunalKunal**KunalKunal**KunalKunal**KunalKunal**KunalKunal**KunalKunal**KunalKunal**KunalKunal**KunalKunal**KunalKunal**KunalKunal**KunalKunal**KunalKunal**KunalKunal**KunalKunal**KunalKunal**KunalKunal**KunalKunal**KunalKunal**KunalKunal**KunalKunal**KunalKunal**KunalKunal**KunalKunal**KunalKunal**KunalKunal**KunalKunal**KunalKunal**KunalKunal**KunalKunal**KunalKunal**KunalKunal**KunalKunal**KunalKunal**KunalKunal**KunalKunal**KunalKunal**KunalKunal**KunalKunal**KunalKunal**KunalKunal**KunalKunal**KunalKunal**KunalKunal**KunalKunal**KunalKunal**KunalKunal**KunalKunal**KunalKunal**KunalKunal**KunalKunal**KunalKunal**KunalKunal**KunalKunal**KunalKunal**KunalKunal**KunalKunal**KunalKunal**KunalKunal**KunalKunal**KunalKunal**KunalKunal**KunalKunal**KunalKunal**KunalKunal**KunalKunal**KunalKunal**KunalKunal**KunalKunal**KunalKunal**KunalKunal**KunalKunal**KunalKunal**KunalKunal**KunalKunal**KunalKunal**KunalKunal**KunalKunal**KunalKunal**KunalKunal**KunalKunal**KunalKunal**KunalKunal**KunalKunal**KunalKunal**KunalKunal**KunalKunal**KunalKunal**KunalKunal**KunalKunal**KunalKunal**KunalKunal**KunalKunal**KunalKunal**KunalKunal**KunalKunal**KunalKunal**KunalKunal**KunalKunal**KunalKunal**KunalKunal**KunalKunal**KunalKunal**KunalKunal**KunalKunal**KunalKunal**KunalKunal**KunalKunal**KunalKunal**KunalKunal**KunalKunal**KunalKunal**KunalKunal**KunalKunal**KunalKunal**KunalKunal**KunalKunal**KunalKunal**KunalKunal**KunalKunal**KunalKunal**KunalKunal**KunalKunal**KunalKunal**KunalKunal**KunalKunal**KunalKunal**KunalKunal**KunalKunal**KunalKunal**KunalKunal**KunalKunal**KunalKunal**KunalKunal**KunalKunal**KunalKunal**KunalKunal**KunalKunal**KunalKunal**KunalKunal**KunalKunal**KunalKunal**KunalKunal**KunalKunal**KunalKunal**KunalKunal**KunalKunal**KunalKunal**KunalKunal**KunalKunal**KunalKunal**KunalKunal**KunalKunal**KunalKunal**KunalKunal**KunalKunal**KunalKunal**KunalKunal**KunalKunal**KunalKunal**KunalKunal**KunalKunal**KunalKunal**KunalKunal**KunalKunal**KunalKunal**KunalKunal**KunalKunal**KunalKunal**KunalKunal**KunalKunal**KunalKunal**KunalKunal**KunalKunal**KunalKunal**KunalKunal**KunalKunal**KunalKunal**KunalKunal**KunalKunal**KunalKunal**KunalKunal**KunalKunal**KunalKunal**KunalKunal**KunalKunal**KunalKunal**KunalKunal**KunalKunal**KunalKunal**KunalKunal**KunalKunal**KunalKunal**KunalKunal**KunalKunal**KunalKunal**KunalKunal**KunalKunal**KunalKunal**KunalKunal**KunalKunal**KunalKunal**KunalKunal**KunalKunal**KunalKunal**KunalKunal**KunalKunal**KunalKunal**KunalKunal**KunalKunal**KunalKunal**KunalKunal**KunalKunal**KunalKunal**KunalKunal**KunalKunal**KunalKunal**KunalKunal**KunalKunal**KunalKunal**KunalKunal**KunalKunal**KunalKunal**KunalKunal**KunalKunal**KunalKunal**KunalKunal**KunalKunal**KunalKunal**KunalKunal**KunalKunal**KunalKunal**KunalKunal**KunalKunal**KunalKunal**KunalKunal**KunalKunal**KunalKunal**KunalKunal**KunalKunal**KunalKunal**KunalKunal**KunalKunal**KunalKunal**KunalKunal**KunalKunal**KunalKunal**KunalKunal**KunalKunal**KunalKunal**KunalKunal**KunalKunal**KunalKunal**KunalKunal**KunalKunal**KunalKunal**KunalKunal**KunalKunal**KunalKunal**KunalKunal**KunalKunal**KunalKunal**KunalKunal**KunalKunal**KunalKunal**KunalKunal**KunalKunal**KunalKunal**KunalKunal**KunalKunal**KunalKunal**KunalKunal**KunalKunal**KunalKunal**KunalKunal**KunalKunal**KunalKunal**KunalKunal**KunalKunal**KunalKunal**KunalKunal**KunalKunal**KunalKunal**KunalKunal**KunalKunal**KunalKunal**KunalKunal**KunalKunal**KunalKunal**KunalKunal**KunalKunal**KunalKunal**KunalKunal**KunalKunal**KunalKunal**KunalKunal**KunalKunal**KunalKunal**KunalKunal**KunalKunal**KunalKunal**KunalKunal**KunalKunal**KunalKunal**KunalKunal**KunalKunal**KunalKunal**KunalKunal**KunalKunal**KunalKunal**KunalKunal**KunalKunal**KunalKunal**KunalKunal**KunalKunal**KunalKunal**KunalKunal**KunalKunal**KunalKunal**KunalKunal**KunalKunal**KunalKunal**KunalKunal**KunalKunal**KunalKunal**KunalKunal**KunalKunal**KunalKunal**KunalKunal**KunalKunal**KunalKunal**KunalKunal**KunalKunal**KunalKunal**KunalKunal**KunalKunal**KunalKunal**KunalKunal**KunalKunal**KunalKunal**KunalKunal**KunalKunal**KunalKunal**KunalKunal**KunalKunal**KunalKunal**KunalKunal**KunalKunal**KunalKunal**KunalKunal**KunalKunal**KunalKunal**KunalKunal**KunalKunal**KunalKunal**KunalKunal**KunalKunal**KunalKunal**KunalKunal**KunalKunal**KunalKunal**KunalKunal**KunalKunal**KunalKunal**KunalKunal**KunalKunal**KunalKunal**KunalKunal**KunalKunal**KunalKunal**KunalKunal**KunalKunal**KunalKunal**KunalKunal**KunalKunal**KunalKunal**KunalKunal**KunalKunal**KunalKunal**KunalKunal**KunalKunal**KunalKunal**KunalKunal**KunalKunal**KunalKunal**KunalKunal**KunalKunal**KunalKunal**KunalKunal**KunalKunal**KunalKunal**KunalKunal**KunalKunal**KunalKunal**KunalKunal**KunalKunal**KunalKunal**KunalKunal**KunalKunal**KunalKunal**KunalKunal**KunalKunal**KunalKunal**KunalKunal**KunalKunal**KunalKunal**KunalKunal**KunalKunal**KunalKunal**KunalKunal**KunalKunal**KunalKunal**KunalKunal**KunalKunal**KunalKunal**KunalKunal**KunalKunal**KunalKunal**KunalKunal**KunalKunal**KunalKunal**KunalKunal**KunalKunal**KunalKunal**KunalKunal**KunalKunal**KunalKunal**KunalKunal**KunalKunal**KunalKunal**KunalKunal**KunalKunal**KunalKunal**KunalKunal**KunalKunal**KunalKunal**KunalKunal**KunalKunal**KunalKunal**KunalKunal**KunalKunal**KunalKunal**KunalKunal**KunalKunal**KunalKunal**KunalKunal**KunalKunal**KunalKunal**KunalKunal**KunalKunal**KunalKunal**KunalKunal**KunalKunal**KunalKunal**KunalKunal**KunalKunal**KunalKunal**KunalKunal**KunalKunal**KunalKunal**KunalKunal**KunalKunal**KunalKunal**KunalKunal**KunalKunal**KunalKunal**KunalKunal**KunalKunal**KunalKunal**KunalKunal**KunalKunal**KunalKunal**KunalKunal**KunalKunal**KunalKunal**KunalKunal**KunalKunal**KunalKunal**KunalKunal**KunalKunal**KunalKunal**KunalKunal**KunalKunal**KunalKunal**KunalKunal**KunalKunal**KunalKunal**KunalKunal**KunalKunal**KunalKunal**KunalKunal**KunalKunal**KunalKunal**KunalKunal**KunalKunal**KunalKunal**KunalKunal**KunalKunal**KunalKunal**KunalKunal**KunalKunal**KunalKunal**KunalKunal**KunalKunal**KunalKunal**KunalKunal**KunalKunal**KunalKunal**KunalKunal**KunalKunal**KunalKunal**KunalKunal**KunalKunal**KunalKunal**KunalKunal**KunalKunal**KunalKunal**KunalKunal**KunalKunal**KunalKunal**KunalKunal**KunalKunal**KunalKunal**KunalKunal**KunalKunal**KunalKunal**KunalKunal**KunalKunal**KunalKunal**KunalKunal**KunalKunal**KunalKunal**KunalKunal**KunalKunal**KunalKunal**KunalKunal**KunalKunal**KunalKunal**KunalKunal**KunalKunal**KunalKunal**KunalKunal**KunalKunal**KunalKunal**KunalKunal**KunalKunal**KunalKunal**KunalKunal**KunalKunal**KunalKunal**KunalKunal**KunalKunal**KunalKunal**KunalKunal**KunalKunal**KunalKunal**KunalKunal**KunalKunal**KunalKunal**KunalKunal**KunalKunal**KunalKunal**KunalKunal**KunalKunal**KunalKunal**KunalKunal**KunalKunal**KunalKunal**KunalKunal**KunalKunal**KunalKunal**KunalKunal**KunalKunal**KunalKunal**KunalKunal**KunalKunal**KunalKunal**KunalKunal**KunalKunal**KunalKunal**KunalKunal**KunalKunal**KunalKunal**KunalKunal**KunalKunal**KunalKunal**KunalKunal**KunalKunal**KunalKunal**KunalKunal**KunalKunal**KunalKunal**KunalKunal**KunalKunal**KunalKunal**KunalKunal**KunalKunal**KunalKunal**KunalKunal**KunalKunal**KunalKunal**KunalKunal**KunalKunal**KunalKunal**KunalKunal**KunalKunal**KunalKunal**KunalKunal**KunalKunal**KunalKunal**KunalKunal**KunalKunal**KunalKunal**KunalKunal**KunalKunal**KunalKunal**KunalKunal**KunalKunal**KunalKunal**KunalKunal**KunalKunal**KunalKunal**KunalKunal**KunalKunal**KunalKunal**KunalKunal**KunalKunal**KunalKunal**KunalKunal**KunalKunal**KunalKunal**KunalKunal**KunalKunal**KunalKunal**KunalKunal**KunalKunal**KunalKunal**KunalKunal**KunalKunal**KunalKunal**KunalKunal**KunalKunal**KunalKunal**KunalKunal**KunalKunal**KunalKunal**KunalKunal**KunalKunal**KunalKunal**KunalKunal**KunalKunal**KunalKunal**KunalKunal**KunalKunal**KunalKunal**KunalKunal**KunalKunal**KunalKunal**KunalKunal**KunalKunal**KunalKunal**KunalKunal**KunalKunal**KunalKunal**KunalKunal**KunalKunal**KunalKunal**KunalKunal**KunalKunal**KunalKunal**KunalKunal**KunalKunal**KunalKunal**KunalKunal**KunalKunal**KunalKunal**KunalKunal**KunalKunal**KunalKunal**KunalKunal**KunalKunal**KunalKunal**KunalKunal**KunalKunal**KunalKunal**KunalKunal**KunalKunal**KunalKunal**KunalKunal**KunalKunal**KunalKunal**KunalKunal**KunalKunal**KunalKunal**KunalKunal**KunalKunal**KunalKunal**KunalKunal**KunalKunal**KunalKunal**KunalKunal**KunalKunal**KunalKunal**KunalKunal**KunalKunal**KunalKunal**KunalKunal**KunalKunal**KunalKunal**KunalKunal**KunalKunal**KunalKunal**KunalKunal**KunalKunal**KunalKunal**KunalKunal**KunalKunal**KunalKunal**KunalKunal**KunalKunal**KunalKunal**KunalKunal**KunalKunal**KunalKunal**KunalKunal**KunalKunal**KunalKunal**KunalKunal**KunalKunal**KunalKunal**KunalKunal**KunalKunal**KunalKunal**KunalKunal**KunalKunal**KunalKunal**KunalKunal**KunalKunal**KunalKunal**KunalKunal**KunalKunal**KunalKunal**KunalKunal**KunalKunal**KunalKunal**KunalKunal**KunalKunal**KunalKunal**KunalKunal**KunalKunal**KunalKunal**KunalKunal**KunalKunal**KunalKunal**KunalKunal**KunalKunal**KunalKunal**KunalKunal**KunalKunal**KunalKunal**KunalKunal**KunalKunal**KunalKunal**KunalKunal**KunalKunal**KunalKunal**KunalKunal**KunalKunal**KunalKunal**KunalKunal**KunalKunal**KunalKunal**KunalKunal**KunalKunal**KunalKunal**KunalKunal**KunalKunal**KunalKunal**KunalKunal**KunalKunal**KunalKunal**KunalKunal**KunalKunal**KunalKunal**KunalKunal**KunalKunal**KunalKunal**KunalKunal**KunalKunal**KunalKunal**KunalKunal**KunalKunal**KunalKunal**KunalKunal**KunalKunal**KunalKunal**KunalKunal**KunalKunal**KunalKunal**KunalKunal**KunalKunal**KunalKunal**KunalKunal**KunalKunal**KunalKunal**KunalKunal**KunalKunal**KunalKunal**KunalKunal**KunalKunal**KunalKunal**KunalKunal**KunalKunal**KunalKunal**KunalKunal**KunalKunal**KunalKunal**KunalKunal**KunalKunal**KunalKunal**KunalKunal**KunalKunal**KunalKunal**KunalKunal**KunalKunal**KunalKunal**KunalKunal**KunalKunal**KunalKunal**KunalKunal**KunalKunal**KunalKunal**KunalKunal**KunalKunal**KunalKunal**KunalKunal**KunalKunal**KunalKunal**KunalKunal**KunalKunal**KunalKunal**KunalKunal**KunalKunal**KunalKunal**KunalKunal**KunalKunal**KunalKunal**KunalKunal**KunalKunal**KunalKunal**KunalKunal**KunalKunal**KunalKunal**KunalKunal**KunalKunal**KunalKunal**KunalKunal**KunalKunal**KunalKunal**KunalKunal**KunalKunal**KunalKunal**KunalKunal**KunalKunal**KunalKunal**KunalKunal**KunalKunal**KunalKunal**KunalKunal**KunalKunal**KunalKunal**KunalKunal**KunalKunal**KunalKunal**KunalKunal**KunalKunal**KunalKunal**KunalKunal**KunalKunal**KunalKunal**KunalKunal**KunalKunal**KunalKunal**KunalKunal**KunalKunal**KunalKunal**KunalKunal**KunalKunal**KunalKunal**KunalKunal**KunalKunal**KunalKunal**KunalKunal**KunalKunal**KunalKunal**KunalKunal**KunalKunal**KunalKunal**KunalKunal**KunalKunal**KunalKunal**KunalKunal**KunalKunal**KunalKunal**KunalKunal**KunalKunal**KunalKunal**KunalKunal**KunalKunal**KunalKunal**KunalKunal**KunalKunal**KunalKunal**KunalKunal**KunalKunal**KunalKunal**KunalKunal**KunalKunal**KunalKunal**KunalKunal**KunalKunal**KunalKunal**KunalKunal**KunalKunal**KunalKunal**KunalKunal**KunalKunal**KunalKunal**KunalKunal**KunalKunal**KunalKunal**KunalKunal**KunalKunal**KunalKunal**KunalKunal**KunalKunal**KunalKunal**KunalKunal**KunalKunal**KunalKunal**KunalKunal**KunalKunal**KunalKunal**KunalKunal**KunalKunal**KunalKunal**KunalKunal**KunalKunal**KunalKunal**KunalKunal**KunalKunal**KunalKunal**KunalKunal**KunalKunal**KunalKunal**KunalKunal**KunalKunal**KunalKunal**KunalKunal**KunalKunal**KunalKunal**KunalKunal**KunalKunal**KunalKunal**KunalKunal**KunalKunal**KunalKunal**KunalKunal**KunalKunal**KunalKunal**KunalKunal**KunalKunal**KunalKunal**KunalKunal**KunalKunal**KunalKunal**KunalKunal**KunalKunal**KunalKunal**KunalKunal**KunalKunal**KunalKunal**KunalKunal**KunalKunal**KunalKunal**KunalKunal**KunalKunal**KunalKunal**KunalKunal**KunalKunal**KunalKunal**KunalKunal**KunalKunal**KunalKunal**KunalKunal**KunalKunal**KunalKunal**KunalKunal**KunalKunal**KunalKunal**KunalKunal**KunalKunal**KunalKunal**KunalKunal**KunalKunal**KunalKunal**KunalKunal**KunalKunal**KunalKunal**KunalKunal**KunalKunal**KunalKunal**KunalKunal**KunalKunal**KunalKunal**KunalKunal**KunalKunal**KunalKunal**KunalKunal**KunalKunal**KunalKunal**KunalKunal**KunalKunal**KunalKunal**KunalKunal**KunalKunal**KunalKunal**KunalKunal**KunalKunal**KunalKunal**KunalKunal**KunalKunal**KunalKunal**KunalKunal**KunalKunal**KunalKunal**KunalKunal**KunalKunal**KunalKunal**KunalKunal**KunalKunal**KunalKunal**KunalKunal**KunalKunal**KunalKunal**KunalKunal**KunalKunal**KunalKunal**KunalKunal**KunalKunal**KunalKunal**KunalKunal**KunalKunal**KunalKunal**KunalKunal**KunalKunal**KunalKunal**KunalKunal**KunalKunal**KunalKunal**KunalKunal**KunalKunal**KunalKunal**KunalKunal**KunalKunal**KunalKunal**KunalKunal**KunalKunal**KunalKunal**KunalKunal**KunalKunal**KunalKunal**KunalKunal**KunalKunal**KunalKunal**KunalKunal**KunalKunal**KunalKunal**KunalKunal**KunalKunal**KunalKunal**KunalKunal**KunalKunal**KunalKunal**KunalKunal**KunalKunal**KunalKunal**KunalKunal**KunalKunal**KunalKunal**KunalKunal**KunalKunal**KunalKunal**KunalKunal**KunalKunal**KunalKunal**KunalKunal**KunalKunal**KunalKunal**KunalKunal**KunalKunal**KunalKunal**KunalKunal**KunalKunal**KunalKunal**KunalKunal**KunalKunal**KunalKunal**KunalKunal**KunalKunal**KunalKunal**KunalKunal**KunalKunal**KunalKunal**KunalKunal**KunalKunal**KunalKunal**KunalKunal**KunalKunal**KunalKunal**KunalKunal**KunalKunal**KunalKunal**KunalKunal**KunalKunal**KunalKunal**KunalKunal**KunalKunal**KunalKunal**KunalKunal**KunalKunal**KunalKunal**KunalKunal**KunalKunal**KunalKunal**KunalKunal**KunalKunal**KunalKunal**KunalKunal**KunalKunal**KunalKunal**KunalKunal**KunalKunal**KunalKunal**KunalKunal**KunalKunal**KunalKunal**KunalKunal**KunalKunal**KunalKunal**KunalKunal**KunalKunal**KunalKunal**KunalKunal**KunalKunal**KunalKunal**KunalKunal**KunalKunal**KunalKunal**KunalKunal**KunalKunal**KunalKunal**KunalKunal**KunalKunal**KunalKunal**KunalKunal**KunalKunal**KunalKunal**KunalKunal**KunalKunal**KunalKunal**KunalKunal**KunalKunal**KunalKunal**KunalKunal**KunalKunal**KunalKunal**KunalKunal**KunalKunal**KunalKunal**KunalKunal**KunalKunal**KunalKunal**KunalKunal**KunalKunal**KunalKunal**KunalKunal**KunalKunal**KunalKunal**KunalKunal**KunalKunal**KunalKunal**KunalKunal**KunalKunal**KunalKunal**KunalKunal**KunalKunal**KunalKunal**KunalKunal**KunalKunal**KunalKunal**KunalKunal**KunalKunal**KunalKunal**KunalKunal**KunalKunal**KunalKunal**KunalKunal**KunalKunal**KunalKunal**KunalKunal**KunalKunal**KunalKunal**KunalKunal**KunalKunal**KunalKunal**KunalKunal**KunalKunal**KunalKunal**KunalKunal**KunalKunal**KunalKunal**KunalKunal**KunalKunal**KunalKunal**KunalKunal**KunalKunal**KunalKunal**KunalKunal**KunalKunal**KunalKunal**KunalKunal**KunalKunal**KunalKunal**KunalKunal**KunalKunal**KunalKunal**KunalKunal**KunalKunal**KunalKunal**KunalKunal**KunalKunal**KunalKunal**KunalKunal**KunalKunal**KunalKunal**KunalKunal**KunalKunal**KunalKunal**KunalKunal**KunalKunal**KunalKunal**KunalKunal**KunalKunal**KunalKunal**KunalKunal**KunalKunal**KunalKunal**KunalKunal**KunalKunal**KunalKunal**KunalKunal**KunalKunal**KunalKunal**KunalKunal**KunalKunal**KunalKunal**KunalKunal**KunalKunal**KunalKunal**KunalKunal**KunalKunal**KunalKunal**KunalKunal**KunalKunal**KunalKunal**KunalKunal**KunalKunal**KunalKunal**KunalKunal**KunalKunal**KunalKunal**KunalKunal**KunalKunal**KunalKunal**KunalKunal**KunalKunal**KunalKunal**KunalKunal**KunalKunal**KunalKunal**KunalKunal**KunalKunal**KunalKunal**KunalKunal**KunalKunal**KunalKunal**KunalKunal**KunalKunal**KunalKunal**KunalKunal**KunalKunal**KunalKunal**KunalKunal**KunalKunal**KunalKunal**KunalKunal**KunalKunal**KunalKunal**KunalKunal**KunalKunal**KunalKunal**KunalKunal**KunalKunal**KunalKunal**KunalKunal**KunalKunal**KunalKunal**KunalKunal**KunalKunal**KunalKunal**KunalKunal**KunalKunal**KunalKunal**KunalKunal**KunalKunal**KunalKunal**KunalKunal**KunalKunal**KunalKunal**KunalKunal**KunalKunal**KunalKunal**KunalKunal**KunalKunal**KunalKunal**KunalKunal**KunalKunal**KunalKunal**KunalKunal**KunalKunal**KunalKunal**KunalKunal**KunalKunal**KunalKunal**KunalKunal**KunalKunal**KunalKunal**KunalKunal**KunalKunal**KunalKunal**KunalKunal**KunalKunal**KunalKunal**KunalKunal**KunalKunal**KunalKunal**KunalKunal**KunalKunal**KunalKunal**KunalKunal**KunalKunal**KunalKunal**KunalKunal**KunalKunal**KunalKunal**KunalKunal**KunalKunal**KunalKunal**KunalKunal**KunalKunal**KunalKunal**KunalKunal**KunalKunal**KunalKunal**KunalKunal**KunalKunal**KunalKunal**KunalKunal**KunalKunal**KunalKunal**KunalKunal**KunalKunal**KunalKunal**KunalKunal**KunalKunal**KunalKunal**KunalKunal**KunalKunal**KunalKunal**KunalKunal**KunalKunal**KunalKunal**KunalKunal**KunalKunal**KunalKunal**KunalKunal**KunalKunal**KunalKunal**KunalKunal**KunalKunal**KunalKunal**KunalKunal**KunalKunal**KunalKunal**KunalKunal**KunalKunal**KunalKunal**KunalKunal**KunalKunal**KunalKunal**KunalKunal**KunalKunal**KunalKunal**KunalKunal**KunalKunal**KunalKunal**KunalKunal**KunalKunal**KunalKunal**KunalKunal**KunalKunal**KunalKunal**KunalKunal**KunalKunal**KunalKunal**KunalKunal**KunalKunal**KunalKunal**KunalKunal**KunalKunal**KunalKunal**KunalKunal**KunalKunal**KunalKunal**KunalKunal**KunalKunal**KunalKunal**KunalKunal**KunalKunal**KunalKunal**KunalKunal**KunalKunal**KunalKunal**KunalKunal**KunalKunal**KunalKunal**KunalKunal**KunalKunal**KunalKunal**KunalKunal**KunalKunal**KunalKunal**KunalKunal**KunalKunal**KunalKunal**KunalKunal**KunalKunal**KunalKunal**KunalKunal**KunalKunal**KunalKunal**KunalKunal**KunalKunal**KunalKunal**KunalKunal**KunalKunal**KunalKunal**KunalKunal**KunalKunal**KunalKunal**KunalKunal**KunalKunal**KunalKunal**KunalKunal**KunalKunal**KunalKunal**KunalKunal**KunalKunal**KunalKunal**KunalKunal**KunalKunal**KunalKunal**KunalKunal**KunalKunal**KunalKunal**KunalKunal**KunalKunal**KunalKunal**KunalKunal**KunalKunal**KunalKunal**KunalKunal**KunalKunal**KunalKunal**KunalKunal**KunalKunal**KunalKunal**KunalKunal**KunalKunal**KunalKunal**KunalKunal**KunalKunal**KunalKunal**KunalKunal**KunalKunal**KunalKunal**KunalKunal**KunalKunal**KunalKunal**KunalKunal**KunalKunal**KunalKunal**KunalKunal**KunalKunal**KunalKunal**KunalKunal**KunalKunal**KunalKunal**KunalKunal**KunalKunal**KunalKunal**KunalKunal**KunalKunal**KunalKunal**KunalKunal**KunalKunal**KunalKunal**KunalKunal**KunalKunal**KunalKunal**KunalKunal**KunalKunal**KunalKunal**KunalKunal**KunalKunal**KunalKunal**KunalKunal**KunalKunal**KunalKunal**KunalKunal**KunalKunal**KunalKunal**KunalKunal**KunalKunal**KunalKunal**KunalKunal**KunalKunal**KunalKunal**KunalKunal**KunalKunal**KunalKunal**KunalKunal**KunalKunal**KunalKunal**KunalKunal**KunalKunal**KunalKunal**KunalKunal**KunalKunal**KunalKunal**KunalKunal**KunalKunal**KunalKunal**KunalKunal**KunalKunal**KunalKunal**KunalKunal**KunalKunal**KunalKunal**KunalKunal**KunalKunal**KunalKunal**KunalKunal**KunalKunal**KunalKunal**KunalKunal**KunalKunal**KunalKunal**KunalKunal**KunalKunal**KunalKunal**KunalKunal**KunalKunal**KunalKunal**KunalKunal**KunalKunal**KunalKunal**KunalKunal**KunalKunal**KunalKunal**KunalKunal**KunalKunal**KunalKunal**KunalKunal**KunalKunal**KunalKunal**KunalKunal**KunalKunal**KunalKunal**KunalKunal**KunalKunal**KunalKunal**KunalKunal**KunalKunal**KunalKunal**KunalKunal**KunalKunal**KunalKunal**KunalKunal**KunalKunal**KunalKunal**KunalKunal**KunalKunal**KunalKunal**KunalKunal**KunalKunal**KunalKunal**KunalKunal**KunalKunal**KunalKunal**KunalKunal**KunalKunal**KunalKunal**KunalKunal**KunalKunal**KunalKunal**KunalKunal**KunalKunal**KunalKunal**KunalKunal**KunalKunal**KunalKunal**KunalKunal**KunalKunal**KunalKunal**KunalKunal**KunalKunal**KunalKunal**KunalKunal**KunalKunal**KunalKunal**KunalKunal**KunalKunal**KunalKunal**KunalKunal**KunalKunal**KunalKunal**KunalKunal**KunalKunal**KunalKunal**KunalKunal**KunalKunal**KunalKunal**KunalKunal**KunalKunal**KunalKunal**KunalKunal**KunalKunal**KunalKunal**KunalKunal**KunalKunal**KunalKunal**KunalKunal**KunalKunal**KunalKunal**KunalKunal**KunalKunal**KunalKunal**KunalKunal**KunalKunal**KunalKunal**KunalKunal**KunalKunal**KunalKunal**KunalKunal**KunalKunal**KunalKunal**KunalKunal**KunalKunal**KunalKunal**KunalKunal**KunalKunal**KunalKunal**KunalKunal**KunalKunal**KunalKunal**KunalKunal**KunalKunal**KunalKunal**KunalKunal**KunalKunal**KunalKunal**KunalKunal**KunalKunal**KunalKunal**KunalKunal**KunalKunal**KunalKunal**KunalKunal**KunalKunal**KunalKunal**KunalKunal**KunalKunal**KunalKunal**KunalKunal**KunalKunal**KunalKunal**KunalKunal**KunalKunal**KunalKunal**KunalKunal**KunalKunal**KunalKunal**KunalKunal**KunalKunal**KunalKunal**KunalKunal**KunalKunal**KunalKunal**KunalKunal**KunalKunal**KunalKunal**KunalKunal**KunalKunal**KunalKunal**KunalKunal**KunalKunal**KunalKunal**KunalKunal**KunalKunal**KunalKunal**KunalKunal**KunalKunal**KunalKunal**KunalKunal**KunalKunal**KunalKunal**KunalKunal**KunalKunal**KunalKunal**KunalKunal**KunalKunal**KunalKunal**KunalKunal**KunalKunal**KunalKunal**KunalKunal**KunalKunal**KunalKunal**KunalKunal**KunalKunal**KunalKunal**KunalKunal**KunalKunal**KunalKunal**KunalKunal**KunalKunal**KunalKunal**KunalKunal**KunalKunal**KunalKunal**KunalKunal**KunalKunal**KunalKunal**KunalKunal**KunalKunal**KunalKunal**KunalKunal**KunalKunal**KunalKunal**KunalKunal**KunalKunal**KunalKunal**KunalKunal**KunalKunal**KunalKunal**KunalKunal**KunalKunal**KunalKunal**KunalKunal**KunalKunal**KunalKunal**KunalKunal**KunalKunal**KunalKunal**KunalKunal**KunalKunal**KunalKunal**KunalKunal**KunalKunal**KunalKunal**KunalKunal**KunalKunal**KunalKunal**KunalKunal**KunalKunal**KunalKunal**KunalKunal**KunalKunal**KunalKunal**KunalKunal**KunalKunal**KunalKunal**KunalKunal**KunalKunal**KunalKunal**KunalKunal**KunalKunal**KunalKunal**KunalKunal**KunalKunal**KunalKunal**KunalKunal**KunalKunal**KunalKunal**KunalKunal**KunalKunal**KunalKunal**KunalKunal**KunalKunal**KunalKunal**KunalKunal**KunalKunal**KunalKunal**KunalKunal**KunalKunal**KunalKunal**KunalKunal**KunalKunal**KunalKunal**KunalKunal**KunalKunal**KunalKunal**KunalKunal**KunalKunal**KunalKunal**KunalKunal**KunalKunal**KunalKunal**KunalKunal**KunalKunal**KunalKunal**KunalKunal**KunalKunal**KunalKunal**KunalKunal**KunalKunal**KunalKunal**KunalKunal**KunalKunal**KunalKunal**KunalKunal**KunalKunal**KunalKunal**KunalKunal**KunalKunal**KunalKunal**KunalKunal**KunalKunal**KunalKunal**KunalKunal**KunalKunal**KunalKunal**KunalKunal**KunalKunal**KunalKunal**KunalKunal**KunalKunal**KunalKunal**KunalKunal**KunalKunal**KunalKunal**KunalKunal**KunalKunal**KunalKunal**KunalKunal**KunalKunal**KunalKunal**KunalKunal**KunalKunal**KunalKunal**KunalKunal**KunalKunal**KunalKunal**KunalKunal**KunalKunal**KunalKunal**KunalKunal**KunalKunal**KunalKunal**KunalKunal**KunalKunal**KunalKunal**KunalKunal**KunalKunal**KunalKunal**KunalKunal**KunalKunal**KunalKunal**KunalKunal**KunalKunal**KunalKunal**KunalKunal**KunalKunal**KunalKunal**KunalKunal**KunalKunal**KunalKunal**KunalKunal**KunalKunal**KunalKunal**KunalKunal**KunalKunal**KunalKunal**KunalKunal**KunalKunal**KunalKunal**KunalKunal**KunalKunal**KunalKunal**KunalKunal**KunalKunal**KunalKunal**KunalKunal**KunalKunal**KunalKunal**KunalKunal**KunalKunal**KunalKunal**KunalKunal**KunalKunal**KunalKunal**KunalKunal**KunalKunal**KunalKunal**KunalKunal**KunalKunal**KunalKunal**KunalKunal**KunalKunal**KunalKunal**KunalKunal**KunalKunal**KunalKunal**KunalKunal**KunalKunal**KunalKunal**KunalKunal**KunalKunal**KunalKunal**KunalKunal**KunalKunal**KunalKunal**KunalKunal**KunalKunal**KunalKunal**KunalKunal**KunalKunal**KunalKunal**KunalKunal**KunalKunal**KunalKunal**KunalKunal**KunalKunal**KunalKunal**KunalKunal**KunalKunal**KunalKunal**KunalKunal**KunalKunal**KunalKunal**KunalKunal**KunalKunal**KunalKunal**KunalKunal**KunalKunal**KunalKunal**KunalKunal**KunalKunal**KunalKunal**KunalKunal**KunalKunal**KunalKunal**KunalKunal**KunalKunal**KunalKunal**KunalKunal**KunalKunal**KunalKunal**KunalKunal**KunalKunal**KunalKunal**KunalKunal**KunalKunal**KunalKunal**KunalKunal**KunalKunal**KunalKunal**KunalKunal**KunalKunal**KunalKunal**KunalKunal**KunalKunal**KunalKunal**KunalKunal**KunalKunal**KunalKunal**KunalKunal**KunalKunal**KunalKunal**KunalKunal**KunalKunal**KunalKunal**KunalKunal**KunalKunal**KunalKunal**KunalKunal**KunalKunal**KunalKunal**KunalKunal**KunalKunal**KunalKunal**KunalKunal**KunalKunal**KunalKunal**KunalKunal**KunalKunal**KunalKunal**KunalKunal**KunalKunal**KunalKunal**KunalKunal**KunalKunal**KunalKunal**KunalKunal**KunalKunal**KunalKunal**KunalKunal**KunalKunal**KunalKunal**KunalKunal**KunalKunal**KunalKunal**KunalKunal**KunalKunal**KunalKunal**KunalKunal**KunalKunal**KunalKunal**KunalKunal**KunalKunal**KunalKunal**KunalKunal**KunalKunal**KunalKunal**KunalKunal**KunalKunal**KunalKunal**KunalKunal**KunalKunal**KunalKunal**KunalKunal**KunalKunal**KunalKunal**KunalKunal**KunalKunal**KunalKunal**KunalKunal**KunalKunal**KunalKunal**KunalKunal**KunalKunal**KunalKunal**KunalKunal**KunalKunal**KunalKunal**KunalKunal**KunalKunal**KunalKunal**KunalKunal**KunalKunal**KunalKunal**KunalKunal**KunalKunal**KunalKunal**KunalKunal**KunalKunal**KunalKunal**KunalKunal**KunalKunal**KunalKunal**KunalKunal**KunalKunal**KunalKunal**KunalKunal**KunalKunal**KunalKunal**KunalKunal**KunalKunal**KunalKunal**KunalKunal**KunalKunal**KunalKunal**KunalKunal**KunalKunal**KunalKunal**KunalKunal**KunalKunal**KunalKunal**KunalKunal**KunalKunal**KunalKunal**KunalKunal**KunalKunal**KunalKunal**KunalKunal**KunalKunal**KunalKunal**KunalKunal**KunalKunal**KunalKunal**KunalKunal**KunalKunal**KunalKunal**KunalKunal**KunalKunal**KunalKunal**KunalKunal**KunalKunal**KunalKunal**KunalKunal**KunalKunal**KunalKunal**KunalKunal**KunalKunal**KunalKunal**KunalKunal**KunalKunal**KunalKunal**KunalKunal**KunalKunal**KunalKunal**KunalKunal**KunalKunal**KunalKunal**KunalKunal**KunalKunal**KunalKunal**KunalKunal**KunalKunal**KunalKunal**KunalKunal**KunalKunal**KunalKunal**KunalKunal**KunalKunal**KunalKunal**KunalKunal**KunalKunal**KunalKunal**KunalKunal**KunalKunal**KunalKunal**KunalKunal**KunalKunal**KunalKunal**KunalKunal**KunalKunal**KunalKunal**KunalKunal**KunalKunal**KunalKunal**KunalKunal**KunalKunal**KunalKunal**KunalKunal**KunalKunal**KunalKunal**KunalKunal**KunalKunal**KunalKunal**KunalKunal**KunalKunal**KunalKunal**KunalKunal**KunalKunal**KunalKunal**KunalKunal**KunalKunal**KunalKunal**KunalKunal**KunalKunal**KunalKunal**KunalKunal**KunalKunal**KunalKunal**KunalKunal**KunalKunal**KunalKunal**KunalKunal**KunalKunal**KunalKunal**KunalKunal**KunalKunal**KunalKunal**KunalKunal**KunalKunal**KunalKunal**KunalKunal**KunalKunal**KunalKunal**KunalKunal**KunalKunal**KunalKunal**KunalKunal**KunalKunal**KunalKunal**KunalKunal**KunalKunal**KunalKunal**KunalKunal**KunalKunal**KunalKunal**KunalKunal**KunalKunal**KunalKunal**KunalKunal**KunalKunal**KunalKunal**KunalKunal**KunalKunal**KunalKunal**KunalKunal**KunalKunal**KunalKunal**KunalKunal**KunalKunal**KunalKunal**KunalKunal**KunalKunal**KunalKunal**KunalKunal**KunalKunal**KunalKunal**KunalKunal**KunalKunal**KunalKunal**KunalKunal**KunalKunal**KunalKunal**KunalKunal**KunalKunal**KunalKunal**KunalKunal**KunalKunal**KunalKunal**KunalKunal**KunalKunal**KunalKunal**KunalKunal**KunalKunal**KunalKunal**KunalKunal**KunalKunal**KunalKunal**KunalKunal**KunalKunal**KunalKunal**KunalKunal**KunalKunal**KunalKunal**KunalKunal**KunalKunal**KunalKunal**KunalKunal**KunalKunal**KunalKunal**KunalKunal**KunalKunal**KunalKunal**KunalKunal**KunalKunal**KunalKunal**KunalKunal**KunalKunal**KunalKunal**KunalKunal**KunalKunal**KunalKunal**KunalKunal**KunalKunal**KunalKunal**KunalKunal**KunalKunal**KunalKunal**KunalKunal**KunalKunal**KunalKunal**KunalKunal**KunalKunal**KunalKunal**KunalKunal**KunalKunal**KunalKunal**KunalKunal**KunalKunal**KunalKunal**KunalKunal**KunalKunal**KunalKunal**KunalKunal**KunalKunal**KunalKunal**KunalKunal**KunalKunal**KunalKunal**KunalKunal**KunalKunal**KunalKunal**KunalKunal**KunalKunal**KunalKunal**KunalKunal**KunalKunal**KunalKunal**KunalKunal**KunalKunal**KunalKunal**KunalKunal**KunalKunal**KunalKunal**KunalKunal**KunalKunal**KunalKunal**KunalKunal**KunalKunal**KunalKunal**KunalKunal**KunalKunal**KunalKunal**KunalKunal**KunalKunal**KunalKunal**KunalKunal**KunalKunal**KunalKunal**KunalKunal**KunalKunal**KunalKunal**KunalKunal**KunalKunal**KunalKunal**KunalKunal**KunalKunal**KunalKunal**KunalKunal**KunalKunal**KunalKunal**KunalKunal**KunalKunal**KunalKunal**KunalKunal**KunalKunal**KunalKunal**KunalKunal**KunalKunal**KunalKunal**KunalKunal**KunalKunal**KunalKunal**KunalKunal**KunalKunal**KunalKunal**KunalKunal**KunalKunal**KunalKunal**KunalKunal**KunalKunal**KunalKunal**KunalKunal**KunalKunal**KunalKunal**KunalKunal**KunalKunal**KunalKunal**KunalKunal**KunalKunal**KunalKunal**KunalKunal**KunalKunal**KunalKunal**KunalKunal**KunalKunal**KunalKunal**KunalKunal**KunalKunal**KunalKunal**KunalKunal**KunalKunal**KunalKunal**KunalKunal**KunalKunal**KunalKunal**KunalKunal**KunalKunal**KunalKunal**KunalKunal**KunalKunal**KunalKunal**KunalKunal**KunalKunal**KunalKunal**KunalKunal**KunalKunal**KunalKunal**KunalKunal**KunalKunal**KunalKunal**KunalKunal**KunalKunal**KunalKunal**KunalKunal**KunalKunal**KunalKunal**KunalKunal**KunalKunal**KunalKunal**KunalKunal**KunalKunal**KunalKunal**KunalKunal**KunalKunal**KunalKunal**KunalKunal**KunalKunal**KunalKunal**KunalKunal**KunalKunal**KunalKunal**KunalKunal**KunalKunal**KunalKunal**KunalKunal**KunalKunal**KunalKunal**KunalKunal**KunalKunal**KunalKunal**KunalKunal**KunalKunal**KunalKunal**KunalKunal**KunalKunal**KunalKunal**KunalKunal**KunalKunal**KunalKunal**KunalKunal**KunalKunal**KunalKunal**KunalKunal**KunalKunal**KunalKunal**KunalKunal**KunalKunal**KunalKunal**KunalKunal**KunalKunal**KunalKunal**KunalKunal**KunalKunal**KunalKunal**KunalKunal**KunalKunal**KunalKunal**KunalKunal**KunalKunal**KunalKunal**KunalKunal**KunalKunal**KunalKunal**KunalKunal**KunalKunal**KunalKunal**KunalKunal**KunalKunal**KunalKunal**KunalKunal**KunalKunal**KunalKunal**KunalKunal**KunalKunal**KunalKunal**KunalKunal**KunalKunal**KunalKunal**KunalKunal**KunalKunal**KunalKunal**KunalKunal**KunalKunal**KunalKunal**KunalKunal**KunalKunal**KunalKunal**KunalKunal**KunalKunal**KunalKunal**KunalKunal**KunalKunal**KunalKunal**KunalKunal**KunalKunal**KunalKunal**KunalKunal**KunalKunal**KunalKunal**KunalKunal**KunalKunal**KunalKunal**KunalKunal**KunalKunal**KunalKunal**KunalKunal**KunalKunal**KunalKunal**KunalKunal**KunalKunal**KunalKunal**KunalKunal**KunalKunal**KunalKunal**KunalKunal**KunalKunal**KunalKunal**KunalKunal**KunalKunal**KunalKunal**KunalKunal**KunalKunal**KunalKunal**KunalKunal**KunalKunal**KunalKunal**KunalKunal**KunalKunal**KunalKunal**KunalKunal**KunalKunal**KunalKunal**KunalKunal**KunalKunal**KunalKunal**KunalKunal**KunalKunal**KunalKunal**KunalKunal**KunalKunal**KunalKunal**KunalKunal**KunalKunal**KunalKunal**KunalKunal**KunalKunal**KunalKunal**KunalKunal**KunalKunal**KunalKunal**KunalKunal**KunalKunal**KunalKunal**KunalKunal**KunalKunal**KunalKunal**KunalKunal**KunalKunal**KunalKunal**KunalKunal**KunalKunal**KunalKunal**KunalKunal**KunalKunal**KunalKunal**KunalKunal**KunalKunal**KunalKunal**KunalKunal**KunalKunal**KunalKunal**KunalKunal**KunalKunal**KunalKunal**KunalKunal**KunalKunal**KunalKunal**KunalKunal**KunalKunal**KunalKunal**KunalKunal**KunalKunal**KunalKunal**KunalKunal**KunalKunal**KunalKunal**KunalKunal**KunalKunal**KunalKunal**KunalKunal**KunalKunal**KunalKunal**KunalKunal**KunalKunal**KunalKunal**KunalKunal**KunalKunal**KunalKunal**KunalKunal**KunalKunal**KunalKunal**KunalKunal**KunalKunal**KunalKunal**KunalKunal**KunalKunal**KunalKunal**KunalKunal**KunalKunal**KunalKunal**KunalKunal**KunalKunal**KunalKunal**KunalKunal**KunalKunal**KunalKunal**KunalKunal**KunalKunal**KunalKunal**KunalKunal**KunalKunal**KunalKunal**KunalKunal**KunalKunal**KunalKunal**KunalKunal**KunalKunal**KunalKunal**KunalKunal**KunalKunal**KunalKunal**KunalKunal**KunalKunal**KunalKunal**KunalKunal**KunalKunal**KunalKunal**KunalKunal**KunalKunal**KunalKunal**KunalKunal**KunalKunal**KunalKunal**KunalKunal**KunalKunal**KunalKunal**KunalKunal**KunalKunal**KunalKunal**KunalKunal**KunalKunal**KunalKunal**KunalKunal**KunalKunal**KunalKunal**KunalKunal**KunalKunal**KunalKunal**KunalKunal**KunalKunal**KunalKunal**KunalKunal**KunalKunal**KunalKunal**KunalKunal**KunalKunal**KunalKunal**KunalKunal**KunalKunal**KunalKunal**KunalKunal**KunalKunal**KunalKunal**KunalKunal**KunalKunal**KunalKunal**KunalKunal**KunalKunal**KunalKunal**KunalKunal**KunalKunal**KunalKunal**KunalKunal**KunalKunal**KunalKunal**KunalKunal**KunalKunal**KunalKunal**KunalKunal**KunalKunal**KunalKunal**KunalKunal**KunalKunal**KunalKunal**KunalKunal**KunalKunal**KunalKunal**KunalKunal**KunalKunal**KunalKunal**KunalKunal**KunalKunal**KunalKunal**KunalKunal**KunalKunal**KunalKunal**KunalKunal**KunalKunal**KunalKunal**KunalKunal**KunalKunal**KunalKunal**KunalKunal**KunalKunal**KunalKunal**KunalKunal**KunalKunal**KunalKunal**KunalKunal**KunalKunal**KunalKunal**KunalKunal**KunalKunal**KunalKunal**KunalKunal**KunalKunal**KunalKunal**KunalKunal**KunalKunal**KunalKunal**KunalKunal**KunalKunal**KunalKunal**KunalKunal**KunalKunal**KunalKunal**KunalKunal**KunalKunal**KunalKunal**KunalKunal**KunalKunal**KunalKunal**KunalKunal**KunalKunal**KunalKunal**KunalKunal**KunalKunal**KunalKunal**KunalKunal**KunalKunal**KunalKunal**KunalKunal**KunalKunal**KunalKunal**KunalKunal**KunalKunal**KunalKunal**KunalKunal**KunalKunal**KunalKunal**KunalKunal**KunalKunal**KunalKunal**KunalKunal**KunalKunal**KunalKunal**KunalKunal**KunalKunal**KunalKunal**KunalKunal**KunalKunal**KunalKunal**KunalKunal**KunalKunal**KunalKunal**KunalKunal**KunalKunal**KunalKunal**KunalKunal**KunalKunal**KunalKunal**KunalKunal**KunalKunal**KunalKunal**KunalKunal**KunalKunal**KunalKunal**KunalKunal**KunalKunal**KunalKunal**KunalKunal**KunalKunal**KunalKunal**KunalKunal**KunalKunal**KunalKunal**KunalKunal**KunalKunal**KunalKunal**KunalKunal**KunalKunal**KunalKunal**KunalKunal**KunalKunal**KunalKunal**KunalKunal**KunalKunal**KunalKunal**KunalKunal**KunalKunal**KunalKunal**KunalKunal**KunalKunal**KunalKunal**KunalKunal**KunalKunal**KunalKunal**KunalKunal**KunalKunal**KunalKunal**KunalKunal**KunalKunal**KunalKunal**KunalKunal**KunalKunal**KunalKunal**KunalKunal**KunalKunal**KunalKunal**KunalKunal**KunalKunal**KunalKunal**KunalKunal**KunalKunal**KunalKunal**KunalKunal**KunalKunal**KunalKunal**KunalKunal**KunalKunal**KunalKunal**KunalKunal**KunalKunal**KunalKunal**KunalKunal**KunalKunal**KunalKunal**KunalKunal**KunalKunal**KunalKunal**KunalKunal**KunalKunal**KunalKunal**KunalKunal**KunalKunal**KunalKunal**KunalKunal**KunalKunal**KunalKunal**KunalKunal**KunalKunal**KunalKunal**KunalKunal**KunalKunal**KunalKunal**KunalKunal**KunalKunal**KunalKunal**KunalKunal**KunalKunal**KunalKunal**KunalKunal**KunalKunal**KunalKunal**KunalKunal**KunalKunal**KunalKunal**KunalKunal**KunalKunal**KunalKunal**KunalKunal**KunalKunal**KunalKunal**KunalKunal**KunalKunal**KunalKunal**KunalKunal**KunalKunal**KunalKunal**KunalKunal**KunalKunal**KunalKunal**KunalKunal**KunalKunal**KunalKunal**KunalKunal**KunalKunal**KunalKunal**KunalKunal**KunalKunal**KunalKunal**KunalKunal**KunalKunal**KunalKunal**KunalKunal**KunalKunal**KunalKunal**KunalKunal**KunalKunal**KunalKunal**KunalKunal**KunalKunal**KunalKunal**KunalKunal**KunalKunal**KunalKunal**KunalKunal**KunalKunal**KunalKunal**KunalKunal**KunalKunal**KunalKunal**KunalKunal**KunalKunal**KunalKunal**KunalKunal**KunalKunal**KunalKunal**KunalKunal**KunalKunal**KunalKunal**KunalKunal**KunalKunal**KunalKunal**KunalKunal**KunalKunal**KunalKunal**KunalKunal**KunalKunal**KunalKunal**KunalKunal**KunalKunal**KunalKunal**KunalKunal**KunalKunal**KunalKunal**KunalKunal**KunalKunal**KunalKunal**KunalKunal**KunalKunal**KunalKunal**KunalKunal**KunalKunal**KunalKunal**KunalKunal**KunalKunal**KunalKunal**KunalKunal**KunalKunal**KunalKunal**KunalKunal**KunalKunal**KunalKunal**KunalKunal**KunalKunal**KunalKunal**KunalKunal**KunalKunal**KunalKunal**KunalKunal**KunalKunal**KunalKunal**KunalKunal**KunalKunal**KunalKunal**KunalKunal**KunalKunal**KunalKunal**KunalKunal**KunalKunal**KunalKunal**KunalKunal**KunalKunal**KunalKunal**KunalKunal**KunalKunal**KunalKunal**KunalKunal**KunalKunal**KunalKunal**KunalKunal**KunalKunal**KunalKunal**KunalKunal**KunalKunal**KunalKunal**KunalKunal**KunalKunal**KunalKunal**KunalKunal**KunalKunal**KunalKunal**KunalKunal**KunalKunal**KunalKunal**KunalKunal**KunalKunal**KunalKunal**KunalKunal**KunalKunal**KunalKunal**KunalKunal**KunalKunal**KunalKunal**KunalKunal**KunalKunal**KunalKunal**KunalKunal**KunalKunal**KunalKunal**KunalKunal**KunalKunal**KunalKunal**KunalKunal**KunalKunal**KunalKunal**KunalKunal**KunalKunal**KunalKunal**KunalKunal**KunalKunal**KunalKunal**KunalKunal**KunalKunal**KunalKunal**KunalKunal**KunalKunal**KunalKunal**KunalKunal**KunalKunal**KunalKunal**KunalKunal**KunalKunal**KunalKunal**KunalKunal**KunalKunal**KunalKunal**KunalKunal**KunalKunal**KunalKunal**KunalKunal**KunalKunal**KunalKunal**KunalKunal**KunalKunal**KunalKunal**KunalKunal**KunalKunal**KunalKunal**KunalKunal**KunalKunal**KunalKunal**KunalKunal**KunalKunal**KunalKunal**KunalKunal**KunalKunal**KunalKunal**KunalKunal**KunalKunal**KunalKunal**KunalKunal**KunalKunal**KunalKunal**KunalKunal**KunalKunal**KunalKunal**KunalKunal**KunalKunal**KunalKunal**KunalKunal**KunalKunal**KunalKunal**KunalKunal**KunalKunal**KunalKunal**KunalKunal**KunalKunal**KunalKunal**KunalKunal**KunalKunal**KunalKunal**KunalKunal**KunalKunal**KunalKunal**KunalKunal**KunalKunal**KunalKunal**KunalKunal**KunalKunal**KunalKunal**KunalKunal**KunalKunal**KunalKunal**KunalKunal**KunalKunal**KunalKunal**KunalKunal**KunalKunal**KunalKunal**KunalKunal**KunalKunal**KunalKunal**KunalKunal**KunalKunal**KunalKunal**KunalKunal**KunalKunal**KunalKunal**KunalKunal**KunalKunal**KunalKunal**KunalKunal**KunalKunal**KunalKunal**KunalKunal**KunalKunal**KunalKunal**KunalKunal**KunalKunal**KunalKunal**KunalKunal**KunalKunal**KunalKunal**KunalKunal**KunalKunal**KunalKunal**KunalKunal**KunalKunal**KunalKunal**KunalKunal**KunalKunal**KunalKunal**KunalKunal**KunalKunal**KunalKunal**KunalKunal**KunalKunal**KunalKunal**KunalKunal**KunalKunal**KunalKunal**KunalKunal**KunalKunal**KunalKunal**KunalKunal**KunalKunal**KunalKunal**KunalKunal**KunalKunal**KunalKunal**KunalKunal**KunalKunal**KunalKunal**KunalKunal**KunalKunal**KunalKunal**KunalKunal**KunalKunal**KunalKunal**KunalKunal**KunalKunal**KunalKunal**KunalKunal**KunalKunal**KunalKunal**KunalKunal**KunalKunal**KunalKunal**KunalKunal**KunalKunal**KunalKunal**KunalKunal**KunalKunal**KunalKunal**KunalKunal**KunalKunal**KunalKunal**KunalKunal**KunalKunal**KunalKunal**KunalKunal**KunalKunal**KunalKunal**KunalKunal**KunalKunal**KunalKunal**KunalKunal**KunalKunal**KunalKunal**KunalKunal**KunalKunal**KunalKunal**KunalKunal**KunalKunal**KunalKunal**KunalKunal**KunalKunal**KunalKunal**KunalKunal**KunalKunal**KunalKunal**KunalKunal**KunalKunal**KunalKunal**KunalKunal**KunalKunal**KunalKunal**KunalKunal**KunalKunal**KunalKunal**KunalKunal**KunalKunal**KunalKunal**KunalKunal**KunalKunal**KunalKunal**KunalKunal**KunalKunal**KunalKunal**KunalKunal**KunalKunal**KunalKunal**KunalKunal**KunalKunal**KunalKunal**KunalKunal**KunalKunal**KunalKunal**KunalKunal**KunalKunal**KunalKunal**KunalKunal**KunalKunal**KunalKunal**KunalKunal**KunalKunal**KunalKunal**KunalKunal**KunalKunal**KunalKunal**KunalKunal**KunalKunal**KunalKunal**KunalKunal**KunalKunal**KunalKunal**KunalKunal**KunalKunal**KunalKunal**KunalKunal**KunalKunal**KunalKunal**KunalKunal**KunalKunal**KunalKunal**KunalKunal**KunalKunal**KunalKunal**KunalKunal**KunalKunal**KunalKunal**KunalKunal**KunalKunal**KunalKunal**KunalKunal**KunalKunal**KunalKunal**KunalKunal**KunalKunal**KunalKunal**KunalKunal**KunalKunal**KunalKunal**KunalKunal**KunalKunal**KunalKunal**KunalKunal**KunalKunal**KunalKunal**KunalKunal**KunalKunal**KunalKunal**KunalKunal**KunalKunal**KunalKunal**KunalKunal**KunalKunal**KunalKunal**KunalKunal**KunalKunal**KunalKunal**KunalKunal**KunalKunal**KunalKunal**KunalKunal**KunalKunal**KunalKunal**KunalKunal**KunalKunal**KunalKunal**KunalKunal**KunalKunal**KunalKunal**KunalKunal**KunalKunal**KunalKunal**KunalKunal**KunalKunal**KunalKunal**KunalKunal**KunalKunal**KunalKunal**KunalKunal**KunalKunal**KunalKunal**KunalKunal**KunalKunal**KunalKunal**KunalKunal**KunalKunal**KunalKunal**KunalKunal**KunalKunal**KunalKunal**KunalKunal**KunalKunal**KunalKunal**KunalKunal**KunalKunal**KunalKunal**KunalKunal**KunalKunal**KunalKunal**KunalKunal**KunalKunal**KunalKunal**KunalKunal**KunalKunal**KunalKunal**KunalKunal**KunalKunal**KunalKunal**KunalKunal**KunalKunal**KunalKunal**KunalKunal**KunalKunal**KunalKunal**KunalKunal**KunalKunal**KunalKunal**KunalKunal**KunalKunal**KunalKunal**KunalKunal**KunalKunal**KunalKunal**KunalKunal**KunalKunal**KunalKunal**KunalKunal**KunalKunal**KunalKunal**KunalKunal**KunalKunal**KunalKunal**KunalKunal**KunalKunal**KunalKunal**KunalKunal**KunalKunal**KunalKunal**KunalKunal**KunalKunal**KunalKunal**KunalKunal**KunalKunal**KunalKunal**KunalKunal**KunalKunal**KunalKunal**KunalKunal**KunalKunal**KunalKunal**KunalKunal**KunalKunal**KunalKunal**KunalKunal**KunalKunal**KunalKunal**KunalKunal**KunalKunal**KunalKunal**KunalKunal**KunalKunal**KunalKunal**KunalKunal**KunalKunal**KunalKunal**KunalKunal**KunalKunal**KunalKunal**KunalKunal**KunalKunal**KunalKunal**KunalKunal**KunalKunal**KunalKunal**KunalKunal**KunalKunal**KunalKunal**KunalKunal**KunalKunal**KunalKunal**KunalKunal**KunalKunal**KunalKunal**KunalKunal**KunalKunal**KunalKunal**KunalKunal**KunalKunal**KunalKunal**KunalKunal**KunalKunal**KunalKunal**KunalKunal**KunalKunal**KunalKunal**KunalKunal**KunalKunal**KunalKunal**KunalKunal**KunalKunal**KunalKunal**KunalKunal**KunalKunal**KunalKunal**KunalKunal**KunalKunal**KunalKunal**KunalKunal**KunalKunal**KunalKunal**KunalKunal**KunalKunal**KunalKunal**KunalKunal**KunalKunal**KunalKunal**KunalKunal**KunalKunal**KunalKunal**KunalKunal**KunalKunal**KunalKunal**KunalKunal**KunalKunal**KunalKunal**KunalKunal**KunalKunal**KunalKunal**KunalKunal**KunalKunal**KunalKunal**KunalKunal**KunalKunal**KunalKunal**KunalKunal**KunalKunal**KunalKunal**KunalKunal**KunalKunal**KunalKunal**KunalKunal**KunalKunal**KunalKunal**KunalKunal**KunalKunal**KunalKunal**KunalKunal**KunalKunal**KunalKunal**KunalKunal**KunalKunal**KunalKunal**KunalKunal**KunalKunal**KunalKunal**KunalKunal**KunalKunal**KunalKunal**KunalKunal**KunalKunal**KunalKunal**KunalKunal**KunalKunal**KunalKunal**KunalKunal**KunalKunal**KunalKunal**KunalKunal**KunalKunal**KunalKunal**KunalKunal**KunalKunal**KunalKunal**KunalKunal**KunalKunal**KunalKunal**KunalKunal**KunalKunal**KunalKunal**KunalKunal**KunalKunal**KunalKunal**KunalKunal**KunalKunal**KunalKunal**KunalKunal**KunalKunal**KunalKunal**KunalKunal**KunalKunal**KunalKunal**KunalKunal**KunalKunal**KunalKunal**KunalKunal**KunalKunal**KunalKunal**KunalKunal**KunalKunal**KunalKunal**KunalKunal**KunalKunal**KunalKunal**KunalKunal**KunalKunal**KunalKunal**KunalKunal**KunalKunal**KunalKunal**KunalKunal**KunalKunal**KunalKunal**KunalKunal**KunalKunal**KunalKunal**KunalKunal**KunalKunal**KunalKunal**KunalKunal**KunalKunal**KunalKunal**KunalKunal**KunalKunal**KunalKunal**KunalKunal**KunalKunal**KunalKunal**KunalKunal**KunalKunal**KunalKunal**KunalKunal**KunalKunal**KunalKunal**KunalKunal**KunalKunal**KunalKunal**KunalKunal**KunalKunal**KunalKunal**KunalKunal**KunalKunal**KunalKunal**KunalKunal**KunalKunal**KunalKunal**KunalKunal**KunalKunal**KunalKunal**KunalKunal**KunalKunal**KunalKunal**KunalKunal**KunalKunal**KunalKunal**KunalKunal**KunalKunal**KunalKunal**KunalKunal**KunalKunal**KunalKunal**KunalKunal**KunalKunal**KunalKunal**KunalKunal**KunalKunal**KunalKunal**KunalKunal**KunalKunal**KunalKunal**KunalKunal**KunalKunal**KunalKunal**KunalKunal**KunalKunal**KunalKunal**KunalKunal**KunalKunal**KunalKunal**KunalKunal**KunalKunal**KunalKunal**KunalKunal**KunalKunal**KunalKunal**KunalKunal**KunalKunal**KunalKunal**KunalKunal**KunalKunal**KunalKunal**KunalKunal**KunalKunal**KunalKunal**KunalKunal**KunalKunal**KunalKunal**KunalKunal**KunalKunal**KunalKunal**KunalKunal**KunalKunal**KunalKunal**KunalKunal**KunalKunal**KunalKunal**KunalKunal**KunalKunal**KunalKunal**KunalKunal**KunalKunal**KunalKunal**KunalKunal**KunalKunal**KunalKunal**KunalKunal**KunalKunal**KunalKunal**KunalKunal**KunalKunal**KunalKunal**KunalKunal**KunalKunal**KunalKunal**KunalKunal**KunalKunal**KunalKunal**KunalKunal**KunalKunal**KunalKunal**KunalKunal**KunalKunal**KunalKunal**KunalKunal**KunalKunal**KunalKunal**KunalKunal**KunalKunal**KunalKunal**KunalKunal**KunalKunal**KunalKunal**KunalKunal**KunalKunal**KunalKunal**KunalKunal**KunalKunal**KunalKunal**KunalKunal**KunalKunal**KunalKunal**KunalKunal**KunalKunal**KunalKunal**KunalKunal**KunalKunal**KunalKunal**KunalKunal**KunalKunal**KunalKunal**KunalKunal**KunalKunal**KunalKunal**KunalKunal**KunalKunal**KunalKunal**KunalKunal**KunalKunal**KunalKunal**KunalKunal**KunalKunal**KunalKunal**KunalKunal**KunalKunal**KunalKunal**KunalKunal**KunalKunal**KunalKunal**KunalKunal**KunalKunal**KunalKunal**KunalKunal**KunalKunal**KunalKunal**KunalKunal**KunalKunal**KunalKunal**KunalKunal**KunalKunal**KunalKunal**KunalKunal**KunalKunal**KunalKunal**KunalKunal**KunalKunal**KunalKunal**KunalKunal**KunalKunal**KunalKunal**KunalKunal**KunalKunal**KunalKunal**KunalKunal**KunalKunal**KunalKunal**KunalKunal**KunalKunal**KunalKunal**KunalKunal**KunalKunal**KunalKunal**KunalKunal**KunalKunal**KunalKunal**KunalKunal**KunalKunal**KunalKunal**KunalKunal**KunalKunal**KunalKunal**KunalKunal**KunalKunal**KunalKunal**KunalKunal**KunalKunal**KunalKunal**KunalKunal**KunalKunal**KunalKunal**KunalKunal**KunalKunal**KunalKunal**KunalKunal**KunalKunal**KunalKunal**KunalKunal**KunalKunal**KunalKunal**KunalKunal**KunalKunal**KunalKunal**KunalKunal**KunalKunal**KunalKunal**KunalKunal**KunalKunal**KunalKunal**KunalKunal**KunalKunal**KunalKunal**KunalKunal**KunalKunal**KunalKunal**KunalKunal**KunalKunal**KunalKunal**KunalKunal**KunalKunal**KunalKunal**KunalKunal**KunalKunal**KunalKunal**KunalKunal**KunalKunal**KunalKunal**KunalKunal**KunalKunal**KunalKunal**KunalKunal**KunalKunal**KunalKunal**KunalKunal**KunalKunal**KunalKunal**KunalKunal**KunalKunal**KunalKunal**KunalKunal**KunalKunal**KunalKunal**KunalKunal**KunalKunal**KunalKunal**KunalKunal**KunalKunal**KunalKunal**KunalKunal**KunalKunal**KunalKunal**KunalKunal**KunalKunal**KunalKunal**KunalKunal**KunalKunal**KunalKunal**KunalKunal**KunalKunal**KunalKunal**KunalKunal**KunalKunal**KunalKunal**KunalKunal**KunalKunal**KunalKunal**KunalKunal**KunalKunal**KunalKunal**KunalKunal**KunalKunal**KunalKunal**KunalKunal**KunalKunal**KunalKunal**KunalKunal**KunalKunal**KunalKunal**KunalKunal**KunalKunal**KunalKunal**KunalKunal**KunalKunal**KunalKunal**KunalKunal**KunalKunal**KunalKunal**KunalKunal**KunalKunal**KunalKunal**KunalKunal**KunalKunal**KunalKunal**KunalKunal**KunalKunal**KunalKunal**KunalKunal**KunalKunal**KunalKunal**KunalKunal**KunalKunal**KunalKunal**KunalKunal**KunalKunal**KunalKunal**KunalKunal**KunalKunal**KunalKunal**KunalKunal**KunalKunal**KunalKunal**KunalKunal**KunalKunal**KunalKunal**KunalKunal**KunalKunal**KunalKunal**KunalKunal**KunalKunal**KunalKunal**KunalKunal**KunalKunal**KunalKunal**KunalKunal**KunalKunal**KunalKunal**KunalKunal**KunalKunal**KunalKunal**KunalKunal**KunalKunal**KunalKunal**KunalKunal**KunalKunal**KunalKunal**KunalKunal**KunalKunal**KunalKunal**KunalKunal**KunalKunal**KunalKunal**KunalKunal**KunalKunal**KunalKunal**KunalKunal**KunalKunal**KunalKunal**KunalKunal**KunalKunal**KunalKunal**KunalKunal**KunalKunal**KunalKunal**KunalKunal**KunalKunal**KunalKunal**KunalKunal**KunalKunal**KunalKunal**KunalKunal**KunalKunal**KunalKunal**KunalKunal**KunalKunal**KunalKunal**KunalKunal**KunalKunal**KunalKunal**KunalKunal**KunalKunal**KunalKunal**KunalKunal**KunalKunal**KunalKunal**KunalKunal**KunalKunal**KunalKunal**KunalKunal**KunalKunal**KunalKunal**KunalKunal**KunalKunal**KunalKunal**KunalKunal**KunalKunal**KunalKunal**KunalKunal**KunalKunal**KunalKunal**KunalKunal**KunalKunal**KunalKunal**KunalKunal**KunalKunal**KunalKunal**KunalKunal**KunalKunal**KunalKunal**KunalKunal**KunalKunal**KunalKunal**KunalKunal**KunalKunal**KunalKunal**KunalKunal**KunalKunal**KunalKunal**KunalKunal**KunalKunal**KunalKunal**KunalKunal**KunalKunal**KunalKunal**KunalKunal**KunalKunal**KunalKunal**KunalKunal**KunalKunal**KunalKunal**KunalKunal**KunalKunal**KunalKunal**KunalKunal**KunalKunal**KunalKunal**KunalKunal**KunalKunal**KunalKunal**KunalKunal**KunalKunal**KunalKunal**KunalKunal**KunalKunal**KunalKunal**KunalKunal**KunalKunal**KunalKunal**KunalKunal**KunalKunal**KunalKunal**KunalKunal**KunalKunal**KunalKunal**KunalKunal**KunalKunal**KunalKunal**KunalKunal**KunalKunal**KunalKunal**KunalKunal**KunalKunal**KunalKunal**KunalKunal**KunalKunal**KunalKunal**KunalKunal**KunalKunal**KunalKunal**KunalKunal**KunalKunal**KunalKunal**KunalKunal**KunalKunal**KunalKunal**KunalKunal**KunalKunal**KunalKunal**KunalKunal**KunalKunal**KunalKunal**KunalKunal**KunalKunal**KunalKunal**KunalKunal**KunalKunal**KunalKunal**KunalKunal**KunalKunal**KunalKunal**KunalKunal**KunalKunal**KunalKunal**KunalKunal**KunalKunal**KunalKunal**KunalKunal**KunalKunal**KunalKunal**KunalKunal**KunalKunal**KunalKunal**KunalKunal**KunalKunal**KunalKunal**KunalKunal**KunalKunal**KunalKunal**KunalKunal**KunalKunal**KunalKunal**KunalKunal**KunalKunal**KunalKunal**KunalKunal**KunalKunal**KunalKunal**KunalKunal**KunalKunal**KunalKunal**KunalKunal**KunalKunal**KunalKunal**KunalKunal**KunalKunal**KunalKunal**KunalKunal**KunalKunal**KunalKunal**KunalKunal**KunalKunal**KunalKunal**KunalKunal**KunalKunal**KunalKunal**KunalKunal**KunalKunal**KunalKunal**KunalKunal**KunalKunal**KunalKunal**KunalKunal**KunalKunal**KunalKunal**KunalKunal**KunalKunal**KunalKunal**KunalKunal**KunalKunal**KunalKunal**KunalKunal**KunalKunal**KunalKunal**KunalKunal**KunalKunal**KunalKunal**KunalKunal**KunalKunal**KunalKunal**KunalKunal**KunalKunal**KunalKunal**KunalKunal**KunalKunal**KunalKunal**KunalKunal**KunalKunal**KunalKunal**KunalKunal**KunalKunal**KunalKunal**KunalKunal**KunalKunal**KunalKunal**KunalKunal**KunalKunal**KunalKunal**KunalKunal**KunalKunal**KunalKunal**KunalKunal**KunalKunal**KunalKunal**KunalKunal**KunalKunal**KunalKunal**KunalKunal**KunalKunal**KunalKunal**KunalKunal**KunalKunal**KunalKunal**KunalKunal**KunalKunal**KunalKunal**KunalKunal**KunalKunal**KunalKunal**KunalKunal**KunalKunal**KunalKunal**KunalKunal**KunalKunal**KunalKunal**KunalKunal**KunalKunal**KunalKunal**KunalKunal**KunalKunal**KunalKunal**KunalKunal**KunalKunal**KunalKunal**KunalKunal**KunalKunal**KunalKunal**KunalKunal**KunalKunal**KunalKunal**KunalKunal**KunalKunal**KunalKunal**KunalKunal**KunalKunal**KunalKunal**KunalKunal**KunalKunal**KunalKunal**KunalKunal**KunalKunal**KunalKunal**KunalKunal**KunalKunal**KunalKunal**KunalKunal**KunalKunal**KunalKunal**KunalKunal**KunalKunal**KunalKunal**KunalKunal**KunalKunal**KunalKunal**KunalKunal**KunalKunal**KunalKunal**KunalKunal**KunalKunal**KunalKunal**KunalKunal**KunalKunal**KunalKunal**KunalKunal**KunalKunal**KunalKunal**KunalKunal**KunalKunal**KunalKunal**KunalKunal**KunalKunal**KunalKunal**KunalKunal**KunalKunal**KunalKunal**KunalKunal**KunalKunal**KunalKunal**KunalKunal**KunalKunal**KunalKunal**KunalKunal**KunalKunal**KunalKunal**KunalKunal**KunalKunal**KunalKunal**KunalKunal**KunalKunal**KunalKunal**KunalKunal**KunalKunal**KunalKunal**KunalKunal**KunalKunal**KunalKunal**KunalKunal**KunalKunal**KunalKunal**KunalKunal**KunalKunal**KunalKunal**KunalKunal**KunalKunal**KunalKunal**KunalKunal**KunalKunal**KunalKunal**KunalKunal**KunalKunal**KunalKunal**KunalKunal**KunalKunal**KunalKunal**KunalKunal**KunalKunal**KunalKunal**KunalKunal**KunalKunal**KunalKunal**KunalKunal**KunalKunal**KunalKunal**KunalKunal**KunalKunal**KunalKunal**KunalKunal**KunalKunal**KunalKunal**KunalKunal**KunalKunal**KunalKunal**KunalKunal**KunalKunal**KunalKunal**KunalKunal**KunalKunal**KunalKunal**KunalKunal**KunalKunal**KunalKunal**KunalKunal**KunalKunal**KunalKunal**KunalKunal**KunalKunal**KunalKunal**KunalKunal**KunalKunal**KunalKunal**KunalKunal**KunalKunal**KunalKunal**KunalKunal**KunalKunal**KunalKunal**KunalKunal**KunalKunal**KunalKunal**KunalKunal**KunalKunal**KunalKunal**KunalKunal**KunalKunal**KunalKunal**KunalKunal**KunalKunal**KunalKunal**KunalKunal**KunalKunal**KunalKunal**KunalKunal**KunalKunal**KunalKunal**KunalKunal**KunalKunal**KunalKunal**KunalKunal**KunalKunal**KunalKunal**KunalKunal**KunalKunal**KunalKunal**KunalKunal**KunalKunal**KunalKunal**KunalKunal**KunalKunal**KunalKunal**KunalKunal**KunalKunal**KunalKunal**KunalKunal**KunalKunal**KunalKunal**KunalKunal**KunalKunal**KunalKunal**KunalKunal**KunalKunal**KunalKunal**KunalKunal**KunalKunal**KunalKunal**KunalKunal**KunalKunal**KunalKunal**KunalKunal**KunalKunal**KunalKunal**KunalKunal**KunalKunal**KunalKunal**KunalKunal**KunalKunal**KunalKunal**KunalKunal**KunalKunal**KunalKunal**KunalKunal**KunalKunal**KunalKunal**KunalKunal**KunalKunal**KunalKunal**KunalKunal**KunalKunal**KunalKunal**KunalKunal**KunalKunal**KunalKunal**KunalKunal**KunalKunal**KunalKunal**KunalKunal**KunalKunal**KunalKunal**KunalKunal**KunalKunal**KunalKunal**KunalKunal**KunalKunal**KunalKunal**KunalKunal**KunalKunal**KunalKunal**KunalKunal**KunalKunal**KunalKunal**KunalKunal**KunalKunal**KunalKunal**KunalKunal**KunalKunal**KunalKunal**KunalKunal**KunalKunal**KunalKunal**KunalKunal**KunalKunal**KunalKunal**KunalKunal**KunalKunal**KunalKunal**KunalKunal**KunalKunal**KunalKunal**KunalKunal**KunalKunal**KunalKunal**KunalKunal**KunalKunal**KunalKunal**KunalKunal**KunalKunal**KunalKunal**KunalKunal**KunalKunal**KunalKunal**KunalKunal**KunalKunal**KunalKunal**KunalKunal**KunalKunal**KunalKunal**KunalKunal**KunalKunal**KunalKunal**KunalKunal**KunalKunal**KunalKunal**KunalKunal**KunalKunal**KunalKunal**KunalKunal**KunalKunal**KunalKunal**KunalKunal**KunalKunal**KunalKunal**KunalKunal**KunalKunal**KunalKunal**KunalKunal**KunalKunal**KunalKunal**KunalKunal**KunalKunal**KunalKunal**KunalKunal**KunalKunal**KunalKunal**KunalKunal**KunalKunal**KunalKunal**KunalKunal**KunalKunal**KunalKunal**KunalKunal**KunalKunal**KunalKunal**KunalKunal**KunalKunal**KunalKunal**KunalKunal**KunalKunal**KunalKunal**KunalKunal**KunalKunal**KunalKunal**KunalKunal**KunalKunal**KunalKunal**KunalKunal**KunalKunal**KunalKunal**KunalKunal**KunalKunal**KunalKunal**KunalKunal**KunalKunal**KunalKunal**KunalKunal**KunalKunal**KunalKunal**KunalKunal**KunalKunal**KunalKunal**KunalKunal**KunalKunal**KunalKunal**KunalKunal**KunalKunal**KunalKunal**KunalKunal**KunalKunal**KunalKunal**KunalKunal**KunalKunal**KunalKunal**KunalKunal**KunalKunal**KunalKunal**KunalKunal**KunalKunal**KunalKunal**KunalKunal**KunalKunal**KunalKunal**KunalKunal**KunalKunal**KunalKunal**KunalKunal**KunalKunal**KunalKunal**KunalKunal**KunalKunal**KunalKunal**KunalKunal**KunalKunal**KunalKunal**KunalKunal**KunalKunal**KunalKunal**KunalKunal**KunalKunal**KunalKunal**KunalKunal**KunalKunal**KunalKunal**KunalKunal**KunalKunal**KunalKunal**KunalKunal**KunalKunal**KunalKunal**KunalKunal**KunalKunal**KunalKunal**KunalKunal**KunalKunal**KunalKunal**KunalKunal**KunalKunal**KunalKunal**KunalKunal**KunalKunal**KunalKunal**KunalKunal**KunalKunal**KunalKunal**KunalKunal**KunalKunal**KunalKunal**KunalKunal**KunalKunal**KunalKunal**KunalKunal**KunalKunal**KunalKunal**KunalKunal**KunalKunal**KunalKunal**KunalKunal**KunalKunal**KunalKunal**KunalKunal**KunalKunal**KunalKunal**KunalKunal**KunalKunal**KunalKunal**KunalKunal**KunalKunal**KunalKunal**KunalKunal**KunalKunal**KunalKunal**KunalKunal**KunalKunal**KunalKunal**KunalKunal**KunalKunal**KunalKunal**KunalKunal**KunalKunal**KunalKunal**KunalKunal**KunalKunal**KunalKunal**KunalKunal**KunalKunal**KunalKunal**KunalKunal**KunalKunal**KunalKunal**KunalKunal**KunalKunal**KunalKunal**KunalKunal**KunalKunal**KunalKunal**KunalKunal**KunalKunal**KunalKunal**KunalKunal**KunalKunal**KunalKunal**KunalKunal**KunalKunal**KunalKunal**KunalKunal**KunalKunal**KunalKunal**KunalKunal**KunalKunal**KunalKunal**KunalKunal**KunalKunal**KunalKunal**KunalKunal**KunalKunal**KunalKunal**KunalKunal**KunalKunal**KunalKunal**KunalKunal**KunalKunal**KunalKunal**KunalKunal**KunalKunal**KunalKunal**KunalKunal**KunalKunal**KunalKunal**KunalKunal**KunalKunal**KunalKunal**KunalKunal**KunalKunal**KunalKunal**KunalKunal**KunalKunal**KunalKunal**KunalKunal**KunalKunal**KunalKunal**KunalKunal**KunalKunal**KunalKunal**KunalKunal**KunalKunal**KunalKunal**KunalKunal**KunalKunal**KunalKunal**KunalKunal**KunalKunal**KunalKunal**KunalKunal**KunalKunal**KunalKunal**KunalKunal**KunalKunal**KunalKunal**KunalKunal**KunalKunal**KunalKunal**KunalKunal**KunalKunal**KunalKunal**KunalKunal**KunalKunal**KunalKunal**KunalKunal**KunalKunal**KunalKunal**KunalKunal**KunalKunal**KunalKunal**KunalKunal**KunalKunal**KunalKunal**KunalKunal**KunalKunal**KunalKunal**KunalKunal**KunalKunal**KunalKunal**KunalKunal**KunalKunal**KunalKunal**KunalKunal**KunalKunal**KunalKunal**KunalKunal**KunalKunal**KunalKunal**KunalKunal**KunalKunal**KunalKunal**KunalKunal**KunalKunal**KunalKunal**KunalKunal**KunalKunal**KunalKunal**KunalKunal**KunalKunal**KunalKunal**KunalKunal**KunalKunal**KunalKunal**KunalKunal**KunalKunal**KunalKunal**KunalKunal**KunalKunal**KunalKunal**KunalKunal**KunalKunal**KunalKunal**KunalKunal**KunalKunal**KunalKunal**KunalKunal**KunalKunal**KunalKunal**KunalKunal**KunalKunal**KunalKunal**KunalKunal**KunalKunal**KunalKunal**KunalKunal**KunalKunal**KunalKunal**KunalKunal**KunalKunal**KunalKunal**KunalKunal**KunalKunal**KunalKunal**KunalKunal**KunalKunal**KunalKunal**KunalKunal**KunalKunal**KunalKunal**KunalKunal**KunalKunal**KunalKunal**KunalKunal**KunalKunal**KunalKunal**KunalKunal**KunalKunal**KunalKunal**KunalKunal**KunalKunal**KunalKunal**KunalKunal**KunalKunal**KunalKunal**KunalKunal**KunalKunal**KunalKunal**KunalKunal**KunalKunal**KunalKunal**KunalKunal**KunalKunal**KunalKunal**KunalKunal**KunalKunal**KunalKunal**KunalKunal**KunalKunal**KunalKunal**KunalKunal**KunalKunal**KunalKunal**KunalKunal**KunalKunal**KunalKunal**KunalKunal**KunalKunal**KunalKunal**KunalKunal**KunalKunal**KunalKunal**KunalKunal**KunalKunal**KunalKunal**KunalKunal**KunalKunal**KunalKunal**KunalKunal**KunalKunal**KunalKunal**KunalKunal**KunalKunal**KunalKunal**KunalKunal**KunalKunal**KunalKunal**KunalKunal**KunalKunal**KunalKunal**KunalKunal**KunalKunal**KunalKunal**KunalKunal**KunalKunal**KunalKunal**KunalKunal**KunalKunal**KunalKunal**KunalKunal**KunalKunal**KunalKunal**KunalKunal**KunalKunal**KunalKunal**KunalKunal**KunalKunal**KunalKunal**KunalKunal**KunalKunal**KunalKunal**KunalKunal**KunalKunal**KunalKunal**KunalKunal**KunalKunal**KunalKunal**KunalKunal**KunalKunal**KunalKunal**KunalKunal**KunalKunal**KunalKunal**"
          ]
        }
      ]
    },
    {
      "cell_type": "markdown",
      "source": [
        "### seek and tell"
      ],
      "metadata": {
        "id": "N2iJz0dCsPVh"
      }
    },
    {
      "cell_type": "code",
      "source": [
        "with open('sample.txt','r') as f :\n",
        "  print(f.read(10))\n",
        "  print(f.tell()) # to check how much characters you have processed\n",
        "  f.seek(0) # this will navigate arrow to 0th position --> or any positon\n",
        "  print(f.read(4))\n",
        "  print(f.tell())"
      ],
      "metadata": {
        "colab": {
          "base_uri": "https://localhost:8080/"
        },
        "id": "aHcTZaq8sRTR",
        "outputId": "f50807ad-1a32-4052-ee71-d94075d386ba"
      },
      "execution_count": null,
      "outputs": [
        {
          "output_type": "stream",
          "name": "stdout",
          "text": [
            "Hashirama \n",
            "10\n",
            "Hash\n",
            "4\n"
          ]
        }
      ]
    },
    {
      "cell_type": "code",
      "source": [
        "# seek using write\n",
        "with open('sample2.txt','w') as f :\n",
        "  f.write('Hello')\n",
        "  f.seek(0) # <--- route arrow to 0th positon\n",
        "  f.write('x') # <--- hellow becomes xello\n",
        "  # as we are not opening file again therefore hellow will stay there\n"
      ],
      "metadata": {
        "id": "MfsvwigPs8jz"
      },
      "execution_count": null,
      "outputs": []
    },
    {
      "cell_type": "markdown",
      "source": [
        "### problem with working on text mode"
      ],
      "metadata": {
        "id": "jogcSMmKt5eP"
      }
    },
    {
      "cell_type": "code",
      "source": [
        "# 1. cannot work with binary files\n",
        "\n",
        "# with open('photo.jpg','r') as p:\n",
        "#   p.read() # <----- we cannot read binary files like this\n",
        "\n",
        "with open('photo.jpg','rb') as f: # <--- rb = read binary\n",
        "  with open('photo_copy.jpg','wb') as fc: # <--- wb = write binary\n",
        "    fc.write(f.read())"
      ],
      "metadata": {
        "id": "9tu0eKsLt-wh"
      },
      "execution_count": null,
      "outputs": []
    },
    {
      "cell_type": "code",
      "source": [
        "# 2. cannot work with other data types -> only string\n",
        "\n",
        "d2 = {'Name' : 'Kunal'}\n",
        "\n",
        "with open('sample3.txt','w') as f:\n",
        "  # f.write(4) # <--- this will not work as it should be string\n",
        "  f.write(str(d2))\n",
        "\n",
        "with open('sample3.txt','r') as f:\n",
        "  print(f.read())\n",
        "  print(dict(f.read())) # <--- will not be converted in dict"
      ],
      "metadata": {
        "colab": {
          "base_uri": "https://localhost:8080/"
        },
        "id": "F0MHePWzudsm",
        "outputId": "dfafd8d8-469f-46f7-9a82-d1a10a148377"
      },
      "execution_count": null,
      "outputs": [
        {
          "output_type": "stream",
          "name": "stdout",
          "text": [
            "{'Name': 'Kunal'}\n",
            "{}\n"
          ]
        }
      ]
    },
    {
      "cell_type": "markdown",
      "source": [
        "## *serialization and deserialization*"
      ],
      "metadata": {
        "id": "8F2pqgaKxYLg"
      }
    },
    {
      "cell_type": "code",
      "source": [
        "# serialization --> converting python --> JSON (java script object notation)\n",
        "\n",
        "# example - >\n",
        "d = {\n",
        "  \"firstName\": \"John\",\n",
        "  \"age\": 30,\n",
        "  \"isStudent\": False,\n",
        "  \"courses\": [\"Math\", \"Science\"],\n",
        "  \"address\": {\n",
        "    \"city\": \"New York\",\n",
        "    \"zip\": \"10001\"\n",
        "  },\n",
        "  \"phone\": None\n",
        "}\n",
        "\n",
        "l = [1,2,3,4,5,6,7,8,9]\n",
        "\n",
        "import json\n",
        "\n",
        "with open('json.json','w') as f:\n",
        "  #json.dump(l,f) # <--- to dump data type in file\n",
        "  json.dump(d,f,indent=4)"
      ],
      "metadata": {
        "id": "VAzObtTmxePD"
      },
      "execution_count": null,
      "outputs": []
    },
    {
      "cell_type": "code",
      "source": [
        "# deserialization --> JSON to python data type\n",
        "\n",
        "with open('json.json','r') as f:\n",
        "  d = json.load(f) # <---- get data\n",
        "  print(d)\n",
        "  print(type(d))\n",
        "\n",
        "# if for tuple we deserialized it will be as a list --> need to discusss"
      ],
      "metadata": {
        "colab": {
          "base_uri": "https://localhost:8080/"
        },
        "id": "RTyQ-BLrT6fY",
        "outputId": "da9fd8f6-abff-4844-8de5-2fc876cb7364"
      },
      "execution_count": null,
      "outputs": [
        {
          "output_type": "stream",
          "name": "stdout",
          "text": [
            "{'firstName': 'John', 'age': 30, 'isStudent': False, 'courses': ['Math', 'Science'], 'address': {'city': 'New York', 'zip': '10001'}, 'phone': None}\n",
            "<class 'dict'>\n"
          ]
        }
      ]
    },
    {
      "cell_type": "markdown",
      "source": [
        "### *for custom object*"
      ],
      "metadata": {
        "id": "6XeCXX1hWLnm"
      }
    },
    {
      "cell_type": "code",
      "source": [
        "class Person :\n",
        "\n",
        "  def __init__(self,name,lname,gender):\n",
        "    self.name = name\n",
        "    self.lname = lname\n",
        "    self.gender = gender\n",
        "\n",
        "person = Person('Kunal','Wagh','Male')\n",
        "\n",
        "\n",
        "import json\n",
        "\n",
        "with open('json1.json','w') as f:\n",
        "  pass\n",
        "  # json.dump(person,f)               # <--- this is not serilizable\n",
        "  # as json dosen't know how to represent it\n",
        "\n",
        "# therefore we create a function which defines that -->\n",
        "def format_type(person):\n",
        "  if isinstance(person,Person):\n",
        "    return {\n",
        "        'first_name' : person.name,\n",
        "        'last_name'  : person.lname,\n",
        "        'gender'     : person.gender\n",
        "    }\n",
        "  else :\n",
        "    pass\n",
        "\n",
        "\n",
        "d = format_type(person)\n",
        "\n",
        "with open('json1.json','w') as f:\n",
        "  json.dump(d,f,indent=4)\n",
        "\n",
        "\n",
        "#------------------------------------------------------------------------------\n",
        "\n",
        "with open('json1.json','r') as f:\n",
        "  d = json.load(f) # <---- get data\n",
        "  print(d)\n",
        "  print(type(d))"
      ],
      "metadata": {
        "colab": {
          "base_uri": "https://localhost:8080/"
        },
        "id": "rr_jEhUiWRPf",
        "outputId": "5c8433c3-546d-4739-95ce-de5f66f21279"
      },
      "execution_count": null,
      "outputs": [
        {
          "output_type": "stream",
          "name": "stdout",
          "text": [
            "{'first_name': 'Kunal', 'last_name': 'Wagh', 'gender': 'Male'}\n",
            "<class 'dict'>\n"
          ]
        }
      ]
    },
    {
      "cell_type": "markdown",
      "source": [
        "## pickling"
      ],
      "metadata": {
        "id": "rz7Ln5rsZf0s"
      }
    },
    {
      "cell_type": "code",
      "source": [
        "# python object is converted into byte stream\n",
        "# --> object ->binary (bytes) --> transferrable\n",
        "\n",
        "class Person :\n",
        "\n",
        "  def __init__(self,name,lname):\n",
        "    self.name = name\n",
        "    self.lname = lname\n",
        "\n",
        "  def display(self):\n",
        "    return 'Hi {}{}'.format(self.name,self.lname)\n",
        "\n",
        "\n",
        "p = Person('Kunal','Wagh')\n",
        "\n",
        "import pickle\n",
        "\n",
        "with open('pkl.pkl','wb') as f:\n",
        "  pickle.dump(p,f)"
      ],
      "metadata": {
        "id": "YwEsINGYXz8y"
      },
      "execution_count": null,
      "outputs": []
    },
    {
      "cell_type": "code",
      "source": [
        "# pickle load\n",
        "\n",
        "import pickle\n",
        "\n",
        "with open('pkl.pkl','rb') as f:\n",
        "  p = pickle.load(f)\n",
        "\n",
        "p.display() # can acces the methods of that class --> retain power\n",
        "\n",
        "# pickle stores in binary and JSON --> human readble format"
      ],
      "metadata": {
        "colab": {
          "base_uri": "https://localhost:8080/",
          "height": 35
        },
        "id": "3psmVHG9avwO",
        "outputId": "d04d4664-e31d-4ee9-d3dc-7e589a83841f"
      },
      "execution_count": null,
      "outputs": [
        {
          "output_type": "execute_result",
          "data": {
            "text/plain": [
              "'Hi KunalWagh'"
            ],
            "application/vnd.google.colaboratory.intrinsic+json": {
              "type": "string"
            }
          },
          "metadata": {},
          "execution_count": 35
        }
      ]
    },
    {
      "cell_type": "code",
      "source": [
        "import dill\n",
        "\n",
        "class MyClass:\n",
        "    def foo(self):\n",
        "        return \"bar\"\n",
        "\n",
        "# To pickle the class itself\n",
        "pickled_class = dill.dumps(MyClass)\n",
        "\n",
        "# Unpickle to restore the class elsewhere\n",
        "restored_class = dill.loads(pickled_class)\n"
      ],
      "metadata": {
        "id": "zJgYuCtLlI-p"
      },
      "execution_count": null,
      "outputs": []
    },
    {
      "cell_type": "markdown",
      "source": [
        "# *Recursion* - Pending"
      ],
      "metadata": {
        "id": "T-IoYskSlmn0"
      }
    },
    {
      "cell_type": "code",
      "source": [
        "# recursion vs iteration --> company -> iteration"
      ],
      "metadata": {
        "id": "tiVs1PLqloL0"
      },
      "execution_count": null,
      "outputs": []
    },
    {
      "cell_type": "code",
      "source": [
        "# a * b\n",
        "\n",
        "# 1. mult -> repeted addition\n",
        "\n",
        "def mult(a,b):\n",
        "  result = 0\n",
        "\n",
        "  for i in range(b):\n",
        "    result += a\n",
        "\n",
        "  return result\n",
        "\n",
        "\n",
        "mult(3,6)\n",
        "\n",
        "\n",
        "# recursion ---> find out base case --> wherein values will always be same\n",
        "# stacks used -->\n",
        "def mul(a,b):\n",
        "  if b == 1 :\n",
        "    return a\n",
        "  else :\n",
        "    return a + mul(a,b-1)\n",
        "\n",
        "\n",
        "mul(4,7)\n",
        "\n",
        "\n",
        "def fib(n):\n",
        "  a,b = 1,1\n",
        "\n",
        "  for i in range(n-1):\n",
        "    a,b = b,a+b\n",
        "  return b\n",
        "\n",
        "\n",
        "fib(100)\n",
        "\n",
        "\n",
        " # memorization --> (occupies memory)\n",
        "\n",
        "def memo(a,d):\n",
        "  if a in d:\n",
        "    return d[a]\n",
        "  else:\n",
        "    d[a] = memo(a-1,d) + memo(a-2,d)\n",
        "    return d[a]\n",
        "\n",
        "d = {0:1,1:1}\n",
        "memo(100,d)\n",
        "\n",
        "# power set -->\n",
        "\n",
        "def power_set(nums):\n",
        "    if not nums:  # base case: power set of empty list is [[]]\n",
        "        return [[]]\n",
        "\n",
        "    first = nums[0]\n",
        "    rest_power = power_set(nums[1:])  # recursive call on remaining\n",
        "\n",
        "    # for each subset in rest_power, add one version with `first`\n",
        "    with_first = [[first] + subset for subset in rest_power]\n",
        "\n",
        "    return rest_power + with_first\n",
        "\n",
        "\n",
        "# Example\n",
        "nums = [1, 2, 3]\n",
        "print(power_set(nums))\n"
      ],
      "metadata": {
        "colab": {
          "base_uri": "https://localhost:8080/"
        },
        "id": "mcfHL_4nl0KK",
        "outputId": "26bcb2d2-ae3b-4def-c43c-eb1ca1427cc5"
      },
      "execution_count": null,
      "outputs": [
        {
          "output_type": "stream",
          "name": "stdout",
          "text": [
            "[[], [3], [2], [2, 3], [1], [1, 3], [1, 2], [1, 2, 3]]\n"
          ]
        }
      ]
    },
    {
      "cell_type": "code",
      "source": [
        "def power_set(nums):\n",
        "    result = [[]]  # start with empty set\n",
        "    for num in nums:\n",
        "        # add `num` to all existing subsets\n",
        "        result += [subset + [num] for subset in result]\n",
        "    return result\n",
        "\n",
        "# Example\n",
        "nums = [1, 2, 3]\n",
        "print(power_set(nums))\n"
      ],
      "metadata": {
        "colab": {
          "base_uri": "https://localhost:8080/"
        },
        "id": "VId1Y-mnE39D",
        "outputId": "0ad9c306-cb81-44f7-d7b6-856157c01a90"
      },
      "execution_count": null,
      "outputs": [
        {
          "output_type": "stream",
          "name": "stdout",
          "text": [
            "[[], [1], [2], [1, 2], [3], [1, 3], [2, 3], [1, 2, 3]]\n"
          ]
        }
      ]
    },
    {
      "cell_type": "markdown",
      "source": [
        "# *Exception Handling*"
      ],
      "metadata": {
        "id": "HiwTUlItFGli"
      }
    },
    {
      "cell_type": "code",
      "source": [
        "# 2 type of stage error\n",
        "\n",
        "# 1. Compilation---> syntex error and  #. Execution ---> exception\n",
        "\n",
        "# Syntax error --> not written in program grammer --> raised by intrepreter/comp\n",
        "\n",
        "#---> leaving symbols\n",
        "#---> Misspelling keyword\n",
        "#---> Incorrect indentation --> indentation error\n",
        "#---> empty if/else/loop/class/function\n",
        "\n",
        "# IndexError --> trying to access item at invalid index\n",
        "# ModuleNotFoundError --> when module is not found\n",
        "# KeyError --> when key is not found --> dict.\n",
        "# ValueError --> thrown when function's argument is an inappropriate type\n",
        "     #--> int(a)\n",
        "# TypeError --> function is applied to inappopriate type\n",
        "     # --> 1 + 'a'\n",
        "# NameError ---> throen when the object could not be found in program\n",
        "# AttributeError --> Attribute dosen't exist in that class\n",
        "    #--> [1,2,3].upper( )\n",
        "\n",
        "#------------------------------------------------------------------------------\n",
        "\n"
      ],
      "metadata": {
        "id": "nniKhGJ7FGFi"
      },
      "execution_count": null,
      "outputs": []
    },
    {
      "cell_type": "code",
      "source": [
        "# Execution --->\n",
        "# --->  basically logical error (10/0) --> python runtime\n",
        "\n",
        "# Memory overflow --> big input\n",
        "# Divide by 0 --> logical error\n",
        "# Database connect issue"
      ],
      "metadata": {
        "id": "AzCmQQZXH-Fj"
      },
      "execution_count": null,
      "outputs": []
    },
    {
      "cell_type": "code",
      "source": [
        "# ---> 1. user expriance and 2. security\n",
        "\n",
        "# Try except block\n",
        "\n",
        "with open('sample.txt','w') as f:\n",
        "  f.write('Hello')"
      ],
      "metadata": {
        "id": "ItMSat5PIdvY"
      },
      "execution_count": null,
      "outputs": []
    },
    {
      "cell_type": "code",
      "source": [
        "try :\n",
        "  with open('sample1.txt','r') as f:\n",
        "    print(f.read())  # <---- external connection -> risk prone\n",
        "except:\n",
        "  print('Sorry file not found')"
      ],
      "metadata": {
        "colab": {
          "base_uri": "https://localhost:8080/"
        },
        "id": "4kDLdmgZRMN3",
        "outputId": "b0cc602d-acef-4e9b-e25f-9fed253bde53"
      },
      "execution_count": null,
      "outputs": [
        {
          "output_type": "stream",
          "name": "stdout",
          "text": [
            "Sorry file not found\n"
          ]
        }
      ]
    },
    {
      "cell_type": "code",
      "source": [
        "# catching specific exception\n",
        "\n",
        "try:\n",
        "  with open('sample.txt','r') as f: #<--FileNotFoundError\n",
        "    print(f.read())\n",
        "    #print(m) # <-- object not found --> NameError\n",
        "    #print(5/0)\n",
        "    l = [2,3,4]\n",
        "    l[20]\n",
        "except FileNotFoundError:\n",
        "  print('File Not Found')\n",
        "except NameError :\n",
        "  print('Variable not Declaired')\n",
        "except ZeroDivisionError:\n",
        "  print(\"Can't divide by zero\")\n",
        "except Exception as e : # <-- last we put except to aviod any unexpected error\n",
        "  print(e) # <---- it should be last otherwise it will first catch error\n",
        "\n",
        "# except Exception as e :\n",
        "#   print(e.with_traceback)  # <-- This will show exact what kind of error"
      ],
      "metadata": {
        "colab": {
          "base_uri": "https://localhost:8080/"
        },
        "id": "cvixPPG_RrfU",
        "outputId": "baacaf93-b26f-463a-f3ec-036be71c15d4"
      },
      "execution_count": null,
      "outputs": [
        {
          "output_type": "stream",
          "name": "stdout",
          "text": [
            "File Not Found\n"
          ]
        }
      ]
    },
    {
      "cell_type": "code",
      "source": [
        "# else block\n",
        "\n",
        "try :\n",
        "  f = open('sample.txt','r') # <--- else will execute if no error in try\n",
        "except FileNotFoundError:\n",
        "  print('File not found')\n",
        "except Exception :\n",
        "  print('Something is wrong')\n",
        "else : # <----- super sure it will not throw error <-- to be more readiable\n",
        "  print(f.read())\n",
        "  print('File found')"
      ],
      "metadata": {
        "colab": {
          "base_uri": "https://localhost:8080/"
        },
        "id": "GISb9DNAXJn-",
        "outputId": "c4ae04fb-26eb-4228-f05f-935ced96e26c"
      },
      "execution_count": null,
      "outputs": [
        {
          "output_type": "stream",
          "name": "stdout",
          "text": [
            "Hello\n",
            "File found\n"
          ]
        }
      ]
    },
    {
      "cell_type": "code",
      "source": [
        "# finally\n",
        "\n",
        "try :\n",
        "  f = open('sample.txt','r')  # <--- error prone\n",
        "except FileNotFoundError:\n",
        "  print('File not found')\n",
        "except Exception :\n",
        "  print('Something is wrong')\n",
        "else :\n",
        "  print(f.read())\n",
        "  print('File found')\n",
        "finally :  # <--- db connection kind of thing you will close\n",
        "  print('It will print anyhow!!!!!')"
      ],
      "metadata": {
        "colab": {
          "base_uri": "https://localhost:8080/"
        },
        "id": "4HEY9cdQYPj9",
        "outputId": "13fdd6d4-507e-4834-8881-292e308b9e57"
      },
      "execution_count": null,
      "outputs": [
        {
          "output_type": "stream",
          "name": "stdout",
          "text": [
            "Hello\n",
            "File found\n",
            "It will print anyhow!!!!!\n"
          ]
        }
      ]
    },
    {
      "cell_type": "code",
      "source": [
        "# raise execption - (throw --> in java)\n",
        "\n",
        "# raise NameError('can throw any kind of error') # ---> can throw any kind of error\n",
        "# # Jave Try -> try , except -> catch , raise --> throw"
      ],
      "metadata": {
        "id": "L2yHR-c9Yvsb"
      },
      "execution_count": null,
      "outputs": []
    },
    {
      "cell_type": "code",
      "source": [
        "class Bank:\n",
        "\n",
        "  def __init__(self,balance):\n",
        "    self.balance = balance\n",
        "\n",
        "  def withdraw(self,amount):\n",
        "    if amount < 0 :\n",
        "      raise Exception('Amount cannot be negative') # <--- error thrown from here\n",
        "    if self.balance < amount:\n",
        "      raise Exception('Low Balance') # <--- error thrown from here\n",
        "    self.balance = self.balance - amount\n",
        "# Exception() is basically class with the error as methods\n",
        "obj = Bank(1000)\n",
        "\n",
        "try:\n",
        "  obj.withdraw(50)\n",
        "except Exception as e: # < ---------- catched here\n",
        "  print(e)\n",
        "else:\n",
        "  print(obj.balance)\n"
      ],
      "metadata": {
        "colab": {
          "base_uri": "https://localhost:8080/"
        },
        "id": "z48-mjCJZce4",
        "outputId": "6d797d23-4996-4ec0-8996-3c9212994e27"
      },
      "execution_count": null,
      "outputs": [
        {
          "output_type": "stream",
          "name": "stdout",
          "text": [
            "950\n"
          ]
        }
      ]
    },
    {
      "cell_type": "code",
      "source": [
        "# BaseException\n",
        "#  ├── Exception\n",
        "#  │     ├── ArithmeticError\n",
        "#  │     │     ├── ZeroDivisionError\n",
        "#  │     │     └── OverflowError\n",
        "#  │     ├── LookupError\n",
        "#  │     │     ├── IndexError\n",
        "#  │     │     └── KeyError\n",
        "#  │     ├── OSError\n",
        "#  │     │     ├── FileNotFoundError\n",
        "#  │     │     └── PermissionError\n",
        "#  │     ├── RuntimeError\n",
        "#  │     │     ├── RecursionError\n",
        "#  │     │     └── NotImplementedError\n",
        "#  │     ├── TypeError\n",
        "#  │     ├── ValueError\n",
        "#  │     └── AttributeError\n",
        "#  ├── SystemExit\n",
        "#  ├── KeyboardInterrupt\n",
        "#  └── GeneratorExit\n"
      ],
      "metadata": {
        "id": "P-brnb4CjFX-"
      },
      "execution_count": null,
      "outputs": []
    },
    {
      "cell_type": "code",
      "source": [
        "# Creating custom expression\n",
        "\n",
        "class MyException(Exception): # <-- should inherit from Exception class\n",
        "  def __init__(self,message):\n",
        "    print(message)\n",
        "# why? -> full control --> application based errors\n",
        "\n",
        "class Bank:\n",
        "\n",
        "  def __init__(self,balance):\n",
        "    self.balance = balance\n",
        "\n",
        "  def withdraw(self,amount):\n",
        "    if amount < 0 :\n",
        "      raise MyException('Amount cannot be negative') # <--- error thrown from here\n",
        "    if self.balance < amount:\n",
        "      raise MyException('Low Balance') # <--- error thrown from here\n",
        "    self.balance = self.balance - amount\n",
        "# Exception() is basically class with the error as methods\n",
        "obj = Bank(1000)\n",
        "\n",
        "try:\n",
        "  obj.withdraw(5000)\n",
        "except MyException as e: # < ---------- catched here\n",
        "  pass\n",
        "else:\n",
        "  print(obj.balance)"
      ],
      "metadata": {
        "colab": {
          "base_uri": "https://localhost:8080/"
        },
        "id": "jCbQjqxLjXwu",
        "outputId": "a99448b4-3f5c-4335-b6b0-7a2d989022ce"
      },
      "execution_count": null,
      "outputs": [
        {
          "output_type": "stream",
          "name": "stdout",
          "text": [
            "Low Balance\n"
          ]
        }
      ]
    },
    {
      "cell_type": "code",
      "source": [
        "class SecurityError(Exception):\n",
        "\n",
        "  def __init__(self,message):\n",
        "    print(message)\n",
        "\n",
        "  def logout(self):\n",
        "    print('Logout') # <--- any action to be taken will be executed over here\n",
        "\n",
        "class Google:\n",
        "\n",
        "  def __init__(self,name,email,password,device):\n",
        "    self.name = name\n",
        "    self.email = email\n",
        "    self.password = password\n",
        "    self.device = device\n",
        "\n",
        "\n",
        "  def login(self,email,password,device):\n",
        "\n",
        "    if device != self.device :\n",
        "      raise SecurityError('Device Hacked')\n",
        "    if email == self.email and password == self.password:\n",
        "      print('Welcome')\n",
        "    else:\n",
        "      print('login error')\n",
        "\n",
        "\n",
        "\n",
        "k = Google('Kunal','123','123','Android')\n",
        "\n",
        "try:\n",
        "  k.login('123','123','Android')\n",
        "except SecurityError as e:\n",
        "  e.logout()\n",
        "else :\n",
        "  print('Welcome',k.name)\n",
        "finally:\n",
        "  print('Database connection closed')\n"
      ],
      "metadata": {
        "colab": {
          "base_uri": "https://localhost:8080/"
        },
        "id": "gx7GU9gDlQqD",
        "outputId": "a8e249ee-e932-4b4d-f2f5-1903df1147e0"
      },
      "execution_count": null,
      "outputs": [
        {
          "output_type": "stream",
          "name": "stdout",
          "text": [
            "Welcome\n",
            "Welcome Kunal\n",
            "Database connection closed\n"
          ]
        }
      ]
    },
    {
      "cell_type": "markdown",
      "source": [
        "# *Namespaces*"
      ],
      "metadata": {
        "id": "rkYoMY8UDXXh"
      }
    },
    {
      "cell_type": "code",
      "source": [
        "# space that holds names (dict of identifiers and their objects)\n",
        "\n",
        "# Builtin Namespaces\n",
        "# Global Namespace\n",
        "# Enclosing Namespace\n",
        "# Local Namespace\n",
        "\n",
        "# Scope ---> area wherein we can access that namespace (local global)\n",
        "\n",
        "#------------------------------------------------------------------------------\n",
        "def add(x,y):  #|\n",
        "  print(x+y)   #| this is the scope of x and y\n",
        "\n",
        "\n",
        "#------------------------------------------------------------------------------\n",
        "a = 1         #|\n",
        "b = 3         #|\n",
        "              #| scope of a and b and add\n",
        "add(a,b)      #| {a:1,b:3} --> namespace"
      ],
      "metadata": {
        "colab": {
          "base_uri": "https://localhost:8080/"
        },
        "id": "ELUbHnGGDab7",
        "outputId": "afafc6ed-3080-415a-fd54-0754ffb3bc0d"
      },
      "execution_count": null,
      "outputs": [
        {
          "output_type": "stream",
          "name": "stdout",
          "text": [
            "4\n"
          ]
        }
      ]
    },
    {
      "cell_type": "code",
      "source": [
        "# LEGB rule -->\n",
        "\n",
        "# local and global ------>\n",
        "\n",
        "#------------------------------------------------------------------------------\n",
        "a = 2  # <----------global scope\n",
        "#------------------------------------------------------------------------------\n",
        "def temp():\n",
        "  b = 3    # <------ local scope\n",
        "  print(b)\n",
        "#------------------------------------------------------------------------------\n",
        "temp()\n",
        "print(a) # # <----------global scope\n",
        "#------------------------------------------------------------------------------"
      ],
      "metadata": {
        "colab": {
          "base_uri": "https://localhost:8080/"
        },
        "id": "9bl9V4alE3_k",
        "outputId": "52f260c6-4fb7-40f4-97bc-5dc3a7913642"
      },
      "execution_count": null,
      "outputs": [
        {
          "output_type": "stream",
          "name": "stdout",
          "text": [
            "3\n",
            "2\n"
          ]
        }
      ]
    },
    {
      "cell_type": "code",
      "source": [
        "#------------------------------------------------------------------------------\n",
        "a = 2  # <----------global scope\n",
        "#------------------------------------------------------------------------------\n",
        "\n",
        "def temp():   # <------ local scope\n",
        "  print(a)   # <-- first check local if not exist, then will go to Global\n",
        "\n",
        "#------------------------------------------------------------------------------\n",
        "\n",
        "temp()\n",
        "print(a) # # <----------global scope\n",
        "\n",
        "#------------------------------------------------------------------------------"
      ],
      "metadata": {
        "colab": {
          "base_uri": "https://localhost:8080/"
        },
        "id": "OagnneJ2Fp-0",
        "outputId": "101469cf-37e9-469a-a974-74f15f904b3d"
      },
      "execution_count": null,
      "outputs": [
        {
          "output_type": "stream",
          "name": "stdout",
          "text": [
            "2\n",
            "2\n"
          ]
        }
      ]
    },
    {
      "cell_type": "code",
      "source": [
        "#------------------------------------------------------------------------------\n",
        "a = 2  # <----------global scope\n",
        "#------------------------------------------------------------------------------\n",
        "\n",
        "def temp():   # <------ local scope\n",
        "  # global a # <---- Global keyword  <--not a good programming practice\n",
        "  a +=1   # <-- you can acces it but can't change it --> for that put global a\n",
        "  print(a)\n",
        "#------------------------------------------------------------------------------\n",
        "\n",
        "temp()\n",
        "print(a) # # <----------global scope\n",
        "\n",
        "#------------------------------------------------------------------------------"
      ],
      "metadata": {
        "colab": {
          "base_uri": "https://localhost:8080/"
        },
        "id": "eU818tG4GGg3",
        "outputId": "5bda2977-14f2-4b59-d21c-16ce77b9b235"
      },
      "execution_count": null,
      "outputs": [
        {
          "output_type": "stream",
          "name": "stdout",
          "text": [
            "3\n",
            "3\n"
          ]
        }
      ]
    },
    {
      "cell_type": "code",
      "source": [
        "\n",
        "def temp():   # <------ local scope\n",
        "  global a\n",
        "  a = 1    #<-- since global is mentioned it will create global v. from here\n",
        "  print(a)\n",
        "\n",
        "#------------------------------------------------------------------------------\n",
        "\n",
        "temp()\n",
        "print(a) # # <----------global scope\n",
        "\n",
        "#------------------------------------------------------------------------------"
      ],
      "metadata": {
        "colab": {
          "base_uri": "https://localhost:8080/"
        },
        "id": "hj6cCC4xLss1",
        "outputId": "d6bd3db9-7d3c-4c74-df03-b0039cbd64a5"
      },
      "execution_count": null,
      "outputs": [
        {
          "output_type": "stream",
          "name": "stdout",
          "text": [
            "1\n",
            "1\n"
          ]
        }
      ]
    },
    {
      "cell_type": "code",
      "source": [
        "def temp(z):\n",
        "  print(z) #<---- z is local variable = 5\n",
        "\n",
        "a = 5\n",
        "\n",
        "temp(5)\n",
        "print(a)"
      ],
      "metadata": {
        "colab": {
          "base_uri": "https://localhost:8080/"
        },
        "id": "jgdvx_bBMMgL",
        "outputId": "dc5abb55-debe-491d-9099-52faa64c8d33"
      },
      "execution_count": null,
      "outputs": [
        {
          "output_type": "stream",
          "name": "stdout",
          "text": [
            "5\n",
            "5\n"
          ]
        }
      ]
    },
    {
      "cell_type": "code",
      "source": [
        "# built in scope\n",
        "\n",
        "print('Hello')  # type ,input, string, min,max,sorted\n",
        "\n",
        "import builtins\n",
        "\n",
        "for i in dir(builtins):\n",
        "  print(i)\n",
        "\n"
      ],
      "metadata": {
        "colab": {
          "base_uri": "https://localhost:8080/"
        },
        "collapsed": true,
        "id": "nTW9hxnbMfbi",
        "outputId": "85e8b021-45ad-4061-8282-721aec55d99f"
      },
      "execution_count": null,
      "outputs": [
        {
          "output_type": "stream",
          "name": "stdout",
          "text": [
            "Hello\n",
            "ArithmeticError\n",
            "AssertionError\n",
            "AttributeError\n",
            "BaseException\n",
            "BaseExceptionGroup\n",
            "BlockingIOError\n",
            "BrokenPipeError\n",
            "BufferError\n",
            "BytesWarning\n",
            "ChildProcessError\n",
            "ConnectionAbortedError\n",
            "ConnectionError\n",
            "ConnectionRefusedError\n",
            "ConnectionResetError\n",
            "DeprecationWarning\n",
            "EOFError\n",
            "Ellipsis\n",
            "EncodingWarning\n",
            "EnvironmentError\n",
            "Exception\n",
            "ExceptionGroup\n",
            "False\n",
            "FileExistsError\n",
            "FileNotFoundError\n",
            "FloatingPointError\n",
            "FutureWarning\n",
            "GeneratorExit\n",
            "IOError\n",
            "ImportError\n",
            "ImportWarning\n",
            "IndentationError\n",
            "IndexError\n",
            "InterruptedError\n",
            "IsADirectoryError\n",
            "KeyError\n",
            "KeyboardInterrupt\n",
            "LookupError\n",
            "MemoryError\n",
            "ModuleNotFoundError\n",
            "NameError\n",
            "None\n",
            "NotADirectoryError\n",
            "NotImplemented\n",
            "NotImplementedError\n",
            "OSError\n",
            "OverflowError\n",
            "PendingDeprecationWarning\n",
            "PermissionError\n",
            "ProcessLookupError\n",
            "RecursionError\n",
            "ReferenceError\n",
            "ResourceWarning\n",
            "RuntimeError\n",
            "RuntimeWarning\n",
            "StopAsyncIteration\n",
            "StopIteration\n",
            "SyntaxError\n",
            "SyntaxWarning\n",
            "SystemError\n",
            "SystemExit\n",
            "TabError\n",
            "TimeoutError\n",
            "True\n",
            "TypeError\n",
            "UnboundLocalError\n",
            "UnicodeDecodeError\n",
            "UnicodeEncodeError\n",
            "UnicodeError\n",
            "UnicodeTranslateError\n",
            "UnicodeWarning\n",
            "UserWarning\n",
            "ValueError\n",
            "Warning\n",
            "ZeroDivisionError\n",
            "__IPYTHON__\n",
            "__build_class__\n",
            "__debug__\n",
            "__doc__\n",
            "__import__\n",
            "__loader__\n",
            "__name__\n",
            "__package__\n",
            "__spec__\n",
            "abs\n",
            "aiter\n",
            "all\n",
            "anext\n",
            "any\n",
            "ascii\n",
            "bin\n",
            "bool\n",
            "breakpoint\n",
            "bytearray\n",
            "bytes\n",
            "callable\n",
            "chr\n",
            "classmethod\n",
            "compile\n",
            "complex\n",
            "copyright\n",
            "credits\n",
            "delattr\n",
            "dict\n",
            "dir\n",
            "display\n",
            "divmod\n",
            "enumerate\n",
            "eval\n",
            "exec\n",
            "execfile\n",
            "filter\n",
            "float\n",
            "format\n",
            "frozenset\n",
            "get_ipython\n",
            "getattr\n",
            "globals\n",
            "hasattr\n",
            "hash\n",
            "help\n",
            "hex\n",
            "id\n",
            "input\n",
            "int\n",
            "isinstance\n",
            "issubclass\n",
            "iter\n",
            "len\n",
            "license\n",
            "list\n",
            "locals\n",
            "map\n",
            "max\n",
            "memoryview\n",
            "min\n",
            "next\n",
            "object\n",
            "oct\n",
            "open\n",
            "ord\n",
            "pow\n",
            "print\n",
            "property\n",
            "range\n",
            "repr\n",
            "reversed\n",
            "round\n",
            "runfile\n",
            "set\n",
            "setattr\n",
            "slice\n",
            "sorted\n",
            "staticmethod\n",
            "str\n",
            "sum\n",
            "super\n",
            "tuple\n",
            "type\n",
            "vars\n",
            "zip\n"
          ]
        }
      ]
    },
    {
      "cell_type": "code",
      "source": [
        "# l = [1,2,3] # <--- global\n",
        "\n",
        "# print(max(l)) # <--- it will search in global space\n",
        "\n",
        "# def max():\n",
        "#   print('Hello')\n",
        "\n",
        "# max()"
      ],
      "metadata": {
        "id": "Q1oQ_PDrNtYO"
      },
      "execution_count": null,
      "outputs": []
    },
    {
      "cell_type": "code",
      "source": [
        "# Enclosing scope --> nested function\n",
        "\n",
        "\n",
        "def outer():   # --------------------------------------------------------------\n",
        "  a = 3          # <----- enclosing\n",
        "  def inner(): # ------------\n",
        "    a = 4      # <---- local\n",
        "    print(a)   # ------------\n",
        "  inner()        # <----- enclosing\n",
        "  print('outer') #------------------------------------------------------------\n",
        "\n",
        "a = 5      # <----- global\n",
        "outer()\n",
        "print('Main')\n",
        "\n",
        "# ----> if not in local --> enclosing ---> global --> builtin --> error"
      ],
      "metadata": {
        "id": "qSnJXWb_Q_CA"
      },
      "execution_count": null,
      "outputs": []
    },
    {
      "cell_type": "code",
      "source": [
        "# change to enclosing a\n",
        "\n",
        "def outer():   # --------------------------------------------------------------\n",
        "  a = 3          # <----- enclosing\n",
        "  def inner(): # ------------\n",
        "    nonlocal a # <---- this means i want to change in enclosing a\n",
        "    a += 4      # <---- local\n",
        "    print(a)   # ------------\n",
        "                # <----- enclosing\n",
        "  print('changed',a) #------------------------------------------------------------\n",
        "\n",
        "a = 5      # <----- global\n",
        "outer()\n",
        "print('Main')"
      ],
      "metadata": {
        "colab": {
          "base_uri": "https://localhost:8080/"
        },
        "id": "6Slfi0OHWA4e",
        "outputId": "4f2327f6-0ce6-49c1-ac39-3afb4bbde651"
      },
      "execution_count": null,
      "outputs": [
        {
          "output_type": "stream",
          "name": "stdout",
          "text": [
            "changed 3\n",
            "Main\n"
          ]
        }
      ]
    },
    {
      "cell_type": "markdown",
      "source": [
        "## *Decorators*"
      ],
      "metadata": {
        "id": "F3X1d2J_ctTs"
      }
    },
    {
      "cell_type": "code",
      "source": [
        "# It is a function --> gets input as different function -->\n",
        "# ---> and it adds functionality to that function\n",
        "# happen coz functions are first class citizen (can do all operations)\n",
        "\n",
        "# 1. Builtin -> @staticmathod @classmethod @abstrctmethod @property\n",
        "# 2. User defined"
      ],
      "metadata": {
        "id": "PXPKlT9tcw1z"
      },
      "execution_count": null,
      "outputs": []
    },
    {
      "cell_type": "code",
      "source": [
        "\n",
        "def my_dec(func): # <--1. recives another function\n",
        "  def wrapper():  # <--- functionality\n",
        "    print('-'*50)\n",
        "    func()         # <--- 3. returned func() but with wrapper function\n",
        "    print('-'*50)\n",
        "  return wrapper # <--- 2. adds some functionality <-- returns modified function\n",
        "\n",
        "def hello():\n",
        "  print('Hello')\n",
        "\n",
        "def display():\n",
        "  print('Disp')\n",
        "\n",
        "a = my_dec(hello)\n",
        "\n",
        "a() # <--- calling the function with added functionality\n",
        "\n",
        "b = my_dec(display)\n",
        "\n",
        "b()"
      ],
      "metadata": {
        "colab": {
          "base_uri": "https://localhost:8080/"
        },
        "id": "InfP-EGTdhqZ",
        "outputId": "26fa03c6-3679-4a0a-ad1c-5fa505d6a6e7"
      },
      "execution_count": null,
      "outputs": [
        {
          "output_type": "stream",
          "name": "stdout",
          "text": [
            "--------------------------------------------------\n",
            "Hello\n",
            "--------------------------------------------------\n",
            "--------------------------------------------------\n",
            "Disp\n",
            "--------------------------------------------------\n"
          ]
        }
      ]
    },
    {
      "cell_type": "code",
      "source": [
        "# closure property --> inner can access outer even after it gets distroyed\n",
        "def outer():\n",
        "  b = 5\n",
        "  def inner():\n",
        "    print(b)\n",
        "  return inner # <--- inner is not executing directly --> it just get assigned\n",
        "\n",
        "a = outer() # <---  it becomes a = inner\n",
        "a()   # this becomes a() as inner()\n",
        "\n",
        "# this is the way we can acces inner but important thing is it understands the\n",
        "#----context\n",
        "\n",
        "# b = inner() <--- this will not work ---> and can store the address\n",
        "\n",
        "# this is the basis of how decorator works (heap and sap)"
      ],
      "metadata": {
        "colab": {
          "base_uri": "https://localhost:8080/"
        },
        "id": "KTQ8gA3Pfhtz",
        "outputId": "5cd03760-875f-4f8c-a01f-486ebe177d79"
      },
      "execution_count": null,
      "outputs": [
        {
          "output_type": "stream",
          "name": "stdout",
          "text": [
            "5\n"
          ]
        }
      ]
    },
    {
      "cell_type": "code",
      "source": [
        "# shortcut ---->\n",
        "\n",
        "def my_dec(func):\n",
        "  def wrapper():\n",
        "    print('-'*50)\n",
        "    func()\n",
        "    print('-'*50)\n",
        "  return wrapper\n",
        "\n",
        "@my_dec # <---- this is how you loop in decorator and use it\n",
        "def hello():\n",
        "  print('Hello')\n",
        "\n",
        "hello() # <------ this is how we call it"
      ],
      "metadata": {
        "colab": {
          "base_uri": "https://localhost:8080/"
        },
        "id": "6h4jX96StQx3",
        "outputId": "ee609249-6e12-4d37-eed6-deb4b566cdcf"
      },
      "execution_count": null,
      "outputs": [
        {
          "output_type": "stream",
          "name": "stdout",
          "text": [
            "--------------------------------------------------\n",
            "Hello\n",
            "--------------------------------------------------\n"
          ]
        }
      ]
    },
    {
      "cell_type": "code",
      "source": [
        "# execution time of that function -->\n",
        "\n",
        "\n",
        "# decorator , wrapper and function ---> game of 3\n",
        "\n",
        "import time\n",
        "\n",
        "\n",
        "def timer(func):\n",
        "  def wrapper(*args, **kwargs): # <---- gives arguments\n",
        "    start = time.time()\n",
        "    func(*args, **kwargs) # <--- gives arguments to function\n",
        "    end = time.time()\n",
        "    exe_time = end - start\n",
        "    print('time taken by',func.__name__,exe_time) # <- get the func name\n",
        "  return wrapper\n",
        "\n",
        "\n",
        "@timer\n",
        "def random():\n",
        "  print('Random')\n",
        "  time.sleep(1)\n",
        "\n",
        "@timer\n",
        "def loop(k): # <-------------takes arguments\n",
        "  for i in range(k):\n",
        "    pass\n",
        "  time.sleep(1) # <----sleeps for 1 sec\n",
        "\n",
        "\n",
        "a = loop(400)\n",
        "\n",
        "b = random() # ---> can work on without arguments as well\n"
      ],
      "metadata": {
        "colab": {
          "base_uri": "https://localhost:8080/"
        },
        "id": "cIcvb6lRtw1-",
        "outputId": "12463ce7-7ab1-46be-eacf-7c0834f0d172"
      },
      "execution_count": null,
      "outputs": [
        {
          "output_type": "stream",
          "name": "stdout",
          "text": [
            "time taken by loop 1.0001213550567627\n",
            "Random\n",
            "time taken by random 1.0001885890960693\n"
          ]
        }
      ]
    },
    {
      "cell_type": "code",
      "source": [
        "# input data type is correct or not kind of decorator\n",
        "\n",
        "\n",
        "def sanity_check(data_type):\n",
        "  def outer_wrapper(func):\n",
        "    def inner_wrapper(*args):\n",
        "      # if type(args) == data_type: # <--- can access outside type\n",
        "      if type(*args) == data_type: # <--type of args is always tuple\n",
        "        func(*args) # <--- can access function\n",
        "      else:\n",
        "        raise TypeError('Not a valid data type')\n",
        "    return inner_wrapper\n",
        "  return outer_wrapper\n",
        "\n",
        "\n",
        "@sanity_check(int)\n",
        "def square(n):\n",
        "  print(n**2)\n",
        "\n",
        "\n",
        "# square('Hello')\n",
        "\n"
      ],
      "metadata": {
        "id": "Ii3OcrszxElo"
      },
      "execution_count": null,
      "outputs": []
    },
    {
      "cell_type": "code",
      "source": [
        "def sanity_check(data_type):\n",
        "    def outer_wrapper(func):\n",
        "        def inner_wrapper(*args, **kwargs):\n",
        "            for arg in args:  # check all positional args\n",
        "                if not isinstance(arg, data_type):\n",
        "                    raise TypeError(f'{arg} is not {data_type.__name__}')\n",
        "            return func(*args, **kwargs)\n",
        "        return inner_wrapper\n",
        "    return outer_wrapper\n",
        "\n",
        "\n",
        "@sanity_check(int)\n",
        "def square(n):\n",
        "    print(n**2)\n",
        "\n",
        "\n",
        "square(5)\n",
        "\n",
        "try:\n",
        "  square(\"Hello\")\n",
        "except TypeError as e:\n",
        "  print(e)"
      ],
      "metadata": {
        "colab": {
          "base_uri": "https://localhost:8080/"
        },
        "id": "aDnfF8qdzeFP",
        "outputId": "051a5f00-c514-4a58-d119-e2e0d511c372"
      },
      "execution_count": null,
      "outputs": [
        {
          "output_type": "stream",
          "name": "stdout",
          "text": [
            "25\n",
            "Hello is not int\n"
          ]
        }
      ]
    },
    {
      "cell_type": "markdown",
      "source": [
        "# Iterataors"
      ],
      "metadata": {
        "id": "siLcWMcUIVpl"
      }
    },
    {
      "cell_type": "code",
      "source": [
        "# iteration -> general term fir talking each item of something one after another\n",
        "\n",
        "num = [1,2,3]\n",
        "for i in num:\n",
        "  print(i)"
      ],
      "metadata": {
        "colab": {
          "base_uri": "https://localhost:8080/"
        },
        "id": "YsM4ad6SIVQ1",
        "outputId": "a9ec6e21-430e-429f-a674-956577be0b28"
      },
      "execution_count": null,
      "outputs": [
        {
          "output_type": "stream",
          "name": "stdout",
          "text": [
            "1\n",
            "2\n",
            "3\n"
          ]
        }
      ]
    },
    {
      "cell_type": "code",
      "source": [
        "# iterator -> an object that allows programmer to traverse through seq. of data\n",
        "# without having to store entire data in memory\n",
        "\n",
        "# --> loads data one by one\n",
        "import sys\n",
        "\n",
        "l = [x for x in range(1,1000)]\n",
        "for i in l:\n",
        "  i*2\n",
        "print(sys.getsizeof(l))\n",
        "\n",
        "x = range(1,10000000) # <---- iterates and memory is same\n",
        "print(sys.getsizeof(x))"
      ],
      "metadata": {
        "colab": {
          "base_uri": "https://localhost:8080/"
        },
        "id": "UmP8JuvNI1Zd",
        "outputId": "3be4157a-7f4c-426e-c536-cdb15f8eede0"
      },
      "execution_count": null,
      "outputs": [
        {
          "output_type": "stream",
          "name": "stdout",
          "text": [
            "8856\n",
            "48\n"
          ]
        }
      ]
    },
    {
      "cell_type": "code",
      "source": [
        "# iterable ---> object which one can iterate over\n",
        "# list,string,tup\n",
        "\n",
        "# iterable generates iterator when passed to inter()method\n",
        "\n",
        "l = [1,2,3]\n",
        "\n",
        "print(type(l)) #<--- iterable\n",
        "\n",
        "print(type(iter(l))) # <---- iterator\n",
        "\n",
        "\n",
        "# every iterator is iterable\n",
        "# not all iterables are iterators --> l = [x for x in range(1,1000)] listed all\n",
        "\n",
        "\n"
      ],
      "metadata": {
        "colab": {
          "base_uri": "https://localhost:8080/"
        },
        "id": "GcS1batUJ1v0",
        "outputId": "eb625d38-dabe-46cf-8d83-38a77d49d8cf"
      },
      "execution_count": null,
      "outputs": [
        {
          "output_type": "stream",
          "name": "stdout",
          "text": [
            "<class 'list'>\n",
            "<class 'list_iterator'>\n"
          ]
        }
      ]
    },
    {
      "cell_type": "code",
      "source": [
        "# trick -\n",
        "\n",
        "# Every iterable has iter function\n",
        "# to check if it is iterable or not --> put in for loop of check __iter in dir()\n",
        "a = 2\n",
        "# for i in a:\n",
        "#   print(i)\n",
        "dir(a) # check for __iter__ method ---> if not then not iterable\n",
        "\n",
        "a = [1,2,3]\n",
        "dir(a)\n",
        "\n",
        "# to check iterator or not\n",
        "# Every iterator has both iter() function and next function\n",
        "\n",
        "a = [1,3,4]\n",
        "dir(a)\n",
        "iter_a = iter(a)"
      ],
      "metadata": {
        "id": "AEtsZU_xK9hL"
      },
      "execution_count": null,
      "outputs": []
    },
    {
      "cell_type": "code",
      "source": [
        "# understand how loop works\n",
        "\n",
        "num = [1,2,3]\n",
        "\n",
        "for i in num:\n",
        "  print(i)\n",
        "\n",
        "\n",
        "# need iterable\n",
        "\n",
        "# step - 1 --> fetches iterator iter()\n",
        "iter_num = iter(num)\n",
        "# step - 2 ---> tells the state of iterator\n",
        "state = next(iter_num)\n",
        "print(state)\n",
        "state = next(iter_num)\n",
        "print(state)\n",
        "state = next(iter_num)\n",
        "print(state)\n",
        "# state = next(iter_num) # <--- stops execution\n",
        "# print(state)"
      ],
      "metadata": {
        "colab": {
          "base_uri": "https://localhost:8080/"
        },
        "id": "zrtKWGoYMntB",
        "outputId": "a4b148b0-5b4f-4e28-a97a-4b996205d6a9"
      },
      "execution_count": null,
      "outputs": [
        {
          "output_type": "stream",
          "name": "stdout",
          "text": [
            "1\n",
            "2\n",
            "3\n"
          ]
        }
      ]
    },
    {
      "cell_type": "code",
      "source": [
        "# creating for loop\n",
        "\n",
        "def my_for_loop(iterator):\n",
        "\n",
        "  iterator = iter(iterator)\n",
        "\n",
        "  while True :\n",
        "    try:\n",
        "      print(next(iterator))\n",
        "    except StopIteration:\n",
        "      break\n"
      ],
      "metadata": {
        "id": "j0_deDy4NPcY"
      },
      "execution_count": null,
      "outputs": []
    },
    {
      "cell_type": "code",
      "source": [
        "l = [1,2,3,4,5]\n",
        "\n",
        "my_for_loop(l)"
      ],
      "metadata": {
        "colab": {
          "base_uri": "https://localhost:8080/"
        },
        "id": "jzt2ioKXOKcn",
        "outputId": "9f4ad1b3-fc4b-42d0-aec4-c79eed9ac8ac"
      },
      "execution_count": null,
      "outputs": [
        {
          "output_type": "stream",
          "name": "stdout",
          "text": [
            "1\n",
            "2\n",
            "3\n",
            "4\n",
            "5\n"
          ]
        }
      ]
    },
    {
      "cell_type": "code",
      "source": [
        "num = [1,2,3]\n",
        "\n",
        "k = iter(num)  # <--- iterator object\n",
        "\n",
        "l = iter(k)    # <--- this will also create iter object\n",
        "\n",
        "print(id(k))\n",
        "print(id(l)) # --> so if we apply iter() on iterator we will get iterator itslef"
      ],
      "metadata": {
        "colab": {
          "base_uri": "https://localhost:8080/"
        },
        "id": "aCYCrbeOOaCY",
        "outputId": "1bbc6f88-d628-4c5d-91df-e747967d059d"
      },
      "execution_count": null,
      "outputs": [
        {
          "output_type": "stream",
          "name": "stdout",
          "text": [
            "134733908075728\n",
            "134733908075728\n"
          ]
        }
      ]
    },
    {
      "cell_type": "code",
      "source": [
        "# range function\n",
        "\n",
        "class my_range:\n",
        "\n",
        "  def __init__(self,start,end):\n",
        "    self.start = start\n",
        "    self.end = end\n",
        "\n",
        "\n",
        "  def __iter__(self):\n",
        "    return my_iterator(self) # <-- it has starting and ending as well\n",
        "\n",
        "\n",
        "\n",
        "class my_iterator:\n",
        "\n",
        "  def __init__(self,obj):\n",
        "    self.obj = obj\n",
        "\n",
        "\n",
        "  def __iter__(self): # <-- we know iter on iterator returns self\n",
        "    return self\n",
        "\n",
        "  def __next__(self): # <-- this is not loop because execution next is 'for' dep.\n",
        "    if self.obj.start >= self.obj.end:\n",
        "      raise StopIteration\n",
        "    current = self.obj.start\n",
        "    self.obj.start += 1\n",
        "    return current\n",
        "\n",
        "\n",
        "for i in my_range(1,11):\n",
        "  print(i)"
      ],
      "metadata": {
        "colab": {
          "base_uri": "https://localhost:8080/"
        },
        "id": "aAgWUG_BPGxx",
        "outputId": "1ed81f4a-e93d-4a13-f5cc-252442a59d74"
      },
      "execution_count": null,
      "outputs": [
        {
          "output_type": "stream",
          "name": "stdout",
          "text": [
            "1\n",
            "2\n",
            "3\n",
            "4\n",
            "5\n",
            "6\n",
            "7\n",
            "8\n",
            "9\n",
            "10\n"
          ]
        }
      ]
    },
    {
      "cell_type": "code",
      "source": [
        "# application ---> stream of data one by one -->\n",
        "\n",
        "# deep learning --> image data --> split --> one data as one time\n",
        "\n",
        "# genrators is easier way to make iterators"
      ],
      "metadata": {
        "id": "3HJwIb-iSESL"
      },
      "execution_count": null,
      "outputs": []
    },
    {
      "cell_type": "markdown",
      "source": [
        "# generators"
      ],
      "metadata": {
        "id": "3hE9wgiyShBU"
      }
    },
    {
      "cell_type": "code",
      "source": [
        "# simple way of creating iterators\n",
        "\n",
        "def my_gen(): # <-- no return statement but yeild statement\n",
        "\n",
        "  yield 'Kunal'\n",
        "  yield 'Bharat'\n",
        "  yield 'Wagh'\n",
        "\n",
        "a = my_gen() # ---> generator object --> 1.no function calling--> just storing obj\n",
        "print(type(a))\n",
        "\n",
        "print(next(a)) # 2. triggered here\n",
        "print(next(a)) # each yield statement will be executed one by one\n",
        "print(next(a)) # all yield exhausted here --> therefore nothing will print below\n",
        "# print(next(a))\n",
        "\n",
        "for i in a:\n",
        "  print(i)\n",
        "\n",
        "\n",
        "\n",
        "# normal functions removes from memory after execution.\n",
        "# in generator --> it executes partially and then closes and if we again reach--\n",
        "# --out it will remember the last execution and start from there"
      ],
      "metadata": {
        "colab": {
          "base_uri": "https://localhost:8080/"
        },
        "id": "yyE7DU6aSgXL",
        "outputId": "dda0f9fe-c885-4e46-b483-e27f790136cb"
      },
      "execution_count": null,
      "outputs": [
        {
          "output_type": "stream",
          "name": "stdout",
          "text": [
            "<class 'generator'>\n",
            "Kunal\n",
            "Bharat\n",
            "Wagh\n"
          ]
        }
      ]
    },
    {
      "cell_type": "code",
      "source": [
        "def square(num):\n",
        "  for i in range(1,num+1):\n",
        "    yield i**2\n",
        "\n",
        "a = square(10) # <-- function will not trigger here\n",
        "\n",
        "print(next(a))\n",
        "print(next(a))\n",
        "print(next(a))\n",
        "print(next(a)) # <--- ended at 4 square\n",
        "\n",
        "print('-'*50)\n",
        "\n",
        "for i in a:\n",
        "  print(i) # <---started from 5"
      ],
      "metadata": {
        "colab": {
          "base_uri": "https://localhost:8080/"
        },
        "collapsed": true,
        "id": "i5YWMFY9V1uw",
        "outputId": "e807fabf-1814-43a9-b49e-a3aebb7c7b1a"
      },
      "execution_count": null,
      "outputs": [
        {
          "output_type": "stream",
          "name": "stdout",
          "text": [
            "1\n",
            "4\n",
            "9\n",
            "16\n",
            "--------------------------------------------------\n",
            "25\n",
            "36\n",
            "49\n",
            "64\n",
            "81\n",
            "100\n"
          ]
        }
      ]
    },
    {
      "cell_type": "code",
      "source": [
        "def my_range_2(start,end):\n",
        "  for i in range(start,end):\n",
        "    yield i\n",
        "\n",
        "\n",
        "a = my_range_2(1,8)\n",
        "for i in a:\n",
        "  print(i)\n"
      ],
      "metadata": {
        "colab": {
          "base_uri": "https://localhost:8080/"
        },
        "collapsed": true,
        "id": "PGqYbQYAXZff",
        "outputId": "511d2e0c-c9cd-4517-ecd5-986584391ac3"
      },
      "execution_count": null,
      "outputs": [
        {
          "output_type": "stream",
          "name": "stdout",
          "text": [
            "1\n",
            "2\n",
            "3\n",
            "4\n",
            "5\n",
            "6\n",
            "7\n"
          ]
        }
      ]
    },
    {
      "cell_type": "code",
      "source": [
        "# generator comprehension\n",
        "\n",
        "gen = (i**2 for i in range(1,12)) # this is short genetator syntax - not tup\n"
      ],
      "metadata": {
        "id": "Nr8OofQmXx3o"
      },
      "execution_count": null,
      "outputs": []
    },
    {
      "cell_type": "code",
      "source": [
        "# Ease of implementation\n",
        "# Memory efficient\n",
        "# Represent infinite Streams -->\n",
        "\n",
        "def all_even():\n",
        "  n = 0\n",
        "  while True:\n",
        "    yield n\n",
        "    n += 2\n",
        "\n",
        "a = all_even()\n",
        "\n",
        "# for i in a:\n",
        "#   print(a)\n",
        "\n",
        "\n",
        "# chaining generators\n",
        "\n",
        "def fibonacci_numbers(nums):\n",
        "    x, y = 0, 1\n",
        "    for _ in range(nums):\n",
        "        x, y = y, x + y\n",
        "        yield x\n",
        "\n",
        "def square(nums):\n",
        "    for num in nums:\n",
        "        yield num ** 2\n",
        "\n",
        "print(sum(square(fibonacci_numbers(10))))\n"
      ],
      "metadata": {
        "colab": {
          "base_uri": "https://localhost:8080/"
        },
        "id": "EKhC4JZCYjse",
        "outputId": "f6693384-90b8-48bc-dc8b-e80e8e612e35"
      },
      "execution_count": null,
      "outputs": [
        {
          "output_type": "stream",
          "name": "stdout",
          "text": [
            "4895\n"
          ]
        }
      ]
    },
    {
      "cell_type": "markdown",
      "source": [
        "# *Interview Questions*"
      ],
      "metadata": {
        "id": "oPXVMWqiSOvv"
      }
    },
    {
      "cell_type": "code",
      "source": [
        "# what do you mean by __name__ == '__main__'\n",
        "\n",
        "\n",
        "# module --> any file with an extention of .py is called module\n",
        "#--- if any piece of code can run independent is known as module\n",
        "\n",
        "# whenever we execute a program it's module name is __main__ and its --\n",
        "#-- name is sroted in __name__ variable\n",
        "\n",
        "def my_func():\n",
        "  print('Hello')\n",
        "\n",
        "my_func()\n",
        "print(__name__) # <--- inside any file the output will be this\n",
        "# this is currently executed file and stored like this\n",
        "\n",
        "# --> refer to the python vs code folder"
      ],
      "metadata": {
        "id": "dVeS7FXba_UM",
        "colab": {
          "base_uri": "https://localhost:8080/"
        },
        "outputId": "fbd42324-76b0-4601-c51e-c38ad611768e"
      },
      "execution_count": null,
      "outputs": [
        {
          "output_type": "stream",
          "name": "stdout",
          "text": [
            "Hello\n",
            "__main__\n"
          ]
        }
      ]
    },
    {
      "cell_type": "code",
      "source": [
        "# import module --> code modularity imp. --> different code for diff. situation\n",
        "\n",
        "import math  # <---- can import multiple modulke\n",
        "import numpy as np\n",
        "\n",
        "# to check builtin module  # C:\\Users\\kunal\\AppData\\Local\\Programs\\Python\\Python313\\Lib\n",
        "\n",
        "import math,random # <-- we can import like that\n",
        "\n",
        "\n",
        "# import only necessary functions -->\n",
        "\n",
        "from math import factorial,floor # <--- this will only import this\n",
        "\n",
        "\n",
        "# import as aliase\n",
        "\n",
        "import numpy as np\n",
        "import matplotlib.pyplot as plt\n",
        "import pandas as pd\n",
        "\n",
        "\n",
        "# can rename the methods too\n",
        "\n",
        "from math import factorial as f\n",
        "\n",
        "\n",
        "# order of execution of modul\n",
        "\n",
        "import sys\n",
        "\n",
        "for p in sys.path:\n",
        "  print(p)\n",
        "\n",
        "# checks the path --> environment variable\n",
        "\n",
        "\n"
      ],
      "metadata": {
        "colab": {
          "base_uri": "https://localhost:8080/"
        },
        "collapsed": true,
        "id": "7GnIUTZyYDEh",
        "outputId": "0c79eb04-1758-4d46-8523-6cb7b6410096"
      },
      "execution_count": null,
      "outputs": [
        {
          "output_type": "stream",
          "name": "stdout",
          "text": [
            "/content\n",
            "/env/python\n",
            "/usr/lib/python312.zip\n",
            "/usr/lib/python3.12\n",
            "/usr/lib/python3.12/lib-dynload\n",
            "\n",
            "/usr/local/lib/python3.12/dist-packages\n",
            "/usr/lib/python3/dist-packages\n",
            "/usr/local/lib/python3.12/dist-packages/IPython/extensions\n",
            "/root/.ipython\n"
          ]
        }
      ]
    },
    {
      "cell_type": "code",
      "source": [
        "# what are packages ?\n",
        "\n",
        "# directory containing --> sub folders and modules\n",
        "# ---> perticular directory is treated as package if it has __init__.py file\n"
      ],
      "metadata": {
        "id": "gfUc-KqUemtu"
      },
      "execution_count": null,
      "outputs": []
    },
    {
      "cell_type": "code",
      "source": [
        "# 3rd party packages\n",
        "\n",
        "#Pypi - https://pypi.org/\n",
        "# can upload and other people can install by using pip"
      ],
      "metadata": {
        "id": "XVwsA5udhBlq"
      },
      "execution_count": null,
      "outputs": []
    },
    {
      "cell_type": "code",
      "source": [
        "# framework --> will have towards fr.work vs library --> control over programmer\n",
        "\n",
        "# angular js  vs react"
      ],
      "metadata": {
        "id": "jEi5PtwbjJW1"
      },
      "execution_count": null,
      "outputs": []
    }
  ]
}